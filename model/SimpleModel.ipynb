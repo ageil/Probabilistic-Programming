{
 "cells": [
  {
   "cell_type": "markdown",
   "metadata": {},
   "source": [
    "# Simple Model\n",
    "In our simpler model, we will just model each post as posting about a story coming from one of three groups:\n",
    "- Factual, Disputed Story\n",
    "- Fake, Disputed Story\n",
    "- Corrective Story"
   ]
  },
  {
   "cell_type": "markdown",
   "metadata": {},
   "source": [
    "Have found this to be a useful resource for a hierarchcal model example: https://github.com/pyro-ppl/pyro/blob/dev/examples/baseball.py\n",
    "As well as https://pyro.ai/examples/forecasting_iii.html"
   ]
  },
  {
   "cell_type": "markdown",
   "metadata": {},
   "source": [
    "# To start, we will use dummy data"
   ]
  },
  {
   "cell_type": "code",
   "execution_count": 89,
   "metadata": {},
   "outputs": [],
   "source": [
    "import pandas as pd\n",
    "import torch\n",
    "import pyro\n",
    "from pyro.infer import MCMC, NUTS\n",
    "import pyro.distributions as dist"
   ]
  },
  {
   "cell_type": "code",
   "execution_count": 71,
   "metadata": {},
   "outputs": [],
   "source": [
    "pyro.enable_validation(__debug__)\n",
    "pyro.set_rng_seed(0)"
   ]
  },
  {
   "cell_type": "code",
   "execution_count": 72,
   "metadata": {},
   "outputs": [
    {
     "data": {
      "text/html": [
       "<div>\n",
       "<style scoped>\n",
       "    .dataframe tbody tr th:only-of-type {\n",
       "        vertical-align: middle;\n",
       "    }\n",
       "\n",
       "    .dataframe tbody tr th {\n",
       "        vertical-align: top;\n",
       "    }\n",
       "\n",
       "    .dataframe thead th {\n",
       "        text-align: right;\n",
       "    }\n",
       "</style>\n",
       "<table border=\"1\" class=\"dataframe\">\n",
       "  <thead>\n",
       "    <tr style=\"text-align: right;\">\n",
       "      <th></th>\n",
       "      <th>Type</th>\n",
       "      <th>CommentsFirstHour</th>\n",
       "      <th>Engagement</th>\n",
       "    </tr>\n",
       "  </thead>\n",
       "  <tbody>\n",
       "    <tr>\n",
       "      <th>0</th>\n",
       "      <td>Fake</td>\n",
       "      <td>100</td>\n",
       "      <td>1000</td>\n",
       "    </tr>\n",
       "    <tr>\n",
       "      <th>1</th>\n",
       "      <td>Fact</td>\n",
       "      <td>50</td>\n",
       "      <td>800</td>\n",
       "    </tr>\n",
       "    <tr>\n",
       "      <th>2</th>\n",
       "      <td>Corrective</td>\n",
       "      <td>20</td>\n",
       "      <td>300</td>\n",
       "    </tr>\n",
       "    <tr>\n",
       "      <th>3</th>\n",
       "      <td>Fake</td>\n",
       "      <td>250</td>\n",
       "      <td>3000</td>\n",
       "    </tr>\n",
       "    <tr>\n",
       "      <th>4</th>\n",
       "      <td>Fact</td>\n",
       "      <td>100</td>\n",
       "      <td>2500</td>\n",
       "    </tr>\n",
       "    <tr>\n",
       "      <th>5</th>\n",
       "      <td>Corrective</td>\n",
       "      <td>40</td>\n",
       "      <td>500</td>\n",
       "    </tr>\n",
       "    <tr>\n",
       "      <th>6</th>\n",
       "      <td>Fake</td>\n",
       "      <td>125</td>\n",
       "      <td>1500</td>\n",
       "    </tr>\n",
       "    <tr>\n",
       "      <th>7</th>\n",
       "      <td>Fact</td>\n",
       "      <td>150</td>\n",
       "      <td>1600</td>\n",
       "    </tr>\n",
       "    <tr>\n",
       "      <th>8</th>\n",
       "      <td>Corrective</td>\n",
       "      <td>30</td>\n",
       "      <td>1000</td>\n",
       "    </tr>\n",
       "  </tbody>\n",
       "</table>\n",
       "</div>"
      ],
      "text/plain": [
       "         Type  CommentsFirstHour  Engagement\n",
       "0        Fake                100        1000\n",
       "1        Fact                 50         800\n",
       "2  Corrective                 20         300\n",
       "3        Fake                250        3000\n",
       "4        Fact                100        2500\n",
       "5  Corrective                 40         500\n",
       "6        Fake                125        1500\n",
       "7        Fact                150        1600\n",
       "8  Corrective                 30        1000"
      ]
     },
     "execution_count": 72,
     "metadata": {},
     "output_type": "execute_result"
    }
   ],
   "source": [
    "data = pd.DataFrame({\"Type\": [\"Fake\", \"Fact\", \"Corrective\", \"Fake\", \"Fact\", \"Corrective\", \"Fake\", \"Fact\", \"Corrective\"],\n",
    "                     \"CommentsFirstHour\": [100, 50, 20, 250, 100, 40, 125, 150, 30],\n",
    "                     \"Engagement\": [1000, 800, 300, 3000, 2500, 500, 1500, 1600, 1000]})\n",
    "data"
   ]
  },
  {
   "cell_type": "code",
   "execution_count": 73,
   "metadata": {},
   "outputs": [],
   "source": [
    "data = torch.Tensor([[[100, 1000], [250, 3000], [125, 1500]],\n",
    "                     [[50,  800],  [100, 2500], [150, 1600]],\n",
    "                     [[20,  300],  [40,  500],  [30,  1000]]])\n",
    "# dim 0: Type: (Fake, Fact, Corrective)\n",
    "# dim 1: post\n",
    "# dim 2: obs (vars): (commentsFirstHour, Engagement)"
   ]
  },
  {
   "cell_type": "code",
   "execution_count": 74,
   "metadata": {},
   "outputs": [
    {
     "data": {
      "text/plain": [
       "tensor([[[ 100., 1000.],\n",
       "         [ 250., 3000.],\n",
       "         [ 125., 1500.]],\n",
       "\n",
       "        [[  50.,  800.],\n",
       "         [ 100., 2500.],\n",
       "         [ 150., 1600.]],\n",
       "\n",
       "        [[  20.,  300.],\n",
       "         [  40.,  500.],\n",
       "         [  30., 1000.]]])"
      ]
     },
     "execution_count": 74,
     "metadata": {},
     "output_type": "execute_result"
    }
   ],
   "source": [
    "data"
   ]
  },
  {
   "cell_type": "code",
   "execution_count": 75,
   "metadata": {},
   "outputs": [],
   "source": [
    "x = data[:,:,:1]\n",
    "y = data[:,:,1]"
   ]
  },
  {
   "cell_type": "code",
   "execution_count": 76,
   "metadata": {},
   "outputs": [
    {
     "data": {
      "text/plain": [
       "tensor([[[100.],\n",
       "         [250.],\n",
       "         [125.]],\n",
       "\n",
       "        [[ 50.],\n",
       "         [100.],\n",
       "         [150.]],\n",
       "\n",
       "        [[ 20.],\n",
       "         [ 40.],\n",
       "         [ 30.]]])"
      ]
     },
     "execution_count": 76,
     "metadata": {},
     "output_type": "execute_result"
    }
   ],
   "source": [
    "x"
   ]
  },
  {
   "cell_type": "code",
   "execution_count": 77,
   "metadata": {},
   "outputs": [
    {
     "data": {
      "text/plain": [
       "tensor([[1000., 3000., 1500.],\n",
       "        [ 800., 2500., 1600.],\n",
       "        [ 300.,  500., 1000.]])"
      ]
     },
     "execution_count": 77,
     "metadata": {},
     "output_type": "execute_result"
    }
   ],
   "source": [
    "y"
   ]
  },
  {
   "cell_type": "code",
   "execution_count": 78,
   "metadata": {},
   "outputs": [],
   "source": [
    "# x is a 2D tensor of num\n",
    "def model(x, y):\n",
    "    num_types, num_posts, num_indeps = x.shape\n",
    "    \n",
    "    # construct necessary plates over each level\n",
    "    type_plate = pyro.plate(\"type\", num_types, dim=-2)\n",
    "    post_plate = pyro.plate(\"post\", num_posts, dim=-1)\n",
    "    \n",
    "    # sample some kind of shared variables here.\n",
    "#     pyro.sample\n",
    "\n",
    "    with type_plate:\n",
    "        type_level = pyro.sample(\"type_level\", dist.Normal(0, 10))\n",
    "    \n",
    "    prediction = type_level\n",
    "    return prediction"
   ]
  },
  {
   "cell_type": "code",
   "execution_count": 79,
   "metadata": {},
   "outputs": [
    {
     "name": "stderr",
     "output_type": "stream",
     "text": [
      "\r",
      "Warmup:   0%|          | 0/2250 [00:00, ?it/s]\r",
      "Warmup:   0%|          | 11/2250 [00:00, 107.77it/s, step size=5.37e+00, acc. prob=0.702]\r",
      "Warmup:   1%|          | 28/2250 [00:00, 120.46it/s, step size=6.46e+00, acc. prob=0.759]\r",
      "Warmup:   2%|▏         | 43/2250 [00:00, 127.77it/s, step size=1.69e+01, acc. prob=0.779]\r",
      "Warmup:   3%|▎         | 61/2250 [00:00, 138.89it/s, step size=9.45e+00, acc. prob=0.779]\r",
      "Warmup:   4%|▎         | 79/2250 [00:00, 144.92it/s, step size=5.20e+00, acc. prob=0.778]\r",
      "Warmup:   4%|▍         | 95/2250 [00:00, 148.45it/s, step size=2.02e+01, acc. prob=0.788]\r",
      "Warmup:   5%|▍         | 109/2250 [00:00, 137.34it/s, step size=1.35e+00, acc. prob=0.779]\r",
      "Warmup:   5%|▌         | 123/2250 [00:00, 101.01it/s, step size=1.11e+00, acc. prob=0.781]\r",
      "Warmup:   6%|▌         | 136/2250 [00:01, 107.32it/s, step size=1.17e+00, acc. prob=0.782]\r",
      "Warmup:   7%|▋         | 149/2250 [00:01, 112.17it/s, step size=1.01e+00, acc. prob=0.783]\r",
      "Warmup:   7%|▋         | 163/2250 [00:01, 115.03it/s, step size=5.09e-01, acc. prob=0.782]\r",
      "Warmup:   8%|▊         | 179/2250 [00:01, 123.25it/s, step size=5.53e-01, acc. prob=0.783]\r",
      "Warmup:   9%|▉         | 199/2250 [00:01, 137.91it/s, step size=6.39e-01, acc. prob=0.786]\r",
      "Warmup:  10%|▉         | 214/2250 [00:01, 135.09it/s, step size=1.31e+00, acc. prob=0.785]\r",
      "Warmup:  10%|█         | 229/2250 [00:01, 136.84it/s, step size=2.78e-01, acc. prob=0.783]\r",
      "Warmup:  11%|█         | 245/2250 [00:01, 139.61it/s, step size=5.31e-01, acc. prob=0.784]\r",
      "Sample:  12%|█▏        | 264/2250 [00:01, 150.51it/s, step size=8.19e-01, acc. prob=0.888]\r",
      "Sample:  12%|█▏        | 280/2250 [00:02, 148.34it/s, step size=8.19e-01, acc. prob=0.920]\r",
      "Sample:  13%|█▎        | 298/2250 [00:02, 154.87it/s, step size=8.19e-01, acc. prob=0.918]\r",
      "Sample:  14%|█▍        | 317/2250 [00:02, 163.72it/s, step size=8.19e-01, acc. prob=0.910]\r",
      "Sample:  15%|█▍        | 337/2250 [00:02, 170.72it/s, step size=8.19e-01, acc. prob=0.916]\r",
      "Sample:  16%|█▌        | 355/2250 [00:02, 171.25it/s, step size=8.19e-01, acc. prob=0.916]\r",
      "Sample:  17%|█▋        | 377/2250 [00:02, 180.29it/s, step size=8.19e-01, acc. prob=0.919]\r",
      "Sample:  18%|█▊        | 396/2250 [00:02, 181.37it/s, step size=8.19e-01, acc. prob=0.921]\r",
      "Sample:  18%|█▊        | 415/2250 [00:02, 177.65it/s, step size=8.19e-01, acc. prob=0.921]\r",
      "Sample:  19%|█▉        | 433/2250 [00:02, 169.14it/s, step size=8.19e-01, acc. prob=0.922]\r",
      "Sample:  20%|██        | 451/2250 [00:03, 166.84it/s, step size=8.19e-01, acc. prob=0.924]\r",
      "Sample:  21%|██        | 471/2250 [00:03, 174.83it/s, step size=8.19e-01, acc. prob=0.923]\r",
      "Sample:  22%|██▏       | 489/2250 [00:03, 165.88it/s, step size=8.19e-01, acc. prob=0.923]\r",
      "Sample:  23%|██▎       | 511/2250 [00:03, 178.17it/s, step size=8.19e-01, acc. prob=0.923]\r",
      "Sample:  24%|██▎       | 530/2250 [00:03, 176.43it/s, step size=8.19e-01, acc. prob=0.924]\r",
      "Sample:  24%|██▍       | 549/2250 [00:03, 178.87it/s, step size=8.19e-01, acc. prob=0.926]\r",
      "Sample:  25%|██▌       | 568/2250 [00:03, 172.51it/s, step size=8.19e-01, acc. prob=0.926]\r",
      "Sample:  26%|██▌       | 586/2250 [00:03, 172.13it/s, step size=8.19e-01, acc. prob=0.926]\r",
      "Sample:  27%|██▋       | 605/2250 [00:03, 174.99it/s, step size=8.19e-01, acc. prob=0.926]\r",
      "Sample:  28%|██▊       | 623/2250 [00:03, 171.65it/s, step size=8.19e-01, acc. prob=0.926]\r",
      "Sample:  28%|██▊       | 641/2250 [00:04, 171.83it/s, step size=8.19e-01, acc. prob=0.927]\r",
      "Sample:  29%|██▉       | 660/2250 [00:04, 173.85it/s, step size=8.19e-01, acc. prob=0.927]\r",
      "Sample:  30%|███       | 678/2250 [00:04, 171.43it/s, step size=8.19e-01, acc. prob=0.928]\r",
      "Sample:  31%|███       | 696/2250 [00:04, 171.89it/s, step size=8.19e-01, acc. prob=0.928]\r",
      "Sample:  32%|███▏      | 715/2250 [00:04, 176.68it/s, step size=8.19e-01, acc. prob=0.928]\r",
      "Sample:  33%|███▎      | 733/2250 [00:04, 176.81it/s, step size=8.19e-01, acc. prob=0.928]\r",
      "Sample:  33%|███▎      | 751/2250 [00:04, 176.96it/s, step size=8.19e-01, acc. prob=0.928]\r",
      "Sample:  34%|███▍      | 769/2250 [00:04, 174.18it/s, step size=8.19e-01, acc. prob=0.929]\r",
      "Sample:  35%|███▍      | 787/2250 [00:04, 172.93it/s, step size=8.19e-01, acc. prob=0.928]\r",
      "Sample:  36%|███▌      | 805/2250 [00:05, 173.51it/s, step size=8.19e-01, acc. prob=0.928]\r",
      "Sample:  37%|███▋      | 823/2250 [00:05, 173.02it/s, step size=8.19e-01, acc. prob=0.927]\r",
      "Sample:  37%|███▋      | 841/2250 [00:05, 169.52it/s, step size=8.19e-01, acc. prob=0.927]\r",
      "Sample:  38%|███▊      | 858/2250 [00:05, 165.36it/s, step size=8.19e-01, acc. prob=0.927]\r",
      "Sample:  39%|███▉      | 879/2250 [00:05, 176.50it/s, step size=8.19e-01, acc. prob=0.927]\r",
      "Sample:  40%|███▉      | 897/2250 [00:05, 168.05it/s, step size=8.19e-01, acc. prob=0.926]\r",
      "Sample:  41%|████      | 915/2250 [00:05, 162.05it/s, step size=8.19e-01, acc. prob=0.926]\r",
      "Sample:  42%|████▏     | 935/2250 [00:05, 170.98it/s, step size=8.19e-01, acc. prob=0.926]\r",
      "Sample:  42%|████▏     | 953/2250 [00:05, 168.13it/s, step size=8.19e-01, acc. prob=0.926]\r",
      "Sample:  43%|████▎     | 973/2250 [00:06, 175.17it/s, step size=8.19e-01, acc. prob=0.926]\r",
      "Sample:  44%|████▍     | 995/2250 [00:06, 186.45it/s, step size=8.19e-01, acc. prob=0.926]\r",
      "Sample:  45%|████▌     | 1015/2250 [00:06, 179.96it/s, step size=8.19e-01, acc. prob=0.927]\r",
      "Sample:  46%|████▌     | 1034/2250 [00:06, 179.88it/s, step size=8.19e-01, acc. prob=0.927]\r",
      "Sample:  47%|████▋     | 1056/2250 [00:06, 187.10it/s, step size=8.19e-01, acc. prob=0.927]\r",
      "Sample:  48%|████▊     | 1075/2250 [00:06, 185.78it/s, step size=8.19e-01, acc. prob=0.926]\r",
      "Sample:  49%|████▊     | 1094/2250 [00:06, 183.49it/s, step size=8.19e-01, acc. prob=0.927]\r",
      "Sample:  49%|████▉     | 1113/2250 [00:06, 179.00it/s, step size=8.19e-01, acc. prob=0.927]\r",
      "Sample:  50%|█████     | 1132/2250 [00:06, 178.75it/s, step size=8.19e-01, acc. prob=0.927]\r",
      "Sample:  51%|█████     | 1151/2250 [00:06, 179.49it/s, step size=8.19e-01, acc. prob=0.927]\r",
      "Sample:  52%|█████▏    | 1170/2250 [00:07, 177.24it/s, step size=8.19e-01, acc. prob=0.927]\r",
      "Sample:  53%|█████▎    | 1188/2250 [00:07, 176.68it/s, step size=8.19e-01, acc. prob=0.927]\r",
      "Sample:  54%|█████▎    | 1206/2250 [00:07, 166.15it/s, step size=8.19e-01, acc. prob=0.927]\r",
      "Sample:  54%|█████▍    | 1225/2250 [00:07, 169.53it/s, step size=8.19e-01, acc. prob=0.927]\r",
      "Sample:  55%|█████▌    | 1243/2250 [00:07, 167.15it/s, step size=8.19e-01, acc. prob=0.927]\r",
      "Sample:  56%|█████▌    | 1260/2250 [00:07, 162.67it/s, step size=8.19e-01, acc. prob=0.927]\r",
      "Sample:  57%|█████▋    | 1277/2250 [00:07, 163.27it/s, step size=8.19e-01, acc. prob=0.927]\r",
      "Sample:  58%|█████▊    | 1295/2250 [00:07, 167.05it/s, step size=8.19e-01, acc. prob=0.927]\r",
      "Sample:  58%|█████▊    | 1312/2250 [00:07, 163.71it/s, step size=8.19e-01, acc. prob=0.926]\r",
      "Sample:  59%|█████▉    | 1333/2250 [00:08, 174.94it/s, step size=8.19e-01, acc. prob=0.926]\r",
      "Sample:  60%|██████    | 1351/2250 [00:08, 171.05it/s, step size=8.19e-01, acc. prob=0.926]\r",
      "Sample:  61%|██████    | 1369/2250 [00:08, 166.95it/s, step size=8.19e-01, acc. prob=0.926]\r",
      "Sample:  62%|██████▏   | 1386/2250 [00:08, 165.03it/s, step size=8.19e-01, acc. prob=0.926]\r",
      "Sample:  62%|██████▏   | 1406/2250 [00:08, 172.81it/s, step size=8.19e-01, acc. prob=0.925]\r",
      "Sample:  63%|██████▎   | 1424/2250 [00:08, 168.59it/s, step size=8.19e-01, acc. prob=0.925]\r",
      "Sample:  64%|██████▍   | 1443/2250 [00:08, 172.92it/s, step size=8.19e-01, acc. prob=0.925]\r",
      "Sample:  65%|██████▍   | 1461/2250 [00:08, 172.94it/s, step size=8.19e-01, acc. prob=0.925]\r",
      "Sample:  66%|██████▌   | 1479/2250 [00:08, 173.59it/s, step size=8.19e-01, acc. prob=0.925]\r",
      "Sample:  67%|██████▋   | 1497/2250 [00:09, 171.70it/s, step size=8.19e-01, acc. prob=0.925]\r",
      "Sample:  67%|██████▋   | 1515/2250 [00:09, 172.35it/s, step size=8.19e-01, acc. prob=0.925]\r",
      "Sample:  68%|██████▊   | 1533/2250 [00:09, 169.54it/s, step size=8.19e-01, acc. prob=0.925]\r",
      "Sample:  69%|██████▉   | 1550/2250 [00:09, 163.37it/s, step size=8.19e-01, acc. prob=0.925]\r",
      "Sample:  70%|██████▉   | 1567/2250 [00:09, 163.11it/s, step size=8.19e-01, acc. prob=0.925]\r",
      "Sample:  70%|███████   | 1585/2250 [00:09, 164.70it/s, step size=8.19e-01, acc. prob=0.925]\r",
      "Sample:  71%|███████▏  | 1604/2250 [00:09, 170.49it/s, step size=8.19e-01, acc. prob=0.925]\r",
      "Sample:  72%|███████▏  | 1622/2250 [00:09, 171.13it/s, step size=8.19e-01, acc. prob=0.925]\r",
      "Sample:  73%|███████▎  | 1642/2250 [00:09, 178.20it/s, step size=8.19e-01, acc. prob=0.926]\r",
      "Sample:  74%|███████▍  | 1660/2250 [00:09, 175.74it/s, step size=8.19e-01, acc. prob=0.926]\r",
      "Sample:  75%|███████▍  | 1680/2250 [00:10, 179.52it/s, step size=8.19e-01, acc. prob=0.926]\r",
      "Sample:  76%|███████▌  | 1699/2250 [00:10, 175.14it/s, step size=8.19e-01, acc. prob=0.925]\r",
      "Sample:  77%|███████▋  | 1722/2250 [00:10, 188.27it/s, step size=8.19e-01, acc. prob=0.926]\r",
      "Sample:  77%|███████▋  | 1742/2250 [00:10, 186.18it/s, step size=8.19e-01, acc. prob=0.926]\r",
      "Sample:  78%|███████▊  | 1761/2250 [00:10, 181.54it/s, step size=8.19e-01, acc. prob=0.926]\r",
      "Sample:  79%|███████▉  | 1780/2250 [00:10, 175.64it/s, step size=8.19e-01, acc. prob=0.926]\r",
      "Sample:  80%|███████▉  | 1798/2250 [00:10, 167.53it/s, step size=8.19e-01, acc. prob=0.926]\r",
      "Sample:  81%|████████  | 1815/2250 [00:10, 157.91it/s, step size=8.19e-01, acc. prob=0.926]\r",
      "Sample:  81%|████████▏ | 1832/2250 [00:10, 153.57it/s, step size=8.19e-01, acc. prob=0.927]\r",
      "Sample:  82%|████████▏ | 1851/2250 [00:11, 161.62it/s, step size=8.19e-01, acc. prob=0.926]\r",
      "Sample:  83%|████████▎ | 1869/2250 [00:11, 163.70it/s, step size=8.19e-01, acc. prob=0.926]\r",
      "Sample:  84%|████████▍ | 1888/2250 [00:11, 167.51it/s, step size=8.19e-01, acc. prob=0.926]\r",
      "Sample:  85%|████████▍ | 1906/2250 [00:11, 168.34it/s, step size=8.19e-01, acc. prob=0.926]\r",
      "Sample:  86%|████████▌ | 1927/2250 [00:11, 177.03it/s, step size=8.19e-01, acc. prob=0.926]\r",
      "Sample:  86%|████████▋ | 1946/2250 [00:11, 179.44it/s, step size=8.19e-01, acc. prob=0.927]\r",
      "Sample:  87%|████████▋ | 1965/2250 [00:11, 174.68it/s, step size=8.19e-01, acc. prob=0.927]\r",
      "Sample:  88%|████████▊ | 1983/2250 [00:11, 174.03it/s, step size=8.19e-01, acc. prob=0.927]\r",
      "Sample:  89%|████████▉ | 2001/2250 [00:11, 170.39it/s, step size=8.19e-01, acc. prob=0.927]\r",
      "Sample:  90%|████████▉ | 2019/2250 [00:12, 166.98it/s, step size=8.19e-01, acc. prob=0.927]\r",
      "Sample:  91%|█████████ | 2037/2250 [00:12, 169.26it/s, step size=8.19e-01, acc. prob=0.927]\r",
      "Sample:  91%|█████████▏| 2058/2250 [00:12, 176.57it/s, step size=8.19e-01, acc. prob=0.927]\r",
      "Sample:  92%|█████████▏| 2076/2250 [00:12, 177.13it/s, step size=8.19e-01, acc. prob=0.926]\r",
      "Sample:  93%|█████████▎| 2094/2250 [00:12, 177.24it/s, step size=8.19e-01, acc. prob=0.926]\r",
      "Sample:  94%|█████████▍| 2113/2250 [00:12, 180.68it/s, step size=8.19e-01, acc. prob=0.927]\r",
      "Sample:  95%|█████████▍| 2134/2250 [00:12, 186.39it/s, step size=8.19e-01, acc. prob=0.927]\r",
      "Sample:  96%|█████████▌| 2153/2250 [00:12, 182.53it/s, step size=8.19e-01, acc. prob=0.927]\r",
      "Sample:  97%|█████████▋| 2172/2250 [00:12, 171.80it/s, step size=8.19e-01, acc. prob=0.926]\r",
      "Sample:  97%|█████████▋| 2190/2250 [00:13, 168.82it/s, step size=8.19e-01, acc. prob=0.927]\r",
      "Sample:  98%|█████████▊| 2208/2250 [00:13, 164.61it/s, step size=8.19e-01, acc. prob=0.926]\r",
      "Sample:  99%|█████████▉| 2226/2250 [00:13, 168.34it/s, step size=8.19e-01, acc. prob=0.927]\r",
      "Sample: 100%|█████████▉| 2243/2250 [00:13, 161.07it/s, step size=8.19e-01, acc. prob=0.927]\r",
      "Sample: 100%|██████████| 2250/2250 [00:13, 167.79it/s, step size=8.19e-01, acc. prob=0.927]\n"
     ]
    }
   ],
   "source": [
    "nuts_kernel = NUTS(model)\n",
    "\n",
    "mcmc = MCMC(nuts_kernel, num_samples=2000, warmup_steps=250)\n",
    "mcmc.run(x, y)\n",
    "\n",
    "hmc_samples = {k: v.detach().cpu().numpy() for k, v in mcmc.get_samples().items()}"
   ]
  },
  {
   "cell_type": "code",
   "execution_count": 84,
   "metadata": {},
   "outputs": [],
   "source": [
    "# Utility function to print latent sites' quantile information.\n",
    "def summary(samples):\n",
    "    site_stats = {}\n",
    "    for site_name, values in samples.items():\n",
    "        marginal_site = pd.DataFrame(values)\n",
    "        describe = marginal_site.describe(percentiles=[.05, 0.25, 0.5, 0.75, 0.95]).transpose()\n",
    "        site_stats[site_name] = describe[[\"mean\", \"std\", \"5%\", \"25%\", \"50%\", \"75%\", \"95%\"]]\n",
    "    return site_stats"
   ]
  },
  {
   "cell_type": "code",
   "execution_count": 88,
   "metadata": {},
   "outputs": [
    {
     "data": {
      "text/plain": [
       "(2000, 3, 1)"
      ]
     },
     "execution_count": 88,
     "metadata": {},
     "output_type": "execute_result"
    }
   ],
   "source": [
    "hmc_samples[\"type_level\"].shape"
   ]
  },
  {
   "cell_type": "code",
   "execution_count": 90,
   "metadata": {},
   "outputs": [],
   "source": [
    "\n",
    "# for site, values in summary(hmc_samples).items():\n",
    "#     print(\"Coefficient: {}\".format(site))\n",
    "#     print(values, \"\\n\")"
   ]
  },
  {
   "cell_type": "code",
   "execution_count": null,
   "metadata": {},
   "outputs": [],
   "source": []
  }
 ],
 "metadata": {
  "kernelspec": {
   "display_name": "Python 3",
   "language": "python",
   "name": "python3"
  },
  "language_info": {
   "codemirror_mode": {
    "name": "ipython",
    "version": 3
   },
   "file_extension": ".py",
   "mimetype": "text/x-python",
   "name": "python",
   "nbconvert_exporter": "python",
   "pygments_lexer": "ipython3",
   "version": "3.6.8"
  }
 },
 "nbformat": 4,
 "nbformat_minor": 2
}
