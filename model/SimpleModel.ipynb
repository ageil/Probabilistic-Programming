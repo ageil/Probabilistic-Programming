{
 "cells": [
  {
   "cell_type": "markdown",
   "metadata": {},
   "source": [
    "# Simple Model\n",
    "In our simplest model, we will just model each post."
   ]
  },
  {
   "cell_type": "markdown",
   "metadata": {},
   "source": [
    "Have found this to be a useful resource for a hierarchcal model example: https://github.com/pyro-ppl/pyro/blob/dev/examples/baseball.py\n",
    "As well as https://pyro.ai/examples/forecasting_iii.html"
   ]
  },
  {
   "cell_type": "markdown",
   "metadata": {},
   "source": [
    "# To start, we will use dummy data"
   ]
  },
  {
   "cell_type": "code",
   "execution_count": 1,
   "metadata": {
    "execution": {
     "iopub.execute_input": "2020-11-12T19:23:41.846663Z",
     "iopub.status.busy": "2020-11-12T19:23:41.846162Z",
     "iopub.status.idle": "2020-11-12T19:23:42.926519Z",
     "shell.execute_reply": "2020-11-12T19:23:42.926022Z",
     "shell.execute_reply.started": "2020-11-12T19:23:41.846396Z"
    }
   },
   "outputs": [],
   "source": [
    "import pandas as pd\n",
    "import torch\n",
    "import pyro\n",
    "from pyro.infer import MCMC, NUTS\n",
    "import pyro.distributions as dist\n",
    "from pyro.distributions.util import scalar_like\n",
    "from torch.distributions import constraints\n",
    "import json"
   ]
  },
  {
   "cell_type": "code",
   "execution_count": 2,
   "metadata": {
    "execution": {
     "iopub.execute_input": "2020-11-12T19:23:42.927778Z",
     "iopub.status.busy": "2020-11-12T19:23:42.927614Z",
     "iopub.status.idle": "2020-11-12T19:23:42.933909Z",
     "shell.execute_reply": "2020-11-12T19:23:42.933424Z",
     "shell.execute_reply.started": "2020-11-12T19:23:42.927758Z"
    }
   },
   "outputs": [],
   "source": [
    "pyro.enable_validation(__debug__)\n",
    "pyro.set_rng_seed(0)"
   ]
  },
  {
   "cell_type": "markdown",
   "metadata": {},
   "source": [
    "First, we load the Reddit datasets"
   ]
  },
  {
   "cell_type": "code",
   "execution_count": 3,
   "metadata": {
    "execution": {
     "iopub.execute_input": "2020-11-12T19:23:57.241586Z",
     "iopub.status.busy": "2020-11-12T19:23:57.241369Z",
     "iopub.status.idle": "2020-11-12T19:23:57.758501Z",
     "shell.execute_reply": "2020-11-12T19:23:57.758075Z",
     "shell.execute_reply.started": "2020-11-12T19:23:57.241563Z"
    }
   },
   "outputs": [],
   "source": [
    "comments = []\n",
    "with open('../data/results/Comments.json') as f:\n",
    "    for line in f:\n",
    "        comments.append(json.loads(line))"
   ]
  },
  {
   "cell_type": "code",
   "execution_count": 4,
   "metadata": {
    "execution": {
     "iopub.execute_input": "2020-11-12T19:24:01.634927Z",
     "iopub.status.busy": "2020-11-12T19:24:01.634713Z",
     "iopub.status.idle": "2020-11-12T19:24:02.183535Z",
     "shell.execute_reply": "2020-11-12T19:24:02.182997Z",
     "shell.execute_reply.started": "2020-11-12T19:24:01.634903Z"
    }
   },
   "outputs": [],
   "source": [
    "corrections = []\n",
    "with open('../data/results/CorrectionPairs.json') as f:\n",
    "    for line in f:\n",
    "        corrections.append(json.loads(line))"
   ]
  },
  {
   "cell_type": "code",
   "execution_count": 5,
   "metadata": {
    "execution": {
     "iopub.execute_input": "2020-11-12T19:24:05.112977Z",
     "iopub.status.busy": "2020-11-12T19:24:05.112755Z",
     "iopub.status.idle": "2020-11-12T19:24:05.374165Z",
     "shell.execute_reply": "2020-11-12T19:24:05.373501Z",
     "shell.execute_reply.started": "2020-11-12T19:24:05.112952Z"
    }
   },
   "outputs": [],
   "source": [
    "news = []\n",
    "with open('../data/results/NewsPairs.json') as f:\n",
    "    for line in f:\n",
    "        news.append(json.loads(line))"
   ]
  },
  {
   "cell_type": "markdown",
   "metadata": {
    "pycharm": {
     "name": "#%% md\n"
    }
   },
   "source": [
    "Gather relevant variables"
   ]
  },
  {
   "cell_type": "code",
   "execution_count": 6,
   "metadata": {
    "execution": {
     "iopub.execute_input": "2020-11-12T02:11:36.505293Z",
     "iopub.status.busy": "2020-11-12T02:11:36.505076Z",
     "iopub.status.idle": "2020-11-12T02:11:36.516705Z",
     "shell.execute_reply": "2020-11-12T02:11:36.515958Z",
     "shell.execute_reply.started": "2020-11-12T02:11:36.505270Z"
    }
   },
   "outputs": [],
   "source": [
    "news_dict = {}\n",
    "\n",
    "for n in news:\n",
    "    news_id = n['p']['id']\n",
    "    news_num_c = n['p']['num_comments']\n",
    "    news_type = n['r']['reviewRating']['isFakeStory']\n",
    "    news_dict[news_id] = news_type, news_num_c"
   ]
  },
  {
   "cell_type": "code",
   "execution_count": 7,
   "metadata": {
    "execution": {
     "iopub.execute_input": "2020-11-12T02:11:38.621394Z",
     "iopub.status.busy": "2020-11-12T02:11:38.621129Z",
     "iopub.status.idle": "2020-11-12T02:11:38.647441Z",
     "shell.execute_reply": "2020-11-12T02:11:38.646679Z",
     "shell.execute_reply.started": "2020-11-12T02:11:38.621369Z"
    }
   },
   "outputs": [],
   "source": [
    "corr_dict = {}\n",
    "\n",
    "for c in corrections:\n",
    "    corr_id = c['p']['id']\n",
    "    corr_num_c = c['p']['num_comments']\n",
    "    corr_type = c['r']['reviewRating']['isFakeClaim']\n",
    "    corr_dict[corr_id] = corr_type, corr_num_c"
   ]
  },
  {
   "cell_type": "code",
   "execution_count": 8,
   "metadata": {
    "execution": {
     "iopub.execute_input": "2020-11-12T02:11:41.388498Z",
     "iopub.status.busy": "2020-11-12T02:11:41.388259Z",
     "iopub.status.idle": "2020-11-12T02:11:41.703001Z",
     "shell.execute_reply": "2020-11-12T02:11:41.702222Z",
     "shell.execute_reply.started": "2020-11-12T02:11:41.388474Z"
    }
   },
   "outputs": [],
   "source": [
    "p_data = torch.empty((3, len(news_dict) + len(corr_dict)))\n",
    "\n",
    "for i, (isFake, num_comments) in enumerate(news_dict.values()):\n",
    "    p_data[0, i] = 1\n",
    "    p_data[1, i] = 0 if not isFake else 1\n",
    "    p_data[2, i] = num_comments\n",
    "    \n",
    "for i, (isFake, num_comments) in enumerate(corr_dict.values()):\n",
    "    p_data[0, i+len(news_dict)] = 1\n",
    "    p_data[1, i+len(news_dict)] = 2 if not isFake else 3\n",
    "    p_data[2, i+len(news_dict)] = num_comments"
   ]
  },
  {
   "cell_type": "markdown",
   "metadata": {
    "pycharm": {
     "name": "#%% md\n"
    }
   },
   "source": [
    "Let's try using non-rectangular data to do the same thing. (Get rid of this type level and make it into a categorical variable instead!)"
   ]
  },
  {
   "cell_type": "code",
   "execution_count": 13,
   "metadata": {
    "execution": {
     "iopub.execute_input": "2020-11-12T02:32:57.400959Z",
     "iopub.status.busy": "2020-11-12T02:32:57.400716Z",
     "iopub.status.idle": "2020-11-12T02:32:57.405634Z",
     "shell.execute_reply": "2020-11-12T02:32:57.404960Z",
     "shell.execute_reply.started": "2020-11-12T02:32:57.400935Z"
    }
   },
   "outputs": [],
   "source": [
    "# Post-Level Data\n",
    "p_data = torch.Tensor([[1, 100], [1, 250], [1, 125], [1, 150],\n",
    "                       [1, 50],  [1, 100], [1, 150], [1, 125],\n",
    "                       [1, 20],  [1, 40], [1, 30], [1, 35]])\n",
    "p_data = p_data.transpose(0,1)\n",
    "# dim 0: post-level vars: (bias, commentsFirstHour) \n",
    "# dim 1: observation (a post.)"
   ]
  },
  {
   "cell_type": "code",
   "execution_count": 14,
   "metadata": {},
   "outputs": [],
   "source": [
    "# type corresponding to each post\n",
    "p_types = torch.Tensor([0, 0, 0, 0, 1, 1, 1, 1, 2, 2, 2, 2])"
   ]
  },
  {
   "cell_type": "code",
   "execution_count": 15,
   "metadata": {},
   "outputs": [],
   "source": [
    "# Type-Level Data\n",
    "t_data = torch.Tensor([[1, 1, 1]])\n",
    "# dim 0: type-level vars: (bias)\n",
    "# dim 1: observation (a type.)"
   ]
  },
  {
   "cell_type": "code",
   "execution_count": 16,
   "metadata": {},
   "outputs": [],
   "source": [
    "y = torch.Tensor([1000., 3000., 1500., 1500.,  800., 2500., 1600., 1200.,  300.,  500., 1000.,  600.])"
   ]
  },
  {
   "cell_type": "code",
   "execution_count": 17,
   "metadata": {
    "execution": {
     "iopub.execute_input": "2020-11-12T02:32:59.291123Z",
     "iopub.status.busy": "2020-11-12T02:32:59.290881Z",
     "iopub.status.idle": "2020-11-12T02:32:59.295296Z",
     "shell.execute_reply": "2020-11-12T02:32:59.294343Z",
     "shell.execute_reply.started": "2020-11-12T02:32:59.291098Z"
    }
   },
   "outputs": [
    {
     "data": {
      "text/plain": [
       "torch.Size([2, 12])"
      ]
     },
     "execution_count": 17,
     "metadata": {},
     "output_type": "execute_result"
    }
   ],
   "source": [
    "p_data.shape"
   ]
  },
  {
   "cell_type": "code",
   "execution_count": 18,
   "metadata": {},
   "outputs": [
    {
     "data": {
      "text/plain": [
       "torch.Size([12])"
      ]
     },
     "execution_count": 18,
     "metadata": {},
     "output_type": "execute_result"
    }
   ],
   "source": [
    "p_types.shape"
   ]
  },
  {
   "cell_type": "code",
   "execution_count": 19,
   "metadata": {},
   "outputs": [
    {
     "data": {
      "text/plain": [
       "torch.Size([1, 3])"
      ]
     },
     "execution_count": 19,
     "metadata": {},
     "output_type": "execute_result"
    }
   ],
   "source": [
    "t_data.shape"
   ]
  },
  {
   "cell_type": "code",
   "execution_count": 20,
   "metadata": {},
   "outputs": [
    {
     "data": {
      "text/plain": [
       "torch.Size([12])"
      ]
     },
     "execution_count": 20,
     "metadata": {},
     "output_type": "execute_result"
    }
   ],
   "source": [
    "y.shape"
   ]
  },
  {
   "cell_type": "code",
   "execution_count": 9,
   "metadata": {
    "execution": {
     "iopub.execute_input": "2020-11-12T02:33:00.295494Z",
     "iopub.status.busy": "2020-11-12T02:33:00.295275Z",
     "iopub.status.idle": "2020-11-12T02:33:00.300463Z",
     "shell.execute_reply": "2020-11-12T02:33:00.299861Z",
     "shell.execute_reply.started": "2020-11-12T02:33:00.295471Z"
    }
   },
   "outputs": [
    {
     "data": {
      "text/plain": [
       "tensor([[  1.,   1.,   1.,   1.,   1.,   1.,   1.,   1.,   1.,   1.,   1.,   1.],\n",
       "        [100., 250., 125., 150.,  50., 100., 150., 125.,  20.,  40.,  30.,  35.]])"
      ]
     },
     "execution_count": 9,
     "metadata": {},
     "output_type": "execute_result"
    }
   ],
   "source": [
    "p_data"
   ]
  },
  {
   "cell_type": "code",
   "execution_count": 21,
   "metadata": {},
   "outputs": [
    {
     "data": {
      "text/plain": [
       "tensor([0., 0., 0., 0., 1., 1., 1., 1., 2., 2., 2., 2.])"
      ]
     },
     "execution_count": 21,
     "metadata": {},
     "output_type": "execute_result"
    }
   ],
   "source": [
    "p_types"
   ]
  },
  {
   "cell_type": "code",
   "execution_count": 22,
   "metadata": {},
   "outputs": [
    {
     "data": {
      "text/plain": [
       "tensor([[1., 1., 1.]])"
      ]
     },
     "execution_count": 22,
     "metadata": {},
     "output_type": "execute_result"
    }
   ],
   "source": [
    "t_data"
   ]
  },
  {
   "cell_type": "code",
   "execution_count": 23,
   "metadata": {
    "execution": {
     "iopub.execute_input": "2020-11-12T02:33:01.018688Z",
     "iopub.status.busy": "2020-11-12T02:33:01.018451Z",
     "iopub.status.idle": "2020-11-12T02:33:01.023895Z",
     "shell.execute_reply": "2020-11-12T02:33:01.023048Z",
     "shell.execute_reply.started": "2020-11-12T02:33:01.018662Z"
    }
   },
   "outputs": [
    {
     "data": {
      "text/plain": [
       "tensor([1000., 3000., 1500., 1500.,  800., 2500., 1600., 1200.,  300.,  500.,\n",
       "        1000.,  600.])"
      ]
     },
     "execution_count": 23,
     "metadata": {},
     "output_type": "execute_result"
    }
   ],
   "source": [
    "y"
   ]
  },
  {
   "cell_type": "markdown",
   "metadata": {
    "pycharm": {
     "name": "#%% md\n"
    }
   },
   "source": [
    "2 Regressions.\n",
    "\n",
    "Post-Level Regression\n",
    "y_pt = phi_0,t * bias + phi_1,t * first_hour_comments + epsilon_pt\n",
    "\n",
    "Type-Level Regressions (2)\n",
    "phi_0t = eta_00 * bias + eta_01 silliness_t + nu_0t\n",
    "\n",
    "phi_1t = eta_10 * bias + eta_11 silliness_t + nu_1t"
   ]
  },
  {
   "cell_type": "code",
   "execution_count": 176,
   "metadata": {
    "jupyter": {
     "outputs_hidden": false
    },
    "pycharm": {
     "name": "#%%\n"
    }
   },
   "outputs": [],
   "source": [
    "# Looped, but works!\n",
    "def model(p_data, p_types, t_data, y):\n",
    "    num_p_indeps, num_posts = p_data.shape\n",
    "    num_t_indeps, num_types = t_data.shape\n",
    "    \n",
    "    # define a prior for our regression variables\n",
    "    alpha = dist.Normal(torch.zeros((num_p_indeps, num_t_indeps)),\n",
    "                            10. * torch.ones((num_p_indeps, num_t_indeps))) # (num_p_indeps, num_t_indeps)\n",
    "    \n",
    "    eta = pyro.sample(\"eta\", alpha)\n",
    "    \n",
    "    \n",
    "    for t in pyro.plate(\"type\", num_types):\n",
    "        mu_phi = torch.matmul(eta, t_data[:,t]) # (num_p_indeps, num_t_indeps) x (num_t_indeps, 1)\n",
    "        \n",
    "        phi = pyro.sample(f\"phi_{t}\", dist.Normal(mu_phi, 10.)) # num_p_indeps x 1\n",
    "        \n",
    "        \n",
    "        repeated = p_types.long().repeat(num_p_indeps, 1)\n",
    "        \n",
    "        type_posts = p_data[repeated == t].reshape(num_p_indeps,-1)\n",
    "        type_y = y[p_types.long() == t]\n",
    "        \n",
    "        \n",
    "        # for each post, use the correct set of coefficients to run our post-level regression\n",
    "        with pyro.plate(f\"post_{t}\", type_posts.shape[1]) as p:\n",
    "\n",
    "            # indep vars for this post\n",
    "            indeps = type_posts # 2x4 (num_p_indeps x len(type_posts))\n",
    "            # using the same coefficients for everyone in this type!\n",
    "            coefs = phi.reshape(num_p_indeps, 1).repeat(1, len(p)) # 2,4\n",
    "            # calculate the mean\n",
    "            mu = torch.mul(coefs, indeps).sum(dim=0)  # (num_p_indeps, 1).T  (num_p_indeps, num_posts)\n",
    "#             mu = torch.dot(phi, indeps)  # (num_p_indeps, 1).T  (num_p_indeps, num_posts)\n",
    "            \n",
    "            \n",
    "            # sample\n",
    "            pyro.sample(f\"obs_{t}\", dist.Normal(mu, 1000.), obs=type_y[p])\n"
   ]
  },
  {
   "cell_type": "code",
   "execution_count": 158,
   "metadata": {},
   "outputs": [],
   "source": [
    "# Attempt at vectorization\n",
    "def model(p_data, p_types, t_data, y):\n",
    "    num_p_indeps, num_posts = p_data.shape\n",
    "    num_t_indeps, num_types = t_data.shape\n",
    "    \n",
    "    # define a prior for our regression variables\n",
    "    alpha = dist.Normal(torch.zeros((num_p_indeps, num_t_indeps)),\n",
    "                            10. * torch.ones((num_p_indeps, num_t_indeps))) # (num_p_indeps, num_t_indeps)\n",
    "    \n",
    "    eta = pyro.sample(\"eta\", alpha)\n",
    "    \n",
    "    \n",
    "    with pyro.plate(\"type\", num_types, dim=-1) as t:\n",
    "        mu_phi = torch.matmul(eta, t_data) # (num_p_indeps, num_t_indeps) x (num_t_indeps, num_types)\n",
    "        \n",
    "        phi = pyro.sample(f\"phi\", dist.Normal(mu_phi, 10.)) # (2, 3)\n",
    "        \n",
    "        \n",
    "    # for each post, use the correct set of coefficients to run our post-level regression\n",
    "    with pyro.plate(f\"post\", num_posts, dim=-1) as p:\n",
    "        \n",
    "        t = p_types[p].long() # (12)\n",
    "\n",
    "        # indep vars for this post\n",
    "        indeps = p_data # (2,12)\n",
    "        \n",
    "        coefs = phi[:,t] # (2,12) (num_p_indeps,num_posts)\n",
    "\n",
    "        # calculate the mean: desired shape (num_posts, 1)\n",
    "        mu = torch.mul(coefs, indeps).sum(dim=0)  # ((num_p_indeps, num_posts) .* (num_p_indeps, num_posts)).sum(over indeps)\n",
    "\n",
    "        # sample\n",
    "        pyro.sample(f\"obs\", dist.Normal(mu, 1000.), obs=y)\n"
   ]
  },
  {
   "cell_type": "code",
   "execution_count": 142,
   "metadata": {},
   "outputs": [],
   "source": [
    "t = torch.Tensor([0, 0, 1, 1, 2, 2]).long()"
   ]
  },
  {
   "cell_type": "code",
   "execution_count": 163,
   "metadata": {},
   "outputs": [],
   "source": [
    "phi = torch.Tensor([1, 2, 3, 4, 5, 6]).reshape(6,1)"
   ]
  },
  {
   "cell_type": "code",
   "execution_count": 167,
   "metadata": {},
   "outputs": [
    {
     "data": {
      "text/plain": [
       "torch.Size([6, 4])"
      ]
     },
     "execution_count": 167,
     "metadata": {},
     "output_type": "execute_result"
    }
   ],
   "source": [
    "phi.repeat(1,4).shape"
   ]
  },
  {
   "cell_type": "code",
   "execution_count": null,
   "metadata": {
    "jupyter": {
     "outputs_hidden": false
    },
    "pycharm": {
     "name": "#%%\n"
    }
   },
   "outputs": [
    {
     "name": "stderr",
     "output_type": "stream",
     "text": [
      "Warmup:   0%|          | 14/3000 [20:59, 90.00s/it, step size=5.47e+00, acc. prob=0.739]0]\n",
      "Warmup:   0%|          | 0/3000 [13:59, ?it/s]\n",
      "Warmup:   0%|          | 0/3000 [11:33, ?it/s]\n",
      "Warmup:   0%|          | 0/3000 [10:55, ?it/s]\n",
      "Warmup:   0%|          | 0/3000 [06:44, ?it/s]\n",
      "Warmup:   0%|          | 0/3000 [05:54, ?it/s]\n",
      "Sample:  95%|█████████▍| 2848/3000 [06:01,  8.36it/s, step size=4.24e-01, acc. prob=0.918]"
     ]
    }
   ],
   "source": [
    "nuts_kernel = NUTS(model)\n",
    "\n",
    "mcmc = MCMC(nuts_kernel, num_samples=2000, warmup_steps=1000)\n",
    "mcmc.run(p_data, p_types, t_data, y)\n",
    "\n",
    "hmc_samples = {k: v.detach().cpu().numpy() for k, v in mcmc.get_samples().items()}"
   ]
  },
  {
   "cell_type": "code",
   "execution_count": 119,
   "metadata": {
    "jupyter": {
     "outputs_hidden": false
    },
    "pycharm": {
     "name": "#%%\n"
    }
   },
   "outputs": [],
   "source": [
    "# Utility function to print latent sites' quantile information.\n",
    "def summary_types(samples):\n",
    "    site_stats = {}\n",
    "    i = 0\n",
    "    for site_name, values in samples.items():\n",
    "        marginal_site = pd.DataFrame(values)\n",
    "        describe = marginal_site.describe(percentiles=[.05, 0.25, 0.5, 0.75, 0.95]).transpose()\n",
    "        site_stats[site_name] = describe[[\"mean\", \"std\", \"5%\", \"25%\", \"50%\", \"75%\", \"95%\"]]\n",
    "        i += 1\n",
    "    return site_stats"
   ]
  },
  {
   "cell_type": "code",
   "execution_count": 120,
   "metadata": {},
   "outputs": [
    {
     "data": {
      "text/plain": [
       "{'eta': array([[[-15.16477  ],\n",
       "         [  2.3026276]],\n",
       " \n",
       "        [[ -4.4097776],\n",
       "         [ 28.584997 ]],\n",
       " \n",
       "        [[  1.8208466],\n",
       "         [  8.144741 ]],\n",
       " \n",
       "        ...,\n",
       " \n",
       "        [[ 24.801327 ],\n",
       "         [ 11.130078 ]],\n",
       " \n",
       "        [[  9.820871 ],\n",
       "         [ 12.014492 ]],\n",
       " \n",
       "        [[  6.0100384],\n",
       "         [  7.382392 ]]], dtype=float32),\n",
       " 'phi': array([[[-15.491273  , -16.56714   , -22.088516  ],\n",
       "         [ 14.853753  ,   7.3520255 ,   5.3977065 ]],\n",
       " \n",
       "        [[  3.84382   ,   2.338452  ,   1.7843876 ],\n",
       "         [ 10.871811  ,  22.551394  ,  37.513165  ]],\n",
       " \n",
       "        [[ -0.12052822,   4.163312  ,  -5.3647647 ],\n",
       "         [ 13.280857  ,  16.370468  ,  24.460884  ]],\n",
       " \n",
       "        ...,\n",
       " \n",
       "        [[ 29.22926   ,  21.602962  ,  -1.7448103 ],\n",
       "         [ 10.656149  ,  16.632578  ,  27.865479  ]],\n",
       " \n",
       "        [[ 16.828297  ,  17.897223  ,  41.321125  ],\n",
       "         [  7.7527704 ,  11.433988  ,  13.210835  ]],\n",
       " \n",
       "        [[ 24.283442  ,  22.22405   ,   1.6297889 ],\n",
       "         [ 14.81048   ,  12.294846  ,  14.104154  ]]], dtype=float32)}"
      ]
     },
     "execution_count": 120,
     "metadata": {},
     "output_type": "execute_result"
    }
   ],
   "source": [
    "hmc_samples"
   ]
  },
  {
   "cell_type": "code",
   "execution_count": 121,
   "metadata": {},
   "outputs": [
    {
     "data": {
      "text/plain": [
       "(2000, 2, 3)"
      ]
     },
     "execution_count": 121,
     "metadata": {},
     "output_type": "execute_result"
    }
   ],
   "source": [
    "hmc_samples['phi'].shape"
   ]
  },
  {
   "cell_type": "code",
   "execution_count": 122,
   "metadata": {
    "scrolled": true
   },
   "outputs": [
    {
     "data": {
      "text/html": [
       "<div>\n",
       "<style scoped>\n",
       "    .dataframe tbody tr th:only-of-type {\n",
       "        vertical-align: middle;\n",
       "    }\n",
       "\n",
       "    .dataframe tbody tr th {\n",
       "        vertical-align: top;\n",
       "    }\n",
       "\n",
       "    .dataframe thead th {\n",
       "        text-align: right;\n",
       "    }\n",
       "</style>\n",
       "<table border=\"1\" class=\"dataframe\">\n",
       "  <thead>\n",
       "    <tr style=\"text-align: right;\">\n",
       "      <th></th>\n",
       "      <th>count</th>\n",
       "      <th>mean</th>\n",
       "      <th>std</th>\n",
       "      <th>min</th>\n",
       "      <th>5%</th>\n",
       "      <th>25%</th>\n",
       "      <th>50%</th>\n",
       "      <th>75%</th>\n",
       "      <th>95%</th>\n",
       "      <th>max</th>\n",
       "    </tr>\n",
       "  </thead>\n",
       "  <tbody>\n",
       "    <tr>\n",
       "      <th>0</th>\n",
       "      <td>2000.0</td>\n",
       "      <td>-0.258362</td>\n",
       "      <td>9.888740</td>\n",
       "      <td>-38.321423</td>\n",
       "      <td>-16.171790</td>\n",
       "      <td>-7.283419</td>\n",
       "      <td>-0.125620</td>\n",
       "      <td>6.734012</td>\n",
       "      <td>15.776669</td>\n",
       "      <td>33.396301</td>\n",
       "    </tr>\n",
       "    <tr>\n",
       "      <th>1</th>\n",
       "      <td>2000.0</td>\n",
       "      <td>8.989322</td>\n",
       "      <td>5.587269</td>\n",
       "      <td>-9.466851</td>\n",
       "      <td>-0.101335</td>\n",
       "      <td>5.179688</td>\n",
       "      <td>8.906022</td>\n",
       "      <td>12.623037</td>\n",
       "      <td>18.260716</td>\n",
       "      <td>28.584997</td>\n",
       "    </tr>\n",
       "  </tbody>\n",
       "</table>\n",
       "</div>"
      ],
      "text/plain": [
       "    count      mean       std        min         5%       25%       50%  \\\n",
       "0  2000.0 -0.258362  9.888740 -38.321423 -16.171790 -7.283419 -0.125620   \n",
       "1  2000.0  8.989322  5.587269  -9.466851  -0.101335  5.179688  8.906022   \n",
       "\n",
       "         75%        95%        max  \n",
       "0   6.734012  15.776669  33.396301  \n",
       "1  12.623037  18.260716  28.584997  "
      ]
     },
     "execution_count": 122,
     "metadata": {},
     "output_type": "execute_result"
    }
   ],
   "source": [
    "m = pd.DataFrame(hmc_samples['eta'][:,:,0])\n",
    "m.describe(percentiles=[.05, 0.25, 0.5, 0.75, 0.95]).transpose()"
   ]
  },
  {
   "cell_type": "code",
   "execution_count": 123,
   "metadata": {
    "jupyter": {
     "outputs_hidden": false
    },
    "pycharm": {
     "name": "#%%\n"
    }
   },
   "outputs": [
    {
     "data": {
      "text/html": [
       "<div>\n",
       "<style scoped>\n",
       "    .dataframe tbody tr th:only-of-type {\n",
       "        vertical-align: middle;\n",
       "    }\n",
       "\n",
       "    .dataframe tbody tr th {\n",
       "        vertical-align: top;\n",
       "    }\n",
       "\n",
       "    .dataframe thead th {\n",
       "        text-align: right;\n",
       "    }\n",
       "</style>\n",
       "<table border=\"1\" class=\"dataframe\">\n",
       "  <thead>\n",
       "    <tr style=\"text-align: right;\">\n",
       "      <th></th>\n",
       "      <th>count</th>\n",
       "      <th>mean</th>\n",
       "      <th>std</th>\n",
       "      <th>min</th>\n",
       "      <th>5%</th>\n",
       "      <th>25%</th>\n",
       "      <th>50%</th>\n",
       "      <th>75%</th>\n",
       "      <th>95%</th>\n",
       "      <th>max</th>\n",
       "    </tr>\n",
       "  </thead>\n",
       "  <tbody>\n",
       "    <tr>\n",
       "      <th>0</th>\n",
       "      <td>2000.0</td>\n",
       "      <td>-0.391963</td>\n",
       "      <td>14.104968</td>\n",
       "      <td>-54.705257</td>\n",
       "      <td>-24.073265</td>\n",
       "      <td>-10.018052</td>\n",
       "      <td>0.029598</td>\n",
       "      <td>9.364626</td>\n",
       "      <td>22.042990</td>\n",
       "      <td>50.426144</td>\n",
       "    </tr>\n",
       "    <tr>\n",
       "      <th>1</th>\n",
       "      <td>2000.0</td>\n",
       "      <td>11.209664</td>\n",
       "      <td>2.860804</td>\n",
       "      <td>0.785737</td>\n",
       "      <td>6.674283</td>\n",
       "      <td>9.229479</td>\n",
       "      <td>11.220575</td>\n",
       "      <td>13.189994</td>\n",
       "      <td>15.822662</td>\n",
       "      <td>21.952791</td>\n",
       "    </tr>\n",
       "  </tbody>\n",
       "</table>\n",
       "</div>"
      ],
      "text/plain": [
       "    count       mean        std        min         5%        25%        50%  \\\n",
       "0  2000.0  -0.391963  14.104968 -54.705257 -24.073265 -10.018052   0.029598   \n",
       "1  2000.0  11.209664   2.860804   0.785737   6.674283   9.229479  11.220575   \n",
       "\n",
       "         75%        95%        max  \n",
       "0   9.364626  22.042990  50.426144  \n",
       "1  13.189994  15.822662  21.952791  "
      ]
     },
     "execution_count": 123,
     "metadata": {},
     "output_type": "execute_result"
    }
   ],
   "source": [
    "m = pd.DataFrame(hmc_samples['phi'][:,:,0])\n",
    "m.describe(percentiles=[.05, 0.25, 0.5, 0.75, 0.95]).transpose()"
   ]
  },
  {
   "cell_type": "code",
   "execution_count": 124,
   "metadata": {},
   "outputs": [
    {
     "data": {
      "text/html": [
       "<div>\n",
       "<style scoped>\n",
       "    .dataframe tbody tr th:only-of-type {\n",
       "        vertical-align: middle;\n",
       "    }\n",
       "\n",
       "    .dataframe tbody tr th {\n",
       "        vertical-align: top;\n",
       "    }\n",
       "\n",
       "    .dataframe thead th {\n",
       "        text-align: right;\n",
       "    }\n",
       "</style>\n",
       "<table border=\"1\" class=\"dataframe\">\n",
       "  <thead>\n",
       "    <tr style=\"text-align: right;\">\n",
       "      <th></th>\n",
       "      <th>count</th>\n",
       "      <th>mean</th>\n",
       "      <th>std</th>\n",
       "      <th>min</th>\n",
       "      <th>5%</th>\n",
       "      <th>25%</th>\n",
       "      <th>50%</th>\n",
       "      <th>75%</th>\n",
       "      <th>95%</th>\n",
       "      <th>max</th>\n",
       "    </tr>\n",
       "  </thead>\n",
       "  <tbody>\n",
       "    <tr>\n",
       "      <th>0</th>\n",
       "      <td>2000.0</td>\n",
       "      <td>-0.202742</td>\n",
       "      <td>13.990156</td>\n",
       "      <td>-45.483490</td>\n",
       "      <td>-23.275968</td>\n",
       "      <td>-9.797287</td>\n",
       "      <td>-0.212060</td>\n",
       "      <td>9.311126</td>\n",
       "      <td>22.564047</td>\n",
       "      <td>50.049248</td>\n",
       "    </tr>\n",
       "    <tr>\n",
       "      <th>1</th>\n",
       "      <td>2000.0</td>\n",
       "      <td>12.694663</td>\n",
       "      <td>4.225892</td>\n",
       "      <td>-0.980016</td>\n",
       "      <td>5.900632</td>\n",
       "      <td>9.938076</td>\n",
       "      <td>12.582331</td>\n",
       "      <td>15.586386</td>\n",
       "      <td>19.706371</td>\n",
       "      <td>25.625191</td>\n",
       "    </tr>\n",
       "  </tbody>\n",
       "</table>\n",
       "</div>"
      ],
      "text/plain": [
       "    count       mean        std        min         5%       25%        50%  \\\n",
       "0  2000.0  -0.202742  13.990156 -45.483490 -23.275968 -9.797287  -0.212060   \n",
       "1  2000.0  12.694663   4.225892  -0.980016   5.900632  9.938076  12.582331   \n",
       "\n",
       "         75%        95%        max  \n",
       "0   9.311126  22.564047  50.049248  \n",
       "1  15.586386  19.706371  25.625191  "
      ]
     },
     "execution_count": 124,
     "metadata": {},
     "output_type": "execute_result"
    }
   ],
   "source": [
    "m = pd.DataFrame(hmc_samples['phi'][:,:,1])\n",
    "m.describe(percentiles=[.05, 0.25, 0.5, 0.75, 0.95]).transpose()"
   ]
  },
  {
   "cell_type": "code",
   "execution_count": 125,
   "metadata": {},
   "outputs": [
    {
     "data": {
      "text/html": [
       "<div>\n",
       "<style scoped>\n",
       "    .dataframe tbody tr th:only-of-type {\n",
       "        vertical-align: middle;\n",
       "    }\n",
       "\n",
       "    .dataframe tbody tr th {\n",
       "        vertical-align: top;\n",
       "    }\n",
       "\n",
       "    .dataframe thead th {\n",
       "        text-align: right;\n",
       "    }\n",
       "</style>\n",
       "<table border=\"1\" class=\"dataframe\">\n",
       "  <thead>\n",
       "    <tr style=\"text-align: right;\">\n",
       "      <th></th>\n",
       "      <th>count</th>\n",
       "      <th>mean</th>\n",
       "      <th>std</th>\n",
       "      <th>min</th>\n",
       "      <th>5%</th>\n",
       "      <th>25%</th>\n",
       "      <th>50%</th>\n",
       "      <th>75%</th>\n",
       "      <th>95%</th>\n",
       "      <th>max</th>\n",
       "    </tr>\n",
       "  </thead>\n",
       "  <tbody>\n",
       "    <tr>\n",
       "      <th>0</th>\n",
       "      <td>2000.0</td>\n",
       "      <td>-0.294180</td>\n",
       "      <td>14.321106</td>\n",
       "      <td>-52.169037</td>\n",
       "      <td>-23.003955</td>\n",
       "      <td>-10.378389</td>\n",
       "      <td>-0.479738</td>\n",
       "      <td>9.500374</td>\n",
       "      <td>23.121919</td>\n",
       "      <td>45.832973</td>\n",
       "    </tr>\n",
       "    <tr>\n",
       "      <th>1</th>\n",
       "      <td>2000.0</td>\n",
       "      <td>11.926276</td>\n",
       "      <td>9.215327</td>\n",
       "      <td>-17.470591</td>\n",
       "      <td>-3.440746</td>\n",
       "      <td>5.615487</td>\n",
       "      <td>11.920063</td>\n",
       "      <td>18.208272</td>\n",
       "      <td>26.886878</td>\n",
       "      <td>43.751766</td>\n",
       "    </tr>\n",
       "  </tbody>\n",
       "</table>\n",
       "</div>"
      ],
      "text/plain": [
       "    count       mean        std        min         5%        25%        50%  \\\n",
       "0  2000.0  -0.294180  14.321106 -52.169037 -23.003955 -10.378389  -0.479738   \n",
       "1  2000.0  11.926276   9.215327 -17.470591  -3.440746   5.615487  11.920063   \n",
       "\n",
       "         75%        95%        max  \n",
       "0   9.500374  23.121919  45.832973  \n",
       "1  18.208272  26.886878  43.751766  "
      ]
     },
     "execution_count": 125,
     "metadata": {},
     "output_type": "execute_result"
    }
   ],
   "source": [
    "m = pd.DataFrame(hmc_samples['phi'][:,:,2])\n",
    "m.describe(percentiles=[.05, 0.25, 0.5, 0.75, 0.95]).transpose()"
   ]
  },
  {
   "cell_type": "code",
   "execution_count": 70,
   "metadata": {},
   "outputs": [
    {
     "data": {
      "text/plain": [
       "tensor([0., 0., 0., 0., 1., 1., 1., 1., 2., 2., 2., 2.])"
      ]
     },
     "execution_count": 70,
     "metadata": {},
     "output_type": "execute_result"
    }
   ],
   "source": [
    "p_types"
   ]
  },
  {
   "cell_type": "code",
   "execution_count": 71,
   "metadata": {},
   "outputs": [
    {
     "data": {
      "text/plain": [
       "tensor([[  1.,   1.,   1.,   1.,   1.,   1.,   1.,   1.,   1.,   1.,   1.,   1.],\n",
       "        [100., 250., 125., 150.,  50., 100., 150., 125.,  20.,  40.,  30.,  35.]])"
      ]
     },
     "execution_count": 71,
     "metadata": {},
     "output_type": "execute_result"
    }
   ],
   "source": [
    "p_data"
   ]
  },
  {
   "cell_type": "code",
   "execution_count": 72,
   "metadata": {},
   "outputs": [
    {
     "data": {
      "text/plain": [
       "tensor([1000., 3000., 1500., 1500.,  800., 2500., 1600., 1200.,  300.,  500.,\n",
       "        1000.,  600.])"
      ]
     },
     "execution_count": 72,
     "metadata": {},
     "output_type": "execute_result"
    }
   ],
   "source": [
    "y"
   ]
  },
  {
   "cell_type": "code",
   "execution_count": null,
   "metadata": {},
   "outputs": [],
   "source": []
  }
 ],
 "metadata": {
  "kernelspec": {
   "display_name": "local-venv",
   "language": "python",
   "name": "local-venv"
  },
  "language_info": {
   "codemirror_mode": {
    "name": "ipython",
    "version": 3
   },
   "file_extension": ".py",
   "mimetype": "text/x-python",
   "name": "python",
   "nbconvert_exporter": "python",
   "pygments_lexer": "ipython3",
   "version": "3.8.5"
  }
 },
 "nbformat": 4,
 "nbformat_minor": 4
}
