{
 "cells": [
  {
   "cell_type": "code",
   "execution_count": 1,
   "metadata": {
    "execution": {
     "iopub.execute_input": "2020-11-21T04:22:06.037535Z",
     "iopub.status.busy": "2020-11-21T04:22:06.037254Z",
     "iopub.status.idle": "2020-11-21T04:22:08.401854Z",
     "shell.execute_reply": "2020-11-21T04:22:08.401299Z",
     "shell.execute_reply.started": "2020-11-21T04:22:06.037466Z"
    }
   },
   "outputs": [],
   "source": [
    "import json\n",
    "import numpy as np\n",
    "import pandas as pd\n",
    "import matplotlib.pyplot as plt\n",
    "import arviz as az\n",
    "\n",
    "import pyro\n",
    "import torch\n",
    "import pyro.optim as optim\n",
    "import pyro.distributions as dist\n",
    "from pyro.infer import SVI, Trace_ELBO, JitTrace_ELBO, Predictive, MCMC, NUTS\n",
    "from pyro.distributions import constraints\n",
    "from sklearn.preprocessing import StandardScaler\n",
    "\n",
    "pyro.enable_validation(True)"
   ]
  },
  {
   "cell_type": "markdown",
   "metadata": {},
   "source": [
    "# Type Level Model\n",
    "Here, we will model each post as coming from one of four types."
   ]
  },
  {
   "cell_type": "markdown",
   "metadata": {},
   "source": [
    "# Data"
   ]
  },
  {
   "cell_type": "markdown",
   "metadata": {},
   "source": [
    "First, we load the Reddit datasets"
   ]
  },
  {
   "cell_type": "code",
   "execution_count": 2,
   "metadata": {
    "execution": {
     "iopub.execute_input": "2020-11-21T04:22:08.404689Z",
     "iopub.status.busy": "2020-11-21T04:22:08.404353Z",
     "iopub.status.idle": "2020-11-21T04:22:09.066378Z",
     "shell.execute_reply": "2020-11-21T04:22:09.065673Z",
     "shell.execute_reply.started": "2020-11-21T04:22:08.404667Z"
    }
   },
   "outputs": [],
   "source": [
    "comments = dict()\n",
    "with open('../data/results/Comments.json') as f:\n",
    "    for line in f:\n",
    "        post = json.loads(line)\n",
    "        comments[post['pid']] = post['api_num_comments'], post['comments']"
   ]
  },
  {
   "cell_type": "code",
   "execution_count": 3,
   "metadata": {
    "execution": {
     "iopub.execute_input": "2020-11-21T04:22:09.068439Z",
     "iopub.status.busy": "2020-11-21T04:22:09.068157Z",
     "iopub.status.idle": "2020-11-21T04:22:09.833473Z",
     "shell.execute_reply": "2020-11-21T04:22:09.832794Z",
     "shell.execute_reply.started": "2020-11-21T04:22:09.068410Z"
    }
   },
   "outputs": [],
   "source": [
    "corrections = []\n",
    "with open('../data/results/CorrectionPairs.json') as f:\n",
    "    for line in f:\n",
    "        corrections.append(json.loads(line))"
   ]
  },
  {
   "cell_type": "code",
   "execution_count": 4,
   "metadata": {
    "execution": {
     "iopub.execute_input": "2020-11-21T04:22:09.834780Z",
     "iopub.status.busy": "2020-11-21T04:22:09.834482Z",
     "iopub.status.idle": "2020-11-21T04:22:09.995320Z",
     "shell.execute_reply": "2020-11-21T04:22:09.994235Z",
     "shell.execute_reply.started": "2020-11-21T04:22:09.834752Z"
    }
   },
   "outputs": [],
   "source": [
    "news = []\n",
    "with open('../data/results/NewsPairs.json') as f:\n",
    "    for line in f:\n",
    "        news.append(json.loads(line))"
   ]
  },
  {
   "cell_type": "markdown",
   "metadata": {
    "pycharm": {
     "name": "#%% md\n"
    }
   },
   "source": [
    "Gather relevant variables"
   ]
  },
  {
   "cell_type": "code",
   "execution_count": 5,
   "metadata": {
    "execution": {
     "iopub.execute_input": "2020-11-21T04:22:09.996819Z",
     "iopub.status.busy": "2020-11-21T04:22:09.996295Z",
     "iopub.status.idle": "2020-11-21T04:22:10.004502Z",
     "shell.execute_reply": "2020-11-21T04:22:10.003837Z",
     "shell.execute_reply.started": "2020-11-21T04:22:09.996793Z"
    }
   },
   "outputs": [],
   "source": [
    "def processData(data, items, comments, minutes=60, offset=0):\n",
    "    for idx, n in enumerate(items):\n",
    "        i = idx + offset\n",
    "        \n",
    "        isNews = 'isFakeStory' in n['r']['reviewRating']\n",
    "        news_id = n['p']['id']\n",
    "        \n",
    "        num_cmts, cmts = comments[news_id]\n",
    "        c_body_lens = []\n",
    "        c_ups = []\n",
    "        c_downs = []\n",
    "        unique_authors = set()\n",
    "        for c in cmts:\n",
    "            # skip if comment not created in first _ mins\n",
    "            if c['delta_seconds'] > minutes * 60:\n",
    "                continue\n",
    "\n",
    "            c_minutes = c['delta_seconds'] / 60\n",
    "            if c_minutes <= minutes:   # cmts in first _ mins\n",
    "                data[i, 7] += 1\n",
    "            \n",
    "            c_body_lens.append(c['body_len'])\n",
    "            c_ups.append(c['ups'])\n",
    "            c_downs.append(c['downs'])\n",
    "            \n",
    "            if c['author']:\n",
    "                unique_authors.add(c['author'])\n",
    "\n",
    "        data[i, 0] = num_cmts\n",
    "        if isNews:\n",
    "            data[i, 1] = 1 if n['r']['reviewRating']['isFakeStory'] else 0\n",
    "        else:\n",
    "            data[i, 1] = 3 if n['r']['reviewRating']['isFakeClaim'] else 2\n",
    "        data[i, 2] = np.mean(c_body_lens) if c_body_lens else 0.\n",
    "        data[i, 3] = np.std(c_body_lens) if c_body_lens else 0.\n",
    "        data[i, 4] = np.mean(c_ups) if c_ups else 0.\n",
    "        data[i, 5] = np.std(c_ups) if c_ups else 0.\n",
    "        data[i, 6] = len(unique_authors) if unique_authors else 0.\n",
    "    return data"
   ]
  },
  {
   "cell_type": "code",
   "execution_count": 6,
   "metadata": {
    "execution": {
     "iopub.execute_input": "2020-11-21T04:22:10.005752Z",
     "iopub.status.busy": "2020-11-21T04:22:10.005476Z",
     "iopub.status.idle": "2020-11-21T04:22:10.453323Z",
     "shell.execute_reply": "2020-11-21T04:22:10.452657Z",
     "shell.execute_reply.started": "2020-11-21T04:22:10.005724Z"
    }
   },
   "outputs": [],
   "source": [
    "num_p_indep = 8\n",
    "data = np.zeros((len(news) + len(corrections), num_p_indep))\n",
    "\n",
    "data = processData(data, news, comments)\n",
    "data = processData(data, corrections, comments, offset=len(news))"
   ]
  },
  {
   "cell_type": "markdown",
   "metadata": {},
   "source": [
    "Variables (in order):\n",
    "\n",
    "0. num_comments\n",
    "1. type\n",
    "2. comment_length_avg\n",
    "3. comment_length_std\n",
    "4. comment_upvotes_avg\n",
    "5. comment_upvotes_std\n",
    "6. num_unique_comment_authors\n",
    "7. num_comments in first _ mins"
   ]
  },
  {
   "cell_type": "markdown",
   "metadata": {},
   "source": [
    "types\n",
    "\n",
    "0. Real News\n",
    "1. Fake News\n",
    "2. Correction on Real News\n",
    "3. Correction on Fake News"
   ]
  },
  {
   "cell_type": "markdown",
   "metadata": {},
   "source": [
    "t level Variables (in order):\n",
    "\n",
    "0. Is Review? (vs. news)\n",
    "1. Is about fake story? (Not included yet)"
   ]
  },
  {
   "cell_type": "code",
   "execution_count": 7,
   "metadata": {
    "execution": {
     "iopub.execute_input": "2020-11-21T04:22:10.454911Z",
     "iopub.status.busy": "2020-11-21T04:22:10.454395Z",
     "iopub.status.idle": "2020-11-21T04:22:10.462665Z",
     "shell.execute_reply": "2020-11-21T04:22:10.461866Z",
     "shell.execute_reply.started": "2020-11-21T04:22:10.454861Z"
    }
   },
   "outputs": [],
   "source": [
    "# select relevant indep vars\n",
    "p_data = data[:, (2,4,6,7)]  # avg cmt length, avg net upvotes, num authors, num initial comments\n",
    "# normalize avg net upvotes by std net upvotes:\n",
    "# TODO should we do this +1?\n",
    "p_data[:,1] = data[:, 4] / (data[:, 5] + 1)\n",
    "\n",
    "p_data = data[:,7].reshape(-1,1)  # num comments in 1st hr\n",
    "p_types = data[:,1] # type of each post.\n",
    "\n",
    "# This t_data is using the t-level variables above.\n",
    "t_data = np.array([[0, 0],\n",
    "                   [0, 1],\n",
    "                   [1, 0],\n",
    "                   [1, 1]])\n",
    "\n",
    "# This t_data is just encoding each with its own dummy\n",
    "t_data = np.array([[1, 0, 0, 0],\n",
    "                   [0, 1, 0, 0],\n",
    "                   [0, 0, 1, 0],\n",
    "                   [0, 0, 0, 1]])\n",
    "\n",
    "\n",
    "# add bias terms\n",
    "p_bias = np.ones((p_data.shape[0],1))\n",
    "t_bias = np.ones((t_data.shape[0],1))\n",
    "p_data = np.concatenate((p_bias, p_data), axis=1)\n",
    "t_data = np.concatenate((t_bias, t_data), axis=1)\n",
    "\n",
    "# get dep var\n",
    "y = data[:,0].reshape(-1,1)"
   ]
  },
  {
   "cell_type": "markdown",
   "metadata": {},
   "source": [
    "### Data Transformations"
   ]
  },
  {
   "cell_type": "code",
   "execution_count": 8,
   "metadata": {
    "execution": {
     "iopub.execute_input": "2020-11-21T04:22:10.466712Z",
     "iopub.status.busy": "2020-11-21T04:22:10.466493Z",
     "iopub.status.idle": "2020-11-21T04:22:10.469795Z",
     "shell.execute_reply": "2020-11-21T04:22:10.469038Z",
     "shell.execute_reply.started": "2020-11-21T04:22:10.466688Z"
    }
   },
   "outputs": [],
   "source": [
    "# before we change anything, save the original p_data\n",
    "original_p_data = p_data.copy()"
   ]
  },
  {
   "cell_type": "code",
   "execution_count": 9,
   "metadata": {
    "execution": {
     "iopub.execute_input": "2020-11-21T04:22:10.473217Z",
     "iopub.status.busy": "2020-11-21T04:22:10.472961Z",
     "iopub.status.idle": "2020-11-21T04:22:10.479506Z",
     "shell.execute_reply": "2020-11-21T04:22:10.478732Z",
     "shell.execute_reply.started": "2020-11-21T04:22:10.473188Z"
    }
   },
   "outputs": [
    {
     "data": {
      "text/plain": [
       "array([1., 1., 1., ..., 1., 1., 1.])"
      ]
     },
     "execution_count": 9,
     "metadata": {},
     "output_type": "execute_result"
    }
   ],
   "source": [
    "original_p_data[:,0]"
   ]
  },
  {
   "cell_type": "markdown",
   "metadata": {},
   "source": [
    "#### log some data."
   ]
  },
  {
   "cell_type": "code",
   "execution_count": 10,
   "metadata": {
    "execution": {
     "iopub.execute_input": "2020-11-21T04:22:10.481000Z",
     "iopub.status.busy": "2020-11-21T04:22:10.480761Z",
     "iopub.status.idle": "2020-11-21T04:22:10.484413Z",
     "shell.execute_reply": "2020-11-21T04:22:10.483776Z",
     "shell.execute_reply.started": "2020-11-21T04:22:10.480973Z"
    }
   },
   "outputs": [],
   "source": [
    "# num initial comments\n",
    "#p_data[:,4] = np.log(p_data[:,4] + 1)\n",
    "\n",
    "# avg upvotes\n",
    "# p_data[:,2] = np.log(p_data[:,2] + 1)\n",
    "\n",
    "# num authors\n",
    "#p_data[:,3] = np.log(p_data[:,3] + 1)\n",
    "\n",
    "# avg comment len\n",
    "p_data[:,1] = np.log(p_data[:,1] + 1)"
   ]
  },
  {
   "cell_type": "code",
   "execution_count": 11,
   "metadata": {
    "execution": {
     "iopub.execute_input": "2020-11-21T04:22:10.486160Z",
     "iopub.status.busy": "2020-11-21T04:22:10.485864Z",
     "iopub.status.idle": "2020-11-21T04:22:10.490751Z",
     "shell.execute_reply": "2020-11-21T04:22:10.490171Z",
     "shell.execute_reply.started": "2020-11-21T04:22:10.486133Z"
    }
   },
   "outputs": [],
   "source": [
    "# scale our data.\n",
    "scaler = StandardScaler()\n",
    "#p_data[:,[1,2,3,4]] = scaler.fit_transform(p_data[:,[1,2,3,4]])\n",
    "p_data[:,[1]] = scaler.fit_transform(p_data[:,[1]])"
   ]
  },
  {
   "cell_type": "markdown",
   "metadata": {},
   "source": [
    "split into train/test"
   ]
  },
  {
   "cell_type": "code",
   "execution_count": 12,
   "metadata": {
    "execution": {
     "iopub.execute_input": "2020-11-21T04:22:10.492121Z",
     "iopub.status.busy": "2020-11-21T04:22:10.491851Z",
     "iopub.status.idle": "2020-11-21T04:22:10.499207Z",
     "shell.execute_reply": "2020-11-21T04:22:10.498434Z",
     "shell.execute_reply.started": "2020-11-21T04:22:10.492098Z"
    }
   },
   "outputs": [],
   "source": [
    "train_frac = 0.7\n",
    "num_obs = p_data.shape[0]\n",
    "idx = np.random.binomial(1, train_frac, size=num_obs).astype(bool)\n",
    "\n",
    "p_data_train = p_data[idx,:]\n",
    "p_data_test = p_data[~idx,:]\n",
    "\n",
    "p_types_train = p_types[idx]\n",
    "p_types_test = p_types[~idx]\n",
    "\n",
    "y_train = y[idx,:]\n",
    "y_test = y[~idx,:]"
   ]
  },
  {
   "cell_type": "markdown",
   "metadata": {},
   "source": [
    "-----"
   ]
  },
  {
   "cell_type": "markdown",
   "metadata": {},
   "source": [
    "# Modeling"
   ]
  },
  {
   "cell_type": "markdown",
   "metadata": {},
   "source": [
    "Cast data to torch tensors"
   ]
  },
  {
   "cell_type": "code",
   "execution_count": 13,
   "metadata": {
    "execution": {
     "iopub.execute_input": "2020-11-21T04:22:10.500602Z",
     "iopub.status.busy": "2020-11-21T04:22:10.500226Z",
     "iopub.status.idle": "2020-11-21T04:22:10.505872Z",
     "shell.execute_reply": "2020-11-21T04:22:10.505144Z",
     "shell.execute_reply.started": "2020-11-21T04:22:10.500572Z"
    }
   },
   "outputs": [],
   "source": [
    "p_data_train = torch.Tensor(p_data_train).double()\n",
    "p_data_test = torch.Tensor(p_data_test).double()\n",
    "p_types_train = torch.Tensor(p_types_train).double()\n",
    "p_types_test = torch.Tensor(p_types_test).double()\n",
    "y_train = torch.Tensor(y_train).double()\n",
    "y_test = torch.Tensor(y_test).double()\n",
    "t_data = torch.Tensor(t_data).double()"
   ]
  },
  {
   "cell_type": "markdown",
   "metadata": {
    "pycharm": {
     "name": "#%% md\n"
    }
   },
   "source": [
    "2 Regressions.\n",
    "\n",
    "Post-Level Regression\n",
    "\n",
    "y_pt = phi_0,t * bias + phi_1,t * first_hour_comments + epsilon_pt\n",
    "\n",
    "Type-Level Regressions (2)\n",
    "\n",
    "phi_0t = eta_00 * bias + eta_01 silliness_t + nu_0t\n",
    "\n",
    "phi_1t = eta_10 * bias + eta_11 silliness_t + nu_1t"
   ]
  },
  {
   "cell_type": "code",
   "execution_count": 14,
   "metadata": {
    "execution": {
     "iopub.execute_input": "2020-11-21T04:22:10.507448Z",
     "iopub.status.busy": "2020-11-21T04:22:10.507056Z",
     "iopub.status.idle": "2020-11-21T04:22:10.510848Z",
     "shell.execute_reply": "2020-11-21T04:22:10.510253Z",
     "shell.execute_reply.started": "2020-11-21T04:22:10.507415Z"
    }
   },
   "outputs": [],
   "source": [
    "# def model(p_data, p_types, t_data, y):\n",
    "#     num_posts, num_p_indeps = p_data.shape\n",
    "#     num_types, num_t_indeps = t_data.shape\n",
    "    \n",
    "#     # define a prior for our regression variables\n",
    "#     alpha_loc = torch.zeros((num_p_indeps, num_t_indeps))\n",
    "#     alpha_scale = 1. * torch.ones((num_p_indeps, num_t_indeps))\n",
    "\n",
    "#     with pyro.plate(\"t_indep\", num_t_indeps, dim=-1) as ti:\n",
    "#         with pyro.plate(\"p_indep1\", num_p_indeps, dim=-2) as pi:\n",
    "#             eta = pyro.sample(\"eta\", dist.Normal(alpha_loc, alpha_scale))\n",
    "\n",
    "    \n",
    "    \n",
    "#     with pyro.plate(\"type\", num_types, dim=-1) as t:\n",
    "#         with pyro.plate(\"p_indep2\", num_p_indeps, dim=-2) as pi:\n",
    "#             phi_loc = torch.matmul(eta, t_data[t,:].T) # (num_p_indeps, num_t_indeps) x (num_t_indeps, num_types)\n",
    "\n",
    "#             phi_dist = dist.Normal(phi_loc, 0.1)\n",
    "#             phi = pyro.sample(\"phi\", phi_dist)\n",
    "    \n",
    "    \n",
    "# #     pareto_alpha = pyro.sample(\"pareto_alpha\", dist.HalfNormal(0.1))\n",
    "        \n",
    "#     # for each post, use the correct set of coefficients to run our post-level regression\n",
    "#     with pyro.plate(\"post\", num_posts, dim=-1) as p:\n",
    "        \n",
    "#         t = p_types[p].long()\n",
    "\n",
    "#         # indep vars for this post\n",
    "#         indeps = p_data[p,:]\n",
    "        \n",
    "#         coefs = phi[:,t] # (num_p_indeps,num_posts)\n",
    "\n",
    "#         # calculate the mean: desired shape (num_posts, 1)\n",
    "#         mu = torch.mul(coefs, indeps.T).sum(dim=0)  # ((num_p_indeps, num_posts) .* (num_p_indeps, num_posts)).sum(over indeps)\n",
    "# #         print(f\"mu: {mu.shape}\")\n",
    "# #         print(f\"sigma (model): {sigma}\")\n",
    "#         # sample\n",
    "# #         print(f\"y: {y.shape}\")\n",
    "# #         print(f\"pareto_alpha: {pareto_alpha.shape}\")\n",
    "# #         print(f\"pareto_alpha: {pareto_alpha}\")\n",
    "        \n",
    "#         print(y[p,0])\n",
    "#         pyro.sample(\"obs\", dist.Pareto(torch.ones((num_posts,)) - 1e-3, torch.exp(mu)), obs=y[p,0])\n"
   ]
  },
  {
   "cell_type": "code",
   "execution_count": 15,
   "metadata": {
    "execution": {
     "iopub.execute_input": "2020-11-21T04:22:10.512245Z",
     "iopub.status.busy": "2020-11-21T04:22:10.512033Z",
     "iopub.status.idle": "2020-11-21T04:22:10.520552Z",
     "shell.execute_reply": "2020-11-21T04:22:10.519822Z",
     "shell.execute_reply.started": "2020-11-21T04:22:10.512216Z"
    },
    "pycharm": {
     "name": "#%%\n"
    }
   },
   "outputs": [],
   "source": [
    "def model(p_data, p_types, t_data, y):\n",
    "    num_posts, num_p_indeps = p_data.shape\n",
    "    num_types, num_t_indeps = t_data.shape\n",
    "    \n",
    "    # define a prior for our regression variables\n",
    "    alpha_loc = torch.zeros((num_p_indeps, num_t_indeps)).double()\n",
    "    alpha_scale = 2. * torch.ones((num_p_indeps, num_t_indeps)).double()\n",
    "\n",
    "    with pyro.plate(\"t_indep\", num_t_indeps, dim=-1) as ti:\n",
    "        with pyro.plate(\"p_indep1\", num_p_indeps, dim=-2) as pi:\n",
    "            eta = pyro.sample(\"eta\", dist.Normal(alpha_loc, alpha_scale))\n",
    "\n",
    "    \n",
    "    \n",
    "    with pyro.plate(\"type\", num_types, dim=-1) as t:\n",
    "        with pyro.plate(\"p_indep2\", num_p_indeps, dim=-2) as pi:\n",
    "            phi_loc = torch.matmul(eta, t_data[t,:].T) # (num_p_indeps, num_t_indeps) x (num_t_indeps, num_types)\n",
    "\n",
    "            phi_dist = dist.Normal(phi_loc, 2.)\n",
    "            phi = pyro.sample(\"phi\", phi_dist)\n",
    "    \n",
    "    \n",
    "#     pareto_alpha = pyro.sample(\"pareto_alpha\", dist.HalfNormal(0.1))\n",
    "    \n",
    "    #subsample_size = 1000\n",
    "        \n",
    "    # for each post, use the correct set of coefficients to run our post-level regression\n",
    "#    subsample_size=subsample_size,\n",
    "    with pyro.plate(\"post\", num_posts, dim=-1) as p:\n",
    "        \n",
    "        t = p_types[p].long()\n",
    "\n",
    "        # indep vars for this post\n",
    "        indeps = p_data[p,:]\n",
    "        \n",
    "        coefs = phi[:,t] # (num_p_indeps,num_posts)\n",
    "\n",
    "        # calculate the mean: desired shape (num_posts, 1)\n",
    "        mu = torch.mul(coefs, indeps.T).sum(dim=0)  # ((num_p_indeps, num_posts) .* (num_p_indeps, num_posts)).sum(over indeps)\n",
    "#        print(f\"mu: {mu}\")\n",
    "#        print(f\"exp mu: {torch.exp(mu)}\")\n",
    "#         print(f\"sigma (model): {sigma}\")\n",
    "        # sample\n",
    "#         print(f\"y: {y.shape}\")\n",
    "#         print(f\"pareto_alpha: {pareto_alpha.shape}\")\n",
    "#         print(f\"pareto_alpha: {pareto_alpha}\")\n",
    "        if y is not None:\n",
    "            pyro.sample(\"obs\", dist.Poisson(torch.exp(mu)), obs=y[p,0])\n",
    "        else:\n",
    "            pyro.sample(\"obs\", dist.Poisson(torch.exp(mu)), obs=y)\n"
   ]
  },
  {
   "cell_type": "code",
   "execution_count": 16,
   "metadata": {
    "execution": {
     "iopub.execute_input": "2020-11-21T04:22:10.522036Z",
     "iopub.status.busy": "2020-11-21T04:22:10.521811Z",
     "iopub.status.idle": "2020-11-21T04:22:10.528673Z",
     "shell.execute_reply": "2020-11-21T04:22:10.527922Z",
     "shell.execute_reply.started": "2020-11-21T04:22:10.522011Z"
    }
   },
   "outputs": [],
   "source": [
    "def guide(p_data, p_types, t_data, y):\n",
    "    num_posts, num_p_indeps = p_data.shape\n",
    "    num_types, num_t_indeps = t_data.shape\n",
    "    \n",
    "    # define a prior for our regression variables\n",
    "    \n",
    "    alpha_loc = torch.zeros((num_p_indeps, num_t_indeps), dtype=torch.float64)\n",
    "    alpha_scale = 2. * torch.ones((num_p_indeps, num_t_indeps), dtype=torch.float64)\n",
    "    \n",
    "    # The zeros and ones are the \"alpha\" in the graphical model from the proposal\n",
    "    eta_loc = pyro.param(\"eta_loc\", alpha_loc)\n",
    "    eta_scale = pyro.param(\"eta_scale\", alpha_scale, constraint=constraints.positive)\n",
    "            \n",
    "    with pyro.plate(\"t_indep\", num_t_indeps, dim=-1) as ti:\n",
    "        with pyro.plate(\"p_indep1\", num_p_indeps, dim=-2) as pi:\n",
    "            eta = pyro.sample(\"eta\", dist.Normal(eta_loc, eta_scale))\n",
    "    \n",
    "    phi_scale = pyro.param(\"phi_scale\", \n",
    "                           2. * torch.ones((num_p_indeps, 1), dtype=torch.float64), \n",
    "                           constraint=constraints.positive) # share among all types.\n",
    "    \n",
    "    with pyro.plate(\"type\", num_types, dim=-1) as t:\n",
    "        with pyro.plate(\"p_indep2\", num_p_indeps, dim=-2) as pi:\n",
    "            phi_loc = torch.matmul(eta, t_data[t,:].T) # (num_p_indeps, num_t_indeps) x (num_t_indeps, num_types)\n",
    "\n",
    "            phi = pyro.sample(\"phi\", dist.Normal(phi_loc, phi_scale[:]))\n"
   ]
  },
  {
   "cell_type": "code",
   "execution_count": 17,
   "metadata": {
    "execution": {
     "iopub.execute_input": "2020-11-21T04:22:10.531771Z",
     "iopub.status.busy": "2020-11-21T04:22:10.531179Z",
     "iopub.status.idle": "2020-11-21T04:22:10.535310Z",
     "shell.execute_reply": "2020-11-21T04:22:10.534614Z",
     "shell.execute_reply.started": "2020-11-21T04:22:10.531692Z"
    }
   },
   "outputs": [],
   "source": [
    "pyro.clear_param_store()"
   ]
  },
  {
   "cell_type": "markdown",
   "metadata": {},
   "source": [
    "## Traces (to double check tensor shapes)"
   ]
  },
  {
   "cell_type": "markdown",
   "metadata": {},
   "source": [
    "# Inference"
   ]
  },
  {
   "cell_type": "markdown",
   "metadata": {},
   "source": [
    "## SVI"
   ]
  },
  {
   "cell_type": "code",
   "execution_count": 18,
   "metadata": {
    "execution": {
     "iopub.execute_input": "2020-11-21T04:22:10.536513Z",
     "iopub.status.busy": "2020-11-21T04:22:10.536226Z",
     "iopub.status.idle": "2020-11-21T04:22:58.483555Z",
     "shell.execute_reply": "2020-11-21T04:22:58.482896Z",
     "shell.execute_reply.started": "2020-11-21T04:22:10.536488Z"
    }
   },
   "outputs": [
    {
     "name": "stdout",
     "output_type": "stream",
     "text": [
      "Elbo loss: 101829075220742.7\n",
      "Elbo loss: 1983800.125019591\n",
      "Elbo loss: 4.694303684862341e+16\n",
      "Elbo loss: 6397094.207568554\n",
      "Elbo loss: 4352247.227626413\n",
      "Elbo loss: 2.3848944897496175e+19\n",
      "Elbo loss: 794848957499928.9\n",
      "Elbo loss: 1923976.3200439645\n",
      "Elbo loss: 5.6578715737922284e+23\n",
      "Elbo loss: 1228311.3806270738\n",
      "Elbo loss: 4176383.923942444\n",
      "Elbo loss: 4830609.5648386525\n",
      "Elbo loss: 4705819.338107674\n",
      "Elbo loss: 152712220167.1549\n",
      "Elbo loss: 806774.3899158094\n",
      "Elbo loss: 5090318.390984061\n",
      "Elbo loss: 4444935.446078983\n",
      "Elbo loss: 3243025.006509518\n",
      "Elbo loss: 9801785.738597594\n",
      "Elbo loss: 2903244.5379280425\n",
      "Elbo loss: 116105798876.90768\n",
      "Elbo loss: 331118139.9871339\n",
      "Elbo loss: 546646.8675257006\n",
      "Elbo loss: 1898862.3060598625\n",
      "Elbo loss: 3406530.9056685246\n",
      "Elbo loss: 12225245952.395643\n",
      "Elbo loss: 27438615.536863152\n",
      "Elbo loss: 3137556.2546373117\n",
      "Elbo loss: 3612829.218371894\n",
      "Elbo loss: 454681.1139242067\n",
      "Elbo loss: 1264389192.528835\n",
      "Elbo loss: 1397839.49187975\n",
      "Elbo loss: 1174475.7082352224\n",
      "Elbo loss: 4151948.8485542457\n",
      "Elbo loss: 5581531.679987959\n",
      "Elbo loss: 1953411.3602303406\n",
      "Elbo loss: 1292678.255804977\n",
      "Elbo loss: 676433.2553160513\n",
      "Elbo loss: 1320885.780367718\n",
      "Elbo loss: 902709.6889130543\n",
      "Elbo loss: 999312.4594361001\n",
      "Elbo loss: 809205.2049590541\n",
      "Elbo loss: 708563.6761373468\n",
      "Elbo loss: 373857.1350371781\n",
      "Elbo loss: 1176466.800178507\n",
      "Elbo loss: 1303386.46495677\n",
      "Elbo loss: 1190486.584723776\n",
      "Elbo loss: 195511222.97934034\n",
      "Elbo loss: 355186.3652638265\n",
      "Elbo loss: 640501.0202426835\n",
      "Elbo loss: 1325077.075744834\n",
      "Elbo loss: 1164338.498530216\n",
      "Elbo loss: 96106982.12784815\n",
      "Elbo loss: 855025.9916774291\n",
      "Elbo loss: 6155111.509587556\n",
      "Elbo loss: 503525.75708159566\n",
      "Elbo loss: 790237.1500058412\n",
      "Elbo loss: 1584986.8168492569\n",
      "Elbo loss: 581135.4880592495\n",
      "Elbo loss: 768609.0190352516\n",
      "Elbo loss: 607256.6022531819\n",
      "Elbo loss: 218458.19431945984\n",
      "Elbo loss: 1309101.7383039\n",
      "Elbo loss: 526965.658556565\n",
      "Elbo loss: 360961.55194542004\n",
      "Elbo loss: 12582368.427709913\n",
      "Elbo loss: 340701.3619359297\n",
      "Elbo loss: 985102.2886759958\n",
      "Elbo loss: 220464.5649078432\n",
      "Elbo loss: 2159624.6918050977\n",
      "Elbo loss: 386682.367629901\n",
      "Elbo loss: 1112850.5795936845\n",
      "Elbo loss: 764747.4540016571\n",
      "Elbo loss: 2327569.91118454\n",
      "Elbo loss: 230947.9024759611\n",
      "Elbo loss: 378423.76609155146\n",
      "Elbo loss: 208058.5414370564\n",
      "Elbo loss: 233273.6747158128\n",
      "Elbo loss: 300380.291550968\n",
      "Elbo loss: 221450.64911242493\n",
      "Elbo loss: 190347.71407570248\n",
      "Elbo loss: 236885.15961616096\n",
      "Elbo loss: 292324.372143737\n",
      "Elbo loss: 273032.52880348905\n",
      "Elbo loss: 205973.21828642584\n",
      "Elbo loss: 205887.1999169825\n",
      "Elbo loss: 158499.41966067092\n",
      "Elbo loss: 168480.1894309311\n",
      "Elbo loss: 397123.1966615202\n",
      "Elbo loss: 175488.5562463313\n",
      "Elbo loss: 504916.90911264945\n",
      "Elbo loss: 249041.91972078802\n",
      "Elbo loss: 342941.38424893393\n",
      "Elbo loss: 307887.88731949823\n",
      "Elbo loss: 161403.07501154538\n",
      "Elbo loss: 167825.38298404543\n",
      "Elbo loss: 158994.79903271233\n",
      "Elbo loss: 148303.70357483273\n",
      "Elbo loss: 258704.99269542153\n",
      "Elbo loss: 148037.27807945633\n"
     ]
    }
   ],
   "source": [
    "SUBSAMPLE = False\n",
    "\n",
    "# svi = SVI(model,\n",
    "#           guide,\n",
    "#           optim.Adam({\"lr\": 1e-3}),\n",
    "#           loss=JitTrace_ELBO())\n",
    "\n",
    "svi = SVI(model,\n",
    "          guide,\n",
    "          optim.ClippedAdam({\"lr\": 1e-3}),\n",
    "          loss=JitTrace_ELBO())\n",
    "\n",
    "pyro.clear_param_store()\n",
    "num_iters = 10000\n",
    "losses = np.zeros((num_iters,))\n",
    "for i in range(num_iters):\n",
    "    if SUBSAMPLE:\n",
    "        elbo = svi.step(p_data_train[:250], p_types_train[:250], t_data, y_train[:250])\n",
    "    else:\n",
    "        elbo = svi.step(p_data_train, p_types_train, t_data, y_train)\n",
    "    losses[i] = elbo\n",
    "    if i % 100 == 0:\n",
    "        print(\"Elbo loss: {}\".format(elbo))"
   ]
  },
  {
   "cell_type": "code",
   "execution_count": 19,
   "metadata": {
    "execution": {
     "iopub.execute_input": "2020-11-21T04:22:58.484908Z",
     "iopub.status.busy": "2020-11-21T04:22:58.484626Z",
     "iopub.status.idle": "2020-11-21T04:22:59.011396Z",
     "shell.execute_reply": "2020-11-21T04:22:59.010578Z",
     "shell.execute_reply.started": "2020-11-21T04:22:58.484884Z"
    }
   },
   "outputs": [
    {
     "data": {
      "image/png": "[encoded data removed]",
      "text/plain": [
       "<Figure size 432x288 with 1 Axes>"
      ]
     },
     "metadata": {
      "needs_background": "light"
     },
     "output_type": "display_data"
    }
   ],
   "source": [
    "plt.plot(range(len(losses)), np.array(losses))\n",
    "plt.xlabel('iteration')\n",
    "plt.ylabel('loss')\n",
    "plt.yscale(\"log\")\n",
    "plt.title(\"Learning Curve\")\n",
    "plt.show()"
   ]
  },
  {
   "cell_type": "code",
   "execution_count": 21,
   "metadata": {
    "execution": {
     "iopub.execute_input": "2020-11-21T04:23:04.506959Z",
     "iopub.status.busy": "2020-11-21T04:23:04.506725Z",
     "iopub.status.idle": "2020-11-21T04:23:07.155251Z",
     "shell.execute_reply": "2020-11-21T04:23:07.154445Z",
     "shell.execute_reply.started": "2020-11-21T04:23:04.506933Z"
    }
   },
   "outputs": [],
   "source": [
    "num_samples = 1000\n",
    "predictive = Predictive(model, guide=guide, num_samples=num_samples)\n",
    "svi_samples = {k: v.reshape((1,num_samples,-1)).detach().cpu().numpy()\n",
    "               for k, v in predictive(p_data_test, p_types_test, t_data, y_test).items()\n",
    "               if k != \"obs\"}"
   ]
  },
  {
   "cell_type": "markdown",
   "metadata": {},
   "source": [
    "----"
   ]
  },
  {
   "cell_type": "code",
   "execution_count": null,
   "metadata": {
    "execution": {
     "iopub.status.busy": "2020-11-21T04:23:01.177623Z",
     "iopub.status.idle": "2020-11-21T04:23:01.178189Z",
     "shell.execute_reply": "2020-11-21T04:23:01.178007Z"
    }
   },
   "outputs": [],
   "source": [
    "import pyro.poutine as poutine"
   ]
  },
  {
   "cell_type": "code",
   "execution_count": null,
   "metadata": {
    "execution": {
     "iopub.status.busy": "2020-11-21T04:23:01.179440Z",
     "iopub.status.idle": "2020-11-21T04:23:01.179758Z",
     "shell.execute_reply": "2020-11-21T04:23:01.179609Z"
    }
   },
   "outputs": [],
   "source": [
    "trace = poutine.trace(model).get_trace(p_data_train[:1000], p_types_train[:1000], t_data, y_train[:1000])\n",
    "trace.compute_log_prob()  # optional, but allows printing of log_prob shapes\n",
    "print(trace.format_shapes())"
   ]
  },
  {
   "cell_type": "code",
   "execution_count": null,
   "metadata": {
    "execution": {
     "iopub.status.busy": "2020-11-21T04:23:01.180737Z",
     "iopub.status.idle": "2020-11-21T04:23:01.181016Z",
     "shell.execute_reply": "2020-11-21T04:23:01.180870Z"
    }
   },
   "outputs": [],
   "source": [
    "trace = poutine.trace(guide).get_trace(p_data_train[:1000], p_types_train[:1000], t_data, y_train[:1000])\n",
    "trace.compute_log_prob()  # optional, but allows printing of log_prob shapes\n",
    "print(trace.format_shapes())"
   ]
  },
  {
   "cell_type": "markdown",
   "metadata": {},
   "source": [
    "## MCMC (NUTS)"
   ]
  },
  {
   "cell_type": "code",
   "execution_count": null,
   "metadata": {
    "execution": {
     "iopub.status.busy": "2020-11-21T04:23:01.182011Z",
     "iopub.status.idle": "2020-11-21T04:23:01.182278Z",
     "shell.execute_reply": "2020-11-21T04:23:01.182135Z"
    }
   },
   "outputs": [],
   "source": [
    "kernel = NUTS(model_no_subsample)\n",
    "\n",
    "num_iters = 1000\n",
    "warmup_steps = 500\n",
    "mcmc = MCMC(kernel, num_samples=num_iters, warmup_steps=warmup_steps)\n",
    "mcmc.run(p_data_train[:100], p_types_train[:100], t_data, y_train[:100])"
   ]
  },
  {
   "cell_type": "code",
   "execution_count": null,
   "metadata": {
    "execution": {
     "iopub.status.busy": "2020-11-21T04:23:01.183211Z",
     "iopub.status.idle": "2020-11-21T04:23:01.183683Z",
     "shell.execute_reply": "2020-11-21T04:23:01.183496Z"
    }
   },
   "outputs": [],
   "source": [
    "posterior_samples = mcmc.get_samples()"
   ]
  },
  {
   "cell_type": "code",
   "execution_count": null,
   "metadata": {
    "execution": {
     "iopub.status.busy": "2020-11-21T04:23:01.185054Z",
     "iopub.status.idle": "2020-11-21T04:23:01.186049Z",
     "shell.execute_reply": "2020-11-21T04:23:01.185700Z"
    }
   },
   "outputs": [],
   "source": [
    "eta_means = posterior_samples[\"eta\"].mean(dim=0)\n",
    "eta_means"
   ]
  },
  {
   "cell_type": "code",
   "execution_count": null,
   "metadata": {
    "execution": {
     "iopub.status.busy": "2020-11-21T04:23:01.187235Z",
     "iopub.status.idle": "2020-11-21T04:23:01.187641Z",
     "shell.execute_reply": "2020-11-21T04:23:01.187485Z"
    }
   },
   "outputs": [],
   "source": [
    "phi_means = posterior_samples[\"phi\"].mean(dim=0)\n",
    "phi_means"
   ]
  },
  {
   "cell_type": "markdown",
   "metadata": {},
   "source": [
    "# Evaluation"
   ]
  },
  {
   "cell_type": "markdown",
   "metadata": {},
   "source": [
    "Recall:"
   ]
  },
  {
   "cell_type": "markdown",
   "metadata": {},
   "source": [
    "Variables (in order):\n",
    "\n",
    "0. num_comments\n",
    "1. type\n",
    "2. comment_length_avg\n",
    "3. comment_length_std\n",
    "4. comment_upvotes_avg\n",
    "5. comment_upvotes_std\n",
    "6. num_unique_comment_authors\n",
    "7. num_comments in first _ mins"
   ]
  },
  {
   "cell_type": "markdown",
   "metadata": {},
   "source": [
    "types\n",
    "\n",
    "0. Real News\n",
    "1. Fake News\n",
    "2. Correction on Real News\n",
    "3. Correction on Fake News"
   ]
  },
  {
   "cell_type": "markdown",
   "metadata": {},
   "source": [
    "t level Variables (in order):\n",
    "\n",
    "0. Is Review? (vs. news)\n",
    "1. Is about fake story? (Not included yet)"
   ]
  },
  {
   "cell_type": "markdown",
   "metadata": {},
   "source": [
    "Check the fit"
   ]
  },
  {
   "cell_type": "code",
   "execution_count": 22,
   "metadata": {
    "execution": {
     "iopub.execute_input": "2020-11-21T04:23:11.759596Z",
     "iopub.status.busy": "2020-11-21T04:23:11.759356Z",
     "iopub.status.idle": "2020-11-21T04:23:11.764571Z",
     "shell.execute_reply": "2020-11-21T04:23:11.763787Z",
     "shell.execute_reply.started": "2020-11-21T04:23:11.759570Z"
    }
   },
   "outputs": [
    {
     "name": "stdout",
     "output_type": "stream",
     "text": [
      "tensor([[-0.8468,  2.2726,  2.5264,  2.3489,  2.4451],\n",
      "        [-1.5180,  2.2512,  2.1936,  2.2360,  2.1996]], dtype=torch.float64,\n",
      "       requires_grad=True)\n"
     ]
    }
   ],
   "source": [
    "print(pyro.param('eta_loc'))"
   ]
  },
  {
   "cell_type": "markdown",
   "metadata": {
    "pycharm": {
     "name": "#%% md\n"
    }
   },
   "source": [
    "2 Regressions.\n",
    "\n",
    "Post-Level Regression\n",
    "\n",
    "y_pt = phi_0,t * bias + phi_1,t * first_hour_comments + epsilon_pt\n",
    "\n",
    "Type-Level Regressions (2)\n",
    "\n",
    "phi_0t = eta_00 * bias + nu_0t\n",
    "\n",
    "phi_1t = eta_10 * bias + nu_1t"
   ]
  },
  {
   "cell_type": "code",
   "execution_count": 23,
   "metadata": {
    "execution": {
     "iopub.execute_input": "2020-11-21T04:23:12.179429Z",
     "iopub.status.busy": "2020-11-21T04:23:12.179179Z",
     "iopub.status.idle": "2020-11-21T04:23:12.182901Z",
     "shell.execute_reply": "2020-11-21T04:23:12.182064Z",
     "shell.execute_reply.started": "2020-11-21T04:23:12.179401Z"
    }
   },
   "outputs": [],
   "source": [
    "labels = np.array([\"Factual News\", \"Fake News\", \"Review of Factual News\", \"Review of Fake News\"])"
   ]
  },
  {
   "cell_type": "code",
   "execution_count": 24,
   "metadata": {
    "execution": {
     "iopub.execute_input": "2020-11-21T04:23:12.387990Z",
     "iopub.status.busy": "2020-11-21T04:23:12.387751Z",
     "iopub.status.idle": "2020-11-21T04:23:13.501774Z",
     "shell.execute_reply": "2020-11-21T04:23:13.501025Z",
     "shell.execute_reply.started": "2020-11-21T04:23:12.387963Z"
    }
   },
   "outputs": [
    {
     "name": "stderr",
     "output_type": "stream",
     "text": [
      "<ipython-input-24-70a346077f57>:29: UserWarning: To copy construct from a tensor, it is recommended to use sourceTensor.clone().detach() or sourceTensor.clone().detach().requires_grad_(True), rather than torch.tensor(sourceTensor).\n",
      "  coefs = torch.tensor(phi[:,t]) # (num_p_indeps,num_posts)\n"
     ]
    },
    {
     "name": "stdout",
     "output_type": "stream",
     "text": [
      "(21830, 1)\n"
     ]
    },
    {
     "data": {
      "image/png": "[encoded data removed]",
      "text/plain": [
       "<Figure size 864x648 with 1 Axes>"
      ]
     },
     "metadata": {
      "needs_background": "light"
     },
     "output_type": "display_data"
    }
   ],
   "source": [
    "indep = 1\n",
    "\n",
    "indep_dict = {\n",
    "    1: \"avg cmt length\",\n",
    "    2: \"avg upvotes\",\n",
    "    3: \"num authors\",\n",
    "    4: \"comments in first hour\",\n",
    "}\n",
    "# indep_dict = {\n",
    "#     1: \"comments in first hour\",\n",
    "# }\n",
    "\n",
    "use_MCMC = False\n",
    "\n",
    "if use_MCMC:\n",
    "    eta_loc = eta_means\n",
    "else:\n",
    "    eta_loc = pyro.param('eta_loc').detach()\n",
    "\n",
    "# eta_loc = torch.Tensor([[ 0.2019, -0.0130,  0.1875],\n",
    "#                         [ 0.3866, -0.6894,  0.0956]]\n",
    "\n",
    "phi = torch.matmul(eta_loc, t_data.T)\n",
    "\n",
    "t = torch.Tensor(p_types).long()\n",
    "\n",
    "indeps = torch.tensor(p_data)\n",
    "\n",
    "coefs = torch.tensor(phi[:,t]) # (num_p_indeps,num_posts)\n",
    "\n",
    "mu = torch.mul(coefs, indeps.T).sum(dim=0)\n",
    "\n",
    "y_pred = np.exp(mu)\n",
    "\n",
    "\n",
    "\n",
    "print(y.shape)\n",
    "\n",
    "\n",
    "\n",
    "# y_pred_mcmc = float(phi_means[0])\n",
    "# y_pred_mcmc += float(phi_means[1]) * p_data[:,indep]\n",
    "\n",
    "\n",
    "plt.figure(figsize=(12,9))\n",
    "\n",
    "types = np.unique(p_types)\n",
    "\n",
    "colors = ['tab:blue', 'tab:orange', 'tab:green', 'tab:red', 'tab:purple', 'tab:brown', 'tab:pink', 'tab:gray', 'tab:olive', 'tab:cyan']\n",
    "color_choices = np.random.choice(colors, size=len(types), replace=False)\n",
    "\n",
    "\n",
    "\n",
    "for i, t in enumerate(types):\n",
    "#     if t == 2:\n",
    "        y_pred_t = y_pred[p_types == t]\n",
    "        y_t = 1 * y[p_types == t]\n",
    "        x_t = original_p_data[p_types == t,indep]\n",
    "        \n",
    "        sorted_indices = np.argsort(x_t)\n",
    "\n",
    "        type_label = labels[int(t)]\n",
    "\n",
    "        color = color_choices[i]\n",
    "        plt.scatter(x_t, y_t, alpha=0.5, s=12, c=color, label=f\"Actual {type_label}\")\n",
    "        plt.plot(x_t[sorted_indices], y_pred_t[sorted_indices], c=color, label=f\"Predicted {type_label}\")\n",
    "    \n",
    "# plt.plot(np.array(p_data[:,indep]), np.array(y_pred_mcmc), c='tab:green', label=f'MCMC: {phi_means[0]}, {phi_means[1]}') # MCMC\n",
    "plt.xlabel(indep_dict[indep])\n",
    "plt.ylabel('total comments')\n",
    "\n",
    "plt.yscale(\"log\")\n",
    "plt.xscale(\"log\")\n",
    "plt.legend()\n",
    "# plt.ylim(0,20)\n",
    "# plt.xlim(0,10)\n",
    "plt.show()"
   ]
  },
  {
   "cell_type": "markdown",
   "metadata": {},
   "source": [
    "Interpretation:\n",
    "\n",
    "- For posts with no comments in the first hour, we expect 7.23 comments in total\n",
    "- For every comment in the first hour, we expect an additional 6.43 comments in total"
   ]
  },
  {
   "cell_type": "markdown",
   "metadata": {},
   "source": [
    "----"
   ]
  },
  {
   "cell_type": "code",
   "execution_count": 25,
   "metadata": {
    "execution": {
     "iopub.execute_input": "2020-11-21T04:23:15.583199Z",
     "iopub.status.busy": "2020-11-21T04:23:15.582951Z",
     "iopub.status.idle": "2020-11-21T04:23:15.593717Z",
     "shell.execute_reply": "2020-11-21T04:23:15.592414Z",
     "shell.execute_reply.started": "2020-11-21T04:23:15.583172Z"
    }
   },
   "outputs": [
    {
     "ename": "NameError",
     "evalue": "name 'mcmc' is not defined",
     "output_type": "error",
     "traceback": [
      "\u001b[0;31m---------------------------------------------------------------------------\u001b[0m",
      "\u001b[0;31mNameError\u001b[0m                                 Traceback (most recent call last)",
      "\u001b[0;32m<ipython-input-25-99c7a7c26da2>\u001b[0m in \u001b[0;36m<module>\u001b[0;34m\u001b[0m\n\u001b[0;32m----> 1\u001b[0;31m \u001b[0mdata\u001b[0m \u001b[0;34m=\u001b[0m \u001b[0maz\u001b[0m\u001b[0;34m.\u001b[0m\u001b[0mfrom_pyro\u001b[0m\u001b[0;34m(\u001b[0m\u001b[0mmcmc\u001b[0m\u001b[0;34m)\u001b[0m\u001b[0;34m\u001b[0m\u001b[0;34m\u001b[0m\u001b[0m\n\u001b[0m\u001b[1;32m      2\u001b[0m \u001b[0maz\u001b[0m\u001b[0;34m.\u001b[0m\u001b[0mplot_trace\u001b[0m\u001b[0;34m(\u001b[0m\u001b[0mdata\u001b[0m\u001b[0;34m,\u001b[0m \u001b[0mcompact\u001b[0m\u001b[0;34m=\u001b[0m\u001b[0;32mFalse\u001b[0m\u001b[0;34m)\u001b[0m\u001b[0;34m;\u001b[0m\u001b[0;34m\u001b[0m\u001b[0;34m\u001b[0m\u001b[0m\n",
      "\u001b[0;31mNameError\u001b[0m: name 'mcmc' is not defined"
     ]
    }
   ],
   "source": [
    "data = az.from_pyro(mcmc)\n",
    "az.plot_trace(data, compact=False);"
   ]
  },
  {
   "cell_type": "code",
   "execution_count": 26,
   "metadata": {
    "execution": {
     "iopub.execute_input": "2020-11-21T04:23:15.835221Z",
     "iopub.status.busy": "2020-11-21T04:23:15.834776Z",
     "iopub.status.idle": "2020-11-21T04:23:16.805454Z",
     "shell.execute_reply": "2020-11-21T04:23:16.804872Z",
     "shell.execute_reply.started": "2020-11-21T04:23:15.835181Z"
    }
   },
   "outputs": [
    {
     "data": {
      "image/png": "[encoded data removed]",
      "text/plain": [
       "<Figure size 864x288 with 4 Axes>"
      ]
     },
     "metadata": {
      "needs_background": "light"
     },
     "output_type": "display_data"
    }
   ],
   "source": [
    "az_samples = az.convert_to_inference_data(svi_samples)\n",
    "az.plot_trace(az_samples, compact=True);"
   ]
  },
  {
   "cell_type": "code",
   "execution_count": 27,
   "metadata": {
    "execution": {
     "iopub.execute_input": "2020-11-21T04:23:16.806919Z",
     "iopub.status.busy": "2020-11-21T04:23:16.806721Z",
     "iopub.status.idle": "2020-11-21T04:23:20.969275Z",
     "shell.execute_reply": "2020-11-21T04:23:20.968618Z",
     "shell.execute_reply.started": "2020-11-21T04:23:16.806897Z"
    }
   },
   "outputs": [],
   "source": [
    "num_samples = 1000\n",
    "predictive = Predictive(model, guide=guide, num_samples=num_samples)\n",
    "svi_samples = {k: v.reshape((1,num_samples,-1)).detach().cpu().numpy()\n",
    "               for k, v in predictive(p_data_train, p_types_train, t_data, None).items()}"
   ]
  },
  {
   "cell_type": "code",
   "execution_count": 28,
   "metadata": {
    "execution": {
     "iopub.execute_input": "2020-11-21T04:23:20.971131Z",
     "iopub.status.busy": "2020-11-21T04:23:20.970915Z",
     "iopub.status.idle": "2020-11-21T04:23:20.975354Z",
     "shell.execute_reply": "2020-11-21T04:23:20.974518Z",
     "shell.execute_reply.started": "2020-11-21T04:23:20.971106Z"
    }
   },
   "outputs": [],
   "source": [
    "svi_az = az.convert_to_inference_data({'obs': svi_samples['obs']}, group='posterior_predictive')"
   ]
  },
  {
   "cell_type": "code",
   "execution_count": 29,
   "metadata": {
    "execution": {
     "iopub.execute_input": "2020-11-21T04:23:20.976890Z",
     "iopub.status.busy": "2020-11-21T04:23:20.976692Z",
     "iopub.status.idle": "2020-11-21T04:23:20.981744Z",
     "shell.execute_reply": "2020-11-21T04:23:20.981034Z",
     "shell.execute_reply.started": "2020-11-21T04:23:20.976867Z"
    }
   },
   "outputs": [],
   "source": [
    "svi_az.add_groups({'posterior': {'phi': svi_samples['phi'], 'eta': svi_samples['eta']}})"
   ]
  },
  {
   "cell_type": "code",
   "execution_count": 30,
   "metadata": {
    "execution": {
     "iopub.execute_input": "2020-11-21T04:23:20.983192Z",
     "iopub.status.busy": "2020-11-21T04:23:20.982894Z",
     "iopub.status.idle": "2020-11-21T04:23:20.989873Z",
     "shell.execute_reply": "2020-11-21T04:23:20.989234Z",
     "shell.execute_reply.started": "2020-11-21T04:23:20.983163Z"
    }
   },
   "outputs": [
    {
     "name": "stderr",
     "output_type": "stream",
     "text": [
      "/usr/local/lib/python3.8/site-packages/arviz/data/inference_data.py:790: UserWarning: the default dims 'chain' and 'draw' will be added automatically\n",
      "  warnings.warn(\n"
     ]
    }
   ],
   "source": [
    "svi_az.add_groups({'observed_data': {'obs': y_train.reshape(1,1,-1)}})"
   ]
  },
  {
   "cell_type": "code",
   "execution_count": 44,
   "metadata": {
    "execution": {
     "iopub.execute_input": "2020-11-21T04:35:01.241537Z",
     "iopub.status.busy": "2020-11-21T04:35:01.241284Z",
     "iopub.status.idle": "2020-11-21T04:35:53.794731Z",
     "shell.execute_reply": "2020-11-21T04:35:53.794111Z",
     "shell.execute_reply.started": "2020-11-21T04:35:01.241508Z"
    }
   },
   "outputs": [
    {
     "data": {
      "image/png": "[encoded data removed]",
      "text/plain": [
       "<Figure size 432x288 with 1 Axes>"
      ]
     },
     "metadata": {
      "needs_background": "light"
     },
     "output_type": "display_data"
    }
   ],
   "source": [
    "az.plot_ppc(svi_az, kind='cumulative')\n",
    "plt.xscale('log')\n",
    "plt.yscale('log')\n",
    "#plt.xlim(0, 400)\n",
    "#plt.ylim(0, 0.05)\n",
    "plt.set_cmap('jet')\n",
    "plt.show()"
   ]
  },
  {
   "cell_type": "markdown",
   "metadata": {},
   "source": [
    "Statistics to check:\n",
    "- Max value\n",
    "- % obs that are 0\n",
    "- % obs that are above 1k\n",
    "- check 90% CI (also for plotting in reg fits)"
   ]
  },
  {
   "cell_type": "code",
   "execution_count": null,
   "metadata": {
    "execution": {
     "iopub.status.busy": "2020-11-21T04:23:01.202591Z",
     "iopub.status.idle": "2020-11-21T04:23:01.202879Z",
     "shell.execute_reply": "2020-11-21T04:23:01.202717Z"
    }
   },
   "outputs": [],
   "source": [
    "az.plot_posterior(svi_az)\n",
    "plt.show()"
   ]
  },
  {
   "cell_type": "code",
   "execution_count": null,
   "metadata": {
    "execution": {
     "iopub.status.busy": "2020-11-21T04:23:01.204113Z",
     "iopub.status.idle": "2020-11-21T04:23:01.204413Z",
     "shell.execute_reply": "2020-11-21T04:23:01.204260Z"
    }
   },
   "outputs": [],
   "source": [
    "az.plot_trace(svi_az)"
   ]
  },
  {
   "cell_type": "markdown",
   "metadata": {},
   "source": [
    "# Why Pareto?\n",
    "Our distribution of total comments follows a power law."
   ]
  },
  {
   "cell_type": "code",
   "execution_count": null,
   "metadata": {
    "execution": {
     "iopub.status.busy": "2020-11-21T04:23:01.205463Z",
     "iopub.status.idle": "2020-11-21T04:23:01.205755Z",
     "shell.execute_reply": "2020-11-21T04:23:01.205602Z"
    }
   },
   "outputs": [],
   "source": [
    "max_ct = np.max(y)\n",
    "unique, counts = np.unique(y, return_counts=True)\n",
    "plt.scatter(unique, counts)\n",
    "plt.yscale(\"log\")\n",
    "plt.xscale(\"log\")\n",
    "plt.xlabel(\"total comments\")\n",
    "plt.ylabel(\"frequency\")\n",
    "plt.show()"
   ]
  },
  {
   "cell_type": "markdown",
   "metadata": {},
   "source": [
    "Fake news: expect relatively flatter (more with lots, fewer with few!)\n",
    "\n",
    "Reviews: expect steeper (fewer comments very common)"
   ]
  },
  {
   "cell_type": "markdown",
   "metadata": {},
   "source": [
    "Note that our first hour comments are also distributed similarly."
   ]
  },
  {
   "cell_type": "code",
   "execution_count": null,
   "metadata": {
    "execution": {
     "iopub.status.busy": "2020-11-21T04:23:01.207433Z",
     "iopub.status.idle": "2020-11-21T04:23:01.208151Z",
     "shell.execute_reply": "2020-11-21T04:23:01.207879Z"
    }
   },
   "outputs": [],
   "source": [
    "max_ct = np.max(p_data[:,1])\n",
    "unique, counts = np.unique(p_data[:,1], return_counts=True)\n",
    "plt.plot(unique, counts)\n",
    "plt.yscale(\"log\")\n",
    "plt.xscale(\"log\")\n",
    "plt.xlim(1, 10000)\n",
    "plt.xlabel(\"first hour comments\")\n",
    "plt.ylabel(\"frequency\")\n",
    "plt.show()"
   ]
  },
  {
   "cell_type": "code",
   "execution_count": null,
   "metadata": {
    "execution": {
     "iopub.status.busy": "2020-11-21T04:23:01.209142Z",
     "iopub.status.idle": "2020-11-21T04:23:01.209603Z",
     "shell.execute_reply": "2020-11-21T04:23:01.209413Z"
    }
   },
   "outputs": [],
   "source": [
    "p_data[:,1].shape"
   ]
  },
  {
   "cell_type": "code",
   "execution_count": null,
   "metadata": {},
   "outputs": [],
   "source": []
  }
 ],
 "metadata": {
  "kernelspec": {
   "display_name": "Python 3",
   "language": "python",
   "name": "python3"
  },
  "language_info": {
   "codemirror_mode": {
    "name": "ipython",
    "version": 3
   },
   "file_extension": ".py",
   "mimetype": "text/x-python",
   "name": "python",
   "nbconvert_exporter": "python",
   "pygments_lexer": "ipython3",
   "version": "3.8.5"
  }
 },
 "nbformat": 4,
 "nbformat_minor": 4
}
