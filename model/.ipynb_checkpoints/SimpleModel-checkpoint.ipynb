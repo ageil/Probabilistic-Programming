{
 "cells": [
  {
   "cell_type": "markdown",
   "metadata": {},
   "source": [
    "# Simple Model\n",
    "In our simpler model, we will just model each post as posting about a story coming from one of three groups:\n",
    "- Factual, Disputed Story\n",
    "- Fake, Disputed Story\n",
    "- Corrective Story"
   ]
  },
  {
   "cell_type": "markdown",
   "metadata": {},
   "source": [
    "Have found this to be a useful resource for a hierarchcal model example: https://github.com/pyro-ppl/pyro/blob/dev/examples/baseball.py\n",
    "As well as https://pyro.ai/examples/forecasting_iii.html"
   ]
  },
  {
   "cell_type": "markdown",
   "metadata": {},
   "source": [
    "# To start, we will use dummy data"
   ]
  },
  {
   "cell_type": "code",
   "execution_count": 56,
   "metadata": {},
   "outputs": [],
   "source": [
    "import pandas as pd\n",
    "import torch\n",
    "import pyro\n",
    "from pyro.infer import MCMC, NUTS\n",
    "import pyro.distributions as dist\n",
    "from pyro.infer.mcmc.util import initialize_model, summary"
   ]
  },
  {
   "cell_type": "code",
   "execution_count": 57,
   "metadata": {},
   "outputs": [],
   "source": [
    "pyro.enable_validation(__debug__)\n",
    "pyro.set_rng_seed(0)"
   ]
  },
  {
   "cell_type": "code",
   "execution_count": 58,
   "metadata": {},
   "outputs": [
    {
     "data": {
      "text/html": [
       "<div>\n",
       "<style scoped>\n",
       "    .dataframe tbody tr th:only-of-type {\n",
       "        vertical-align: middle;\n",
       "    }\n",
       "\n",
       "    .dataframe tbody tr th {\n",
       "        vertical-align: top;\n",
       "    }\n",
       "\n",
       "    .dataframe thead th {\n",
       "        text-align: right;\n",
       "    }\n",
       "</style>\n",
       "<table border=\"1\" class=\"dataframe\">\n",
       "  <thead>\n",
       "    <tr style=\"text-align: right;\">\n",
       "      <th></th>\n",
       "      <th>Type</th>\n",
       "      <th>CommentsFirstHour</th>\n",
       "      <th>Engagement</th>\n",
       "    </tr>\n",
       "  </thead>\n",
       "  <tbody>\n",
       "    <tr>\n",
       "      <th>0</th>\n",
       "      <td>Fake</td>\n",
       "      <td>100</td>\n",
       "      <td>1000</td>\n",
       "    </tr>\n",
       "    <tr>\n",
       "      <th>1</th>\n",
       "      <td>Fact</td>\n",
       "      <td>50</td>\n",
       "      <td>800</td>\n",
       "    </tr>\n",
       "    <tr>\n",
       "      <th>2</th>\n",
       "      <td>Corrective</td>\n",
       "      <td>20</td>\n",
       "      <td>300</td>\n",
       "    </tr>\n",
       "    <tr>\n",
       "      <th>3</th>\n",
       "      <td>Fake</td>\n",
       "      <td>250</td>\n",
       "      <td>3000</td>\n",
       "    </tr>\n",
       "    <tr>\n",
       "      <th>4</th>\n",
       "      <td>Fact</td>\n",
       "      <td>100</td>\n",
       "      <td>2500</td>\n",
       "    </tr>\n",
       "    <tr>\n",
       "      <th>5</th>\n",
       "      <td>Corrective</td>\n",
       "      <td>40</td>\n",
       "      <td>500</td>\n",
       "    </tr>\n",
       "    <tr>\n",
       "      <th>6</th>\n",
       "      <td>Fake</td>\n",
       "      <td>125</td>\n",
       "      <td>1500</td>\n",
       "    </tr>\n",
       "    <tr>\n",
       "      <th>7</th>\n",
       "      <td>Fact</td>\n",
       "      <td>150</td>\n",
       "      <td>1600</td>\n",
       "    </tr>\n",
       "    <tr>\n",
       "      <th>8</th>\n",
       "      <td>Corrective</td>\n",
       "      <td>30</td>\n",
       "      <td>1000</td>\n",
       "    </tr>\n",
       "  </tbody>\n",
       "</table>\n",
       "</div>"
      ],
      "text/plain": [
       "         Type  CommentsFirstHour  Engagement\n",
       "0        Fake                100        1000\n",
       "1        Fact                 50         800\n",
       "2  Corrective                 20         300\n",
       "3        Fake                250        3000\n",
       "4        Fact                100        2500\n",
       "5  Corrective                 40         500\n",
       "6        Fake                125        1500\n",
       "7        Fact                150        1600\n",
       "8  Corrective                 30        1000"
      ]
     },
     "execution_count": 58,
     "metadata": {},
     "output_type": "execute_result"
    }
   ],
   "source": [
    "data = pd.DataFrame({\"Type\": [\"Fake\", \"Fact\", \"Corrective\", \"Fake\", \"Fact\", \"Corrective\", \"Fake\", \"Fact\", \"Corrective\"],\n",
    "                     \"CommentsFirstHour\": [100, 50, 20, 250, 100, 40, 125, 150, 30],\n",
    "                     \"Engagement\": [1000, 800, 300, 3000, 2500, 500, 1500, 1600, 1000]})\n",
    "data"
   ]
  },
  {
   "cell_type": "code",
   "execution_count": 59,
   "metadata": {},
   "outputs": [],
   "source": [
    "data = torch.Tensor([[[100, 1000], [250, 3000], [125, 1500]],\n",
    "                     [[50,  800],  [100, 2500], [150, 1600]],\n",
    "                     [[20,  300],  [40,  500],  [30,  1000]]])\n",
    "# dim 0: Type: (Fake, Fact, Corrective)\n",
    "# dim 1: post\n",
    "# dim 2: obs (vars): (commentsFirstHour, Engagement)"
   ]
  },
  {
   "cell_type": "code",
   "execution_count": 60,
   "metadata": {},
   "outputs": [
    {
     "data": {
      "text/plain": [
       "tensor([[[ 100., 1000.],\n",
       "         [ 250., 3000.],\n",
       "         [ 125., 1500.]],\n",
       "\n",
       "        [[  50.,  800.],\n",
       "         [ 100., 2500.],\n",
       "         [ 150., 1600.]],\n",
       "\n",
       "        [[  20.,  300.],\n",
       "         [  40.,  500.],\n",
       "         [  30., 1000.]]])"
      ]
     },
     "execution_count": 60,
     "metadata": {},
     "output_type": "execute_result"
    }
   ],
   "source": [
    "data"
   ]
  },
  {
   "cell_type": "code",
   "execution_count": 61,
   "metadata": {},
   "outputs": [],
   "source": [
    "x = data[:,:,:1]\n",
    "y = data[:,:,1]"
   ]
  },
  {
   "cell_type": "code",
   "execution_count": 62,
   "metadata": {},
   "outputs": [
    {
     "data": {
      "text/plain": [
       "tensor([[[100.],\n",
       "         [250.],\n",
       "         [125.]],\n",
       "\n",
       "        [[ 50.],\n",
       "         [100.],\n",
       "         [150.]],\n",
       "\n",
       "        [[ 20.],\n",
       "         [ 40.],\n",
       "         [ 30.]]])"
      ]
     },
     "execution_count": 62,
     "metadata": {},
     "output_type": "execute_result"
    }
   ],
   "source": [
    "x"
   ]
  },
  {
   "cell_type": "code",
   "execution_count": 63,
   "metadata": {},
   "outputs": [
    {
     "data": {
      "text/plain": [
       "tensor([[1000., 3000., 1500.],\n",
       "        [ 800., 2500., 1600.],\n",
       "        [ 300.,  500., 1000.]])"
      ]
     },
     "execution_count": 63,
     "metadata": {},
     "output_type": "execute_result"
    }
   ],
   "source": [
    "y"
   ]
  },
  {
   "cell_type": "code",
   "execution_count": 64,
   "metadata": {},
   "outputs": [],
   "source": [
    "# x is a 2D tensor of num\n",
    "def model(x, y):\n",
    "    num_types, num_posts, num_indeps = x.shape\n",
    "    \n",
    "    # construct necessary plates over each level\n",
    "    type_plate = pyro.plate(\"type\", num_types, dim=-2)\n",
    "    post_plate = pyro.plate(\"post\", num_posts, dim=-1)\n",
    "    \n",
    "    # sample some kind of shared variables here.\n",
    "#     pyro.sample\n",
    "\n",
    "    with type_plate:\n",
    "        type_level = pyro.sample(\"type_level\", dist.Normal(0, 10))\n",
    "    \n",
    "    prediction = type_level\n",
    "    return prediction"
   ]
  },
  {
   "cell_type": "code",
   "execution_count": 65,
   "metadata": {},
   "outputs": [
    {
     "name": "stderr",
     "output_type": "stream",
     "text": [
      "\r",
      "Warmup:   0%|          | 0/2250 [00:00, ?it/s]\r",
      "Warmup:   0%|          | 11/2250 [00:00, 103.30it/s, step size=5.37e+00, acc. prob=0.702]\r",
      "Warmup:   1%|          | 28/2250 [00:00, 115.79it/s, step size=6.46e+00, acc. prob=0.759]\r",
      "Warmup:   2%|▏         | 46/2250 [00:00, 129.63it/s, step size=8.56e+00, acc. prob=0.774]\r",
      "Warmup:   3%|▎         | 65/2250 [00:00, 142.66it/s, step size=3.70e+00, acc. prob=0.773]\r",
      "Warmup:   4%|▎         | 79/2250 [00:00, 138.06it/s, step size=5.20e+00, acc. prob=0.778]\r",
      "Warmup:   4%|▍         | 98/2250 [00:00, 149.64it/s, step size=6.38e+00, acc. prob=0.782]\r",
      "Warmup:   5%|▌         | 113/2250 [00:00, 131.13it/s, step size=1.38e+00, acc. prob=0.780]\r",
      "Warmup:   6%|▌         | 127/2250 [00:00, 106.81it/s, step size=5.83e-01, acc. prob=0.779]\r",
      "Warmup:   6%|▌         | 140/2250 [00:01, 107.68it/s, step size=3.76e-01, acc. prob=0.779]\r",
      "Warmup:   7%|▋         | 153/2250 [00:01, 111.10it/s, step size=4.64e-01, acc. prob=0.781]\r",
      "Warmup:   7%|▋         | 165/2250 [00:01, 112.32it/s, step size=1.07e+00, acc. prob=0.784]\r",
      "Warmup:   8%|▊         | 180/2250 [00:01, 119.65it/s, step size=5.85e-01, acc. prob=0.783]\r",
      "Warmup:   9%|▉         | 199/2250 [00:01, 133.70it/s, step size=6.39e-01, acc. prob=0.786]\r",
      "Warmup:  10%|▉         | 214/2250 [00:01, 128.61it/s, step size=1.31e+00, acc. prob=0.785]\r",
      "Warmup:  10%|█         | 228/2250 [00:01, 124.28it/s, step size=2.09e+00, acc. prob=0.786]\r",
      "Warmup:  11%|█         | 244/2250 [00:01, 133.16it/s, step size=3.23e-01, acc. prob=0.784]\r",
      "Sample:  12%|█▏        | 259/2250 [00:01, 136.08it/s, step size=8.19e-01, acc. prob=0.855]\r",
      "Sample:  12%|█▏        | 277/2250 [00:02, 144.75it/s, step size=8.19e-01, acc. prob=0.918]\r",
      "Sample:  13%|█▎        | 295/2250 [00:02, 151.51it/s, step size=8.19e-01, acc. prob=0.916]\r",
      "Sample:  14%|█▍        | 313/2250 [00:02, 156.46it/s, step size=8.19e-01, acc. prob=0.909]\r",
      "Sample:  15%|█▍        | 329/2250 [00:02, 152.06it/s, step size=8.19e-01, acc. prob=0.910]\r",
      "Sample:  15%|█▌        | 345/2250 [00:02, 149.02it/s, step size=8.19e-01, acc. prob=0.910]\r",
      "Sample:  16%|█▌        | 361/2250 [00:02, 147.17it/s, step size=8.19e-01, acc. prob=0.918]\r",
      "Sample:  17%|█▋        | 382/2250 [00:02, 161.63it/s, step size=8.19e-01, acc. prob=0.918]\r",
      "Sample:  18%|█▊        | 400/2250 [00:02, 165.64it/s, step size=8.19e-01, acc. prob=0.920]\r",
      "Sample:  19%|█▊        | 417/2250 [00:02, 164.96it/s, step size=8.19e-01, acc. prob=0.922]\r",
      "Sample:  19%|█▉        | 434/2250 [00:03, 158.44it/s, step size=8.19e-01, acc. prob=0.922]\r",
      "Sample:  20%|██        | 451/2250 [00:03, 151.74it/s, step size=8.19e-01, acc. prob=0.924]\r",
      "Sample:  21%|██        | 467/2250 [00:03, 150.34it/s, step size=8.19e-01, acc. prob=0.923]\r",
      "Sample:  21%|██▏       | 483/2250 [00:03, 150.64it/s, step size=8.19e-01, acc. prob=0.923]\r",
      "Sample:  22%|██▏       | 499/2250 [00:03, 152.48it/s, step size=8.19e-01, acc. prob=0.924]\r",
      "Sample:  23%|██▎       | 518/2250 [00:03, 161.12it/s, step size=8.19e-01, acc. prob=0.923]\r",
      "Sample:  24%|██▍       | 535/2250 [00:03, 161.56it/s, step size=8.19e-01, acc. prob=0.925]\r",
      "Sample:  25%|██▍       | 552/2250 [00:03, 157.13it/s, step size=8.19e-01, acc. prob=0.926]\r",
      "Sample:  25%|██▌       | 568/2250 [00:03, 155.34it/s, step size=8.19e-01, acc. prob=0.926]\r",
      "Sample:  26%|██▌       | 584/2250 [00:04, 155.54it/s, step size=8.19e-01, acc. prob=0.926]\r",
      "Sample:  27%|██▋       | 601/2250 [00:04, 158.41it/s, step size=8.19e-01, acc. prob=0.927]\r",
      "Sample:  27%|██▋       | 617/2250 [00:04, 155.52it/s, step size=8.19e-01, acc. prob=0.927]\r",
      "Sample:  28%|██▊       | 634/2250 [00:04, 158.77it/s, step size=8.19e-01, acc. prob=0.927]\r",
      "Sample:  29%|██▉       | 651/2250 [00:04, 159.61it/s, step size=8.19e-01, acc. prob=0.927]\r",
      "Sample:  30%|██▉       | 668/2250 [00:04, 162.09it/s, step size=8.19e-01, acc. prob=0.927]\r",
      "Sample:  30%|███       | 685/2250 [00:04, 162.27it/s, step size=8.19e-01, acc. prob=0.928]\r",
      "Sample:  31%|███       | 703/2250 [00:04, 166.54it/s, step size=8.19e-01, acc. prob=0.928]\r",
      "Sample:  32%|███▏      | 722/2250 [00:04, 171.25it/s, step size=8.19e-01, acc. prob=0.928]\r",
      "Sample:  33%|███▎      | 740/2250 [00:04, 170.56it/s, step size=8.19e-01, acc. prob=0.928]\r",
      "Sample:  34%|███▎      | 758/2250 [00:05, 166.56it/s, step size=8.19e-01, acc. prob=0.928]\r",
      "Sample:  35%|███▍      | 777/2250 [00:05, 171.60it/s, step size=8.19e-01, acc. prob=0.928]\r",
      "Sample:  35%|███▌      | 796/2250 [00:05, 175.74it/s, step size=8.19e-01, acc. prob=0.927]\r",
      "Sample:  36%|███▌      | 815/2250 [00:05, 176.92it/s, step size=8.19e-01, acc. prob=0.928]\r",
      "Sample:  37%|███▋      | 835/2250 [00:05, 179.74it/s, step size=8.19e-01, acc. prob=0.927]\r",
      "Sample:  38%|███▊      | 854/2250 [00:05, 175.33it/s, step size=8.19e-01, acc. prob=0.927]\r",
      "Sample:  39%|███▉      | 876/2250 [00:05, 185.18it/s, step size=8.19e-01, acc. prob=0.926]\r",
      "Sample:  40%|███▉      | 895/2250 [00:05, 178.87it/s, step size=8.19e-01, acc. prob=0.926]\r",
      "Sample:  41%|████      | 914/2250 [00:05, 168.07it/s, step size=8.19e-01, acc. prob=0.926]\r",
      "Sample:  41%|████▏     | 933/2250 [00:06, 171.75it/s, step size=8.19e-01, acc. prob=0.926]\r",
      "Sample:  42%|████▏     | 951/2250 [00:06, 166.47it/s, step size=8.19e-01, acc. prob=0.926]\r",
      "Sample:  43%|████▎     | 971/2250 [00:06, 173.53it/s, step size=8.19e-01, acc. prob=0.925]\r",
      "Sample:  44%|████▍     | 993/2250 [00:06, 183.39it/s, step size=8.19e-01, acc. prob=0.926]\r",
      "Sample:  45%|████▍     | 1012/2250 [00:06, 171.86it/s, step size=8.19e-01, acc. prob=0.926]\r",
      "Sample:  46%|████▌     | 1030/2250 [00:06, 171.52it/s, step size=8.19e-01, acc. prob=0.927]\r",
      "Sample:  47%|████▋     | 1050/2250 [00:06, 178.11it/s, step size=8.19e-01, acc. prob=0.927]\r",
      "Sample:  48%|████▊     | 1069/2250 [00:06, 175.64it/s, step size=8.19e-01, acc. prob=0.927]\r",
      "Sample:  48%|████▊     | 1087/2250 [00:06, 171.28it/s, step size=8.19e-01, acc. prob=0.927]\r",
      "Sample:  49%|████▉     | 1105/2250 [00:07, 167.82it/s, step size=8.19e-01, acc. prob=0.927]\r",
      "Sample:  50%|████▉     | 1122/2250 [00:07, 165.78it/s, step size=8.19e-01, acc. prob=0.927]\r",
      "Sample:  51%|█████     | 1141/2250 [00:07, 172.15it/s, step size=8.19e-01, acc. prob=0.927]\r",
      "Sample:  52%|█████▏    | 1159/2250 [00:07, 167.34it/s, step size=8.19e-01, acc. prob=0.927]\r",
      "Sample:  52%|█████▏    | 1176/2250 [00:07, 164.99it/s, step size=8.19e-01, acc. prob=0.927]\r",
      "Sample:  53%|█████▎    | 1193/2250 [00:07, 161.58it/s, step size=8.19e-01, acc. prob=0.927]\r",
      "Sample:  54%|█████▍    | 1210/2250 [00:07, 162.81it/s, step size=8.19e-01, acc. prob=0.927]\r",
      "Sample:  55%|█████▍    | 1228/2250 [00:07, 167.51it/s, step size=8.19e-01, acc. prob=0.927]\r",
      "Sample:  55%|█████▌    | 1245/2250 [00:07, 167.83it/s, step size=8.19e-01, acc. prob=0.927]\r",
      "Sample:  56%|█████▌    | 1262/2250 [00:07, 159.34it/s, step size=8.19e-01, acc. prob=0.927]\r",
      "Sample:  57%|█████▋    | 1280/2250 [00:08, 164.11it/s, step size=8.19e-01, acc. prob=0.927]\r",
      "Sample:  58%|█████▊    | 1297/2250 [00:08, 158.23it/s, step size=8.19e-01, acc. prob=0.927]\r",
      "Sample:  58%|█████▊    | 1313/2250 [00:08, 157.72it/s, step size=8.19e-01, acc. prob=0.927]\r",
      "Sample:  59%|█████▉    | 1332/2250 [00:08, 165.78it/s, step size=8.19e-01, acc. prob=0.927]\r",
      "Sample:  60%|█████▉    | 1349/2250 [00:08, 165.87it/s, step size=8.19e-01, acc. prob=0.926]\r",
      "Sample:  61%|██████    | 1366/2250 [00:08, 163.72it/s, step size=8.19e-01, acc. prob=0.926]\r",
      "Sample:  61%|██████▏   | 1383/2250 [00:08, 159.48it/s, step size=8.19e-01, acc. prob=0.926]\r",
      "Sample:  62%|██████▏   | 1404/2250 [00:08, 169.47it/s, step size=8.19e-01, acc. prob=0.925]\r",
      "Sample:  63%|██████▎   | 1422/2250 [00:08, 168.59it/s, step size=8.19e-01, acc. prob=0.925]\r",
      "Sample:  64%|██████▍   | 1440/2250 [00:09, 167.51it/s, step size=8.19e-01, acc. prob=0.925]\r",
      "Sample:  65%|██████▍   | 1459/2250 [00:09, 173.23it/s, step size=8.19e-01, acc. prob=0.925]\r",
      "Sample:  66%|██████▌   | 1477/2250 [00:09, 166.28it/s, step size=8.19e-01, acc. prob=0.925]\r",
      "Sample:  66%|██████▋   | 1494/2250 [00:09, 162.28it/s, step size=8.19e-01, acc. prob=0.925]\r",
      "Sample:  67%|██████▋   | 1511/2250 [00:09, 162.16it/s, step size=8.19e-01, acc. prob=0.925]\r",
      "Sample:  68%|██████▊   | 1528/2250 [00:09, 157.51it/s, step size=8.19e-01, acc. prob=0.925]\r",
      "Sample:  69%|██████▊   | 1544/2250 [00:09, 151.20it/s, step size=8.19e-01, acc. prob=0.925]\r",
      "Sample:  69%|██████▉   | 1560/2250 [00:09, 140.43it/s, step size=8.19e-01, acc. prob=0.925]\r",
      "Sample:  70%|███████   | 1575/2250 [00:09, 141.33it/s, step size=8.19e-01, acc. prob=0.925]\r",
      "Sample:  71%|███████   | 1590/2250 [00:10, 140.60it/s, step size=8.19e-01, acc. prob=0.925]\r",
      "Sample:  71%|███████▏  | 1606/2250 [00:10, 144.80it/s, step size=8.19e-01, acc. prob=0.925]\r",
      "Sample:  72%|███████▏  | 1623/2250 [00:10, 150.63it/s, step size=8.19e-01, acc. prob=0.925]\r",
      "Sample:  73%|███████▎  | 1641/2250 [00:10, 156.73it/s, step size=8.19e-01, acc. prob=0.926]\r",
      "Sample:  74%|███████▎  | 1657/2250 [00:10, 156.04it/s, step size=8.19e-01, acc. prob=0.926]\r",
      "Sample:  74%|███████▍  | 1674/2250 [00:10, 157.49it/s, step size=8.19e-01, acc. prob=0.926]\r",
      "Sample:  75%|███████▌  | 1690/2250 [00:10, 152.41it/s, step size=8.19e-01, acc. prob=0.926]\r",
      "Sample:  76%|███████▌  | 1706/2250 [00:10, 153.37it/s, step size=8.19e-01, acc. prob=0.926]\r",
      "Sample:  77%|███████▋  | 1724/2250 [00:10, 160.49it/s, step size=8.19e-01, acc. prob=0.926]\r",
      "Sample:  77%|███████▋  | 1742/2250 [00:11, 165.27it/s, step size=8.19e-01, acc. prob=0.926]\r",
      "Sample:  78%|███████▊  | 1759/2250 [00:11, 156.81it/s, step size=8.19e-01, acc. prob=0.926]\r",
      "Sample:  79%|███████▉  | 1775/2250 [00:11, 152.00it/s, step size=8.19e-01, acc. prob=0.926]\r",
      "Sample:  80%|███████▉  | 1791/2250 [00:11, 144.95it/s, step size=8.19e-01, acc. prob=0.926]\r",
      "Sample:  80%|████████  | 1806/2250 [00:11, 140.48it/s, step size=8.19e-01, acc. prob=0.926]\r",
      "Sample:  81%|████████  | 1821/2250 [00:11, 135.10it/s, step size=8.19e-01, acc. prob=0.926]\r",
      "Sample:  82%|████████▏ | 1835/2250 [00:11, 132.04it/s, step size=8.19e-01, acc. prob=0.927]\r",
      "Sample:  82%|████████▏ | 1852/2250 [00:11, 139.24it/s, step size=8.19e-01, acc. prob=0.926]\r",
      "Sample:  83%|████████▎ | 1867/2250 [00:11, 141.30it/s, step size=8.19e-01, acc. prob=0.926]\r",
      "Sample:  84%|████████▎ | 1884/2250 [00:12, 148.02it/s, step size=8.19e-01, acc. prob=0.926]\r",
      "Sample:  85%|████████▍ | 1904/2250 [00:12, 157.86it/s, step size=8.19e-01, acc. prob=0.926]\r",
      "Sample:  85%|████████▌ | 1921/2250 [00:12, 159.32it/s, step size=8.19e-01, acc. prob=0.926]\r",
      "Sample:  86%|████████▌ | 1938/2250 [00:12, 152.37it/s, step size=8.19e-01, acc. prob=0.926]\r",
      "Sample:  87%|████████▋ | 1954/2250 [00:12, 138.38it/s, step size=8.19e-01, acc. prob=0.926]\r",
      "Sample:  88%|████████▊ | 1971/2250 [00:12, 143.89it/s, step size=8.19e-01, acc. prob=0.927]\r",
      "Sample:  88%|████████▊ | 1986/2250 [00:12, 143.11it/s, step size=8.19e-01, acc. prob=0.927]\r",
      "Sample:  89%|████████▉ | 2004/2250 [00:12, 151.91it/s, step size=8.19e-01, acc. prob=0.927]\r",
      "Sample:  90%|████████▉ | 2020/2250 [00:12, 142.96it/s, step size=8.19e-01, acc. prob=0.927]\r",
      "Sample:  90%|█████████ | 2036/2250 [00:13, 146.45it/s, step size=8.19e-01, acc. prob=0.927]\r",
      "Sample:  91%|█████████ | 2053/2250 [00:13, 151.89it/s, step size=8.19e-01, acc. prob=0.927]\r",
      "Sample:  92%|█████████▏| 2069/2250 [00:13, 148.79it/s, step size=8.19e-01, acc. prob=0.926]\r",
      "Sample:  93%|█████████▎| 2085/2250 [00:13, 149.43it/s, step size=8.19e-01, acc. prob=0.926]\r",
      "Sample:  93%|█████████▎| 2103/2250 [00:13, 154.72it/s, step size=8.19e-01, acc. prob=0.926]\r",
      "Sample:  94%|█████████▍| 2122/2250 [00:13, 162.80it/s, step size=8.19e-01, acc. prob=0.927]\r",
      "Sample:  95%|█████████▌| 2140/2250 [00:13, 164.17it/s, step size=8.19e-01, acc. prob=0.927]\r",
      "Sample:  96%|█████████▌| 2157/2250 [00:13, 152.76it/s, step size=8.19e-01, acc. prob=0.927]\r",
      "Sample:  97%|█████████▋| 2173/2250 [00:13, 135.12it/s, step size=8.19e-01, acc. prob=0.926]\r",
      "Sample:  97%|█████████▋| 2188/2250 [00:14, 130.18it/s, step size=8.19e-01, acc. prob=0.926]\r",
      "Sample:  98%|█████████▊| 2202/2250 [00:14, 131.91it/s, step size=8.19e-01, acc. prob=0.927]\r",
      "Sample:  98%|█████████▊| 2216/2250 [00:14, 132.41it/s, step size=8.19e-01, acc. prob=0.927]\r",
      "Sample:  99%|█████████▉| 2233/2250 [00:14, 141.65it/s, step size=8.19e-01, acc. prob=0.927]\r",
      "Sample: 100%|█████████▉| 2248/2250 [00:14, 142.36it/s, step size=8.19e-01, acc. prob=0.927]\r",
      "Sample: 100%|██████████| 2250/2250 [00:14, 155.11it/s, step size=8.19e-01, acc. prob=0.927]\n"
     ]
    }
   ],
   "source": [
    "nuts_kernel = NUTS(model)\n",
    "\n",
    "mcmc = MCMC(nuts_kernel, num_samples=2000, warmup_steps=250)\n",
    "mcmc.run(x, y)\n",
    "\n",
    "hmc_samples = {k: v.detach().cpu().numpy() for k, v in mcmc.get_samples().items()}"
   ]
  },
  {
   "cell_type": "code",
   "execution_count": 66,
   "metadata": {},
   "outputs": [],
   "source": [
    "def get_summary_table(posterior, sites, player_names, transforms={}, diagnostics=False, group_by_chain=False):\n",
    "    \"\"\"\n",
    "    Return summarized statistics for each of the ``sites`` in the\n",
    "    traces corresponding to the approximate posterior.\n",
    "    \"\"\"\n",
    "    site_stats = {}\n",
    "\n",
    "    for site_name in sites:\n",
    "        marginal_site = posterior[site_name].cpu()\n",
    "\n",
    "        if site_name in transforms:\n",
    "            marginal_site = transforms[site_name](marginal_site)\n",
    "\n",
    "        site_summary = summary({site_name: marginal_site}, prob=0.5, group_by_chain=group_by_chain)[site_name]\n",
    "        if site_summary[\"mean\"].shape:\n",
    "            site_df = pd.DataFrame(site_summary, index=player_names)\n",
    "        else:\n",
    "            site_df = pd.DataFrame(site_summary, index=[0])\n",
    "        if not diagnostics:\n",
    "            site_df = site_df.drop([\"n_eff\", \"r_hat\"], axis=1)\n",
    "        site_stats[site_name] = site_df.astype(float).round(2)\n",
    "\n",
    "    return site_stats"
   ]
  },
  {
   "cell_type": "code",
   "execution_count": 67,
   "metadata": {},
   "outputs": [],
   "source": [
    "# # Utility function to print latent sites' quantile information.\n",
    "# def summary(samples):\n",
    "#     site_stats = {}\n",
    "#     for site_name, values in samples.items():\n",
    "#         marginal_site = pd.DataFrame(values)\n",
    "#         describe = marginal_site.describe(percentiles=[.05, 0.25, 0.5, 0.75, 0.95]).transpose()\n",
    "#         site_stats[site_name] = describe[[\"mean\", \"std\", \"5%\", \"25%\", \"50%\", \"75%\", \"95%\"]]\n",
    "#     return site_stats"
   ]
  },
  {
   "cell_type": "code",
   "execution_count": 68,
   "metadata": {},
   "outputs": [
    {
     "ename": "ValueError",
     "evalue": "Must pass 2-d input",
     "output_type": "error",
     "traceback": [
      "\u001b[0;31m---------------------------------------------------------------------------\u001b[0m",
      "\u001b[0;31mValueError\u001b[0m                                Traceback (most recent call last)",
      "\u001b[0;32m<ipython-input-68-6400003733ed>\u001b[0m in \u001b[0;36m<module>\u001b[0;34m()\u001b[0m\n\u001b[0;32m----> 1\u001b[0;31m \u001b[0;32mfor\u001b[0m \u001b[0msite\u001b[0m\u001b[0;34m,\u001b[0m \u001b[0mvalues\u001b[0m \u001b[0;32min\u001b[0m \u001b[0msummary\u001b[0m\u001b[0;34m(\u001b[0m\u001b[0mhmc_samples\u001b[0m\u001b[0;34m)\u001b[0m\u001b[0;34m.\u001b[0m\u001b[0mitems\u001b[0m\u001b[0;34m(\u001b[0m\u001b[0;34m)\u001b[0m\u001b[0;34m:\u001b[0m\u001b[0;34m\u001b[0m\u001b[0;34m\u001b[0m\u001b[0m\n\u001b[0m\u001b[1;32m      2\u001b[0m     \u001b[0mprint\u001b[0m\u001b[0;34m(\u001b[0m\u001b[0;34m\"Coefficient: {}\"\u001b[0m\u001b[0;34m.\u001b[0m\u001b[0mformat\u001b[0m\u001b[0;34m(\u001b[0m\u001b[0msite\u001b[0m\u001b[0;34m)\u001b[0m\u001b[0;34m)\u001b[0m\u001b[0;34m\u001b[0m\u001b[0;34m\u001b[0m\u001b[0m\n\u001b[1;32m      3\u001b[0m     \u001b[0mprint\u001b[0m\u001b[0;34m(\u001b[0m\u001b[0mvalues\u001b[0m\u001b[0;34m,\u001b[0m \u001b[0;34m\"\\n\"\u001b[0m\u001b[0;34m)\u001b[0m\u001b[0;34m\u001b[0m\u001b[0;34m\u001b[0m\u001b[0m\n",
      "\u001b[0;32m<ipython-input-67-340fa584a2bf>\u001b[0m in \u001b[0;36msummary\u001b[0;34m(samples)\u001b[0m\n\u001b[1;32m      3\u001b[0m     \u001b[0msite_stats\u001b[0m \u001b[0;34m=\u001b[0m \u001b[0;34m{\u001b[0m\u001b[0;34m}\u001b[0m\u001b[0;34m\u001b[0m\u001b[0;34m\u001b[0m\u001b[0m\n\u001b[1;32m      4\u001b[0m     \u001b[0;32mfor\u001b[0m \u001b[0msite_name\u001b[0m\u001b[0;34m,\u001b[0m \u001b[0mvalues\u001b[0m \u001b[0;32min\u001b[0m \u001b[0msamples\u001b[0m\u001b[0;34m.\u001b[0m\u001b[0mitems\u001b[0m\u001b[0;34m(\u001b[0m\u001b[0;34m)\u001b[0m\u001b[0;34m:\u001b[0m\u001b[0;34m\u001b[0m\u001b[0;34m\u001b[0m\u001b[0m\n\u001b[0;32m----> 5\u001b[0;31m         \u001b[0mmarginal_site\u001b[0m \u001b[0;34m=\u001b[0m \u001b[0mpd\u001b[0m\u001b[0;34m.\u001b[0m\u001b[0mDataFrame\u001b[0m\u001b[0;34m(\u001b[0m\u001b[0mvalues\u001b[0m\u001b[0;34m)\u001b[0m\u001b[0;34m\u001b[0m\u001b[0;34m\u001b[0m\u001b[0m\n\u001b[0m\u001b[1;32m      6\u001b[0m         \u001b[0mdescribe\u001b[0m \u001b[0;34m=\u001b[0m \u001b[0mmarginal_site\u001b[0m\u001b[0;34m.\u001b[0m\u001b[0mdescribe\u001b[0m\u001b[0;34m(\u001b[0m\u001b[0mpercentiles\u001b[0m\u001b[0;34m=\u001b[0m\u001b[0;34m[\u001b[0m\u001b[0;36m.05\u001b[0m\u001b[0;34m,\u001b[0m \u001b[0;36m0.25\u001b[0m\u001b[0;34m,\u001b[0m \u001b[0;36m0.5\u001b[0m\u001b[0;34m,\u001b[0m \u001b[0;36m0.75\u001b[0m\u001b[0;34m,\u001b[0m \u001b[0;36m0.95\u001b[0m\u001b[0;34m]\u001b[0m\u001b[0;34m)\u001b[0m\u001b[0;34m.\u001b[0m\u001b[0mtranspose\u001b[0m\u001b[0;34m(\u001b[0m\u001b[0;34m)\u001b[0m\u001b[0;34m\u001b[0m\u001b[0;34m\u001b[0m\u001b[0m\n\u001b[1;32m      7\u001b[0m         \u001b[0msite_stats\u001b[0m\u001b[0;34m[\u001b[0m\u001b[0msite_name\u001b[0m\u001b[0;34m]\u001b[0m \u001b[0;34m=\u001b[0m \u001b[0mdescribe\u001b[0m\u001b[0;34m[\u001b[0m\u001b[0;34m[\u001b[0m\u001b[0;34m\"mean\"\u001b[0m\u001b[0;34m,\u001b[0m \u001b[0;34m\"std\"\u001b[0m\u001b[0;34m,\u001b[0m \u001b[0;34m\"5%\"\u001b[0m\u001b[0;34m,\u001b[0m \u001b[0;34m\"25%\"\u001b[0m\u001b[0;34m,\u001b[0m \u001b[0;34m\"50%\"\u001b[0m\u001b[0;34m,\u001b[0m \u001b[0;34m\"75%\"\u001b[0m\u001b[0;34m,\u001b[0m \u001b[0;34m\"95%\"\u001b[0m\u001b[0;34m]\u001b[0m\u001b[0;34m]\u001b[0m\u001b[0;34m\u001b[0m\u001b[0;34m\u001b[0m\u001b[0m\n",
      "\u001b[0;32m~/anaconda3/lib/python3.6/site-packages/pandas/core/frame.py\u001b[0m in \u001b[0;36m__init__\u001b[0;34m(self, data, index, columns, dtype, copy)\u001b[0m\n\u001b[1;32m    438\u001b[0m                 \u001b[0mmgr\u001b[0m \u001b[0;34m=\u001b[0m \u001b[0minit_dict\u001b[0m\u001b[0;34m(\u001b[0m\u001b[0;34m{\u001b[0m\u001b[0mdata\u001b[0m\u001b[0;34m.\u001b[0m\u001b[0mname\u001b[0m\u001b[0;34m:\u001b[0m \u001b[0mdata\u001b[0m\u001b[0;34m}\u001b[0m\u001b[0;34m,\u001b[0m \u001b[0mindex\u001b[0m\u001b[0;34m,\u001b[0m \u001b[0mcolumns\u001b[0m\u001b[0;34m,\u001b[0m \u001b[0mdtype\u001b[0m\u001b[0;34m=\u001b[0m\u001b[0mdtype\u001b[0m\u001b[0;34m)\u001b[0m\u001b[0;34m\u001b[0m\u001b[0;34m\u001b[0m\u001b[0m\n\u001b[1;32m    439\u001b[0m             \u001b[0;32melse\u001b[0m\u001b[0;34m:\u001b[0m\u001b[0;34m\u001b[0m\u001b[0;34m\u001b[0m\u001b[0m\n\u001b[0;32m--> 440\u001b[0;31m                 \u001b[0mmgr\u001b[0m \u001b[0;34m=\u001b[0m \u001b[0minit_ndarray\u001b[0m\u001b[0;34m(\u001b[0m\u001b[0mdata\u001b[0m\u001b[0;34m,\u001b[0m \u001b[0mindex\u001b[0m\u001b[0;34m,\u001b[0m \u001b[0mcolumns\u001b[0m\u001b[0;34m,\u001b[0m \u001b[0mdtype\u001b[0m\u001b[0;34m=\u001b[0m\u001b[0mdtype\u001b[0m\u001b[0;34m,\u001b[0m \u001b[0mcopy\u001b[0m\u001b[0;34m=\u001b[0m\u001b[0mcopy\u001b[0m\u001b[0;34m)\u001b[0m\u001b[0;34m\u001b[0m\u001b[0;34m\u001b[0m\u001b[0m\n\u001b[0m\u001b[1;32m    441\u001b[0m \u001b[0;34m\u001b[0m\u001b[0m\n\u001b[1;32m    442\u001b[0m         \u001b[0;31m# For data is list-like, or Iterable (will consume into list)\u001b[0m\u001b[0;34m\u001b[0m\u001b[0;34m\u001b[0m\u001b[0;34m\u001b[0m\u001b[0m\n",
      "\u001b[0;32m~/anaconda3/lib/python3.6/site-packages/pandas/core/internals/construction.py\u001b[0m in \u001b[0;36minit_ndarray\u001b[0;34m(values, index, columns, dtype, copy)\u001b[0m\n\u001b[1;32m    169\u001b[0m     \u001b[0;31m# by definition an array here\u001b[0m\u001b[0;34m\u001b[0m\u001b[0;34m\u001b[0m\u001b[0;34m\u001b[0m\u001b[0m\n\u001b[1;32m    170\u001b[0m     \u001b[0;31m# the dtypes will be coerced to a single dtype\u001b[0m\u001b[0;34m\u001b[0m\u001b[0;34m\u001b[0m\u001b[0;34m\u001b[0m\u001b[0m\n\u001b[0;32m--> 171\u001b[0;31m     \u001b[0mvalues\u001b[0m \u001b[0;34m=\u001b[0m \u001b[0mprep_ndarray\u001b[0m\u001b[0;34m(\u001b[0m\u001b[0mvalues\u001b[0m\u001b[0;34m,\u001b[0m \u001b[0mcopy\u001b[0m\u001b[0;34m=\u001b[0m\u001b[0mcopy\u001b[0m\u001b[0;34m)\u001b[0m\u001b[0;34m\u001b[0m\u001b[0;34m\u001b[0m\u001b[0m\n\u001b[0m\u001b[1;32m    172\u001b[0m \u001b[0;34m\u001b[0m\u001b[0m\n\u001b[1;32m    173\u001b[0m     \u001b[0;32mif\u001b[0m \u001b[0mdtype\u001b[0m \u001b[0;32mis\u001b[0m \u001b[0;32mnot\u001b[0m \u001b[0;32mNone\u001b[0m\u001b[0;34m:\u001b[0m\u001b[0;34m\u001b[0m\u001b[0;34m\u001b[0m\u001b[0m\n",
      "\u001b[0;32m~/anaconda3/lib/python3.6/site-packages/pandas/core/internals/construction.py\u001b[0m in \u001b[0;36mprep_ndarray\u001b[0;34m(values, copy)\u001b[0m\n\u001b[1;32m    293\u001b[0m         \u001b[0mvalues\u001b[0m \u001b[0;34m=\u001b[0m \u001b[0mvalues\u001b[0m\u001b[0;34m.\u001b[0m\u001b[0mreshape\u001b[0m\u001b[0;34m(\u001b[0m\u001b[0;34m(\u001b[0m\u001b[0mvalues\u001b[0m\u001b[0;34m.\u001b[0m\u001b[0mshape\u001b[0m\u001b[0;34m[\u001b[0m\u001b[0;36m0\u001b[0m\u001b[0;34m]\u001b[0m\u001b[0;34m,\u001b[0m \u001b[0;36m1\u001b[0m\u001b[0;34m)\u001b[0m\u001b[0;34m)\u001b[0m\u001b[0;34m\u001b[0m\u001b[0;34m\u001b[0m\u001b[0m\n\u001b[1;32m    294\u001b[0m     \u001b[0;32melif\u001b[0m \u001b[0mvalues\u001b[0m\u001b[0;34m.\u001b[0m\u001b[0mndim\u001b[0m \u001b[0;34m!=\u001b[0m \u001b[0;36m2\u001b[0m\u001b[0;34m:\u001b[0m\u001b[0;34m\u001b[0m\u001b[0;34m\u001b[0m\u001b[0m\n\u001b[0;32m--> 295\u001b[0;31m         \u001b[0;32mraise\u001b[0m \u001b[0mValueError\u001b[0m\u001b[0;34m(\u001b[0m\u001b[0;34m\"Must pass 2-d input\"\u001b[0m\u001b[0;34m)\u001b[0m\u001b[0;34m\u001b[0m\u001b[0;34m\u001b[0m\u001b[0m\n\u001b[0m\u001b[1;32m    296\u001b[0m \u001b[0;34m\u001b[0m\u001b[0m\n\u001b[1;32m    297\u001b[0m     \u001b[0;32mreturn\u001b[0m \u001b[0mvalues\u001b[0m\u001b[0;34m\u001b[0m\u001b[0;34m\u001b[0m\u001b[0m\n",
      "\u001b[0;31mValueError\u001b[0m: Must pass 2-d input"
     ]
    }
   ],
   "source": [
    "for site, values in summary(hmc_samples).items():\n",
    "    print(\"Coefficient: {}\".format(site))\n",
    "    print(values, \"\\n\")"
   ]
  },
  {
   "cell_type": "code",
   "execution_count": 69,
   "metadata": {},
   "outputs": [
    {
     "ename": "TypeError",
     "evalue": "summary() got an unexpected keyword argument 'prob'",
     "output_type": "error",
     "traceback": [
      "\u001b[0;31m---------------------------------------------------------------------------\u001b[0m",
      "\u001b[0;31mTypeError\u001b[0m                                 Traceback (most recent call last)",
      "\u001b[0;32m<ipython-input-69-4cef1b02feaa>\u001b[0m in \u001b[0;36m<module>\u001b[0;34m()\u001b[0m\n\u001b[1;32m      3\u001b[0m                                    \u001b[0mplayer_names\u001b[0m\u001b[0;34m=\u001b[0m\u001b[0;34m[\u001b[0m\u001b[0;34m\"Fake\"\u001b[0m\u001b[0;34m,\u001b[0m \u001b[0;34m\"Fact\"\u001b[0m\u001b[0;34m,\u001b[0m \u001b[0;34m\"Corr\"\u001b[0m\u001b[0;34m]\u001b[0m\u001b[0;34m,\u001b[0m\u001b[0;34m\u001b[0m\u001b[0;34m\u001b[0m\u001b[0m\n\u001b[1;32m      4\u001b[0m                                    \u001b[0mdiagnostics\u001b[0m\u001b[0;34m=\u001b[0m\u001b[0;32mTrue\u001b[0m\u001b[0;34m,\u001b[0m\u001b[0;34m\u001b[0m\u001b[0;34m\u001b[0m\u001b[0m\n\u001b[0;32m----> 5\u001b[0;31m                                    group_by_chain=True)[\"type_level\"]\n\u001b[0m",
      "\u001b[0;32m<ipython-input-66-e1a8d757f5df>\u001b[0m in \u001b[0;36mget_summary_table\u001b[0;34m(posterior, sites, player_names, transforms, diagnostics, group_by_chain)\u001b[0m\n\u001b[1;32m     12\u001b[0m             \u001b[0mmarginal_site\u001b[0m \u001b[0;34m=\u001b[0m \u001b[0mtransforms\u001b[0m\u001b[0;34m[\u001b[0m\u001b[0msite_name\u001b[0m\u001b[0;34m]\u001b[0m\u001b[0;34m(\u001b[0m\u001b[0mmarginal_site\u001b[0m\u001b[0;34m)\u001b[0m\u001b[0;34m\u001b[0m\u001b[0;34m\u001b[0m\u001b[0m\n\u001b[1;32m     13\u001b[0m \u001b[0;34m\u001b[0m\u001b[0m\n\u001b[0;32m---> 14\u001b[0;31m         \u001b[0msite_summary\u001b[0m \u001b[0;34m=\u001b[0m \u001b[0msummary\u001b[0m\u001b[0;34m(\u001b[0m\u001b[0;34m{\u001b[0m\u001b[0msite_name\u001b[0m\u001b[0;34m:\u001b[0m \u001b[0mmarginal_site\u001b[0m\u001b[0;34m}\u001b[0m\u001b[0;34m,\u001b[0m \u001b[0mprob\u001b[0m\u001b[0;34m=\u001b[0m\u001b[0;36m0.5\u001b[0m\u001b[0;34m,\u001b[0m \u001b[0mgroup_by_chain\u001b[0m\u001b[0;34m=\u001b[0m\u001b[0mgroup_by_chain\u001b[0m\u001b[0;34m)\u001b[0m\u001b[0;34m[\u001b[0m\u001b[0msite_name\u001b[0m\u001b[0;34m]\u001b[0m\u001b[0;34m\u001b[0m\u001b[0;34m\u001b[0m\u001b[0m\n\u001b[0m\u001b[1;32m     15\u001b[0m         \u001b[0;32mif\u001b[0m \u001b[0msite_summary\u001b[0m\u001b[0;34m[\u001b[0m\u001b[0;34m\"mean\"\u001b[0m\u001b[0;34m]\u001b[0m\u001b[0;34m.\u001b[0m\u001b[0mshape\u001b[0m\u001b[0;34m:\u001b[0m\u001b[0;34m\u001b[0m\u001b[0;34m\u001b[0m\u001b[0m\n\u001b[1;32m     16\u001b[0m             \u001b[0msite_df\u001b[0m \u001b[0;34m=\u001b[0m \u001b[0mpd\u001b[0m\u001b[0;34m.\u001b[0m\u001b[0mDataFrame\u001b[0m\u001b[0;34m(\u001b[0m\u001b[0msite_summary\u001b[0m\u001b[0;34m,\u001b[0m \u001b[0mindex\u001b[0m\u001b[0;34m=\u001b[0m\u001b[0mplayer_names\u001b[0m\u001b[0;34m)\u001b[0m\u001b[0;34m\u001b[0m\u001b[0;34m\u001b[0m\u001b[0m\n",
      "\u001b[0;31mTypeError\u001b[0m: summary() got an unexpected keyword argument 'prob'"
     ]
    }
   ],
   "source": [
    "get_summary_table(mcmc.get_samples(group_by_chain=True),\n",
    "                                   sites=[\"type_level\"],\n",
    "                                   player_names=[\"Fake\", \"Fact\", \"Corr\"],\n",
    "                                   diagnostics=True,\n",
    "                                   group_by_chain=True)[\"type_level\"]"
   ]
  },
  {
   "cell_type": "code",
   "execution_count": null,
   "metadata": {},
   "outputs": [],
   "source": []
  }
 ],
 "metadata": {
  "kernelspec": {
   "display_name": "Python 3",
   "language": "python",
   "name": "python3"
  },
  "language_info": {
   "codemirror_mode": {
    "name": "ipython",
    "version": 3
   },
   "file_extension": ".py",
   "mimetype": "text/x-python",
   "name": "python",
   "nbconvert_exporter": "python",
   "pygments_lexer": "ipython3",
   "version": "3.6.8"
  }
 },
 "nbformat": 4,
 "nbformat_minor": 2
}
