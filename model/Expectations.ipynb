{
 "cells": [
  {
   "cell_type": "code",
   "execution_count": 1,
   "metadata": {
    "execution": {
     "iopub.execute_input": "2020-11-26T05:25:11.799379Z",
     "iopub.status.busy": "2020-11-26T05:25:11.799124Z",
     "iopub.status.idle": "2020-11-26T05:25:13.082420Z",
     "shell.execute_reply": "2020-11-26T05:25:13.081855Z",
     "shell.execute_reply.started": "2020-11-26T05:25:11.799320Z"
    }
   },
   "outputs": [],
   "source": [
    "import json\n",
    "import numpy as np\n",
    "import pandas as pd\n",
    "import matplotlib.pyplot as plt\n",
    "import arviz as az\n",
    "from time import time\n",
    "\n",
    "import pyro\n",
    "import torch\n",
    "import pyro.optim as optim\n",
    "from pyro.infer import SVI, JitTrace_ELBO, Predictive\n",
    "from pyro.contrib.autoguide import AutoDiagonalNormal\n",
    "\n",
    "from data_proc import load_raw_data, processData, transform_data, split_and_prep_data\n",
    "from post_model import post_model, post_guide\n",
    "from model_utils import get_y_pred, get_type_only_y_pred, get_s_means, get_r_means, get_t_means, get_mean_y_pred\n",
    "from inference import run_svi, plot_losses\n",
    "from evaluation import plot_predictions, get_samples, gather_az_inference_data, plot_pp_pdf, plot_pp_cdf, plot_ppc, plot_residuals, MAE, MSE, R2, get_quantiles, plot_pp_hdi, plot_expectations\n",
    "\n",
    "\n",
    "pyro.enable_validation(True)"
   ]
  },
  {
   "cell_type": "markdown",
   "metadata": {},
   "source": [
    "# Expectations"
   ]
  },
  {
   "cell_type": "markdown",
   "metadata": {},
   "source": [
    "# Data"
   ]
  },
  {
   "cell_type": "markdown",
   "metadata": {},
   "source": [
    "First, we load the Reddit datasets"
   ]
  },
  {
   "cell_type": "code",
   "execution_count": 2,
   "metadata": {
    "execution": {
     "iopub.execute_input": "2020-11-26T05:25:13.084076Z",
     "iopub.status.busy": "2020-11-26T05:25:13.083825Z",
     "iopub.status.idle": "2020-11-26T05:25:14.474068Z",
     "shell.execute_reply": "2020-11-26T05:25:14.473363Z",
     "shell.execute_reply.started": "2020-11-26T05:25:13.084052Z"
    }
   },
   "outputs": [],
   "source": [
    "comments, corrections, news = load_raw_data()"
   ]
  },
  {
   "cell_type": "markdown",
   "metadata": {},
   "source": [
    "### Process and Unpack Data"
   ]
  },
  {
   "cell_type": "code",
   "execution_count": 3,
   "metadata": {
    "execution": {
     "iopub.execute_input": "2020-11-26T05:25:14.476151Z",
     "iopub.status.busy": "2020-11-26T05:25:14.475970Z",
     "iopub.status.idle": "2020-11-26T05:25:14.478401Z",
     "shell.execute_reply": "2020-11-26T05:25:14.477838Z",
     "shell.execute_reply.started": "2020-11-26T05:25:14.476132Z"
    }
   },
   "outputs": [],
   "source": [
    "COMMENTS_ONLY = True"
   ]
  },
  {
   "cell_type": "code",
   "execution_count": 4,
   "metadata": {
    "execution": {
     "iopub.execute_input": "2020-11-26T05:25:14.479792Z",
     "iopub.status.busy": "2020-11-26T05:25:14.479615Z",
     "iopub.status.idle": "2020-11-26T05:25:14.962630Z",
     "shell.execute_reply": "2020-11-26T05:25:14.962076Z",
     "shell.execute_reply.started": "2020-11-26T05:25:14.479771Z"
    }
   },
   "outputs": [],
   "source": [
    "data_tuple, lookup_tuple, label_tuple = processData(news + corrections, comments, comments_only=COMMENTS_ONLY, minutes=60)"
   ]
  },
  {
   "cell_type": "code",
   "execution_count": 5,
   "metadata": {
    "execution": {
     "iopub.execute_input": "2020-11-26T05:25:14.963629Z",
     "iopub.status.busy": "2020-11-26T05:25:14.963492Z",
     "iopub.status.idle": "2020-11-26T05:25:14.966341Z",
     "shell.execute_reply": "2020-11-26T05:25:14.965810Z",
     "shell.execute_reply.started": "2020-11-26T05:25:14.963611Z"
    }
   },
   "outputs": [],
   "source": [
    "original_p_data, t_data, s_data, r_data, y = data_tuple\n",
    "p_types, p_stories, p_subreddits = lookup_tuple\n",
    "countries, authors, story_claim_titles, subreddits = label_tuple"
   ]
  },
  {
   "cell_type": "markdown",
   "metadata": {},
   "source": [
    "p_data variables (in order):\n",
    "\n",
    "0. bias\n",
    "1. num_comments in first _ mins\n",
    "2. num_subscribers at time of submission"
   ]
  },
  {
   "cell_type": "markdown",
   "metadata": {},
   "source": [
    "types\n",
    "\n",
    "0. Real News\n",
    "1. Fake News\n",
    "2. Correction on Real News\n",
    "3. Correction on Fake News"
   ]
  },
  {
   "cell_type": "markdown",
   "metadata": {},
   "source": [
    "t_data variables (in order):\n",
    "\n",
    "0. bias\n",
    "1. Real News Dummy\n",
    "2. Fake News Dummy\n",
    "3. Correction on Real News Dummy\n",
    "4. Correction on Fake News Dummy"
   ]
  },
  {
   "cell_type": "markdown",
   "metadata": {},
   "source": [
    "s_data variables:\n",
    "\n",
    "0. bias\n",
    "1. country dummies (multiple may be \"on\")\n",
    "2. author dummies"
   ]
  },
  {
   "cell_type": "markdown",
   "metadata": {},
   "source": [
    "r_data variables:\n",
    "\n",
    "0. bias\n",
    "1. subreddit dummies"
   ]
  },
  {
   "cell_type": "code",
   "execution_count": 6,
   "metadata": {},
   "outputs": [],
   "source": [
    "real_news_posts = y[p_types==0]"
   ]
  },
  {
   "cell_type": "code",
   "execution_count": 7,
   "metadata": {},
   "outputs": [],
   "source": [
    "fake_news_posts = y[p_types==1]"
   ]
  },
  {
   "cell_type": "code",
   "execution_count": 8,
   "metadata": {},
   "outputs": [],
   "source": [
    "real_news_correction = y[p_types==2]"
   ]
  },
  {
   "cell_type": "code",
   "execution_count": 9,
   "metadata": {},
   "outputs": [],
   "source": [
    "fake_news_correction = y[p_types==3]"
   ]
  },
  {
   "cell_type": "code",
   "execution_count": null,
   "metadata": {},
   "outputs": [],
   "source": []
  },
  {
   "cell_type": "code",
   "execution_count": 10,
   "metadata": {},
   "outputs": [
    {
     "data": {
      "text/plain": [
       "(955,)"
      ]
     },
     "execution_count": 10,
     "metadata": {},
     "output_type": "execute_result"
    }
   ],
   "source": [
    "real_news_posts.shape"
   ]
  },
  {
   "cell_type": "code",
   "execution_count": 11,
   "metadata": {},
   "outputs": [
    {
     "data": {
      "text/plain": [
       "(3741,)"
      ]
     },
     "execution_count": 11,
     "metadata": {},
     "output_type": "execute_result"
    }
   ],
   "source": [
    "fake_news_posts.shape"
   ]
  },
  {
   "cell_type": "code",
   "execution_count": 12,
   "metadata": {},
   "outputs": [
    {
     "data": {
      "text/plain": [
       "23.01151832460733"
      ]
     },
     "execution_count": 12,
     "metadata": {},
     "output_type": "execute_result"
    }
   ],
   "source": [
    "np.mean(real_news_posts)"
   ]
  },
  {
   "cell_type": "code",
   "execution_count": 13,
   "metadata": {},
   "outputs": [
    {
     "data": {
      "text/plain": [
       "12.124031007751938"
      ]
     },
     "execution_count": 13,
     "metadata": {},
     "output_type": "execute_result"
    }
   ],
   "source": [
    "np.mean(fake_news_posts)"
   ]
  },
  {
   "cell_type": "code",
   "execution_count": 14,
   "metadata": {},
   "outputs": [
    {
     "data": {
      "text/plain": [
       "13.499045346062053"
      ]
     },
     "execution_count": 14,
     "metadata": {},
     "output_type": "execute_result"
    }
   ],
   "source": [
    "np.mean(real_news_correction)"
   ]
  },
  {
   "cell_type": "code",
   "execution_count": 15,
   "metadata": {},
   "outputs": [
    {
     "data": {
      "text/plain": [
       "20.778867273297774"
      ]
     },
     "execution_count": 15,
     "metadata": {},
     "output_type": "execute_result"
    }
   ],
   "source": [
    "np.mean(fake_news_correction)"
   ]
  },
  {
   "cell_type": "code",
   "execution_count": 16,
   "metadata": {},
   "outputs": [
    {
     "data": {
      "text/plain": [
       "68.675"
      ]
     },
     "execution_count": 16,
     "metadata": {},
     "output_type": "execute_result"
    }
   ],
   "source": [
    "np.mean(real_news_posts[real_news_posts > 0])"
   ]
  },
  {
   "cell_type": "code",
   "execution_count": 17,
   "metadata": {},
   "outputs": [
    {
     "data": {
      "text/plain": [
       "30.481182795698924"
      ]
     },
     "execution_count": 17,
     "metadata": {},
     "output_type": "execute_result"
    }
   ],
   "source": [
    "np.mean(fake_news_posts[fake_news_posts > 0])"
   ]
  },
  {
   "cell_type": "code",
   "execution_count": 18,
   "metadata": {},
   "outputs": [
    {
     "data": {
      "text/plain": [
       "38.01142473118279"
      ]
     },
     "execution_count": 18,
     "metadata": {},
     "output_type": "execute_result"
    }
   ],
   "source": [
    "np.mean(real_news_correction[real_news_correction > 0])"
   ]
  },
  {
   "cell_type": "code",
   "execution_count": 19,
   "metadata": {},
   "outputs": [
    {
     "data": {
      "text/plain": [
       "46.03562738964199"
      ]
     },
     "execution_count": 19,
     "metadata": {},
     "output_type": "execute_result"
    }
   ],
   "source": [
    "np.mean(fake_news_correction[fake_news_correction > 0])"
   ]
  },
  {
   "cell_type": "code",
   "execution_count": null,
   "metadata": {},
   "outputs": [],
   "source": [
    "plt.hist(real_news_posts, alpha=0.25, label=\"Real\", bins=50)\n",
    "plt.hist(fake_news_posts, alpha=0.25, label=\"Fake\", bins=50)\n",
    "plt.hist(real_news_correction, alpha=0.25, label=\"Correction on Real\", bins=50)\n",
    "plt.hist(fake_news_correction, alpha=0.25, label=\"Correction on Fake\", bins=50)\n",
    "plt.yscale(\"log\")\n",
    "plt.legend()\n",
    "plt.show()"
   ]
  },
  {
   "cell_type": "code",
   "execution_count": null,
   "metadata": {},
   "outputs": [],
   "source": [
    "data = [[real_news_posts, fake_news_posts], [real_news_correction, fake_news_correction]]\n",
    "labels = [[\"Real News\", \"Fake News\"], [\"Correction on Real\", \"Correction on Fake\"]]\n",
    "colors = [[\"tab:green\", \"tab:red\"], [\"tab:green\", \"tab:red\"]]"
   ]
  },
  {
   "cell_type": "code",
   "execution_count": null,
   "metadata": {},
   "outputs": [],
   "source": [
    "plt.figure(figsize=(15, 6))\n",
    "for i, (data_list, label_list, color_list) in enumerate(zip(data, labels, colors)):\n",
    "    \n",
    "    plt.subplot(2, 1, i+1)\n",
    "    \n",
    "    for d, l, c in zip(data_list, label_list, color_list):\n",
    "        hist, bins = np.histogram(d + 1, bins=20)\n",
    "        logbins = np.logspace(np.log10(bins[0]),np.log10(bins[-1]),len(bins))\n",
    "        plt.hist(d + 1, alpha=0.25, label=l, bins=logbins, density=True, color=c)\n",
    "        plt.xscale('log')\n",
    "#         plt.xlim(0, 6000)\n",
    "        plt.ylim(1e-7, 1)\n",
    "        plt.xlim(1, 1e4)\n",
    "        plt.axvline(d.mean(), label=f\"{l} (Expected)\", c=c)\n",
    "        plt.text(np.exp(np.log(d.mean()) + 0.06), 0.3, f\"{np.round(d.mean(), 2)}\")\n",
    "#         plt.axvline(d[d > 0].mean(), label=f\"{l} (Expected (for > 0))\", c=c)\n",
    "    \n",
    "    plt.xscale(\"log\")\n",
    "    plt.yscale(\"log\")\n",
    "    plt.ylabel(\"Probability\")\n",
    "    plt.legend()\n",
    "plt.suptitle(\"Type Distributions and Expected Values\")\n",
    "plt.xlabel(\"Log Total Comments (Engagement)\")\n",
    "plt.tight_layout()"
   ]
  },
  {
   "cell_type": "code",
   "execution_count": null,
   "metadata": {},
   "outputs": [],
   "source": [
    "plt.figure(figsize=(15, 6))\n",
    "for i, (data_list, label_list, color_list) in enumerate(zip(data, labels, colors)):\n",
    "    \n",
    "    plt.subplot(2, 1, i+1)\n",
    "    \n",
    "    for d, l, c in zip(data_list, label_list, color_list):\n",
    "        hist, bins = np.histogram(d + 1, bins=20)\n",
    "        logbins = np.logspace(np.log10(bins[0]),np.log10(bins[-1]),len(bins))\n",
    "        plt.hist(d + 1, alpha=0.25, label=l, bins=logbins, density=True, color=c)\n",
    "        plt.xscale('log')\n",
    "#         plt.xlim(0, 6000)\n",
    "        plt.ylim(1e-7, 1)\n",
    "        plt.xlim(1, 1e4)\n",
    "        plt.axvline(d.mean(), label=f\"{l} (Expected)\", c=c)\n",
    "        plt.text(np.exp(np.log(d.mean()) + 0.06), 0.3, f\"{np.round(d.mean(), 2)}\")\n",
    "#         plt.axvline(d[d > 0].mean(), label=f\"{l} (Expected (for > 0))\", c=c)\n",
    "    \n",
    "    plt.xscale(\"log\")\n",
    "    plt.yscale(\"log\")\n",
    "    plt.ylabel(\"Probability\")\n",
    "    plt.legend()\n",
    "plt.suptitle(\"Type Distributions and Expected Values\")\n",
    "plt.xlabel(\"Log Total Comments (Engagement)\")\n",
    "plt.show()"
   ]
  },
  {
   "cell_type": "code",
   "execution_count": null,
   "metadata": {},
   "outputs": [],
   "source": [
    "plot_expectations(y, p_types)"
   ]
  }
 ],
 "metadata": {
  "kernelspec": {
   "display_name": "Python 3",
   "language": "python",
   "name": "python3"
  },
  "language_info": {
   "codemirror_mode": {
    "name": "ipython",
    "version": 3
   },
   "file_extension": ".py",
   "mimetype": "text/x-python",
   "name": "python",
   "nbconvert_exporter": "python",
   "pygments_lexer": "ipython3",
   "version": "3.8.5"
  }
 },
 "nbformat": 4,
 "nbformat_minor": 4
}
