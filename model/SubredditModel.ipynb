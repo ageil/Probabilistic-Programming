{
 "cells": [
  {
   "cell_type": "code",
   "execution_count": 1,
   "metadata": {
    "execution": {
     "iopub.execute_input": "2020-11-26T03:10:17.765053Z",
     "iopub.status.busy": "2020-11-26T03:10:17.764735Z",
     "iopub.status.idle": "2020-11-26T03:10:19.772415Z",
     "shell.execute_reply": "2020-11-26T03:10:19.771904Z",
     "shell.execute_reply.started": "2020-11-26T03:10:17.764975Z"
    }
   },
   "outputs": [],
   "source": [
    "import json\n",
    "import numpy as np\n",
    "import pandas as pd\n",
    "import matplotlib.pyplot as plt\n",
    "import arviz as az\n",
    "from time import time\n",
    "\n",
    "import pyro\n",
    "import torch\n",
    "import pyro.optim as optim\n",
    "from pyro.infer import SVI, JitTrace_ELBO, Predictive\n",
    "from pyro.contrib.autoguide import AutoDiagonalNormal\n",
    "\n",
    "from data_proc import load_raw_data, processData, transform_data, split_and_prep_data\n",
    "from subreddit_model import subreddit_model, subreddit_guide\n",
    "from model_utils import get_y_pred, get_type_only_y_pred, get_s_means, get_r_means, get_t_means, get_mean_y_pred\n",
    "from inference import run_svi, plot_losses\n",
    "from evaluation import plot_predictions, get_samples, gather_az_inference_data, plot_pp_pdf, plot_pp_cdf, plot_ppc, plot_residuals\n",
    "\n",
    "\n",
    "pyro.enable_validation(True)"
   ]
  },
  {
   "cell_type": "markdown",
   "metadata": {},
   "source": [
    "# Complete Level Model\n",
    "Here, we will model each post as coming from one of four types, one subreddit, and being about one story."
   ]
  },
  {
   "cell_type": "markdown",
   "metadata": {},
   "source": [
    "# Data"
   ]
  },
  {
   "cell_type": "markdown",
   "metadata": {},
   "source": [
    "First, we load the Reddit datasets"
   ]
  },
  {
   "cell_type": "code",
   "execution_count": 2,
   "metadata": {
    "execution": {
     "iopub.execute_input": "2020-11-26T03:10:19.773519Z",
     "iopub.status.busy": "2020-11-26T03:10:19.773393Z",
     "iopub.status.idle": "2020-11-26T03:10:21.148488Z",
     "shell.execute_reply": "2020-11-26T03:10:21.148032Z",
     "shell.execute_reply.started": "2020-11-26T03:10:19.773503Z"
    }
   },
   "outputs": [],
   "source": [
    "comments, corrections, news = load_raw_data()"
   ]
  },
  {
   "cell_type": "markdown",
   "metadata": {},
   "source": [
    "### Process and Unpack Data"
   ]
  },
  {
   "cell_type": "code",
   "execution_count": 3,
   "metadata": {
    "execution": {
     "iopub.execute_input": "2020-11-26T03:10:21.150008Z",
     "iopub.status.busy": "2020-11-26T03:10:21.149815Z",
     "iopub.status.idle": "2020-11-26T03:10:21.152461Z",
     "shell.execute_reply": "2020-11-26T03:10:21.151865Z",
     "shell.execute_reply.started": "2020-11-26T03:10:21.149993Z"
    }
   },
   "outputs": [],
   "source": [
    "COMMENTS_ONLY = True"
   ]
  },
  {
   "cell_type": "code",
   "execution_count": 4,
   "metadata": {
    "execution": {
     "iopub.execute_input": "2020-11-26T03:10:21.154019Z",
     "iopub.status.busy": "2020-11-26T03:10:21.153799Z",
     "iopub.status.idle": "2020-11-26T03:10:21.647602Z",
     "shell.execute_reply": "2020-11-26T03:10:21.647032Z",
     "shell.execute_reply.started": "2020-11-26T03:10:21.154002Z"
    }
   },
   "outputs": [],
   "source": [
    "data_tuple, lookup_tuple, label_tuple = processData(news + corrections, comments, comments_only=COMMENTS_ONLY, minutes=60)"
   ]
  },
  {
   "cell_type": "code",
   "execution_count": 5,
   "metadata": {
    "execution": {
     "iopub.execute_input": "2020-11-26T03:10:21.648635Z",
     "iopub.status.busy": "2020-11-26T03:10:21.648490Z",
     "iopub.status.idle": "2020-11-26T03:10:21.651698Z",
     "shell.execute_reply": "2020-11-26T03:10:21.651117Z",
     "shell.execute_reply.started": "2020-11-26T03:10:21.648616Z"
    }
   },
   "outputs": [],
   "source": [
    "original_p_data, t_data, s_data, r_data, y = data_tuple\n",
    "p_types, p_stories, p_subreddits = lookup_tuple\n",
    "countries, authors, story_claim_titles, subreddits = label_tuple"
   ]
  },
  {
   "cell_type": "markdown",
   "metadata": {},
   "source": [
    "p_data variables (in order):\n",
    "\n",
    "0. bias\n",
    "1. num_comments in first _ mins\n",
    "2. num_subscribers at time of submission"
   ]
  },
  {
   "cell_type": "markdown",
   "metadata": {},
   "source": [
    "types\n",
    "\n",
    "0. Real News\n",
    "1. Fake News\n",
    "2. Correction on Real News\n",
    "3. Correction on Fake News"
   ]
  },
  {
   "cell_type": "markdown",
   "metadata": {},
   "source": [
    "t_data variables (in order):\n",
    "\n",
    "0. bias\n",
    "1. Real News Dummy\n",
    "2. Fake News Dummy\n",
    "3. Correction on Real News Dummy\n",
    "4. Correction on Fake News Dummy"
   ]
  },
  {
   "cell_type": "markdown",
   "metadata": {},
   "source": [
    "s_data variables:\n",
    "\n",
    "0. bias\n",
    "1. country dummies (multiple may be \"on\")\n",
    "2. author dummies"
   ]
  },
  {
   "cell_type": "markdown",
   "metadata": {},
   "source": [
    "r_data variables:\n",
    "\n",
    "0. bias\n",
    "1. subreddit dummies"
   ]
  },
  {
   "cell_type": "markdown",
   "metadata": {},
   "source": [
    "### Data Transformations"
   ]
  },
  {
   "cell_type": "code",
   "execution_count": 6,
   "metadata": {
    "execution": {
     "iopub.execute_input": "2020-11-26T03:10:22.034826Z",
     "iopub.status.busy": "2020-11-26T03:10:22.034593Z",
     "iopub.status.idle": "2020-11-26T03:10:22.039440Z",
     "shell.execute_reply": "2020-11-26T03:10:22.038779Z",
     "shell.execute_reply.started": "2020-11-26T03:10:22.034802Z"
    }
   },
   "outputs": [],
   "source": [
    "# before we change anything, save the original p_data\n",
    "p_data = transform_data(original_p_data)"
   ]
  },
  {
   "cell_type": "code",
   "execution_count": 7,
   "metadata": {
    "execution": {
     "iopub.execute_input": "2020-11-26T03:10:22.470709Z",
     "iopub.status.busy": "2020-11-26T03:10:22.470486Z",
     "iopub.status.idle": "2020-11-26T03:10:22.500898Z",
     "shell.execute_reply": "2020-11-26T03:10:22.500275Z",
     "shell.execute_reply.started": "2020-11-26T03:10:22.470686Z"
    }
   },
   "outputs": [],
   "source": [
    "# Split into Test and Train datasets\n",
    "train_data, test_data, unsplit_data = split_and_prep_data(p_data, t_data, s_data, r_data, y, p_types, p_stories, p_subreddits, train_frac=0.7)\n",
    "p_data_train, y_train, p_types_train, p_stories_train, p_subreddits_train = train_data\n",
    "p_data_test, y_test, p_types_test, p_stories_test, p_subreddits_test = test_data\n",
    "t_data, s_data, r_data = unsplit_data"
   ]
  },
  {
   "cell_type": "markdown",
   "metadata": {},
   "source": [
    "-----"
   ]
  },
  {
   "cell_type": "markdown",
   "metadata": {},
   "source": [
    "# Modeling"
   ]
  },
  {
   "cell_type": "markdown",
   "metadata": {
    "pycharm": {
     "name": "#%% md\n"
    }
   },
   "source": [
    "2 Regressions.\n",
    "\n",
    "Post-Level Regression\n",
    "\n",
    "y_pt = phi_0,t * bias + phi_1,t * first_hour_comments + epsilon_pt\n",
    "\n",
    "Type-Level Regressions (2)\n",
    "\n",
    "phi_0t = eta_00 * bias + eta_01 silliness_t + nu_0t\n",
    "\n",
    "phi_1t = eta_10 * bias + eta_11 silliness_t + nu_1t"
   ]
  },
  {
   "cell_type": "code",
   "execution_count": 8,
   "metadata": {
    "execution": {
     "iopub.execute_input": "2020-11-26T03:10:25.447187Z",
     "iopub.status.busy": "2020-11-26T03:10:25.446971Z",
     "iopub.status.idle": "2020-11-26T03:10:25.449729Z",
     "shell.execute_reply": "2020-11-26T03:10:25.449031Z",
     "shell.execute_reply.started": "2020-11-26T03:10:25.447163Z"
    }
   },
   "outputs": [],
   "source": [
    "model = subreddit_model\n",
    "guide = subreddit_guide"
   ]
  },
  {
   "cell_type": "markdown",
   "metadata": {},
   "source": [
    "# Inference"
   ]
  },
  {
   "cell_type": "markdown",
   "metadata": {},
   "source": [
    "## SVI"
   ]
  },
  {
   "cell_type": "code",
   "execution_count": null,
   "metadata": {
    "execution": {
     "iopub.execute_input": "2020-11-26T03:10:27.238187Z",
     "iopub.status.busy": "2020-11-26T03:10:27.237968Z",
     "iopub.status.idle": "2020-11-26T03:12:07.723574Z",
     "shell.execute_reply": "2020-11-26T03:12:07.722768Z",
     "shell.execute_reply.started": "2020-11-26T03:10:27.238164Z"
    }
   },
   "outputs": [
    {
     "name": "stderr",
     "output_type": "stream",
     "text": [
      "/Users/marcusdaly/Documents/Grad/Y1S1/MLWithProbProg/Probabilistic-Programming/model/subreddit_model.py:196: TracerWarning: Converting a tensor to a Python boolean might cause the trace to be incorrect. We can't record the data flow of Python values, so this value will be treated as a constant in the future. This means that the trace might not generalize to other inputs!\n",
      "  if zero_inflated[0]:\n",
      "/Users/marcusdaly/Documents/Grad/Y1S1/MLWithProbProg/Probabilistic-Programming/model/subreddit_model.py:62: TracerWarning: Converting a tensor to a Python boolean might cause the trace to be incorrect. We can't record the data flow of Python values, so this value will be treated as a constant in the future. This means that the trace might not generalize to other inputs!\n",
      "  if zero_inflated[0]:\n",
      "/Users/marcusdaly/Documents/Grad/Y1S1/MLWithProbProg/Probabilistic-Programming/model/subreddit_model.py:100: TracerWarning: Converting a tensor to a Python boolean might cause the trace to be incorrect. We can't record the data flow of Python values, so this value will be treated as a constant in the future. This means that the trace might not generalize to other inputs!\n",
      "  if zero_inflated[0]:\n"
     ]
    },
    {
     "name": "stdout",
     "output_type": "stream",
     "text": [
      "Iter 1500/5000\t||\tElbo loss:1.00e+05\t||\tTime Elapsed:01:17\t||\tEst Remaining:03:01\r"
     ]
    }
   ],
   "source": [
    "svi, losses = run_svi(model, guide, train_data, unsplit_data, subsample=False, num_iters=5000, lr=1e-2, zero_inflated=torch.Tensor([False]))"
   ]
  },
  {
   "cell_type": "code",
   "execution_count": null,
   "metadata": {
    "execution": {
     "iopub.execute_input": "2020-11-26T03:12:07.725507Z",
     "iopub.status.busy": "2020-11-26T03:12:07.725285Z",
     "iopub.status.idle": "2020-11-26T03:12:08.147241Z",
     "shell.execute_reply": "2020-11-26T03:12:08.146759Z",
     "shell.execute_reply.started": "2020-11-26T03:12:07.725482Z"
    }
   },
   "outputs": [],
   "source": [
    "plot_losses(losses, log_scale = True, skip_first = 0)"
   ]
  },
  {
   "cell_type": "markdown",
   "metadata": {},
   "source": [
    "----"
   ]
  },
  {
   "cell_type": "markdown",
   "metadata": {},
   "source": [
    "# Evaluation"
   ]
  },
  {
   "cell_type": "markdown",
   "metadata": {},
   "source": [
    "Recall:"
   ]
  },
  {
   "cell_type": "markdown",
   "metadata": {},
   "source": [
    "Variables (in order):\n",
    "\n",
    "0. num_comments\n",
    "1. type\n",
    "2. num_comments in first _ mins\n",
    "3. num_subscribers at submission time"
   ]
  },
  {
   "cell_type": "markdown",
   "metadata": {},
   "source": [
    "types\n",
    "\n",
    "0. Real News\n",
    "1. Fake News\n",
    "2. Correction on Real News\n",
    "3. Correction on Fake News"
   ]
  },
  {
   "cell_type": "markdown",
   "metadata": {},
   "source": [
    "t level Variables (in order):\n",
    "\n",
    "0. Is Review? (vs. news)\n",
    "1. Is about fake story? (Not included yet)"
   ]
  },
  {
   "cell_type": "markdown",
   "metadata": {},
   "source": [
    "Check the fit"
   ]
  },
  {
   "cell_type": "markdown",
   "metadata": {
    "pycharm": {
     "name": "#%% md\n"
    }
   },
   "source": [
    "2 Regressions.\n",
    "\n",
    "Post-Level Regression\n",
    "\n",
    "y_pt = mu + phi_0,t * bias + phi_1,t * first_hour_comments + epsilon_pt\n",
    "\n",
    "Type-Level Regressions (2)\n",
    "\n",
    "phi_0t = eta_00 * bias + nu_0t\n",
    "\n",
    "phi_1t = eta_10 * bias + nu_1t"
   ]
  },
  {
   "cell_type": "code",
   "execution_count": null,
   "metadata": {
    "execution": {
     "iopub.execute_input": "2020-11-26T03:12:11.594863Z",
     "iopub.status.busy": "2020-11-26T03:12:11.594577Z",
     "iopub.status.idle": "2020-11-26T03:12:11.597993Z",
     "shell.execute_reply": "2020-11-26T03:12:11.597175Z",
     "shell.execute_reply.started": "2020-11-26T03:12:11.594831Z"
    }
   },
   "outputs": [],
   "source": [
    "INDEP = 1"
   ]
  },
  {
   "cell_type": "code",
   "execution_count": null,
   "metadata": {
    "execution": {
     "iopub.execute_input": "2020-11-26T03:12:12.097188Z",
     "iopub.status.busy": "2020-11-26T03:12:12.096966Z",
     "iopub.status.idle": "2020-11-26T03:12:12.104005Z",
     "shell.execute_reply": "2020-11-26T03:12:12.103203Z",
     "shell.execute_reply.started": "2020-11-26T03:12:12.097164Z"
    }
   },
   "outputs": [],
   "source": [
    "# get the means to be able to plot smoothly with just type data\n",
    "# and for better interpretation\n",
    "t_means = get_t_means(torch.Tensor(p_types).long(), t_data)\n",
    "r_means = get_r_means(torch.Tensor(p_subreddits).long(), r_data)"
   ]
  },
  {
   "cell_type": "code",
   "execution_count": null,
   "metadata": {
    "execution": {
     "iopub.execute_input": "2020-11-26T03:12:53.481467Z",
     "iopub.status.busy": "2020-11-26T03:12:53.481268Z",
     "iopub.status.idle": "2020-11-26T03:12:55.823619Z",
     "shell.execute_reply": "2020-11-26T03:12:55.822931Z",
     "shell.execute_reply.started": "2020-11-26T03:12:53.481448Z"
    }
   },
   "outputs": [],
   "source": [
    "# Only using types (Smooth)\n",
    "if COMMENTS_ONLY:\n",
    "    y_pred_type_only = get_type_only_y_pred(p_data=p_data, t_data=t_data, p_types=p_types, r_means=r_means)\n",
    "    for i in range(4):\n",
    "        # actual predictions, using just type data\n",
    "        plot_predictions(original_p_data, y, p_types, original_p_data, y_pred_type_only, p_types, indep=INDEP, only_type=i, log_scale=True, alpha=0.1)"
   ]
  },
  {
   "cell_type": "code",
   "execution_count": null,
   "metadata": {
    "execution": {
     "iopub.execute_input": "2020-11-26T03:14:40.555995Z",
     "iopub.status.busy": "2020-11-26T03:14:40.555771Z",
     "iopub.status.idle": "2020-11-26T03:14:41.287505Z",
     "shell.execute_reply": "2020-11-26T03:14:41.286820Z",
     "shell.execute_reply.started": "2020-11-26T03:14:40.555972Z"
    }
   },
   "outputs": [],
   "source": [
    "y_pred_mean = get_mean_y_pred(p_data=p_data, t_means=t_means, r_means=r_means)\n",
    "plot_predictions(original_p_data, y, p_types, original_p_data, y_pred_mean, p_types, indep=INDEP, log_scale=True)"
   ]
  },
  {
   "cell_type": "code",
   "execution_count": null,
   "metadata": {
    "execution": {
     "iopub.execute_input": "2020-11-26T03:14:23.827986Z",
     "iopub.status.busy": "2020-11-26T03:14:23.827770Z",
     "iopub.status.idle": "2020-11-26T03:14:26.390249Z",
     "shell.execute_reply": "2020-11-26T03:14:26.389626Z",
     "shell.execute_reply.started": "2020-11-26T03:14:23.827963Z"
    }
   },
   "outputs": [],
   "source": [
    "# Using all data (Jagged—other factors at play)\n",
    "y_pred = get_y_pred(p_data=p_data, t_data=t_data, r_data=r_data, p_types=p_types, p_subreddits=p_subreddits, s_data=None, p_stories=None)\n",
    "\n",
    "for i in range(4):\n",
    "    plot_predictions(original_p_data, y, p_types, original_p_data, y_pred, p_types, indep=INDEP, only_type=i, log_scale=True)"
   ]
  },
  {
   "cell_type": "code",
   "execution_count": null,
   "metadata": {
    "execution": {
     "iopub.execute_input": "2020-11-26T03:14:45.467398Z",
     "iopub.status.busy": "2020-11-26T03:14:45.467205Z",
     "iopub.status.idle": "2020-11-26T03:14:45.470770Z",
     "shell.execute_reply": "2020-11-26T03:14:45.470132Z",
     "shell.execute_reply.started": "2020-11-26T03:14:45.467378Z"
    }
   },
   "outputs": [],
   "source": [
    "def R2(y, y_hat):\n",
    "    y = np.array(y)\n",
    "    y_hat = np.array(y_hat)\n",
    "    SSE = np.sum((y - y_hat)**2)\n",
    "    TSS = np.sum((y - np.mean(y))**2)\n",
    "    R2 = 1 - SSE/TSS\n",
    "    return R2"
   ]
  },
  {
   "cell_type": "code",
   "execution_count": null,
   "metadata": {},
   "outputs": [],
   "source": [
    "R2(y, y_pred_type_only)"
   ]
  },
  {
   "cell_type": "code",
   "execution_count": null,
   "metadata": {},
   "outputs": [],
   "source": [
    "R2(y, y_pred_mean)"
   ]
  },
  {
   "cell_type": "code",
   "execution_count": null,
   "metadata": {
    "execution": {
     "iopub.execute_input": "2020-11-26T03:14:45.886813Z",
     "iopub.status.busy": "2020-11-26T03:14:45.886576Z",
     "iopub.status.idle": "2020-11-26T03:14:45.891580Z",
     "shell.execute_reply": "2020-11-26T03:14:45.890955Z",
     "shell.execute_reply.started": "2020-11-26T03:14:45.886790Z"
    }
   },
   "outputs": [],
   "source": [
    "R2(y, y_pred)"
   ]
  },
  {
   "cell_type": "markdown",
   "metadata": {},
   "source": [
    "Interpretation:\n",
    "\n",
    "- For posts with no comments in the first hour, we expect 7.23 comments in total\n",
    "- For every comment in the first hour, we expect an additional 6.43 comments in total"
   ]
  },
  {
   "cell_type": "markdown",
   "metadata": {},
   "source": [
    "----"
   ]
  },
  {
   "cell_type": "markdown",
   "metadata": {},
   "source": [
    "## Residuals"
   ]
  },
  {
   "cell_type": "code",
   "execution_count": null,
   "metadata": {
    "execution": {
     "iopub.execute_input": "2020-11-26T03:14:50.667476Z",
     "iopub.status.busy": "2020-11-26T03:14:50.667262Z",
     "iopub.status.idle": "2020-11-26T03:14:51.014390Z",
     "shell.execute_reply": "2020-11-26T03:14:51.013776Z",
     "shell.execute_reply.started": "2020-11-26T03:14:50.667454Z"
    }
   },
   "outputs": [],
   "source": [
    "plot_residuals(np.array(y), np.array(y_pred))"
   ]
  },
  {
   "cell_type": "code",
   "execution_count": null,
   "metadata": {
    "execution": {
     "iopub.execute_input": "2020-11-26T03:14:51.517126Z",
     "iopub.status.busy": "2020-11-26T03:14:51.516903Z",
     "iopub.status.idle": "2020-11-26T03:14:51.522508Z",
     "shell.execute_reply": "2020-11-26T03:14:51.521764Z",
     "shell.execute_reply.started": "2020-11-26T03:14:51.517102Z"
    }
   },
   "outputs": [],
   "source": [
    "np.unique(p_types, return_counts=True)"
   ]
  },
  {
   "cell_type": "markdown",
   "metadata": {},
   "source": [
    "----"
   ]
  },
  {
   "cell_type": "markdown",
   "metadata": {},
   "source": [
    "Generate posterior predictive samples"
   ]
  },
  {
   "cell_type": "code",
   "execution_count": null,
   "metadata": {
    "execution": {
     "iopub.execute_input": "2020-11-26T03:17:31.461239Z",
     "iopub.status.busy": "2020-11-26T03:17:31.461009Z",
     "iopub.status.idle": "2020-11-26T03:17:33.103217Z",
     "shell.execute_reply": "2020-11-26T03:17:33.102402Z",
     "shell.execute_reply.started": "2020-11-26T03:17:31.461218Z"
    }
   },
   "outputs": [],
   "source": [
    "svi_samples = get_samples(\n",
    "    model, \n",
    "    guide, \n",
    "    p_data_train, \n",
    "    t_data, \n",
    "    s_data, \n",
    "    r_data, \n",
    "    None, \n",
    "    p_types_train, \n",
    "    p_stories_train,\n",
    "    p_subreddits_train,\n",
    "    [False],\n",
    "    num_samples=100,\n",
    ")"
   ]
  },
  {
   "cell_type": "code",
   "execution_count": null,
   "metadata": {
    "execution": {
     "iopub.execute_input": "2020-11-26T03:17:33.104899Z",
     "iopub.status.busy": "2020-11-26T03:17:33.104673Z",
     "iopub.status.idle": "2020-11-26T03:17:33.117409Z",
     "shell.execute_reply": "2020-11-26T03:17:33.116712Z",
     "shell.execute_reply.started": "2020-11-26T03:17:33.104876Z"
    }
   },
   "outputs": [],
   "source": [
    "inf_data = gather_az_inference_data(svi_samples, y_train)"
   ]
  },
  {
   "cell_type": "markdown",
   "metadata": {},
   "source": [
    "---"
   ]
  },
  {
   "cell_type": "markdown",
   "metadata": {},
   "source": [
    "Posterior distribution over latent variables:"
   ]
  },
  {
   "cell_type": "code",
   "execution_count": null,
   "metadata": {
    "execution": {
     "iopub.execute_input": "2020-11-26T03:17:38.464399Z",
     "iopub.status.busy": "2020-11-26T03:17:38.464164Z",
     "iopub.status.idle": "2020-11-26T03:17:41.920365Z",
     "shell.execute_reply": "2020-11-26T03:17:41.918997Z",
     "shell.execute_reply.started": "2020-11-26T03:17:38.464377Z"
    }
   },
   "outputs": [],
   "source": [
    "az.plot_trace(inf_data.posterior['phi'], compact=False)\n",
    "plt.show()"
   ]
  },
  {
   "cell_type": "markdown",
   "metadata": {},
   "source": [
    "---"
   ]
  },
  {
   "cell_type": "markdown",
   "metadata": {},
   "source": [
    "Posterior predictive checks"
   ]
  },
  {
   "cell_type": "code",
   "execution_count": null,
   "metadata": {
    "execution": {
     "iopub.execute_input": "2020-11-26T03:17:41.922382Z",
     "iopub.status.busy": "2020-11-26T03:17:41.922113Z",
     "iopub.status.idle": "2020-11-26T03:17:43.414047Z",
     "shell.execute_reply": "2020-11-26T03:17:43.413089Z",
     "shell.execute_reply.started": "2020-11-26T03:17:41.922350Z"
    }
   },
   "outputs": [],
   "source": [
    "plot_pp_pdf(inf_data, y)"
   ]
  },
  {
   "cell_type": "code",
   "execution_count": null,
   "metadata": {
    "execution": {
     "iopub.execute_input": "2020-11-26T03:17:43.416765Z",
     "iopub.status.busy": "2020-11-26T03:17:43.416505Z",
     "iopub.status.idle": "2020-11-26T03:17:45.122450Z",
     "shell.execute_reply": "2020-11-26T03:17:45.121690Z",
     "shell.execute_reply.started": "2020-11-26T03:17:43.416738Z"
    }
   },
   "outputs": [],
   "source": [
    "plot_pp_cdf(inf_data, y)"
   ]
  },
  {
   "cell_type": "markdown",
   "metadata": {},
   "source": [
    "- Max value"
   ]
  },
  {
   "cell_type": "code",
   "execution_count": null,
   "metadata": {
    "execution": {
     "iopub.execute_input": "2020-11-26T03:17:45.124913Z",
     "iopub.status.busy": "2020-11-26T03:17:45.124636Z",
     "iopub.status.idle": "2020-11-26T03:17:45.383776Z",
     "shell.execute_reply": "2020-11-26T03:17:45.383062Z",
     "shell.execute_reply.started": "2020-11-26T03:17:45.124882Z"
    }
   },
   "outputs": [],
   "source": [
    "plot_ppc(svi_samples, y_train, lambda x: np.max(x, axis=0), \"Max\", log_stats = True)"
   ]
  },
  {
   "cell_type": "code",
   "execution_count": null,
   "metadata": {
    "execution": {
     "iopub.execute_input": "2020-11-26T03:17:45.385473Z",
     "iopub.status.busy": "2020-11-26T03:17:45.385185Z",
     "iopub.status.idle": "2020-11-26T03:17:45.658709Z",
     "shell.execute_reply": "2020-11-26T03:17:45.657866Z",
     "shell.execute_reply.started": "2020-11-26T03:17:45.385442Z"
    }
   },
   "outputs": [],
   "source": [
    "plot_ppc(svi_samples, y_train, lambda x: np.mean(x, axis=0), \"Mean\", log_stats = True)"
   ]
  },
  {
   "cell_type": "code",
   "execution_count": null,
   "metadata": {
    "execution": {
     "iopub.execute_input": "2020-11-26T03:17:45.660291Z",
     "iopub.status.busy": "2020-11-26T03:17:45.659946Z",
     "iopub.status.idle": "2020-11-26T03:17:45.927138Z",
     "shell.execute_reply": "2020-11-26T03:17:45.926342Z",
     "shell.execute_reply.started": "2020-11-26T03:17:45.660260Z"
    }
   },
   "outputs": [],
   "source": [
    "plot_ppc(svi_samples, y_train, lambda x: np.var(x, axis=0), \"Variance\", log_stats = True)"
   ]
  },
  {
   "cell_type": "code",
   "execution_count": null,
   "metadata": {
    "execution": {
     "iopub.execute_input": "2020-11-26T03:17:45.929150Z",
     "iopub.status.busy": "2020-11-26T03:17:45.928787Z",
     "iopub.status.idle": "2020-11-26T03:17:46.230567Z",
     "shell.execute_reply": "2020-11-26T03:17:46.229704Z",
     "shell.execute_reply.started": "2020-11-26T03:17:45.929118Z"
    }
   },
   "outputs": [],
   "source": [
    "plot_ppc(svi_samples, y_train, lambda x: np.percentile(x, 90, axis=0), \"90th %-ile (num obs)\", log_stats = False)"
   ]
  },
  {
   "cell_type": "code",
   "execution_count": null,
   "metadata": {
    "execution": {
     "iopub.execute_input": "2020-11-26T03:17:46.234267Z",
     "iopub.status.busy": "2020-11-26T03:17:46.234027Z",
     "iopub.status.idle": "2020-11-26T03:17:46.519202Z",
     "shell.execute_reply": "2020-11-26T03:17:46.518403Z",
     "shell.execute_reply.started": "2020-11-26T03:17:46.234237Z"
    }
   },
   "outputs": [],
   "source": [
    "plot_ppc(svi_samples, y_train, lambda x: np.percentile(x, 99, axis=0), \"99th %-ile (num obs)\", log_stats = False)"
   ]
  },
  {
   "cell_type": "code",
   "execution_count": null,
   "metadata": {
    "execution": {
     "iopub.execute_input": "2020-11-26T03:17:46.521106Z",
     "iopub.status.busy": "2020-11-26T03:17:46.520908Z",
     "iopub.status.idle": "2020-11-26T03:17:46.785177Z",
     "shell.execute_reply": "2020-11-26T03:17:46.784409Z",
     "shell.execute_reply.started": "2020-11-26T03:17:46.521079Z"
    }
   },
   "outputs": [],
   "source": [
    "plot_ppc(svi_samples, y_train, lambda x: (x==0).mean(axis=0), \"% = 0\", log_stats = False)"
   ]
  },
  {
   "cell_type": "code",
   "execution_count": null,
   "metadata": {
    "execution": {
     "iopub.execute_input": "2020-11-26T03:17:46.787411Z",
     "iopub.status.busy": "2020-11-26T03:17:46.786962Z",
     "iopub.status.idle": "2020-11-26T03:17:47.036406Z",
     "shell.execute_reply": "2020-11-26T03:17:47.035664Z",
     "shell.execute_reply.started": "2020-11-26T03:17:46.787371Z"
    }
   },
   "outputs": [],
   "source": [
    "plot_ppc(svi_samples, y_train, lambda x: (x<10).mean(axis=0), \"% < 10\", log_stats = False)"
   ]
  },
  {
   "cell_type": "code",
   "execution_count": null,
   "metadata": {
    "execution": {
     "iopub.execute_input": "2020-11-26T03:17:47.038545Z",
     "iopub.status.busy": "2020-11-26T03:17:47.038146Z",
     "iopub.status.idle": "2020-11-26T03:17:47.278956Z",
     "shell.execute_reply": "2020-11-26T03:17:47.278046Z",
     "shell.execute_reply.started": "2020-11-26T03:17:47.038498Z"
    }
   },
   "outputs": [],
   "source": [
    "plot_ppc(svi_samples, y_train, lambda x: (x>1000).mean(axis=0), \"% > 1000\", log_stats = False)"
   ]
  },
  {
   "cell_type": "markdown",
   "metadata": {},
   "source": [
    "# Why Pareto?\n",
    "Our distribution of total comments follows a power law."
   ]
  },
  {
   "cell_type": "code",
   "execution_count": null,
   "metadata": {
    "execution": {
     "iopub.execute_input": "2020-11-26T03:17:47.280676Z",
     "iopub.status.busy": "2020-11-26T03:17:47.280345Z",
     "iopub.status.idle": "2020-11-26T03:17:48.031451Z",
     "shell.execute_reply": "2020-11-26T03:17:48.030553Z",
     "shell.execute_reply.started": "2020-11-26T03:17:47.280645Z"
    }
   },
   "outputs": [],
   "source": [
    "max_ct = np.max(y)\n",
    "unique, counts = np.unique(y + 1, return_counts=True)\n",
    "plt.scatter(unique, counts)\n",
    "plt.yscale(\"log\")\n",
    "plt.xscale(\"log\")\n",
    "\n",
    "plt.xlabel(\"total comments\")\n",
    "plt.ylabel(\"frequency\")\n",
    "plt.show()"
   ]
  },
  {
   "cell_type": "markdown",
   "metadata": {},
   "source": [
    "Fake news: expect relatively flatter (more with lots, fewer with few!)\n",
    "\n",
    "Reviews: expect steeper (fewer comments very common)"
   ]
  },
  {
   "cell_type": "markdown",
   "metadata": {},
   "source": [
    "Note that our first hour comments are also distributed similarly."
   ]
  },
  {
   "cell_type": "code",
   "execution_count": null,
   "metadata": {
    "execution": {
     "iopub.execute_input": "2020-11-26T03:17:50.535672Z",
     "iopub.status.busy": "2020-11-26T03:17:50.535423Z",
     "iopub.status.idle": "2020-11-26T03:17:51.089218Z",
     "shell.execute_reply": "2020-11-26T03:17:51.088497Z",
     "shell.execute_reply.started": "2020-11-26T03:17:50.535640Z"
    }
   },
   "outputs": [],
   "source": [
    "max_ct = np.max(p_data[:,1])\n",
    "unique, counts = np.unique(p_data[:,1] + 1, return_counts=True)\n",
    "plt.scatter(unique, counts)\n",
    "plt.yscale(\"log\")\n",
    "plt.xscale(\"log\")\n",
    "#plt.xlim(1, 10000)\n",
    "plt.xlabel(\"first hour comments\")\n",
    "plt.ylabel(\"frequency\")\n",
    "plt.show()"
   ]
  },
  {
   "cell_type": "markdown",
   "metadata": {},
   "source": [
    "---"
   ]
  }
 ],
 "metadata": {
  "kernelspec": {
   "display_name": "Python 3",
   "language": "python",
   "name": "python3"
  },
  "language_info": {
   "codemirror_mode": {
    "name": "ipython",
    "version": 3
   },
   "file_extension": ".py",
   "mimetype": "text/x-python",
   "name": "python",
   "nbconvert_exporter": "python",
   "pygments_lexer": "ipython3",
   "version": "3.8.5"
  }
 },
 "nbformat": 4,
 "nbformat_minor": 4
}
