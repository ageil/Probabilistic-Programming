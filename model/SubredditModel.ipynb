{
 "cells": [
  {
   "cell_type": "code",
   "execution_count": 1,
   "metadata": {
    "execution": {
     "iopub.execute_input": "2020-11-28T01:09:28.000552Z",
     "iopub.status.busy": "2020-11-28T01:09:28.000249Z",
     "iopub.status.idle": "2020-11-28T01:09:29.716702Z",
     "shell.execute_reply": "2020-11-28T01:09:29.716080Z",
     "shell.execute_reply.started": "2020-11-28T01:09:28.000475Z"
    }
   },
   "outputs": [],
   "source": [
    "import json\n",
    "import numpy as np\n",
    "import pandas as pd\n",
    "import matplotlib.pyplot as plt\n",
    "import arviz as az\n",
    "from time import time\n",
    "\n",
    "import pyro\n",
    "import torch\n",
    "import pyro.optim as optim\n",
    "from pyro.infer import SVI, JitTrace_ELBO, Predictive\n",
    "from pyro.contrib.autoguide import AutoDiagonalNormal\n",
    "\n",
    "from data_proc import load_raw_data, processData, transform_data, split_and_prep_data\n",
    "from subreddit_model import subreddit_model, subreddit_guide\n",
    "from model_utils import get_y_pred, get_type_only_y_pred, get_s_means, get_r_means, get_t_means, get_mean_y_pred\n",
    "from inference import run_svi, plot_losses\n",
    "from evaluation import plot_predictions, get_samples, gather_az_inference_data, plot_pp_pdf, plot_pp_cdf, plot_ppc, plot_residuals, MAE, MSE, R2, plot_predictions_by_subreddit\n",
    "\n",
    "\n",
    "pyro.enable_validation(True)"
   ]
  },
  {
   "cell_type": "markdown",
   "metadata": {},
   "source": [
    "# Complete Level Model\n",
    "Here, we will model each post as coming from one of four types, one subreddit, and being about one story."
   ]
  },
  {
   "cell_type": "markdown",
   "metadata": {},
   "source": [
    "# Data"
   ]
  },
  {
   "cell_type": "markdown",
   "metadata": {},
   "source": [
    "First, we load the Reddit datasets"
   ]
  },
  {
   "cell_type": "code",
   "execution_count": 2,
   "metadata": {
    "execution": {
     "iopub.execute_input": "2020-11-28T01:09:29.718201Z",
     "iopub.status.busy": "2020-11-28T01:09:29.718055Z",
     "iopub.status.idle": "2020-11-28T01:09:31.099295Z",
     "shell.execute_reply": "2020-11-28T01:09:31.098727Z",
     "shell.execute_reply.started": "2020-11-28T01:09:29.718185Z"
    }
   },
   "outputs": [],
   "source": [
    "comments, corrections, news = load_raw_data()"
   ]
  },
  {
   "cell_type": "markdown",
   "metadata": {},
   "source": [
    "### Process and Unpack Data"
   ]
  },
  {
   "cell_type": "code",
   "execution_count": 3,
   "metadata": {
    "execution": {
     "iopub.execute_input": "2020-11-28T01:09:31.100857Z",
     "iopub.status.busy": "2020-11-28T01:09:31.100694Z",
     "iopub.status.idle": "2020-11-28T01:09:31.103423Z",
     "shell.execute_reply": "2020-11-28T01:09:31.102691Z",
     "shell.execute_reply.started": "2020-11-28T01:09:31.100839Z"
    }
   },
   "outputs": [],
   "source": [
    "COMMENTS_ONLY = True"
   ]
  },
  {
   "cell_type": "code",
   "execution_count": 4,
   "metadata": {
    "execution": {
     "iopub.execute_input": "2020-11-28T01:09:31.104815Z",
     "iopub.status.busy": "2020-11-28T01:09:31.104647Z",
     "iopub.status.idle": "2020-11-28T01:09:31.577683Z",
     "shell.execute_reply": "2020-11-28T01:09:31.577090Z",
     "shell.execute_reply.started": "2020-11-28T01:09:31.104795Z"
    }
   },
   "outputs": [],
   "source": [
    "data_tuple, lookup_tuple, label_tuple = processData(news + corrections, comments, comments_only=COMMENTS_ONLY, minutes=60)"
   ]
  },
  {
   "cell_type": "code",
   "execution_count": 5,
   "metadata": {
    "execution": {
     "iopub.execute_input": "2020-11-28T01:09:31.578697Z",
     "iopub.status.busy": "2020-11-28T01:09:31.578555Z",
     "iopub.status.idle": "2020-11-28T01:09:31.581293Z",
     "shell.execute_reply": "2020-11-28T01:09:31.580770Z",
     "shell.execute_reply.started": "2020-11-28T01:09:31.578678Z"
    }
   },
   "outputs": [],
   "source": [
    "original_p_data, t_data, s_data, r_data, y = data_tuple\n",
    "p_types, p_stories, p_subreddits = lookup_tuple\n",
    "countries, authors, story_claim_titles, subreddits = label_tuple"
   ]
  },
  {
   "cell_type": "markdown",
   "metadata": {},
   "source": [
    "p_data variables (in order):\n",
    "\n",
    "0. bias\n",
    "1. num_comments in first _ mins\n",
    "2. num_subscribers at time of submission"
   ]
  },
  {
   "cell_type": "markdown",
   "metadata": {},
   "source": [
    "types\n",
    "\n",
    "0. Real News\n",
    "1. Fake News\n",
    "2. Correction on Real News\n",
    "3. Correction on Fake News"
   ]
  },
  {
   "cell_type": "markdown",
   "metadata": {},
   "source": [
    "t_data variables (in order):\n",
    "\n",
    "0. bias\n",
    "1. Real News Dummy\n",
    "2. Fake News Dummy\n",
    "3. Correction on Real News Dummy\n",
    "4. Correction on Fake News Dummy"
   ]
  },
  {
   "cell_type": "markdown",
   "metadata": {},
   "source": [
    "s_data variables:\n",
    "\n",
    "0. bias\n",
    "1. country dummies (multiple may be \"on\")\n",
    "2. author dummies"
   ]
  },
  {
   "cell_type": "markdown",
   "metadata": {},
   "source": [
    "r_data variables:\n",
    "\n",
    "0. bias\n",
    "1. subreddit dummies"
   ]
  },
  {
   "cell_type": "markdown",
   "metadata": {},
   "source": [
    "### Data Transformations"
   ]
  },
  {
   "cell_type": "code",
   "execution_count": 6,
   "metadata": {
    "execution": {
     "iopub.execute_input": "2020-11-28T01:09:31.963962Z",
     "iopub.status.busy": "2020-11-28T01:09:31.963744Z",
     "iopub.status.idle": "2020-11-28T01:09:31.968348Z",
     "shell.execute_reply": "2020-11-28T01:09:31.967778Z",
     "shell.execute_reply.started": "2020-11-28T01:09:31.963938Z"
    }
   },
   "outputs": [],
   "source": [
    "# before we change anything, save the original p_data\n",
    "p_data = transform_data(original_p_data)"
   ]
  },
  {
   "cell_type": "code",
   "execution_count": 7,
   "metadata": {
    "execution": {
     "iopub.execute_input": "2020-11-28T01:09:32.141763Z",
     "iopub.status.busy": "2020-11-28T01:09:32.141538Z",
     "iopub.status.idle": "2020-11-28T01:09:32.161403Z",
     "shell.execute_reply": "2020-11-28T01:09:32.160666Z",
     "shell.execute_reply.started": "2020-11-28T01:09:32.141739Z"
    }
   },
   "outputs": [],
   "source": [
    "# Split into Test and Train datasets\n",
    "train_data, test_data, unsplit_data = split_and_prep_data(p_data, t_data, s_data, r_data, y, p_types, p_stories, p_subreddits, train_frac=0.7)\n",
    "p_data_train, y_train, p_types_train, p_stories_train, p_subreddits_train = train_data\n",
    "p_data_test, y_test, p_types_test, p_stories_test, p_subreddits_test = test_data\n",
    "t_data, s_data, r_data = unsplit_data"
   ]
  },
  {
   "cell_type": "markdown",
   "metadata": {},
   "source": [
    "-----"
   ]
  },
  {
   "cell_type": "markdown",
   "metadata": {},
   "source": [
    "# Modeling"
   ]
  },
  {
   "cell_type": "markdown",
   "metadata": {
    "pycharm": {
     "name": "#%% md\n"
    }
   },
   "source": [
    "2 Regressions.\n",
    "\n",
    "Post-Level Regression\n",
    "\n",
    "y_pt = phi_0,t * bias + phi_1,t * first_hour_comments + epsilon_pt\n",
    "\n",
    "Type-Level Regressions (2)\n",
    "\n",
    "phi_0t = eta_00 * bias + eta_01 silliness_t + nu_0t\n",
    "\n",
    "phi_1t = eta_10 * bias + eta_11 silliness_t + nu_1t"
   ]
  },
  {
   "cell_type": "code",
   "execution_count": 8,
   "metadata": {
    "execution": {
     "iopub.execute_input": "2020-11-28T01:09:32.997463Z",
     "iopub.status.busy": "2020-11-28T01:09:32.997231Z",
     "iopub.status.idle": "2020-11-28T01:09:33.000170Z",
     "shell.execute_reply": "2020-11-28T01:09:32.999471Z",
     "shell.execute_reply.started": "2020-11-28T01:09:32.997439Z"
    }
   },
   "outputs": [],
   "source": [
    "model = subreddit_model\n",
    "guide = subreddit_guide"
   ]
  },
  {
   "cell_type": "markdown",
   "metadata": {},
   "source": [
    "# Inference"
   ]
  },
  {
   "cell_type": "markdown",
   "metadata": {},
   "source": [
    "## SVI"
   ]
  },
  {
   "cell_type": "code",
   "execution_count": 9,
   "metadata": {
    "execution": {
     "iopub.execute_input": "2020-11-28T01:09:33.938238Z",
     "iopub.status.busy": "2020-11-28T01:09:33.938021Z",
     "iopub.status.idle": "2020-11-28T01:10:00.726331Z",
     "shell.execute_reply": "2020-11-28T01:10:00.725659Z",
     "shell.execute_reply.started": "2020-11-28T01:09:33.938214Z"
    }
   },
   "outputs": [
    {
     "name": "stdout",
     "output_type": "stream",
     "text": [
      "Iter 2000/2000\t||\tElbo loss:9.76e+04\t||\tTime Elapsed:00:29\t||\tEst Remaining:00:00\r"
     ]
    }
   ],
   "source": [
    "svi, losses = run_svi(model, guide, train_data, unsplit_data, subsample=False, num_iters=2000, lr=1e-2, zero_inflated=torch.Tensor([False]))"
   ]
  },
  {
   "cell_type": "code",
   "execution_count": 10,
   "metadata": {
    "execution": {
     "iopub.execute_input": "2020-11-28T01:10:01.611325Z",
     "iopub.status.busy": "2020-11-28T01:10:01.611102Z",
     "iopub.status.idle": "2020-11-28T01:10:02.031914Z",
     "shell.execute_reply": "2020-11-28T01:10:02.030866Z",
     "shell.execute_reply.started": "2020-11-28T01:10:01.611301Z"
    }
   },
   "outputs": [
    {
     "data": {
      "image/png": "[encoded data removed]",
      "text/plain": [
       "<Figure size 432x288 with 1 Axes>"
      ]
     },
     "metadata": {
      "needs_background": "light"
     },
     "output_type": "display_data"
    }
   ],
   "source": [
    "plot_losses(losses, log_scale = True, skip_first = 0)"
   ]
  },
  {
   "cell_type": "markdown",
   "metadata": {},
   "source": [
    "----"
   ]
  },
  {
   "cell_type": "markdown",
   "metadata": {},
   "source": [
    "# Evaluation"
   ]
  },
  {
   "cell_type": "markdown",
   "metadata": {},
   "source": [
    "Recall:"
   ]
  },
  {
   "cell_type": "markdown",
   "metadata": {},
   "source": [
    "Variables (in order):\n",
    "\n",
    "0. num_comments\n",
    "1. type\n",
    "2. num_comments in first _ mins\n",
    "3. num_subscribers at submission time"
   ]
  },
  {
   "cell_type": "markdown",
   "metadata": {},
   "source": [
    "types\n",
    "\n",
    "0. Real News\n",
    "1. Fake News\n",
    "2. Correction on Real News\n",
    "3. Correction on Fake News"
   ]
  },
  {
   "cell_type": "markdown",
   "metadata": {},
   "source": [
    "t level Variables (in order):\n",
    "\n",
    "0. Is Review? (vs. news)\n",
    "1. Is about fake story? (Not included yet)"
   ]
  },
  {
   "cell_type": "markdown",
   "metadata": {},
   "source": [
    "Check the fit"
   ]
  },
  {
   "cell_type": "markdown",
   "metadata": {
    "pycharm": {
     "name": "#%% md\n"
    }
   },
   "source": [
    "2 Regressions.\n",
    "\n",
    "Post-Level Regression\n",
    "\n",
    "y_pt = mu + phi_0,t * bias + phi_1,t * first_hour_comments + epsilon_pt\n",
    "\n",
    "Type-Level Regressions (2)\n",
    "\n",
    "phi_0t = eta_00 * bias + nu_0t\n",
    "\n",
    "phi_1t = eta_10 * bias + nu_1t"
   ]
  },
  {
   "cell_type": "code",
   "execution_count": 11,
   "metadata": {
    "execution": {
     "iopub.execute_input": "2020-11-28T01:10:05.980532Z",
     "iopub.status.busy": "2020-11-28T01:10:05.980311Z",
     "iopub.status.idle": "2020-11-28T01:10:05.983728Z",
     "shell.execute_reply": "2020-11-28T01:10:05.982903Z",
     "shell.execute_reply.started": "2020-11-28T01:10:05.980508Z"
    }
   },
   "outputs": [],
   "source": [
    "INDEP = 1"
   ]
  },
  {
   "cell_type": "code",
   "execution_count": 12,
   "metadata": {
    "execution": {
     "iopub.execute_input": "2020-11-28T01:10:06.271838Z",
     "iopub.status.busy": "2020-11-28T01:10:06.271610Z",
     "iopub.status.idle": "2020-11-28T01:10:06.276367Z",
     "shell.execute_reply": "2020-11-28T01:10:06.275690Z",
     "shell.execute_reply.started": "2020-11-28T01:10:06.271813Z"
    }
   },
   "outputs": [],
   "source": [
    "# get the means to be able to plot smoothly with just type data\n",
    "# and for better interpretation\n",
    "t_means = get_t_means(torch.Tensor(p_types).long(), t_data)\n",
    "r_means = get_r_means(torch.Tensor(p_subreddits).long(), r_data)"
   ]
  },
  {
   "cell_type": "code",
   "execution_count": 14,
   "metadata": {},
   "outputs": [],
   "source": [
    "y_pred = get_y_pred(p_data=p_data, t_data=t_data, r_data=r_data, p_types=p_types, p_subreddits=p_subreddits, s_data=None, p_stories=None)\n"
   ]
  },
  {
   "cell_type": "code",
   "execution_count": 16,
   "metadata": {},
   "outputs": [
    {
     "name": "stderr",
     "output_type": "stream",
     "text": [
      "/Users/marcusdaly/Documents/Grad/Y1S1/MLWithProbProg/Probabilistic-Programming/model/evaluation.py:128: UserWarning: Data has no positive values, and therefore cannot be log-scaled.\n",
      "  plt.xscale(\"log\")\n"
     ]
    },
    {
     "data": {
      "image/png": "[encoded data removed]",
      "text/plain": [
       "<Figure size 864x648 with 25 Axes>"
      ]
     },
     "metadata": {
      "needs_background": "light"
     },
     "output_type": "display_data"
    }
   ],
   "source": [
    "plot_predictions_by_subreddit(original_p_data, y, p_subreddits, original_p_data, y_pred, p_subreddits, indep=INDEP, log_scale=True, alpha=0.1)\n"
   ]
  },
  {
   "cell_type": "code",
   "execution_count": null,
   "metadata": {
    "execution": {
     "iopub.execute_input": "2020-11-28T01:10:23.705335Z",
     "iopub.status.busy": "2020-11-28T01:10:23.705116Z",
     "iopub.status.idle": "2020-11-28T01:10:26.176145Z",
     "shell.execute_reply": "2020-11-28T01:10:26.175596Z",
     "shell.execute_reply.started": "2020-11-28T01:10:23.705312Z"
    }
   },
   "outputs": [],
   "source": [
    "# Using all data (Jagged—other factors at play)\n",
    "\n",
    "\n",
    "for i in range(4):\n",
    "    plot_predictions(original_p_data, y, p_types, original_p_data, y_pred, p_types, indep=INDEP, only_type=i, log_scale=True)"
   ]
  },
  {
   "cell_type": "code",
   "execution_count": null,
   "metadata": {
    "execution": {
     "iopub.execute_input": "2020-11-28T01:10:06.683048Z",
     "iopub.status.busy": "2020-11-28T01:10:06.682829Z",
     "iopub.status.idle": "2020-11-28T01:10:09.112675Z",
     "shell.execute_reply": "2020-11-28T01:10:09.112261Z",
     "shell.execute_reply.started": "2020-11-28T01:10:06.683025Z"
    }
   },
   "outputs": [],
   "source": [
    "# Only using types (Smooth)\n",
    "if COMMENTS_ONLY:\n",
    "    y_pred_type_only = get_type_only_y_pred(p_data=p_data, t_data=t_data, p_types=p_types, r_means=r_means)\n",
    "    for i in range(4):\n",
    "        # actual predictions, using just type data\n",
    "        plot_predictions(original_p_data, y, p_types, original_p_data, y_pred_type_only, p_types, indep=INDEP, only_type=i, log_scale=True, alpha=0.1)"
   ]
  },
  {
   "cell_type": "code",
   "execution_count": null,
   "metadata": {
    "execution": {
     "iopub.execute_input": "2020-11-28T01:10:14.297549Z",
     "iopub.status.busy": "2020-11-28T01:10:14.297327Z",
     "iopub.status.idle": "2020-11-28T01:10:15.043906Z",
     "shell.execute_reply": "2020-11-28T01:10:15.043062Z",
     "shell.execute_reply.started": "2020-11-28T01:10:14.297524Z"
    }
   },
   "outputs": [],
   "source": [
    "y_pred_mean = get_mean_y_pred(p_data=p_data, t_means=t_means, r_means=r_means)\n",
    "plot_predictions(original_p_data, y, p_types, original_p_data, y_pred_mean, p_types, indep=INDEP, log_scale=True)"
   ]
  },
  {
   "cell_type": "code",
   "execution_count": null,
   "metadata": {
    "execution": {
     "iopub.execute_input": "2020-11-28T01:10:28.754308Z",
     "iopub.status.busy": "2020-11-28T01:10:28.754084Z",
     "iopub.status.idle": "2020-11-28T01:10:28.758879Z",
     "shell.execute_reply": "2020-11-28T01:10:28.758242Z",
     "shell.execute_reply.started": "2020-11-28T01:10:28.754283Z"
    }
   },
   "outputs": [],
   "source": [
    "R2(y, y_pred_type_only)"
   ]
  },
  {
   "cell_type": "code",
   "execution_count": null,
   "metadata": {
    "execution": {
     "iopub.execute_input": "2020-11-28T01:10:37.356920Z",
     "iopub.status.busy": "2020-11-28T01:10:37.356654Z",
     "iopub.status.idle": "2020-11-28T01:10:37.361004Z",
     "shell.execute_reply": "2020-11-28T01:10:37.360459Z",
     "shell.execute_reply.started": "2020-11-28T01:10:37.356893Z"
    }
   },
   "outputs": [],
   "source": [
    "R2(y, y_pred_mean)"
   ]
  },
  {
   "cell_type": "code",
   "execution_count": null,
   "metadata": {
    "execution": {
     "iopub.execute_input": "2020-11-28T01:10:37.875068Z",
     "iopub.status.busy": "2020-11-28T01:10:37.874839Z",
     "iopub.status.idle": "2020-11-28T01:10:37.879746Z",
     "shell.execute_reply": "2020-11-28T01:10:37.879129Z",
     "shell.execute_reply.started": "2020-11-28T01:10:37.875043Z"
    }
   },
   "outputs": [],
   "source": [
    "R2(y, y_pred)"
   ]
  },
  {
   "cell_type": "code",
   "execution_count": null,
   "metadata": {
    "execution": {
     "iopub.execute_input": "2020-11-28T01:10:38.615258Z",
     "iopub.status.busy": "2020-11-28T01:10:38.615027Z",
     "iopub.status.idle": "2020-11-28T01:10:38.619576Z",
     "shell.execute_reply": "2020-11-28T01:10:38.618900Z",
     "shell.execute_reply.started": "2020-11-28T01:10:38.615233Z"
    }
   },
   "outputs": [],
   "source": [
    "MAE(y, y_pred)"
   ]
  },
  {
   "cell_type": "markdown",
   "metadata": {},
   "source": [
    "Interpretation:\n",
    "\n",
    "- For posts with no comments in the first hour, we expect 7.23 comments in total\n",
    "- For every comment in the first hour, we expect an additional 6.43 comments in total"
   ]
  },
  {
   "cell_type": "markdown",
   "metadata": {},
   "source": [
    "----"
   ]
  },
  {
   "cell_type": "markdown",
   "metadata": {},
   "source": [
    "## Residuals"
   ]
  },
  {
   "cell_type": "code",
   "execution_count": null,
   "metadata": {
    "execution": {
     "iopub.execute_input": "2020-11-28T01:10:59.243213Z",
     "iopub.status.busy": "2020-11-28T01:10:59.243016Z",
     "iopub.status.idle": "2020-11-28T01:10:59.567319Z",
     "shell.execute_reply": "2020-11-28T01:10:59.566540Z",
     "shell.execute_reply.started": "2020-11-28T01:10:59.243193Z"
    }
   },
   "outputs": [],
   "source": [
    "plot_residuals(np.array(y), np.array(y_pred))"
   ]
  },
  {
   "cell_type": "code",
   "execution_count": null,
   "metadata": {
    "execution": {
     "iopub.execute_input": "2020-11-28T01:10:59.873869Z",
     "iopub.status.busy": "2020-11-28T01:10:59.873643Z",
     "iopub.status.idle": "2020-11-28T01:10:59.878511Z",
     "shell.execute_reply": "2020-11-28T01:10:59.877935Z",
     "shell.execute_reply.started": "2020-11-28T01:10:59.873839Z"
    }
   },
   "outputs": [],
   "source": [
    "np.unique(p_types, return_counts=True)"
   ]
  },
  {
   "cell_type": "markdown",
   "metadata": {},
   "source": [
    "----"
   ]
  },
  {
   "cell_type": "markdown",
   "metadata": {},
   "source": [
    "Generate posterior predictive samples"
   ]
  },
  {
   "cell_type": "code",
   "execution_count": null,
   "metadata": {
    "execution": {
     "iopub.execute_input": "2020-11-28T01:11:00.902267Z",
     "iopub.status.busy": "2020-11-28T01:11:00.902036Z",
     "iopub.status.idle": "2020-11-28T01:11:01.419447Z",
     "shell.execute_reply": "2020-11-28T01:11:01.418910Z",
     "shell.execute_reply.started": "2020-11-28T01:11:00.902243Z"
    }
   },
   "outputs": [],
   "source": [
    "svi_samples = get_samples(\n",
    "    model, \n",
    "    guide, \n",
    "    p_data_train, \n",
    "    t_data, \n",
    "    s_data, \n",
    "    r_data, \n",
    "    None, \n",
    "    p_types_train, \n",
    "    p_stories_train,\n",
    "    p_subreddits_train,\n",
    "    [False],\n",
    "    num_samples=100,\n",
    ")"
   ]
  },
  {
   "cell_type": "code",
   "execution_count": null,
   "metadata": {
    "execution": {
     "iopub.execute_input": "2020-11-28T01:11:01.420673Z",
     "iopub.status.busy": "2020-11-28T01:11:01.420491Z",
     "iopub.status.idle": "2020-11-28T01:11:01.429721Z",
     "shell.execute_reply": "2020-11-28T01:11:01.429215Z",
     "shell.execute_reply.started": "2020-11-28T01:11:01.420650Z"
    }
   },
   "outputs": [],
   "source": [
    "inf_data = gather_az_inference_data(svi_samples, y_train)"
   ]
  },
  {
   "cell_type": "markdown",
   "metadata": {},
   "source": [
    "---"
   ]
  },
  {
   "cell_type": "markdown",
   "metadata": {},
   "source": [
    "Posterior distribution over latent variables:"
   ]
  },
  {
   "cell_type": "code",
   "execution_count": null,
   "metadata": {
    "execution": {
     "iopub.execute_input": "2020-11-28T01:11:02.332903Z",
     "iopub.status.busy": "2020-11-28T01:11:02.332681Z",
     "iopub.status.idle": "2020-11-28T01:11:04.902308Z",
     "shell.execute_reply": "2020-11-28T01:11:04.901716Z",
     "shell.execute_reply.started": "2020-11-28T01:11:02.332879Z"
    }
   },
   "outputs": [],
   "source": [
    "az.plot_trace(inf_data.posterior['phi'], compact=False)\n",
    "plt.show()"
   ]
  },
  {
   "cell_type": "markdown",
   "metadata": {},
   "source": [
    "---"
   ]
  },
  {
   "cell_type": "markdown",
   "metadata": {},
   "source": [
    "Posterior predictive checks"
   ]
  },
  {
   "cell_type": "code",
   "execution_count": null,
   "metadata": {
    "execution": {
     "iopub.execute_input": "2020-11-28T01:11:06.479231Z",
     "iopub.status.busy": "2020-11-28T01:11:06.479014Z",
     "iopub.status.idle": "2020-11-28T01:11:07.484258Z",
     "shell.execute_reply": "2020-11-28T01:11:07.483354Z",
     "shell.execute_reply.started": "2020-11-28T01:11:06.479208Z"
    }
   },
   "outputs": [],
   "source": [
    "plot_pp_pdf(inf_data, y)"
   ]
  },
  {
   "cell_type": "code",
   "execution_count": null,
   "metadata": {
    "execution": {
     "iopub.execute_input": "2020-11-28T01:11:08.397961Z",
     "iopub.status.busy": "2020-11-28T01:11:08.397736Z",
     "iopub.status.idle": "2020-11-28T01:11:09.673006Z",
     "shell.execute_reply": "2020-11-28T01:11:09.672313Z",
     "shell.execute_reply.started": "2020-11-28T01:11:08.397936Z"
    }
   },
   "outputs": [],
   "source": [
    "plot_pp_cdf(inf_data, y)"
   ]
  },
  {
   "cell_type": "markdown",
   "metadata": {},
   "source": [
    "- Max value"
   ]
  },
  {
   "cell_type": "code",
   "execution_count": null,
   "metadata": {
    "execution": {
     "iopub.execute_input": "2020-11-28T01:11:10.659316Z",
     "iopub.status.busy": "2020-11-28T01:11:10.659092Z",
     "iopub.status.idle": "2020-11-28T01:11:10.835408Z",
     "shell.execute_reply": "2020-11-28T01:11:10.834531Z",
     "shell.execute_reply.started": "2020-11-28T01:11:10.659293Z"
    }
   },
   "outputs": [],
   "source": [
    "plot_ppc(svi_samples, y_train, lambda x: np.max(x, axis=0), \"Max\", log_stats = True)"
   ]
  },
  {
   "cell_type": "code",
   "execution_count": null,
   "metadata": {
    "execution": {
     "iopub.execute_input": "2020-11-28T01:11:12.669525Z",
     "iopub.status.busy": "2020-11-28T01:11:12.669241Z",
     "iopub.status.idle": "2020-11-28T01:11:12.847976Z",
     "shell.execute_reply": "2020-11-28T01:11:12.847345Z",
     "shell.execute_reply.started": "2020-11-28T01:11:12.669496Z"
    }
   },
   "outputs": [],
   "source": [
    "plot_ppc(svi_samples, y_train, lambda x: np.mean(x, axis=0), \"Mean\", log_stats = True)"
   ]
  },
  {
   "cell_type": "code",
   "execution_count": null,
   "metadata": {
    "execution": {
     "iopub.execute_input": "2020-11-28T01:11:13.912893Z",
     "iopub.status.busy": "2020-11-28T01:11:13.912666Z",
     "iopub.status.idle": "2020-11-28T01:11:14.088077Z",
     "shell.execute_reply": "2020-11-28T01:11:14.087454Z",
     "shell.execute_reply.started": "2020-11-28T01:11:13.912869Z"
    }
   },
   "outputs": [],
   "source": [
    "plot_ppc(svi_samples, y_train, lambda x: np.var(x, axis=0), \"Variance\", log_stats = True)"
   ]
  },
  {
   "cell_type": "code",
   "execution_count": null,
   "metadata": {
    "execution": {
     "iopub.execute_input": "2020-11-28T01:11:17.465462Z",
     "iopub.status.busy": "2020-11-28T01:11:17.465243Z",
     "iopub.status.idle": "2020-11-28T01:11:17.668980Z",
     "shell.execute_reply": "2020-11-28T01:11:17.668158Z",
     "shell.execute_reply.started": "2020-11-28T01:11:17.465438Z"
    }
   },
   "outputs": [],
   "source": [
    "plot_ppc(svi_samples, y_train, lambda x: np.percentile(x, 90, axis=0), \"90th %-ile (num obs)\", log_stats = False)"
   ]
  },
  {
   "cell_type": "code",
   "execution_count": null,
   "metadata": {
    "execution": {
     "iopub.execute_input": "2020-11-28T01:11:25.077363Z",
     "iopub.status.busy": "2020-11-28T01:11:25.077141Z",
     "iopub.status.idle": "2020-11-28T01:11:25.283036Z",
     "shell.execute_reply": "2020-11-28T01:11:25.282339Z",
     "shell.execute_reply.started": "2020-11-28T01:11:25.077339Z"
    }
   },
   "outputs": [],
   "source": [
    "plot_ppc(svi_samples, y_train, lambda x: np.percentile(x, 99, axis=0), \"99th %-ile (num obs)\", log_stats = False)"
   ]
  },
  {
   "cell_type": "code",
   "execution_count": null,
   "metadata": {
    "execution": {
     "iopub.execute_input": "2020-11-28T01:11:29.501671Z",
     "iopub.status.busy": "2020-11-28T01:11:29.501443Z",
     "iopub.status.idle": "2020-11-28T01:11:29.689001Z",
     "shell.execute_reply": "2020-11-28T01:11:29.688464Z",
     "shell.execute_reply.started": "2020-11-28T01:11:29.501646Z"
    }
   },
   "outputs": [],
   "source": [
    "plot_ppc(svi_samples, y_train, lambda x: (x==0).mean(axis=0), \"% = 0\", log_stats = False)"
   ]
  },
  {
   "cell_type": "code",
   "execution_count": null,
   "metadata": {
    "execution": {
     "iopub.execute_input": "2020-11-28T01:11:31.239088Z",
     "iopub.status.busy": "2020-11-28T01:11:31.238837Z",
     "iopub.status.idle": "2020-11-28T01:11:31.437845Z",
     "shell.execute_reply": "2020-11-28T01:11:31.437222Z",
     "shell.execute_reply.started": "2020-11-28T01:11:31.239061Z"
    }
   },
   "outputs": [],
   "source": [
    "plot_ppc(svi_samples, y_train, lambda x: (x<10).mean(axis=0), \"% < 10\", log_stats = False)"
   ]
  },
  {
   "cell_type": "code",
   "execution_count": null,
   "metadata": {
    "execution": {
     "iopub.execute_input": "2020-11-28T01:11:32.274507Z",
     "iopub.status.busy": "2020-11-28T01:11:32.274278Z",
     "iopub.status.idle": "2020-11-28T01:11:32.447581Z",
     "shell.execute_reply": "2020-11-28T01:11:32.446968Z",
     "shell.execute_reply.started": "2020-11-28T01:11:32.274483Z"
    }
   },
   "outputs": [],
   "source": [
    "plot_ppc(svi_samples, y_train, lambda x: (x>1000).mean(axis=0), \"% > 1000\", log_stats = False)"
   ]
  },
  {
   "cell_type": "markdown",
   "metadata": {},
   "source": [
    "# Why Pareto?\n",
    "Our distribution of total comments follows a power law."
   ]
  },
  {
   "cell_type": "code",
   "execution_count": null,
   "metadata": {
    "execution": {
     "iopub.execute_input": "2020-11-28T01:11:52.678284Z",
     "iopub.status.busy": "2020-11-28T01:11:52.678067Z",
     "iopub.status.idle": "2020-11-28T01:11:53.137475Z",
     "shell.execute_reply": "2020-11-28T01:11:53.136822Z",
     "shell.execute_reply.started": "2020-11-28T01:11:52.678260Z"
    }
   },
   "outputs": [],
   "source": [
    "max_ct = np.max(y)\n",
    "unique, counts = np.unique(y + 1, return_counts=True)\n",
    "plt.scatter(unique, counts)\n",
    "plt.yscale(\"log\")\n",
    "plt.xscale(\"log\")\n",
    "\n",
    "plt.xlabel(\"total comments\")\n",
    "plt.ylabel(\"frequency\")\n",
    "plt.show()"
   ]
  },
  {
   "cell_type": "markdown",
   "metadata": {},
   "source": [
    "Fake news: expect relatively flatter (more with lots, fewer with few!)\n",
    "\n",
    "Reviews: expect steeper (fewer comments very common)"
   ]
  },
  {
   "cell_type": "markdown",
   "metadata": {},
   "source": [
    "Note that our first hour comments are also distributed similarly."
   ]
  },
  {
   "cell_type": "code",
   "execution_count": null,
   "metadata": {
    "execution": {
     "iopub.execute_input": "2020-11-28T01:11:53.593863Z",
     "iopub.status.busy": "2020-11-28T01:11:53.593636Z",
     "iopub.status.idle": "2020-11-28T01:11:54.231055Z",
     "shell.execute_reply": "2020-11-28T01:11:54.230460Z",
     "shell.execute_reply.started": "2020-11-28T01:11:53.593838Z"
    }
   },
   "outputs": [],
   "source": [
    "max_ct = np.max(p_data[:,1])\n",
    "unique, counts = np.unique(p_data[:,1] + 1, return_counts=True)\n",
    "plt.scatter(unique, counts)\n",
    "plt.yscale(\"log\")\n",
    "plt.xscale(\"log\")\n",
    "#plt.xlim(1, 10000)\n",
    "plt.xlabel(\"first hour comments\")\n",
    "plt.ylabel(\"frequency\")\n",
    "plt.show()"
   ]
  },
  {
   "cell_type": "markdown",
   "metadata": {},
   "source": [
    "---"
   ]
  }
 ],
 "metadata": {
  "kernelspec": {
   "display_name": "Python 3",
   "language": "python",
   "name": "python3"
  },
  "language_info": {
   "codemirror_mode": {
    "name": "ipython",
    "version": 3
   },
   "file_extension": ".py",
   "mimetype": "text/x-python",
   "name": "python",
   "nbconvert_exporter": "python",
   "pygments_lexer": "ipython3",
   "version": "3.8.5"
  }
 },
 "nbformat": 4,
 "nbformat_minor": 4
}
