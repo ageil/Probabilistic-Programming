{
 "cells": [
  {
   "cell_type": "code",
   "execution_count": 1,
   "metadata": {
    "execution": {
     "iopub.execute_input": "2020-11-26T05:25:11.799379Z",
     "iopub.status.busy": "2020-11-26T05:25:11.799124Z",
     "iopub.status.idle": "2020-11-26T05:25:13.082420Z",
     "shell.execute_reply": "2020-11-26T05:25:13.081855Z",
     "shell.execute_reply.started": "2020-11-26T05:25:11.799320Z"
    }
   },
   "outputs": [],
   "source": [
    "import json\n",
    "import numpy as np\n",
    "import pandas as pd\n",
    "import matplotlib.pyplot as plt\n",
    "import arviz as az\n",
    "from time import time\n",
    "\n",
    "import pyro\n",
    "import torch\n",
    "import pyro.optim as optim\n",
    "from pyro.infer import SVI, JitTrace_ELBO, Predictive\n",
    "from pyro.contrib.autoguide import AutoDiagonalNormal\n",
    "\n",
    "from data_proc import load_raw_data, processData, transform_data, split_and_prep_data\n",
    "from post_model import post_model, post_guide\n",
    "from model_utils import get_y_pred, get_type_only_y_pred, get_s_means, get_r_means, get_t_means, get_mean_y_pred\n",
    "from inference import run_svi, plot_losses\n",
    "from evaluation import plot_predictions, get_samples, gather_az_inference_data, plot_pp_pdf, plot_pp_cdf, plot_ppc, plot_residuals, MAE, MSE, R2, get_quantiles\n",
    "\n",
    "\n",
    "pyro.enable_validation(True)"
   ]
  },
  {
   "cell_type": "markdown",
   "metadata": {},
   "source": [
    "# Complete Level Model\n",
    "Here, we will model each post as coming from one of four types, one subreddit, and being about one story."
   ]
  },
  {
   "cell_type": "markdown",
   "metadata": {},
   "source": [
    "# Data"
   ]
  },
  {
   "cell_type": "markdown",
   "metadata": {},
   "source": [
    "First, we load the Reddit datasets"
   ]
  },
  {
   "cell_type": "code",
   "execution_count": 2,
   "metadata": {
    "execution": {
     "iopub.execute_input": "2020-11-26T05:25:13.084076Z",
     "iopub.status.busy": "2020-11-26T05:25:13.083825Z",
     "iopub.status.idle": "2020-11-26T05:25:14.474068Z",
     "shell.execute_reply": "2020-11-26T05:25:14.473363Z",
     "shell.execute_reply.started": "2020-11-26T05:25:13.084052Z"
    }
   },
   "outputs": [],
   "source": [
    "comments, corrections, news = load_raw_data()"
   ]
  },
  {
   "cell_type": "markdown",
   "metadata": {},
   "source": [
    "### Process and Unpack Data"
   ]
  },
  {
   "cell_type": "code",
   "execution_count": 3,
   "metadata": {
    "execution": {
     "iopub.execute_input": "2020-11-26T05:25:14.476151Z",
     "iopub.status.busy": "2020-11-26T05:25:14.475970Z",
     "iopub.status.idle": "2020-11-26T05:25:14.478401Z",
     "shell.execute_reply": "2020-11-26T05:25:14.477838Z",
     "shell.execute_reply.started": "2020-11-26T05:25:14.476132Z"
    }
   },
   "outputs": [],
   "source": [
    "COMMENTS_ONLY = True"
   ]
  },
  {
   "cell_type": "code",
   "execution_count": 4,
   "metadata": {
    "execution": {
     "iopub.execute_input": "2020-11-26T05:25:14.479792Z",
     "iopub.status.busy": "2020-11-26T05:25:14.479615Z",
     "iopub.status.idle": "2020-11-26T05:25:14.962630Z",
     "shell.execute_reply": "2020-11-26T05:25:14.962076Z",
     "shell.execute_reply.started": "2020-11-26T05:25:14.479771Z"
    }
   },
   "outputs": [],
   "source": [
    "data_tuple, lookup_tuple, label_tuple = processData(news + corrections, comments, comments_only=COMMENTS_ONLY, minutes=60)"
   ]
  },
  {
   "cell_type": "code",
   "execution_count": 5,
   "metadata": {
    "execution": {
     "iopub.execute_input": "2020-11-26T05:25:14.963629Z",
     "iopub.status.busy": "2020-11-26T05:25:14.963492Z",
     "iopub.status.idle": "2020-11-26T05:25:14.966341Z",
     "shell.execute_reply": "2020-11-26T05:25:14.965810Z",
     "shell.execute_reply.started": "2020-11-26T05:25:14.963611Z"
    }
   },
   "outputs": [],
   "source": [
    "original_p_data, t_data, s_data, r_data, y = data_tuple\n",
    "p_types, p_stories, p_subreddits = lookup_tuple\n",
    "countries, authors, story_claim_titles, subreddits = label_tuple"
   ]
  },
  {
   "cell_type": "markdown",
   "metadata": {},
   "source": [
    "p_data variables (in order):\n",
    "\n",
    "0. bias\n",
    "1. num_comments in first _ mins\n",
    "2. num_subscribers at time of submission"
   ]
  },
  {
   "cell_type": "markdown",
   "metadata": {},
   "source": [
    "types\n",
    "\n",
    "0. Real News\n",
    "1. Fake News\n",
    "2. Correction on Real News\n",
    "3. Correction on Fake News"
   ]
  },
  {
   "cell_type": "markdown",
   "metadata": {},
   "source": [
    "t_data variables (in order):\n",
    "\n",
    "0. bias\n",
    "1. Real News Dummy\n",
    "2. Fake News Dummy\n",
    "3. Correction on Real News Dummy\n",
    "4. Correction on Fake News Dummy"
   ]
  },
  {
   "cell_type": "markdown",
   "metadata": {},
   "source": [
    "s_data variables:\n",
    "\n",
    "0. bias\n",
    "1. country dummies (multiple may be \"on\")\n",
    "2. author dummies"
   ]
  },
  {
   "cell_type": "markdown",
   "metadata": {},
   "source": [
    "r_data variables:\n",
    "\n",
    "0. bias\n",
    "1. subreddit dummies"
   ]
  },
  {
   "cell_type": "markdown",
   "metadata": {},
   "source": [
    "### Data Transformations"
   ]
  },
  {
   "cell_type": "code",
   "execution_count": 6,
   "metadata": {
    "execution": {
     "iopub.execute_input": "2020-11-26T05:25:15.067800Z",
     "iopub.status.busy": "2020-11-26T05:25:15.067579Z",
     "iopub.status.idle": "2020-11-26T05:25:15.072119Z",
     "shell.execute_reply": "2020-11-26T05:25:15.071467Z",
     "shell.execute_reply.started": "2020-11-26T05:25:15.067776Z"
    }
   },
   "outputs": [],
   "source": [
    "# before we change anything, save the original p_data\n",
    "p_data = transform_data(original_p_data)"
   ]
  },
  {
   "cell_type": "code",
   "execution_count": 7,
   "metadata": {
    "execution": {
     "iopub.execute_input": "2020-11-26T05:25:15.324271Z",
     "iopub.status.busy": "2020-11-26T05:25:15.324082Z",
     "iopub.status.idle": "2020-11-26T05:25:15.351218Z",
     "shell.execute_reply": "2020-11-26T05:25:15.350503Z",
     "shell.execute_reply.started": "2020-11-26T05:25:15.324251Z"
    }
   },
   "outputs": [],
   "source": [
    "# Split into Test and Train datasets\n",
    "train_data, test_data, unsplit_data = split_and_prep_data(p_data, t_data, s_data, r_data, y, p_types, p_stories, p_subreddits, train_frac=0.7)\n",
    "p_data_train, y_train, p_types_train, p_stories_train, p_subreddits_train = train_data\n",
    "p_data_test, y_test, p_types_test, p_stories_test, p_subreddits_test = test_data\n",
    "t_data, s_data, r_data = unsplit_data"
   ]
  },
  {
   "cell_type": "markdown",
   "metadata": {},
   "source": [
    "-----"
   ]
  },
  {
   "cell_type": "markdown",
   "metadata": {},
   "source": [
    "# Modeling"
   ]
  },
  {
   "cell_type": "markdown",
   "metadata": {
    "pycharm": {
     "name": "#%% md\n"
    }
   },
   "source": [
    "2 Regressions.\n",
    "\n",
    "Post-Level Regression\n",
    "\n",
    "y_pt = phi_0,t * bias + phi_1,t * first_hour_comments + epsilon_pt\n",
    "\n",
    "Type-Level Regressions (2)\n",
    "\n",
    "phi_0t = eta_00 * bias + eta_01 silliness_t + nu_0t\n",
    "\n",
    "phi_1t = eta_10 * bias + eta_11 silliness_t + nu_1t"
   ]
  },
  {
   "cell_type": "code",
   "execution_count": 8,
   "metadata": {
    "execution": {
     "iopub.execute_input": "2020-11-26T05:25:16.243373Z",
     "iopub.status.busy": "2020-11-26T05:25:16.243155Z",
     "iopub.status.idle": "2020-11-26T05:25:16.246178Z",
     "shell.execute_reply": "2020-11-26T05:25:16.245503Z",
     "shell.execute_reply.started": "2020-11-26T05:25:16.243350Z"
    }
   },
   "outputs": [],
   "source": [
    "model = post_model\n",
    "guide = post_guide"
   ]
  },
  {
   "cell_type": "markdown",
   "metadata": {},
   "source": [
    "# Inference"
   ]
  },
  {
   "cell_type": "markdown",
   "metadata": {},
   "source": [
    "## SVI"
   ]
  },
  {
   "cell_type": "code",
   "execution_count": 9,
   "metadata": {
    "execution": {
     "iopub.execute_input": "2020-11-26T05:25:17.010711Z",
     "iopub.status.busy": "2020-11-26T05:25:17.010502Z",
     "iopub.status.idle": "2020-11-26T05:26:32.280441Z",
     "shell.execute_reply": "2020-11-26T05:26:32.279883Z",
     "shell.execute_reply.started": "2020-11-26T05:25:17.010690Z"
    }
   },
   "outputs": [
    {
     "name": "stderr",
     "output_type": "stream",
     "text": [
      "/Users/marcusdaly/Documents/Grad/Y1S1/MLWithProbProg/Probabilistic-Programming/model/post_model.py:103: TracerWarning: Converting a tensor to a Python boolean might cause the trace to be incorrect. We can't record the data flow of Python values, so this value will be treated as a constant in the future. This means that the trace might not generalize to other inputs!\n",
      "  if zero_inflated[0]:\n",
      "/Users/marcusdaly/Documents/Grad/Y1S1/MLWithProbProg/Probabilistic-Programming/model/post_model.py:30: TracerWarning: Converting a tensor to a Python boolean might cause the trace to be incorrect. We can't record the data flow of Python values, so this value will be treated as a constant in the future. This means that the trace might not generalize to other inputs!\n",
      "  if zero_inflated[0]:\n",
      "/Users/marcusdaly/Documents/Grad/Y1S1/MLWithProbProg/Probabilistic-Programming/model/post_model.py:58: TracerWarning: Converting a tensor to a Python boolean might cause the trace to be incorrect. We can't record the data flow of Python values, so this value will be treated as a constant in the future. This means that the trace might not generalize to other inputs!\n",
      "  if zero_inflated[0]:\n"
     ]
    },
    {
     "name": "stdout",
     "output_type": "stream",
     "text": [
      "Iter 2000/2000\t||\tElbo loss:1.42e+05\t||\tTime Elapsed:02:25\t||\tEst Remaining:00:00\r"
     ]
    }
   ],
   "source": [
    "svi, losses = run_svi(model, guide, train_data, unsplit_data, subsample=False, num_iters=2000, lr=1e-2, zero_inflated=torch.Tensor([False]))"
   ]
  },
  {
   "cell_type": "code",
   "execution_count": 10,
   "metadata": {
    "execution": {
     "iopub.execute_input": "2020-11-26T05:26:32.282201Z",
     "iopub.status.busy": "2020-11-26T05:26:32.281880Z",
     "iopub.status.idle": "2020-11-26T05:26:32.639202Z",
     "shell.execute_reply": "2020-11-26T05:26:32.638618Z",
     "shell.execute_reply.started": "2020-11-26T05:26:32.282144Z"
    }
   },
   "outputs": [
    {
     "data": {
      "image/png": "[encoded data removed]",
      "text/plain": [
       "<Figure size 432x288 with 1 Axes>"
      ]
     },
     "metadata": {
      "needs_background": "light"
     },
     "output_type": "display_data"
    }
   ],
   "source": [
    "plot_losses(losses, log_scale = True, skip_first = 0)"
   ]
  },
  {
   "cell_type": "markdown",
   "metadata": {},
   "source": [
    "----"
   ]
  },
  {
   "cell_type": "markdown",
   "metadata": {},
   "source": [
    "# Evaluation"
   ]
  },
  {
   "cell_type": "markdown",
   "metadata": {},
   "source": [
    "Recall:"
   ]
  },
  {
   "cell_type": "markdown",
   "metadata": {},
   "source": [
    "Variables (in order):\n",
    "\n",
    "0. num_comments\n",
    "1. type\n",
    "2. num_comments in first _ mins\n",
    "3. num_subscribers at submission time"
   ]
  },
  {
   "cell_type": "markdown",
   "metadata": {},
   "source": [
    "types\n",
    "\n",
    "0. Real News\n",
    "1. Fake News\n",
    "2. Correction on Real News\n",
    "3. Correction on Fake News"
   ]
  },
  {
   "cell_type": "markdown",
   "metadata": {},
   "source": [
    "t level Variables (in order):\n",
    "\n",
    "0. Is Review? (vs. news)\n",
    "1. Is about fake story? (Not included yet)"
   ]
  },
  {
   "cell_type": "markdown",
   "metadata": {},
   "source": [
    "Check the fit"
   ]
  },
  {
   "cell_type": "markdown",
   "metadata": {
    "pycharm": {
     "name": "#%% md\n"
    }
   },
   "source": [
    "2 Regressions.\n",
    "\n",
    "Post-Level Regression\n",
    "\n",
    "y_pt = mu + phi_0,t * bias + phi_1,t * first_hour_comments + epsilon_pt\n",
    "\n",
    "Type-Level Regressions (2)\n",
    "\n",
    "phi_0t = eta_00 * bias + nu_0t\n",
    "\n",
    "phi_1t = eta_10 * bias + nu_1t"
   ]
  },
  {
   "cell_type": "code",
   "execution_count": 11,
   "metadata": {
    "execution": {
     "iopub.execute_input": "2020-11-26T05:26:32.640917Z",
     "iopub.status.busy": "2020-11-26T05:26:32.640747Z",
     "iopub.status.idle": "2020-11-26T05:26:32.643251Z",
     "shell.execute_reply": "2020-11-26T05:26:32.642700Z",
     "shell.execute_reply.started": "2020-11-26T05:26:32.640898Z"
    }
   },
   "outputs": [],
   "source": [
    "INDEP = 1"
   ]
  },
  {
   "cell_type": "code",
   "execution_count": 12,
   "metadata": {
    "execution": {
     "iopub.execute_input": "2020-11-26T05:26:32.644686Z",
     "iopub.status.busy": "2020-11-26T05:26:32.644528Z",
     "iopub.status.idle": "2020-11-26T05:26:33.362803Z",
     "shell.execute_reply": "2020-11-26T05:26:33.362213Z",
     "shell.execute_reply.started": "2020-11-26T05:26:32.644668Z"
    }
   },
   "outputs": [
    {
     "data": {
      "image/png": "[encoded data removed]",
      "text/plain": [
       "<Figure size 864x648 with 1 Axes>"
      ]
     },
     "metadata": {
      "needs_background": "light"
     },
     "output_type": "display_data"
    }
   ],
   "source": [
    "# Using all data (Jagged—other factors at play)\n",
    "y_pred = get_y_pred(p_data, t_data, s_data, r_data, p_types, p_stories, p_subreddits)\n",
    "\n",
    "plot_predictions(original_p_data, y, p_types, original_p_data, y_pred, p_types, indep=INDEP, log_scale=True)"
   ]
  },
  {
   "cell_type": "code",
   "execution_count": 13,
   "metadata": {
    "execution": {
     "iopub.execute_input": "2020-11-26T05:26:33.363755Z",
     "iopub.status.busy": "2020-11-26T05:26:33.363612Z",
     "iopub.status.idle": "2020-11-26T05:26:33.367701Z",
     "shell.execute_reply": "2020-11-26T05:26:33.367224Z",
     "shell.execute_reply.started": "2020-11-26T05:26:33.363736Z"
    }
   },
   "outputs": [
    {
     "data": {
      "text/plain": [
       "0.5741421054879885"
      ]
     },
     "execution_count": 13,
     "metadata": {},
     "output_type": "execute_result"
    }
   ],
   "source": [
    "R2(y, y_pred)"
   ]
  },
  {
   "cell_type": "code",
   "execution_count": 14,
   "metadata": {
    "execution": {
     "iopub.execute_input": "2020-11-26T05:26:33.368696Z",
     "iopub.status.busy": "2020-11-26T05:26:33.368554Z",
     "iopub.status.idle": "2020-11-26T05:26:33.372213Z",
     "shell.execute_reply": "2020-11-26T05:26:33.371670Z",
     "shell.execute_reply.started": "2020-11-26T05:26:33.368678Z"
    }
   },
   "outputs": [
    {
     "data": {
      "text/plain": [
       "12.410742350004622"
      ]
     },
     "execution_count": 14,
     "metadata": {},
     "output_type": "execute_result"
    }
   ],
   "source": [
    "MAE(y, y_pred)"
   ]
  },
  {
   "cell_type": "markdown",
   "metadata": {},
   "source": [
    "Interpretation:\n",
    "\n",
    "- For posts with no comments in the first hour, we expect 7.23 comments in total\n",
    "- For every comment in the first hour, we expect an additional 6.43 comments in total"
   ]
  },
  {
   "cell_type": "markdown",
   "metadata": {},
   "source": [
    "----"
   ]
  },
  {
   "cell_type": "markdown",
   "metadata": {},
   "source": [
    "## Residuals"
   ]
  },
  {
   "cell_type": "code",
   "execution_count": 15,
   "metadata": {
    "execution": {
     "iopub.execute_input": "2020-11-26T05:26:33.373098Z",
     "iopub.status.busy": "2020-11-26T05:26:33.372959Z",
     "iopub.status.idle": "2020-11-26T05:26:33.735199Z",
     "shell.execute_reply": "2020-11-26T05:26:33.734572Z",
     "shell.execute_reply.started": "2020-11-26T05:26:33.373080Z"
    }
   },
   "outputs": [
    {
     "data": {
      "image/png": "[encoded data removed]",
      "text/plain": [
       "<Figure size 432x288 with 1 Axes>"
      ]
     },
     "metadata": {
      "needs_background": "light"
     },
     "output_type": "display_data"
    }
   ],
   "source": [
    "plot_residuals(np.array(y), np.array(y_pred))"
   ]
  },
  {
   "cell_type": "code",
   "execution_count": 16,
   "metadata": {
    "execution": {
     "iopub.execute_input": "2020-11-26T05:26:33.737614Z",
     "iopub.status.busy": "2020-11-26T05:26:33.737444Z",
     "iopub.status.idle": "2020-11-26T05:26:33.741405Z",
     "shell.execute_reply": "2020-11-26T05:26:33.740952Z",
     "shell.execute_reply.started": "2020-11-26T05:26:33.737595Z"
    }
   },
   "outputs": [
    {
     "data": {
      "text/plain": [
       "(array([0., 1., 2., 3.]), array([  955,  3741,  4190, 12748]))"
      ]
     },
     "execution_count": 16,
     "metadata": {},
     "output_type": "execute_result"
    }
   ],
   "source": [
    "np.unique(p_types, return_counts=True)"
   ]
  },
  {
   "cell_type": "markdown",
   "metadata": {},
   "source": [
    "----"
   ]
  },
  {
   "cell_type": "markdown",
   "metadata": {},
   "source": [
    "Generate posterior predictive samples"
   ]
  },
  {
   "cell_type": "code",
   "execution_count": 17,
   "metadata": {
    "execution": {
     "iopub.execute_input": "2020-11-26T05:28:07.484567Z",
     "iopub.status.busy": "2020-11-26T05:28:07.484368Z",
     "iopub.status.idle": "2020-11-26T05:28:09.971030Z",
     "shell.execute_reply": "2020-11-26T05:28:09.970398Z",
     "shell.execute_reply.started": "2020-11-26T05:28:07.484544Z"
    }
   },
   "outputs": [
    {
     "data": {
      "text/plain": [
       "tensor([[1.8236, 0.6814],\n",
       "        [1.8273, 0.6818],\n",
       "        [1.8312, 0.6823]], dtype=torch.float64, grad_fn=<AddBackward0>)"
      ]
     },
     "execution_count": 17,
     "metadata": {},
     "output_type": "execute_result"
    }
   ],
   "source": [
    "samples = get_samples(\n",
    "    model, \n",
    "    guide, \n",
    "    p_data_train, \n",
    "    t_data, \n",
    "    s_data, \n",
    "    r_data, \n",
    "    None, \n",
    "    p_types_train, \n",
    "    p_stories_train,\n",
    "    p_subreddits_train,\n",
    "    [False],\n",
    "    num_samples=1000,\n",
    "    detach=False\n",
    ")\n",
    "qs = get_quantiles(samples, 'gamma', (0.1, 0.5, 0.9))\n",
    "qs"
   ]
  },
  {
   "cell_type": "code",
   "execution_count": 18,
   "metadata": {},
   "outputs": [
    {
     "data": {
      "text/plain": [
       "tensor([[[21.,  2.,  3.,  ...,  4.,  8.,  6.],\n",
       "         [21.,  5.,  5.,  ...,  6.,  3.,  6.],\n",
       "         [22.,  3.,  6.,  ...,  7.,  5.,  2.],\n",
       "         ...,\n",
       "         [21.,  6.,  8.,  ...,  5.,  5.,  5.],\n",
       "         [17.,  4.,  5.,  ...,  5.,  5.,  3.],\n",
       "         [17.,  6.,  2.,  ...,  2.,  5.,  5.]]], dtype=torch.float64)"
      ]
     },
     "execution_count": 18,
     "metadata": {},
     "output_type": "execute_result"
    }
   ],
   "source": [
    "samples['obs']"
   ]
  },
  {
   "cell_type": "code",
   "execution_count": 19,
   "metadata": {},
   "outputs": [],
   "source": [
    "x_data = p_data_train[:,1].detach().numpy()\n",
    "y_data = samples['obs'].detach().numpy()[0,:,:]"
   ]
  },
  {
   "cell_type": "code",
   "execution_count": 24,
   "metadata": {},
   "outputs": [
    {
     "data": {
      "text/plain": [
       "(15143,)"
      ]
     },
     "execution_count": 24,
     "metadata": {},
     "output_type": "execute_result"
    }
   ],
   "source": [
    "x_data.shape"
   ]
  },
  {
   "cell_type": "code",
   "execution_count": 25,
   "metadata": {},
   "outputs": [
    {
     "data": {
      "text/plain": [
       "(1000, 15143)"
      ]
     },
     "execution_count": 25,
     "metadata": {},
     "output_type": "execute_result"
    }
   ],
   "source": [
    "y_data.shape"
   ]
  },
  {
   "cell_type": "code",
   "execution_count": 26,
   "metadata": {},
   "outputs": [],
   "source": [
    "sorted_indices = np.argsort(x_data)"
   ]
  },
  {
   "cell_type": "code",
   "execution_count": 27,
   "metadata": {},
   "outputs": [],
   "source": [
    "x_sorted = x_data[sorted_indices]\n",
    "y_sorted = y_data[:,sorted_indices]"
   ]
  },
  {
   "cell_type": "code",
   "execution_count": 28,
   "metadata": {},
   "outputs": [
    {
     "data": {
      "text/plain": [
       "(15143,)"
      ]
     },
     "execution_count": 28,
     "metadata": {},
     "output_type": "execute_result"
    }
   ],
   "source": [
    "x_data.shape"
   ]
  },
  {
   "cell_type": "code",
   "execution_count": 29,
   "metadata": {},
   "outputs": [
    {
     "data": {
      "text/plain": [
       "(1000, 15143)"
      ]
     },
     "execution_count": 29,
     "metadata": {},
     "output_type": "execute_result"
    }
   ],
   "source": [
    "y_data.shape"
   ]
  },
  {
   "cell_type": "code",
   "execution_count": 42,
   "metadata": {},
   "outputs": [
    {
     "name": "stderr",
     "output_type": "stream",
     "text": [
      "/Users/marcusdaly/Documents/Grad/Y1S1/MLWithProbProg/Probabilistic-Programming/venv/lib/python3.8/site-packages/arviz/stats/stats.py:484: FutureWarning: hdi currently interprets 2d data as (draw, shape) but this will change in a future release to (chain, draw) for coherence with other functions\n",
      "  warnings.warn(\n"
     ]
    },
    {
     "data": {
      "image/png": "[encoded data removed]",
      "text/plain": [
       "<Figure size 432x288 with 1 Axes>"
      ]
     },
     "metadata": {
      "needs_background": "light"
     },
     "output_type": "display_data"
    }
   ],
   "source": [
    "az.plot_hdi(x_sorted, y_sorted, color=\"k\", plot_kwargs={\"ls\": \"--\", \"label\": \"HDI\"}, hdi_prob=0.99)\n",
    "plt.yscale(\"log\")\n",
    "plt.plot(x_sorted, np.mean(y_sorted, axis=0), \"C6\", label=\"Mean Pred\")\n",
    "# plt.xlim(8, 10)\n",
    "plt.scatter(p_data_train[:,1], y_train, s=12, alpha=0.1, label=\"Observed\")\n",
    "plt.title(\"HDI Posterior Predictive Plot\")\n",
    "plt.xlabel(\"log num comments 1st hour\")\n",
    "plt.ylabel(\"num total comments\")\n",
    "plt.legend()\n",
    "plt.show()"
   ]
  },
  {
   "cell_type": "code",
   "execution_count": null,
   "metadata": {},
   "outputs": [],
   "source": [
    "samples['gamma'].shape"
   ]
  },
  {
   "cell_type": "code",
   "execution_count": null,
   "metadata": {
    "execution": {
     "iopub.execute_input": "2020-11-26T05:26:37.500624Z",
     "iopub.status.busy": "2020-11-26T05:26:37.500401Z",
     "iopub.status.idle": "2020-11-26T05:26:39.988345Z",
     "shell.execute_reply": "2020-11-26T05:26:39.987669Z",
     "shell.execute_reply.started": "2020-11-26T05:26:37.500601Z"
    }
   },
   "outputs": [],
   "source": [
    "svi_samples = get_samples(\n",
    "    model, \n",
    "    guide, \n",
    "    p_data_train, \n",
    "    t_data, \n",
    "    s_data, \n",
    "    r_data, \n",
    "    None, \n",
    "    p_types_train, \n",
    "    p_stories_train,\n",
    "    p_subreddits_train,\n",
    "    [False],\n",
    "    num_samples=1000,\n",
    "    detach=True\n",
    ")"
   ]
  },
  {
   "cell_type": "code",
   "execution_count": null,
   "metadata": {
    "execution": {
     "iopub.execute_input": "2020-11-26T02:07:32.763495Z",
     "iopub.status.busy": "2020-11-26T02:07:32.763141Z",
     "iopub.status.idle": "2020-11-26T02:07:32.775967Z",
     "shell.execute_reply": "2020-11-26T02:07:32.775341Z",
     "shell.execute_reply.started": "2020-11-26T02:07:32.763468Z"
    }
   },
   "outputs": [],
   "source": [
    "inf_data = gather_az_inference_data(svi_samples, y_train)"
   ]
  },
  {
   "cell_type": "code",
   "execution_count": null,
   "metadata": {},
   "outputs": [],
   "source": [
    "hdi_out = az.hdi(svi_samples)"
   ]
  },
  {
   "cell_type": "code",
   "execution_count": null,
   "metadata": {},
   "outputs": [],
   "source": [
    "hdi_out[\"hdi\"]"
   ]
  },
  {
   "cell_type": "code",
   "execution_count": null,
   "metadata": {},
   "outputs": [],
   "source": [
    "az.plot_hdi(svi_samples[\"gamma\"][0,:,1], hdi_data = hdi_out[\"hdi\"])"
   ]
  },
  {
   "cell_type": "markdown",
   "metadata": {},
   "source": [
    "---"
   ]
  },
  {
   "cell_type": "markdown",
   "metadata": {},
   "source": [
    "Posterior predictive checks"
   ]
  },
  {
   "cell_type": "code",
   "execution_count": null,
   "metadata": {
    "execution": {
     "iopub.execute_input": "2020-11-26T02:07:35.297957Z",
     "iopub.status.busy": "2020-11-26T02:07:35.297819Z",
     "iopub.status.idle": "2020-11-26T02:07:36.054860Z",
     "shell.execute_reply": "2020-11-26T02:07:36.054211Z",
     "shell.execute_reply.started": "2020-11-26T02:07:35.297939Z"
    }
   },
   "outputs": [],
   "source": [
    "plot_pp_pdf(inf_data, y)"
   ]
  },
  {
   "cell_type": "code",
   "execution_count": null,
   "metadata": {
    "execution": {
     "iopub.execute_input": "2020-11-26T02:07:36.056033Z",
     "iopub.status.busy": "2020-11-26T02:07:36.055862Z",
     "iopub.status.idle": "2020-11-26T02:07:37.331830Z",
     "shell.execute_reply": "2020-11-26T02:07:37.330520Z",
     "shell.execute_reply.started": "2020-11-26T02:07:36.056013Z"
    }
   },
   "outputs": [],
   "source": [
    "plot_pp_cdf(inf_data, y)"
   ]
  },
  {
   "cell_type": "markdown",
   "metadata": {},
   "source": [
    "- Max value"
   ]
  },
  {
   "cell_type": "code",
   "execution_count": null,
   "metadata": {
    "execution": {
     "iopub.execute_input": "2020-11-26T02:07:37.337871Z",
     "iopub.status.busy": "2020-11-26T02:07:37.337657Z",
     "iopub.status.idle": "2020-11-26T02:07:37.488394Z",
     "shell.execute_reply": "2020-11-26T02:07:37.487845Z",
     "shell.execute_reply.started": "2020-11-26T02:07:37.337830Z"
    }
   },
   "outputs": [],
   "source": [
    "plot_ppc(svi_samples, y_train, lambda x: np.max(x, axis=0), \"Max\", log_stats = True)"
   ]
  },
  {
   "cell_type": "code",
   "execution_count": null,
   "metadata": {
    "execution": {
     "iopub.execute_input": "2020-11-26T02:07:37.490386Z",
     "iopub.status.busy": "2020-11-26T02:07:37.490193Z",
     "iopub.status.idle": "2020-11-26T02:07:37.649780Z",
     "shell.execute_reply": "2020-11-26T02:07:37.649077Z",
     "shell.execute_reply.started": "2020-11-26T02:07:37.490335Z"
    }
   },
   "outputs": [],
   "source": [
    "plot_ppc(svi_samples, y_train, lambda x: np.mean(x, axis=0), \"Mean\", log_stats = True)"
   ]
  },
  {
   "cell_type": "code",
   "execution_count": null,
   "metadata": {
    "execution": {
     "iopub.execute_input": "2020-11-26T02:07:37.650976Z",
     "iopub.status.busy": "2020-11-26T02:07:37.650816Z",
     "iopub.status.idle": "2020-11-26T02:07:37.801608Z",
     "shell.execute_reply": "2020-11-26T02:07:37.800660Z",
     "shell.execute_reply.started": "2020-11-26T02:07:37.650958Z"
    }
   },
   "outputs": [],
   "source": [
    "plot_ppc(svi_samples, y_train, lambda x: np.var(x, axis=0), \"Variance\", log_stats = True)"
   ]
  },
  {
   "cell_type": "code",
   "execution_count": null,
   "metadata": {
    "execution": {
     "iopub.execute_input": "2020-11-26T02:07:37.803223Z",
     "iopub.status.busy": "2020-11-26T02:07:37.802705Z",
     "iopub.status.idle": "2020-11-26T02:07:37.973583Z",
     "shell.execute_reply": "2020-11-26T02:07:37.972715Z",
     "shell.execute_reply.started": "2020-11-26T02:07:37.803173Z"
    }
   },
   "outputs": [],
   "source": [
    "plot_ppc(svi_samples, y_train, lambda x: np.percentile(x, 90, axis=0), \"90th %-ile (num obs)\", log_stats = False)"
   ]
  },
  {
   "cell_type": "code",
   "execution_count": null,
   "metadata": {
    "execution": {
     "iopub.execute_input": "2020-11-26T02:07:37.974915Z",
     "iopub.status.busy": "2020-11-26T02:07:37.974682Z",
     "iopub.status.idle": "2020-11-26T02:07:38.145230Z",
     "shell.execute_reply": "2020-11-26T02:07:38.144450Z",
     "shell.execute_reply.started": "2020-11-26T02:07:37.974898Z"
    }
   },
   "outputs": [],
   "source": [
    "plot_ppc(svi_samples, y_train, lambda x: np.percentile(x, 99, axis=0), \"99th %-ile (num obs)\", log_stats = False)"
   ]
  },
  {
   "cell_type": "code",
   "execution_count": null,
   "metadata": {
    "execution": {
     "iopub.execute_input": "2020-11-26T02:07:38.147023Z",
     "iopub.status.busy": "2020-11-26T02:07:38.146883Z",
     "iopub.status.idle": "2020-11-26T02:07:38.307206Z",
     "shell.execute_reply": "2020-11-26T02:07:38.306572Z",
     "shell.execute_reply.started": "2020-11-26T02:07:38.147007Z"
    }
   },
   "outputs": [],
   "source": [
    "plot_ppc(svi_samples, y_train, lambda x: (x==0).mean(axis=0), \"% = 0\", log_stats = False)"
   ]
  },
  {
   "cell_type": "code",
   "execution_count": null,
   "metadata": {
    "execution": {
     "iopub.execute_input": "2020-11-26T02:07:38.308728Z",
     "iopub.status.busy": "2020-11-26T02:07:38.308385Z",
     "iopub.status.idle": "2020-11-26T02:07:38.468873Z",
     "shell.execute_reply": "2020-11-26T02:07:38.468185Z",
     "shell.execute_reply.started": "2020-11-26T02:07:38.308693Z"
    }
   },
   "outputs": [],
   "source": [
    "plot_ppc(svi_samples, y_train, lambda x: (x<10).mean(axis=0), \"% < 10\", log_stats = False)"
   ]
  },
  {
   "cell_type": "code",
   "execution_count": null,
   "metadata": {
    "execution": {
     "iopub.execute_input": "2020-11-26T02:07:38.470230Z",
     "iopub.status.busy": "2020-11-26T02:07:38.470096Z",
     "iopub.status.idle": "2020-11-26T02:07:38.617305Z",
     "shell.execute_reply": "2020-11-26T02:07:38.616761Z",
     "shell.execute_reply.started": "2020-11-26T02:07:38.470214Z"
    }
   },
   "outputs": [],
   "source": [
    "plot_ppc(svi_samples, y_train, lambda x: (x>1000).mean(axis=0), \"% > 1000\", log_stats = False)"
   ]
  },
  {
   "cell_type": "markdown",
   "metadata": {},
   "source": [
    "# Why Pareto?\n",
    "Our distribution of total comments follows a power law."
   ]
  },
  {
   "cell_type": "code",
   "execution_count": null,
   "metadata": {
    "execution": {
     "iopub.execute_input": "2020-11-26T02:07:38.618325Z",
     "iopub.status.busy": "2020-11-26T02:07:38.618072Z",
     "iopub.status.idle": "2020-11-26T02:07:38.991995Z",
     "shell.execute_reply": "2020-11-26T02:07:38.990846Z",
     "shell.execute_reply.started": "2020-11-26T02:07:38.618308Z"
    }
   },
   "outputs": [],
   "source": [
    "max_ct = np.max(y)\n",
    "unique, counts = np.unique(y + 1, return_counts=True)\n",
    "plt.scatter(unique, counts)\n",
    "plt.yscale(\"log\")\n",
    "plt.xscale(\"log\")\n",
    "\n",
    "plt.xlabel(\"total comments\")\n",
    "plt.ylabel(\"frequency\")\n",
    "plt.show()"
   ]
  },
  {
   "cell_type": "markdown",
   "metadata": {},
   "source": [
    "Fake news: expect relatively flatter (more with lots, fewer with few!)\n",
    "\n",
    "Reviews: expect steeper (fewer comments very common)"
   ]
  },
  {
   "cell_type": "markdown",
   "metadata": {},
   "source": [
    "Note that our first hour comments are also distributed similarly."
   ]
  },
  {
   "cell_type": "code",
   "execution_count": null,
   "metadata": {
    "execution": {
     "iopub.execute_input": "2020-11-26T02:07:38.993452Z",
     "iopub.status.busy": "2020-11-26T02:07:38.993305Z",
     "iopub.status.idle": "2020-11-26T02:07:39.325454Z",
     "shell.execute_reply": "2020-11-26T02:07:39.324468Z",
     "shell.execute_reply.started": "2020-11-26T02:07:38.993435Z"
    }
   },
   "outputs": [],
   "source": [
    "max_ct = np.max(p_data[:,1])\n",
    "unique, counts = np.unique(p_data[:,1] + 1, return_counts=True)\n",
    "plt.scatter(unique, counts)\n",
    "plt.yscale(\"log\")\n",
    "plt.xscale(\"log\")\n",
    "#plt.xlim(1, 10000)\n",
    "plt.xlabel(\"first hour comments\")\n",
    "plt.ylabel(\"frequency\")\n",
    "plt.show()"
   ]
  },
  {
   "cell_type": "code",
   "execution_count": null,
   "metadata": {
    "execution": {
     "iopub.execute_input": "2020-11-26T02:07:39.327142Z",
     "iopub.status.busy": "2020-11-26T02:07:39.326993Z",
     "iopub.status.idle": "2020-11-26T02:07:39.331258Z",
     "shell.execute_reply": "2020-11-26T02:07:39.330601Z",
     "shell.execute_reply.started": "2020-11-26T02:07:39.327125Z"
    }
   },
   "outputs": [],
   "source": [
    "p_data[:,1].shape"
   ]
  }
 ],
 "metadata": {
  "kernelspec": {
   "display_name": "Python 3",
   "language": "python",
   "name": "python3"
  },
  "language_info": {
   "codemirror_mode": {
    "name": "ipython",
    "version": 3
   },
   "file_extension": ".py",
   "mimetype": "text/x-python",
   "name": "python",
   "nbconvert_exporter": "python",
   "pygments_lexer": "ipython3",
   "version": "3.8.5"
  }
 },
 "nbformat": 4,
 "nbformat_minor": 4
}
