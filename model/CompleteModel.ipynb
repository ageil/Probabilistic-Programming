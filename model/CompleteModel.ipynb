{
 "cells": [
  {
   "cell_type": "code",
   "execution_count": 1,
   "metadata": {
    "execution": {
     "iopub.execute_input": "2020-11-26T03:17:28.867682Z",
     "iopub.status.busy": "2020-11-26T03:17:28.867456Z",
     "iopub.status.idle": "2020-11-26T03:17:30.615724Z",
     "shell.execute_reply": "2020-11-26T03:17:30.615171Z",
     "shell.execute_reply.started": "2020-11-26T03:17:28.867631Z"
    }
   },
   "outputs": [],
   "source": [
    "import json\n",
    "import numpy as np\n",
    "import pandas as pd\n",
    "import matplotlib.pyplot as plt\n",
    "import arviz as az\n",
    "from time import time\n",
    "\n",
    "import pyro\n",
    "import torch\n",
    "import pyro.optim as optim\n",
    "from pyro.infer import SVI, JitTrace_ELBO, Predictive\n",
    "from pyro.contrib.autoguide import AutoDiagonalNormal\n",
    "\n",
    "from data_proc import load_raw_data, processData, transform_data, split_and_prep_data\n",
    "from complete_model import complete_model, complete_guide\n",
    "from model_utils import get_y_pred, get_type_only_y_pred, get_s_means, get_r_means, get_t_means, get_mean_y_pred\n",
    "from inference import run_svi, plot_losses\n",
    "from evaluation import plot_predictions, get_samples, gather_az_inference_data, plot_pp_pdf, plot_pp_cdf, plot_ppc, plot_residuals\n",
    "\n",
    "\n",
    "pyro.enable_validation(True)"
   ]
  },
  {
   "cell_type": "markdown",
   "metadata": {},
   "source": [
    "# Complete Level Model\n",
    "Here, we will model each post as coming from one of four types, one subreddit, and being about one story."
   ]
  },
  {
   "cell_type": "markdown",
   "metadata": {},
   "source": [
    "# Data"
   ]
  },
  {
   "cell_type": "markdown",
   "metadata": {},
   "source": [
    "First, we load the Reddit datasets"
   ]
  },
  {
   "cell_type": "code",
   "execution_count": 2,
   "metadata": {
    "execution": {
     "iopub.execute_input": "2020-11-26T03:17:30.617333Z",
     "iopub.status.busy": "2020-11-26T03:17:30.617176Z",
     "iopub.status.idle": "2020-11-26T03:17:32.020807Z",
     "shell.execute_reply": "2020-11-26T03:17:32.020156Z",
     "shell.execute_reply.started": "2020-11-26T03:17:30.617314Z"
    }
   },
   "outputs": [],
   "source": [
    "comments, corrections, news = load_raw_data()"
   ]
  },
  {
   "cell_type": "markdown",
   "metadata": {},
   "source": [
    "### Process and Unpack Data"
   ]
  },
  {
   "cell_type": "code",
   "execution_count": 3,
   "metadata": {
    "execution": {
     "iopub.execute_input": "2020-11-26T03:17:32.023204Z",
     "iopub.status.busy": "2020-11-26T03:17:32.022962Z",
     "iopub.status.idle": "2020-11-26T03:17:32.026284Z",
     "shell.execute_reply": "2020-11-26T03:17:32.025618Z",
     "shell.execute_reply.started": "2020-11-26T03:17:32.023172Z"
    }
   },
   "outputs": [],
   "source": [
    "COMMENTS_ONLY = True"
   ]
  },
  {
   "cell_type": "code",
   "execution_count": 4,
   "metadata": {
    "execution": {
     "iopub.execute_input": "2020-11-26T03:17:32.028312Z",
     "iopub.status.busy": "2020-11-26T03:17:32.028035Z",
     "iopub.status.idle": "2020-11-26T03:17:32.570546Z",
     "shell.execute_reply": "2020-11-26T03:17:32.569878Z",
     "shell.execute_reply.started": "2020-11-26T03:17:32.028289Z"
    }
   },
   "outputs": [],
   "source": [
    "data_tuple, lookup_tuple, label_tuple = processData(news + corrections, comments, comments_only=COMMENTS_ONLY, minutes=60)"
   ]
  },
  {
   "cell_type": "code",
   "execution_count": 5,
   "metadata": {
    "execution": {
     "iopub.execute_input": "2020-11-26T03:17:32.571951Z",
     "iopub.status.busy": "2020-11-26T03:17:32.571745Z",
     "iopub.status.idle": "2020-11-26T03:17:32.576026Z",
     "shell.execute_reply": "2020-11-26T03:17:32.575173Z",
     "shell.execute_reply.started": "2020-11-26T03:17:32.571927Z"
    }
   },
   "outputs": [],
   "source": [
    "original_p_data, t_data, s_data, r_data, y = data_tuple\n",
    "p_types, p_stories, p_subreddits = lookup_tuple\n",
    "countries, authors, story_claim_titles, subreddits = label_tuple"
   ]
  },
  {
   "cell_type": "markdown",
   "metadata": {},
   "source": [
    "p_data variables (in order):\n",
    "\n",
    "0. bias\n",
    "1. num_comments in first _ mins\n",
    "2. num_subscribers at time of submission"
   ]
  },
  {
   "cell_type": "markdown",
   "metadata": {},
   "source": [
    "types\n",
    "\n",
    "0. Real News\n",
    "1. Fake News\n",
    "2. Correction on Real News\n",
    "3. Correction on Fake News"
   ]
  },
  {
   "cell_type": "markdown",
   "metadata": {},
   "source": [
    "t_data variables (in order):\n",
    "\n",
    "0. bias\n",
    "1. Real News Dummy\n",
    "2. Fake News Dummy\n",
    "3. Correction on Real News Dummy\n",
    "4. Correction on Fake News Dummy"
   ]
  },
  {
   "cell_type": "markdown",
   "metadata": {},
   "source": [
    "s_data variables:\n",
    "\n",
    "0. bias\n",
    "1. country dummies (multiple may be \"on\")\n",
    "2. author dummies"
   ]
  },
  {
   "cell_type": "markdown",
   "metadata": {},
   "source": [
    "r_data variables:\n",
    "\n",
    "0. bias\n",
    "1. subreddit dummies"
   ]
  },
  {
   "cell_type": "markdown",
   "metadata": {},
   "source": [
    "### Data Transformations"
   ]
  },
  {
   "cell_type": "code",
   "execution_count": 6,
   "metadata": {
    "execution": {
     "iopub.execute_input": "2020-11-26T03:17:32.577567Z",
     "iopub.status.busy": "2020-11-26T03:17:32.577156Z",
     "iopub.status.idle": "2020-11-26T03:17:32.582226Z",
     "shell.execute_reply": "2020-11-26T03:17:32.581542Z",
     "shell.execute_reply.started": "2020-11-26T03:17:32.577536Z"
    }
   },
   "outputs": [],
   "source": [
    "# before we change anything, save the original p_data\n",
    "p_data = transform_data(original_p_data)"
   ]
  },
  {
   "cell_type": "code",
   "execution_count": 7,
   "metadata": {
    "execution": {
     "iopub.execute_input": "2020-11-26T03:17:32.583578Z",
     "iopub.status.busy": "2020-11-26T03:17:32.583256Z",
     "iopub.status.idle": "2020-11-26T03:17:32.616161Z",
     "shell.execute_reply": "2020-11-26T03:17:32.615456Z",
     "shell.execute_reply.started": "2020-11-26T03:17:32.583547Z"
    }
   },
   "outputs": [],
   "source": [
    "# Split into Test and Train datasets\n",
    "train_data, test_data, unsplit_data = split_and_prep_data(p_data, t_data, s_data, r_data, y, p_types, p_stories, p_subreddits, train_frac=0.7)\n",
    "p_data_train, y_train, p_types_train, p_stories_train, p_subreddits_train = train_data\n",
    "p_data_test, y_test, p_types_test, p_stories_test, p_subreddits_test = test_data\n",
    "t_data, s_data, r_data = unsplit_data"
   ]
  },
  {
   "cell_type": "markdown",
   "metadata": {},
   "source": [
    "-----"
   ]
  },
  {
   "cell_type": "markdown",
   "metadata": {},
   "source": [
    "# Modeling"
   ]
  },
  {
   "cell_type": "markdown",
   "metadata": {
    "pycharm": {
     "name": "#%% md\n"
    }
   },
   "source": [
    "2 Regressions.\n",
    "\n",
    "Post-Level Regression\n",
    "\n",
    "y_pt = phi_0,t * bias + phi_1,t * first_hour_comments + epsilon_pt\n",
    "\n",
    "Type-Level Regressions (2)\n",
    "\n",
    "phi_0t = eta_00 * bias + eta_01 silliness_t + nu_0t\n",
    "\n",
    "phi_1t = eta_10 * bias + eta_11 silliness_t + nu_1t"
   ]
  },
  {
   "cell_type": "code",
   "execution_count": 8,
   "metadata": {
    "execution": {
     "iopub.execute_input": "2020-11-26T03:17:32.617531Z",
     "iopub.status.busy": "2020-11-26T03:17:32.617320Z",
     "iopub.status.idle": "2020-11-26T03:17:32.620598Z",
     "shell.execute_reply": "2020-11-26T03:17:32.619686Z",
     "shell.execute_reply.started": "2020-11-26T03:17:32.617505Z"
    }
   },
   "outputs": [],
   "source": [
    "model = complete_model\n",
    "guide = complete_guide"
   ]
  },
  {
   "cell_type": "markdown",
   "metadata": {},
   "source": [
    "# Inference"
   ]
  },
  {
   "cell_type": "markdown",
   "metadata": {},
   "source": [
    "## SVI"
   ]
  },
  {
   "cell_type": "code",
   "execution_count": null,
   "metadata": {
    "execution": {
     "iopub.execute_input": "2020-11-26T03:17:32.625084Z",
     "iopub.status.busy": "2020-11-26T03:17:32.624814Z",
     "iopub.status.idle": "2020-11-26T03:20:55.910189Z",
     "shell.execute_reply": "2020-11-26T03:20:55.909388Z",
     "shell.execute_reply.started": "2020-11-26T03:17:32.625056Z"
    }
   },
   "outputs": [
    {
     "name": "stderr",
     "output_type": "stream",
     "text": [
      "/Users/marcusdaly/Documents/Grad/Y1S1/MLWithProbProg/Probabilistic-Programming/model/complete_model.py:250: TracerWarning: Converting a tensor to a Python boolean might cause the trace to be incorrect. We can't record the data flow of Python values, so this value will be treated as a constant in the future. This means that the trace might not generalize to other inputs!\n",
      "  if zero_inflated[0]:\n",
      "/Users/marcusdaly/Documents/Grad/Y1S1/MLWithProbProg/Probabilistic-Programming/model/complete_model.py:82: TracerWarning: Converting a tensor to a Python boolean might cause the trace to be incorrect. We can't record the data flow of Python values, so this value will be treated as a constant in the future. This means that the trace might not generalize to other inputs!\n",
      "  if zero_inflated[0]:\n",
      "/Users/marcusdaly/Documents/Grad/Y1S1/MLWithProbProg/Probabilistic-Programming/model/complete_model.py:126: TracerWarning: Converting a tensor to a Python boolean might cause the trace to be incorrect. We can't record the data flow of Python values, so this value will be treated as a constant in the future. This means that the trace might not generalize to other inputs!\n",
      "  if zero_inflated[0]:\n"
     ]
    },
    {
     "name": "stdout",
     "output_type": "stream",
     "text": [
      "Iter 700/1500\t||\tElbo loss:1.39e+05\t||\tTime Elapsed:02:19\t||\tEst Remaining:02:39\r"
     ]
    }
   ],
   "source": [
    "svi, losses = run_svi(model, guide, train_data, unsplit_data, subsample=False, num_iters=1500, lr=1e-2, zero_inflated=torch.Tensor([False]))"
   ]
  },
  {
   "cell_type": "code",
   "execution_count": null,
   "metadata": {
    "execution": {
     "iopub.execute_input": "2020-11-26T03:20:55.913464Z",
     "iopub.status.busy": "2020-11-26T03:20:55.913210Z",
     "iopub.status.idle": "2020-11-26T03:20:56.317637Z",
     "shell.execute_reply": "2020-11-26T03:20:56.317014Z",
     "shell.execute_reply.started": "2020-11-26T03:20:55.913437Z"
    }
   },
   "outputs": [],
   "source": [
    "plot_losses(losses, log_scale = True, skip_first = 0)"
   ]
  },
  {
   "cell_type": "markdown",
   "metadata": {},
   "source": [
    "----"
   ]
  },
  {
   "cell_type": "markdown",
   "metadata": {},
   "source": [
    "# Evaluation"
   ]
  },
  {
   "cell_type": "markdown",
   "metadata": {},
   "source": [
    "Recall:"
   ]
  },
  {
   "cell_type": "markdown",
   "metadata": {},
   "source": [
    "Variables (in order):\n",
    "\n",
    "0. num_comments\n",
    "1. type\n",
    "2. num_comments in first _ mins\n",
    "3. num_subscribers at submission time"
   ]
  },
  {
   "cell_type": "markdown",
   "metadata": {},
   "source": [
    "types\n",
    "\n",
    "0. Real News\n",
    "1. Fake News\n",
    "2. Correction on Real News\n",
    "3. Correction on Fake News"
   ]
  },
  {
   "cell_type": "markdown",
   "metadata": {},
   "source": [
    "t level Variables (in order):\n",
    "\n",
    "0. Is Review? (vs. news)\n",
    "1. Is about fake story? (Not included yet)"
   ]
  },
  {
   "cell_type": "markdown",
   "metadata": {},
   "source": [
    "Check the fit"
   ]
  },
  {
   "cell_type": "markdown",
   "metadata": {
    "pycharm": {
     "name": "#%% md\n"
    }
   },
   "source": [
    "2 Regressions.\n",
    "\n",
    "Post-Level Regression\n",
    "\n",
    "y_pt = mu + phi_0,t * bias + phi_1,t * first_hour_comments + epsilon_pt\n",
    "\n",
    "Type-Level Regressions (2)\n",
    "\n",
    "phi_0t = eta_00 * bias + nu_0t\n",
    "\n",
    "phi_1t = eta_10 * bias + nu_1t"
   ]
  },
  {
   "cell_type": "code",
   "execution_count": null,
   "metadata": {
    "execution": {
     "iopub.execute_input": "2020-11-26T03:20:56.318803Z",
     "iopub.status.busy": "2020-11-26T03:20:56.318622Z",
     "iopub.status.idle": "2020-11-26T03:20:56.321286Z",
     "shell.execute_reply": "2020-11-26T03:20:56.320607Z",
     "shell.execute_reply.started": "2020-11-26T03:20:56.318783Z"
    }
   },
   "outputs": [],
   "source": [
    "INDEP = 1"
   ]
  },
  {
   "cell_type": "code",
   "execution_count": null,
   "metadata": {
    "execution": {
     "iopub.execute_input": "2020-11-26T03:20:56.322305Z",
     "iopub.status.busy": "2020-11-26T03:20:56.322084Z",
     "iopub.status.idle": "2020-11-26T03:20:56.332951Z",
     "shell.execute_reply": "2020-11-26T03:20:56.332220Z",
     "shell.execute_reply.started": "2020-11-26T03:20:56.322286Z"
    }
   },
   "outputs": [],
   "source": [
    "# get the means to be able to plot smoothly with just type data\n",
    "# and for better interpretation\n",
    "t_means = get_t_means(torch.Tensor(p_types).long(), t_data)\n",
    "s_means = get_s_means(torch.Tensor(p_stories).long(), s_data)\n",
    "r_means = get_r_means(torch.Tensor(p_subreddits).long(), r_data)"
   ]
  },
  {
   "cell_type": "code",
   "execution_count": null,
   "metadata": {
    "execution": {
     "iopub.execute_input": "2020-11-26T03:20:56.334386Z",
     "iopub.status.busy": "2020-11-26T03:20:56.334026Z",
     "iopub.status.idle": "2020-11-26T03:20:58.480381Z",
     "shell.execute_reply": "2020-11-26T03:20:58.479961Z",
     "shell.execute_reply.started": "2020-11-26T03:20:56.334357Z"
    }
   },
   "outputs": [],
   "source": [
    "# Only using types (Smooth)\n",
    "if COMMENTS_ONLY:\n",
    "    y_pred_type_only = get_type_only_y_pred(p_data, t_data, p_types, s_means, r_means)\n",
    "    for i in range(4):\n",
    "        # actual predictions, using just type data\n",
    "        plot_predictions(original_p_data, y, p_types, original_p_data, y_pred_type_only, p_types, indep=INDEP, only_type=i, log_scale=True, alpha=0.1)"
   ]
  },
  {
   "cell_type": "code",
   "execution_count": null,
   "metadata": {
    "execution": {
     "iopub.execute_input": "2020-11-26T03:21:00.870512Z",
     "iopub.status.busy": "2020-11-26T03:21:00.870070Z",
     "iopub.status.idle": "2020-11-26T03:21:01.537641Z",
     "shell.execute_reply": "2020-11-26T03:21:01.537119Z",
     "shell.execute_reply.started": "2020-11-26T03:21:00.870454Z"
    }
   },
   "outputs": [],
   "source": [
    "y_pred_mean = get_mean_y_pred(p_data, t_means, s_means, r_means)\n",
    "plot_predictions(original_p_data, y, p_types, original_p_data, y_pred_mean, p_types, indep=INDEP, log_scale=True)"
   ]
  },
  {
   "cell_type": "code",
   "execution_count": null,
   "metadata": {
    "execution": {
     "iopub.execute_input": "2020-11-26T03:20:58.482392Z",
     "iopub.status.busy": "2020-11-26T03:20:58.482054Z",
     "iopub.status.idle": "2020-11-26T03:21:00.868493Z",
     "shell.execute_reply": "2020-11-26T03:21:00.868061Z",
     "shell.execute_reply.started": "2020-11-26T03:20:58.482369Z"
    }
   },
   "outputs": [],
   "source": [
    "# Using all data (Jagged—other factors at play)\n",
    "y_pred = get_y_pred(p_data, t_data, s_data, r_data, p_types, p_stories, p_subreddits)\n",
    "\n",
    "for i in range(4):\n",
    "    plot_predictions(original_p_data, y, p_types, original_p_data, y_pred, p_types, indep=INDEP, only_type=i, log_scale=True)"
   ]
  },
  {
   "cell_type": "code",
   "execution_count": null,
   "metadata": {
    "execution": {
     "iopub.execute_input": "2020-11-26T03:21:01.539672Z",
     "iopub.status.busy": "2020-11-26T03:21:01.539141Z",
     "iopub.status.idle": "2020-11-26T03:21:01.543248Z",
     "shell.execute_reply": "2020-11-26T03:21:01.542671Z",
     "shell.execute_reply.started": "2020-11-26T03:21:01.539631Z"
    }
   },
   "outputs": [],
   "source": [
    "def R2(y, y_hat):\n",
    "    y = np.array(y)\n",
    "    y_hat = np.array(y_hat)\n",
    "    SSE = np.sum((y - y_hat)**2)\n",
    "    TSS = np.sum((y - np.mean(y))**2)\n",
    "    R2 = 1 - SSE/TSS\n",
    "    return R2"
   ]
  },
  {
   "cell_type": "code",
   "execution_count": null,
   "metadata": {
    "execution": {
     "iopub.execute_input": "2020-11-26T03:21:01.544325Z",
     "iopub.status.busy": "2020-11-26T03:21:01.544163Z",
     "iopub.status.idle": "2020-11-26T03:21:01.547816Z",
     "shell.execute_reply": "2020-11-26T03:21:01.547359Z",
     "shell.execute_reply.started": "2020-11-26T03:21:01.544307Z"
    }
   },
   "outputs": [],
   "source": [
    "R2(y, y_pred)"
   ]
  },
  {
   "cell_type": "markdown",
   "metadata": {},
   "source": [
    "Interpretation:\n",
    "\n",
    "- For posts with no comments in the first hour, we expect 7.23 comments in total\n",
    "- For every comment in the first hour, we expect an additional 6.43 comments in total"
   ]
  },
  {
   "cell_type": "markdown",
   "metadata": {},
   "source": [
    "----"
   ]
  },
  {
   "cell_type": "markdown",
   "metadata": {},
   "source": [
    "## Residuals"
   ]
  },
  {
   "cell_type": "code",
   "execution_count": null,
   "metadata": {
    "execution": {
     "iopub.execute_input": "2020-11-26T03:21:01.548746Z",
     "iopub.status.busy": "2020-11-26T03:21:01.548601Z",
     "iopub.status.idle": "2020-11-26T03:21:01.873543Z",
     "shell.execute_reply": "2020-11-26T03:21:01.873010Z",
     "shell.execute_reply.started": "2020-11-26T03:21:01.548728Z"
    }
   },
   "outputs": [],
   "source": [
    "plot_residuals(np.array(y), np.array(y_pred))"
   ]
  },
  {
   "cell_type": "code",
   "execution_count": null,
   "metadata": {
    "execution": {
     "iopub.execute_input": "2020-11-26T03:21:01.874634Z",
     "iopub.status.busy": "2020-11-26T03:21:01.874458Z",
     "iopub.status.idle": "2020-11-26T03:21:01.878629Z",
     "shell.execute_reply": "2020-11-26T03:21:01.878102Z",
     "shell.execute_reply.started": "2020-11-26T03:21:01.874614Z"
    }
   },
   "outputs": [],
   "source": [
    "np.unique(p_types, return_counts=True)"
   ]
  },
  {
   "cell_type": "markdown",
   "metadata": {},
   "source": [
    "----"
   ]
  },
  {
   "cell_type": "markdown",
   "metadata": {},
   "source": [
    "Generate posterior predictive samples"
   ]
  },
  {
   "cell_type": "code",
   "execution_count": null,
   "metadata": {
    "execution": {
     "iopub.execute_input": "2020-11-26T03:21:01.879766Z",
     "iopub.status.busy": "2020-11-26T03:21:01.879586Z",
     "iopub.status.idle": "2020-11-26T03:21:05.013656Z",
     "shell.execute_reply": "2020-11-26T03:21:05.012717Z",
     "shell.execute_reply.started": "2020-11-26T03:21:01.879743Z"
    }
   },
   "outputs": [],
   "source": [
    "svi_samples = get_samples(\n",
    "    model, \n",
    "    guide, \n",
    "    p_data_train, \n",
    "    t_data, \n",
    "    s_data, \n",
    "    r_data, \n",
    "    None, \n",
    "    p_types_train, \n",
    "    p_stories_train,\n",
    "    p_subreddits_train,\n",
    "    [False],\n",
    "    num_samples=100,\n",
    ")"
   ]
  },
  {
   "cell_type": "code",
   "execution_count": null,
   "metadata": {
    "execution": {
     "iopub.execute_input": "2020-11-26T03:21:05.015510Z",
     "iopub.status.busy": "2020-11-26T03:21:05.015231Z",
     "iopub.status.idle": "2020-11-26T03:21:05.027213Z",
     "shell.execute_reply": "2020-11-26T03:21:05.026557Z",
     "shell.execute_reply.started": "2020-11-26T03:21:05.015480Z"
    }
   },
   "outputs": [],
   "source": [
    "inf_data = gather_az_inference_data(svi_samples, y_train)"
   ]
  },
  {
   "cell_type": "markdown",
   "metadata": {},
   "source": [
    "---"
   ]
  },
  {
   "cell_type": "markdown",
   "metadata": {},
   "source": [
    "Posterior distribution over latent variables:"
   ]
  },
  {
   "cell_type": "code",
   "execution_count": null,
   "metadata": {
    "execution": {
     "iopub.execute_input": "2020-11-26T03:21:05.028339Z",
     "iopub.status.busy": "2020-11-26T03:21:05.028088Z",
     "iopub.status.idle": "2020-11-26T03:21:07.587432Z",
     "shell.execute_reply": "2020-11-26T03:21:07.586866Z",
     "shell.execute_reply.started": "2020-11-26T03:21:05.028316Z"
    }
   },
   "outputs": [],
   "source": [
    "az.plot_trace(inf_data.posterior['phi'], compact=False)\n",
    "plt.show()"
   ]
  },
  {
   "cell_type": "markdown",
   "metadata": {},
   "source": [
    "---"
   ]
  },
  {
   "cell_type": "markdown",
   "metadata": {},
   "source": [
    "Posterior predictive checks"
   ]
  },
  {
   "cell_type": "code",
   "execution_count": null,
   "metadata": {
    "execution": {
     "iopub.execute_input": "2020-11-26T03:21:07.588435Z",
     "iopub.status.busy": "2020-11-26T03:21:07.588300Z",
     "iopub.status.idle": "2020-11-26T03:21:08.537706Z",
     "shell.execute_reply": "2020-11-26T03:21:08.537175Z",
     "shell.execute_reply.started": "2020-11-26T03:21:07.588417Z"
    }
   },
   "outputs": [],
   "source": [
    "plot_pp_pdf(inf_data, y)"
   ]
  },
  {
   "cell_type": "code",
   "execution_count": null,
   "metadata": {
    "execution": {
     "iopub.execute_input": "2020-11-26T03:21:08.540154Z",
     "iopub.status.busy": "2020-11-26T03:21:08.539631Z",
     "iopub.status.idle": "2020-11-26T03:21:09.697681Z",
     "shell.execute_reply": "2020-11-26T03:21:09.697102Z",
     "shell.execute_reply.started": "2020-11-26T03:21:08.540130Z"
    }
   },
   "outputs": [],
   "source": [
    "plot_pp_cdf(inf_data, y)"
   ]
  },
  {
   "cell_type": "markdown",
   "metadata": {},
   "source": [
    "- Max value"
   ]
  },
  {
   "cell_type": "code",
   "execution_count": null,
   "metadata": {
    "execution": {
     "iopub.execute_input": "2020-11-26T03:21:09.698937Z",
     "iopub.status.busy": "2020-11-26T03:21:09.698605Z",
     "iopub.status.idle": "2020-11-26T03:21:09.864138Z",
     "shell.execute_reply": "2020-11-26T03:21:09.863336Z",
     "shell.execute_reply.started": "2020-11-26T03:21:09.698915Z"
    }
   },
   "outputs": [],
   "source": [
    "plot_ppc(svi_samples, y_train, lambda x: np.max(x, axis=0), \"Max\", log_stats = True)"
   ]
  },
  {
   "cell_type": "code",
   "execution_count": null,
   "metadata": {
    "execution": {
     "iopub.execute_input": "2020-11-26T03:21:09.865205Z",
     "iopub.status.busy": "2020-11-26T03:21:09.865014Z",
     "iopub.status.idle": "2020-11-26T03:21:10.047051Z",
     "shell.execute_reply": "2020-11-26T03:21:10.046438Z",
     "shell.execute_reply.started": "2020-11-26T03:21:09.865188Z"
    }
   },
   "outputs": [],
   "source": [
    "plot_ppc(svi_samples, y_train, lambda x: np.mean(x, axis=0), \"Mean\", log_stats = True)"
   ]
  },
  {
   "cell_type": "code",
   "execution_count": null,
   "metadata": {
    "execution": {
     "iopub.execute_input": "2020-11-26T03:21:10.052232Z",
     "iopub.status.busy": "2020-11-26T03:21:10.052029Z",
     "iopub.status.idle": "2020-11-26T03:21:10.215334Z",
     "shell.execute_reply": "2020-11-26T03:21:10.214484Z",
     "shell.execute_reply.started": "2020-11-26T03:21:10.052211Z"
    }
   },
   "outputs": [],
   "source": [
    "plot_ppc(svi_samples, y_train, lambda x: np.var(x, axis=0), \"Variance\", log_stats = True)"
   ]
  },
  {
   "cell_type": "code",
   "execution_count": null,
   "metadata": {
    "execution": {
     "iopub.execute_input": "2020-11-26T03:21:10.217729Z",
     "iopub.status.busy": "2020-11-26T03:21:10.217498Z",
     "iopub.status.idle": "2020-11-26T03:21:10.412091Z",
     "shell.execute_reply": "2020-11-26T03:21:10.411450Z",
     "shell.execute_reply.started": "2020-11-26T03:21:10.217672Z"
    }
   },
   "outputs": [],
   "source": [
    "plot_ppc(svi_samples, y_train, lambda x: np.percentile(x, 90, axis=0), \"90th %-ile (num obs)\", log_stats = False)"
   ]
  },
  {
   "cell_type": "code",
   "execution_count": null,
   "metadata": {
    "execution": {
     "iopub.execute_input": "2020-11-26T03:21:10.413225Z",
     "iopub.status.busy": "2020-11-26T03:21:10.413060Z",
     "iopub.status.idle": "2020-11-26T03:21:10.603319Z",
     "shell.execute_reply": "2020-11-26T03:21:10.602761Z",
     "shell.execute_reply.started": "2020-11-26T03:21:10.413206Z"
    }
   },
   "outputs": [],
   "source": [
    "plot_ppc(svi_samples, y_train, lambda x: np.percentile(x, 99, axis=0), \"99th %-ile (num obs)\", log_stats = False)"
   ]
  },
  {
   "cell_type": "code",
   "execution_count": null,
   "metadata": {
    "execution": {
     "iopub.execute_input": "2020-11-26T03:21:10.604781Z",
     "iopub.status.busy": "2020-11-26T03:21:10.604631Z",
     "iopub.status.idle": "2020-11-26T03:21:10.775618Z",
     "shell.execute_reply": "2020-11-26T03:21:10.774547Z",
     "shell.execute_reply.started": "2020-11-26T03:21:10.604764Z"
    }
   },
   "outputs": [],
   "source": [
    "plot_ppc(svi_samples, y_train, lambda x: (x==0).mean(axis=0), \"% = 0\", log_stats = False)"
   ]
  },
  {
   "cell_type": "code",
   "execution_count": null,
   "metadata": {
    "execution": {
     "iopub.execute_input": "2020-11-26T03:21:10.777671Z",
     "iopub.status.busy": "2020-11-26T03:21:10.777403Z",
     "iopub.status.idle": "2020-11-26T03:21:10.960523Z",
     "shell.execute_reply": "2020-11-26T03:21:10.959932Z",
     "shell.execute_reply.started": "2020-11-26T03:21:10.777604Z"
    }
   },
   "outputs": [],
   "source": [
    "plot_ppc(svi_samples, y_train, lambda x: (x<10).mean(axis=0), \"% < 10\", log_stats = False)"
   ]
  },
  {
   "cell_type": "code",
   "execution_count": null,
   "metadata": {
    "execution": {
     "iopub.execute_input": "2020-11-26T03:21:10.961446Z",
     "iopub.status.busy": "2020-11-26T03:21:10.961306Z",
     "iopub.status.idle": "2020-11-26T03:21:11.124663Z",
     "shell.execute_reply": "2020-11-26T03:21:11.123528Z",
     "shell.execute_reply.started": "2020-11-26T03:21:10.961428Z"
    }
   },
   "outputs": [],
   "source": [
    "plot_ppc(svi_samples, y_train, lambda x: (x>1000).mean(axis=0), \"% > 1000\", log_stats = False)"
   ]
  },
  {
   "cell_type": "markdown",
   "metadata": {},
   "source": [
    "# Why Pareto?\n",
    "Our distribution of total comments follows a power law."
   ]
  },
  {
   "cell_type": "code",
   "execution_count": null,
   "metadata": {
    "execution": {
     "iopub.execute_input": "2020-11-26T03:21:11.125797Z",
     "iopub.status.busy": "2020-11-26T03:21:11.125651Z",
     "iopub.status.idle": "2020-11-26T03:21:11.568700Z",
     "shell.execute_reply": "2020-11-26T03:21:11.567972Z",
     "shell.execute_reply.started": "2020-11-26T03:21:11.125780Z"
    }
   },
   "outputs": [],
   "source": [
    "max_ct = np.max(y)\n",
    "unique, counts = np.unique(y + 1, return_counts=True)\n",
    "plt.scatter(unique, counts)\n",
    "plt.yscale(\"log\")\n",
    "plt.xscale(\"log\")\n",
    "\n",
    "plt.xlabel(\"total comments\")\n",
    "plt.ylabel(\"frequency\")\n",
    "plt.show()"
   ]
  },
  {
   "cell_type": "markdown",
   "metadata": {},
   "source": [
    "Fake news: expect relatively flatter (more with lots, fewer with few!)\n",
    "\n",
    "Reviews: expect steeper (fewer comments very common)"
   ]
  },
  {
   "cell_type": "markdown",
   "metadata": {},
   "source": [
    "Note that our first hour comments are also distributed similarly."
   ]
  },
  {
   "cell_type": "code",
   "execution_count": null,
   "metadata": {
    "execution": {
     "iopub.execute_input": "2020-11-26T03:21:11.569744Z",
     "iopub.status.busy": "2020-11-26T03:21:11.569522Z",
     "iopub.status.idle": "2020-11-26T03:21:12.173942Z",
     "shell.execute_reply": "2020-11-26T03:21:12.173335Z",
     "shell.execute_reply.started": "2020-11-26T03:21:11.569724Z"
    }
   },
   "outputs": [],
   "source": [
    "max_ct = np.max(p_data[:,1])\n",
    "unique, counts = np.unique(p_data[:,1] + 1, return_counts=True)\n",
    "plt.scatter(unique, counts)\n",
    "plt.yscale(\"log\")\n",
    "plt.xscale(\"log\")\n",
    "#plt.xlim(1, 10000)\n",
    "plt.xlabel(\"first hour comments\")\n",
    "plt.ylabel(\"frequency\")\n",
    "plt.show()"
   ]
  },
  {
   "cell_type": "markdown",
   "metadata": {},
   "source": [
    "---"
   ]
  }
 ],
 "metadata": {
  "kernelspec": {
   "display_name": "Python 3",
   "language": "python",
   "name": "python3"
  },
  "language_info": {
   "codemirror_mode": {
    "name": "ipython",
    "version": 3
   },
   "file_extension": ".py",
   "mimetype": "text/x-python",
   "name": "python",
   "nbconvert_exporter": "python",
   "pygments_lexer": "ipython3",
   "version": "3.8.5"
  }
 },
 "nbformat": 4,
 "nbformat_minor": 4
}
