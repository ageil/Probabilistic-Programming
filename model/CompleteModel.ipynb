{
 "cells": [
  {
   "cell_type": "code",
   "execution_count": 1,
   "metadata": {
    "execution": {
     "iopub.execute_input": "2020-11-25T04:26:53.880264Z",
     "iopub.status.busy": "2020-11-25T04:26:53.879974Z",
     "iopub.status.idle": "2020-11-25T04:26:55.956295Z",
     "shell.execute_reply": "2020-11-25T04:26:55.955868Z",
     "shell.execute_reply.started": "2020-11-25T04:26:53.880194Z"
    }
   },
   "outputs": [],
   "source": [
    "import json\n",
    "import numpy as np\n",
    "import pandas as pd\n",
    "import matplotlib.pyplot as plt\n",
    "import arviz as az\n",
    "from time import time\n",
    "\n",
    "import pyro\n",
    "import torch\n",
    "import pyro.optim as optim\n",
    "from pyro.infer import SVI, JitTrace_ELBO, Predictive\n",
    "from pyro.contrib.autoguide import AutoDiagonalNormal\n",
    "\n",
    "from data_proc import load_raw_data, processData, transform_data, split_and_prep_data\n",
    "from complete_model import complete_model, complete_guide, get_y_pred, get_type_only_y_pred, get_s_means, get_r_means\n",
    "from inference import run_svi, plot_losses\n",
    "from evaluation import plot_predictions, get_samples, gather_az_inference_data, plot_pp_pdf, plot_pp_cdf, plot_ppc, plot_residuals\n",
    "\n",
    "\n",
    "pyro.enable_validation(True)"
   ]
  },
  {
   "cell_type": "markdown",
   "metadata": {},
   "source": [
    "# Complete Level Model\n",
    "Here, we will model each post as coming from one of four types, one subreddit, and being about one story."
   ]
  },
  {
   "cell_type": "markdown",
   "metadata": {},
   "source": [
    "# Data"
   ]
  },
  {
   "cell_type": "markdown",
   "metadata": {},
   "source": [
    "First, we load the Reddit datasets"
   ]
  },
  {
   "cell_type": "code",
   "execution_count": 2,
   "metadata": {
    "execution": {
     "iopub.execute_input": "2020-11-25T04:26:55.957408Z",
     "iopub.status.busy": "2020-11-25T04:26:55.957282Z",
     "iopub.status.idle": "2020-11-25T04:26:57.108103Z",
     "shell.execute_reply": "2020-11-25T04:26:57.107670Z",
     "shell.execute_reply.started": "2020-11-25T04:26:55.957391Z"
    }
   },
   "outputs": [],
   "source": [
    "comments, corrections, news = load_raw_data()"
   ]
  },
  {
   "cell_type": "markdown",
   "metadata": {},
   "source": [
    "### Process and Unpack Data"
   ]
  },
  {
   "cell_type": "code",
   "execution_count": 3,
   "metadata": {},
   "outputs": [],
   "source": [
    "COMMENTS_ONLY = True"
   ]
  },
  {
   "cell_type": "code",
   "execution_count": 4,
   "metadata": {
    "execution": {
     "iopub.execute_input": "2020-11-25T04:26:57.110351Z",
     "iopub.status.busy": "2020-11-25T04:26:57.110025Z",
     "iopub.status.idle": "2020-11-25T04:26:57.511978Z",
     "shell.execute_reply": "2020-11-25T04:26:57.511514Z",
     "shell.execute_reply.started": "2020-11-25T04:26:57.110284Z"
    }
   },
   "outputs": [],
   "source": [
    "data_tuple, lookup_tuple, label_tuple = processData(news + corrections, comments, comments_only=COMMENTS_ONLY, minutes=60)"
   ]
  },
  {
   "cell_type": "code",
   "execution_count": 5,
   "metadata": {
    "execution": {
     "iopub.execute_input": "2020-11-25T04:26:57.513387Z",
     "iopub.status.busy": "2020-11-25T04:26:57.513241Z",
     "iopub.status.idle": "2020-11-25T04:26:57.516340Z",
     "shell.execute_reply": "2020-11-25T04:26:57.515508Z",
     "shell.execute_reply.started": "2020-11-25T04:26:57.513370Z"
    }
   },
   "outputs": [],
   "source": [
    "original_p_data, t_data, s_data, r_data, y = data_tuple\n",
    "p_types, p_stories, p_subreddits = lookup_tuple\n",
    "countries, authors, story_claim_titles, subreddits = label_tuple"
   ]
  },
  {
   "cell_type": "markdown",
   "metadata": {},
   "source": [
    "p_data variables (in order):\n",
    "\n",
    "0. bias\n",
    "1. num_comments in first _ mins\n",
    "2. num_subscribers at time of submission"
   ]
  },
  {
   "cell_type": "markdown",
   "metadata": {},
   "source": [
    "types\n",
    "\n",
    "0. Real News\n",
    "1. Fake News\n",
    "2. Correction on Real News\n",
    "3. Correction on Fake News"
   ]
  },
  {
   "cell_type": "markdown",
   "metadata": {},
   "source": [
    "t_data variables (in order):\n",
    "\n",
    "0. bias\n",
    "1. Real News Dummy\n",
    "2. Fake News Dummy\n",
    "3. Correction on Real News Dummy\n",
    "4. Correction on Fake News Dummy"
   ]
  },
  {
   "cell_type": "markdown",
   "metadata": {},
   "source": [
    "s_data variables:\n",
    "\n",
    "0. bias\n",
    "1. country dummies (multiple may be \"on\")\n",
    "2. author dummies"
   ]
  },
  {
   "cell_type": "markdown",
   "metadata": {},
   "source": [
    "r_data variables:\n",
    "\n",
    "0. bias\n",
    "1. subreddit dummies"
   ]
  },
  {
   "cell_type": "markdown",
   "metadata": {},
   "source": [
    "### Data Transformations"
   ]
  },
  {
   "cell_type": "code",
   "execution_count": 6,
   "metadata": {
    "execution": {
     "iopub.execute_input": "2020-11-25T04:26:57.517252Z",
     "iopub.status.busy": "2020-11-25T04:26:57.517118Z",
     "iopub.status.idle": "2020-11-25T04:26:57.521074Z",
     "shell.execute_reply": "2020-11-25T04:26:57.520674Z",
     "shell.execute_reply.started": "2020-11-25T04:26:57.517234Z"
    }
   },
   "outputs": [],
   "source": [
    "# before we change anything, save the original p_data\n",
    "p_data = transform_data(original_p_data)"
   ]
  },
  {
   "cell_type": "code",
   "execution_count": 7,
   "metadata": {
    "execution": {
     "iopub.execute_input": "2020-11-25T04:26:57.522043Z",
     "iopub.status.busy": "2020-11-25T04:26:57.521907Z",
     "iopub.status.idle": "2020-11-25T04:26:57.549157Z",
     "shell.execute_reply": "2020-11-25T04:26:57.548497Z",
     "shell.execute_reply.started": "2020-11-25T04:26:57.522025Z"
    }
   },
   "outputs": [],
   "source": [
    "# Split into Test and Train datasets\n",
    "train_data, test_data, unsplit_data = split_and_prep_data(p_data, t_data, s_data, r_data, y, p_types, p_stories, p_subreddits, train_frac=0.7)\n",
    "p_data_train, y_train, p_types_train, p_stories_train, p_subreddits_train = train_data\n",
    "p_data_test, y_test, p_types_test, p_stories_test, p_subreddits_test = test_data\n",
    "t_data, s_data, r_data = unsplit_data"
   ]
  },
  {
   "cell_type": "markdown",
   "metadata": {},
   "source": [
    "-----"
   ]
  },
  {
   "cell_type": "markdown",
   "metadata": {},
   "source": [
    "# Modeling"
   ]
  },
  {
   "cell_type": "markdown",
   "metadata": {
    "pycharm": {
     "name": "#%% md\n"
    }
   },
   "source": [
    "2 Regressions.\n",
    "\n",
    "Post-Level Regression\n",
    "\n",
    "y_pt = phi_0,t * bias + phi_1,t * first_hour_comments + epsilon_pt\n",
    "\n",
    "Type-Level Regressions (2)\n",
    "\n",
    "phi_0t = eta_00 * bias + eta_01 silliness_t + nu_0t\n",
    "\n",
    "phi_1t = eta_10 * bias + eta_11 silliness_t + nu_1t"
   ]
  },
  {
   "cell_type": "code",
   "execution_count": 8,
   "metadata": {
    "execution": {
     "iopub.execute_input": "2020-11-25T04:26:57.550824Z",
     "iopub.status.busy": "2020-11-25T04:26:57.550406Z",
     "iopub.status.idle": "2020-11-25T04:26:57.553908Z",
     "shell.execute_reply": "2020-11-25T04:26:57.553247Z",
     "shell.execute_reply.started": "2020-11-25T04:26:57.550791Z"
    }
   },
   "outputs": [],
   "source": [
    "model = complete_model\n",
    "guide = complete_guide"
   ]
  },
  {
   "cell_type": "markdown",
   "metadata": {},
   "source": [
    "# Inference"
   ]
  },
  {
   "cell_type": "markdown",
   "metadata": {},
   "source": [
    "## SVI"
   ]
  },
  {
   "cell_type": "code",
   "execution_count": null,
   "metadata": {
    "execution": {
     "iopub.execute_input": "2020-11-25T04:26:57.554837Z",
     "iopub.status.busy": "2020-11-25T04:26:57.554682Z",
     "iopub.status.idle": "2020-11-25T04:33:25.126287Z",
     "shell.execute_reply": "2020-11-25T04:33:25.125434Z",
     "shell.execute_reply.started": "2020-11-25T04:26:57.554816Z"
    }
   },
   "outputs": [
    {
     "name": "stderr",
     "output_type": "stream",
     "text": [
      "/Users/marcusdaly/Documents/Grad/Y1S1/MLWithProbProg/Probabilistic-Programming/venv/lib/python3.8/site-packages/pyro/distributions/util.py:180: TracerWarning: Converting a tensor to a Python boolean might cause the trace to be incorrect. We can't record the data flow of Python values, so this value will be treated as a constant in the future. This means that the trace might not generalize to other inputs!\n",
      "  elif reversed_shape[i] == 1 and not strict:\n",
      "/Users/marcusdaly/Documents/Grad/Y1S1/MLWithProbProg/Probabilistic-Programming/venv/lib/python3.8/site-packages/pyro/distributions/util.py:182: TracerWarning: Converting a tensor to a Python boolean might cause the trace to be incorrect. We can't record the data flow of Python values, so this value will be treated as a constant in the future. This means that the trace might not generalize to other inputs!\n",
      "  elif reversed_shape[i] != size and (size != 1 or strict):\n"
     ]
    },
    {
     "name": "stdout",
     "output_type": "stream",
     "text": [
      "Iter 1000/2500\t||\tElbo loss:8.70e+04\t||\tTime Elapsed:01:49\t||\tEst Remaining:02:44\r"
     ]
    }
   ],
   "source": [
    "svi, losses = run_svi(model, guide, train_data, unsplit_data, subsample=False, num_iters=2500, lr=1e-2)"
   ]
  },
  {
   "cell_type": "code",
   "execution_count": null,
   "metadata": {
    "execution": {
     "iopub.execute_input": "2020-11-25T04:33:25.130592Z",
     "iopub.status.busy": "2020-11-25T04:33:25.130332Z",
     "iopub.status.idle": "2020-11-25T04:33:25.565420Z",
     "shell.execute_reply": "2020-11-25T04:33:25.564875Z",
     "shell.execute_reply.started": "2020-11-25T04:33:25.130557Z"
    }
   },
   "outputs": [],
   "source": [
    "plot_losses(losses, log_scale = True, skip_first = 0)"
   ]
  },
  {
   "cell_type": "markdown",
   "metadata": {},
   "source": [
    "----"
   ]
  },
  {
   "cell_type": "markdown",
   "metadata": {},
   "source": [
    "# Evaluation"
   ]
  },
  {
   "cell_type": "markdown",
   "metadata": {},
   "source": [
    "Recall:"
   ]
  },
  {
   "cell_type": "markdown",
   "metadata": {},
   "source": [
    "Variables (in order):\n",
    "\n",
    "0. num_comments\n",
    "1. type\n",
    "2. num_comments in first _ mins\n",
    "3. num_subscribers at submission time"
   ]
  },
  {
   "cell_type": "markdown",
   "metadata": {},
   "source": [
    "types\n",
    "\n",
    "0. Real News\n",
    "1. Fake News\n",
    "2. Correction on Real News\n",
    "3. Correction on Fake News"
   ]
  },
  {
   "cell_type": "markdown",
   "metadata": {},
   "source": [
    "t level Variables (in order):\n",
    "\n",
    "0. Is Review? (vs. news)\n",
    "1. Is about fake story? (Not included yet)"
   ]
  },
  {
   "cell_type": "markdown",
   "metadata": {},
   "source": [
    "Check the fit"
   ]
  },
  {
   "cell_type": "markdown",
   "metadata": {
    "pycharm": {
     "name": "#%% md\n"
    }
   },
   "source": [
    "2 Regressions.\n",
    "\n",
    "Post-Level Regression\n",
    "\n",
    "y_pt = mu + phi_0,t * bias + phi_1,t * first_hour_comments + epsilon_pt\n",
    "\n",
    "Type-Level Regressions (2)\n",
    "\n",
    "phi_0t = eta_00 * bias + nu_0t\n",
    "\n",
    "phi_1t = eta_10 * bias + nu_1t"
   ]
  },
  {
   "cell_type": "code",
   "execution_count": null,
   "metadata": {},
   "outputs": [],
   "source": [
    "INDEP = 1"
   ]
  },
  {
   "cell_type": "code",
   "execution_count": null,
   "metadata": {},
   "outputs": [],
   "source": [
    "# get the means to be able to plot smoothly with just type data\n",
    "# and for better interpretation\n",
    "t_means = get_t_means(torch.Tensor(p_types).long(), t_data)\n",
    "s_means = get_s_means(torch.Tensor(p_stories).long(), s_data)\n",
    "r_means = get_r_means(torch.Tensor(p_subreddits).long(), r_data)"
   ]
  },
  {
   "cell_type": "code",
   "execution_count": null,
   "metadata": {
    "execution": {
     "iopub.execute_input": "2020-11-25T04:41:11.779914Z",
     "iopub.status.busy": "2020-11-25T04:41:11.779688Z",
     "iopub.status.idle": "2020-11-25T04:41:12.143289Z",
     "shell.execute_reply": "2020-11-25T04:41:12.142222Z",
     "shell.execute_reply.started": "2020-11-25T04:41:11.779889Z"
    }
   },
   "outputs": [],
   "source": [
    "# Only using types (Smooth)\n",
    "if COMMENTS_ONLY:\n",
    "    \n",
    "    # actual predictions, using just type data\n",
    "    y_pred = get_type_only_y_pred(p_data, t_data, p_types, s_means, r_means)\n",
    "    plot_predictions(original_p_data, y, p_types, original_p_data, y_pred.int(), p_types, indep=INDEP, log_scale=True)\n",
    "    "
   ]
  },
  {
   "cell_type": "code",
   "execution_count": null,
   "metadata": {
    "execution": {
     "iopub.execute_input": "2020-11-25T04:41:23.333964Z",
     "iopub.status.busy": "2020-11-25T04:41:23.333774Z",
     "iopub.status.idle": "2020-11-25T04:41:23.713288Z",
     "shell.execute_reply": "2020-11-25T04:41:23.712367Z",
     "shell.execute_reply.started": "2020-11-25T04:41:23.333944Z"
    }
   },
   "outputs": [],
   "source": [
    "# Using all data (Jagged—other factors at play)\n",
    "y_pred = get_y_pred(p_data, t_data, s_data, r_data, p_types, p_stories, p_subreddits)\n",
    "plot_predictions(original_p_data, y, p_types, original_p_data, y_pred, p_types, indep=INDEP, log_scale=True)"
   ]
  },
  {
   "cell_type": "markdown",
   "metadata": {},
   "source": [
    "Interpretation:\n",
    "\n",
    "- For posts with no comments in the first hour, we expect 7.23 comments in total\n",
    "- For every comment in the first hour, we expect an additional 6.43 comments in total"
   ]
  },
  {
   "cell_type": "markdown",
   "metadata": {},
   "source": [
    "----"
   ]
  },
  {
   "cell_type": "markdown",
   "metadata": {},
   "source": [
    "## Residuals"
   ]
  },
  {
   "cell_type": "code",
   "execution_count": null,
   "metadata": {},
   "outputs": [],
   "source": [
    "plot_residuals(np.array(y), np.array(y_pred))"
   ]
  },
  {
   "cell_type": "code",
   "execution_count": null,
   "metadata": {},
   "outputs": [],
   "source": [
    "np.unique(p_types, return_counts=True)"
   ]
  },
  {
   "cell_type": "markdown",
   "metadata": {},
   "source": [
    "----"
   ]
  },
  {
   "cell_type": "markdown",
   "metadata": {},
   "source": [
    "Generate posterior predictive samples"
   ]
  },
  {
   "cell_type": "code",
   "execution_count": null,
   "metadata": {
    "execution": {
     "iopub.execute_input": "2020-11-25T04:33:26.752807Z",
     "iopub.status.busy": "2020-11-25T04:33:26.752553Z",
     "iopub.status.idle": "2020-11-25T04:33:30.532927Z",
     "shell.execute_reply": "2020-11-25T04:33:30.532212Z",
     "shell.execute_reply.started": "2020-11-25T04:33:26.752782Z"
    }
   },
   "outputs": [],
   "source": [
    "svi_samples = get_samples(\n",
    "    model, \n",
    "    guide, \n",
    "    p_data_train, \n",
    "    t_data, \n",
    "    s_data, \n",
    "    r_data, \n",
    "    None, \n",
    "    p_types_train, \n",
    "    p_stories_train,\n",
    "    p_subreddits_train, \n",
    "    num_samples=100,\n",
    ")"
   ]
  },
  {
   "cell_type": "code",
   "execution_count": null,
   "metadata": {
    "execution": {
     "iopub.execute_input": "2020-11-25T04:33:30.534323Z",
     "iopub.status.busy": "2020-11-25T04:33:30.534097Z",
     "iopub.status.idle": "2020-11-25T04:33:30.548760Z",
     "shell.execute_reply": "2020-11-25T04:33:30.547839Z",
     "shell.execute_reply.started": "2020-11-25T04:33:30.534295Z"
    }
   },
   "outputs": [],
   "source": [
    "inf_data = gather_az_inference_data(svi_samples, y_train)"
   ]
  },
  {
   "cell_type": "markdown",
   "metadata": {},
   "source": [
    "---"
   ]
  },
  {
   "cell_type": "markdown",
   "metadata": {},
   "source": [
    "Posterior distribution over latent variables:"
   ]
  },
  {
   "cell_type": "code",
   "execution_count": null,
   "metadata": {
    "execution": {
     "iopub.execute_input": "2020-11-25T04:33:30.550336Z",
     "iopub.status.busy": "2020-11-25T04:33:30.550032Z",
     "iopub.status.idle": "2020-11-25T04:33:30.552764Z",
     "shell.execute_reply": "2020-11-25T04:33:30.552112Z",
     "shell.execute_reply.started": "2020-11-25T04:33:30.550308Z"
    }
   },
   "outputs": [],
   "source": [
    "# az.plot_trace(svi_az, compact=True)\n",
    "# plt.show()"
   ]
  },
  {
   "cell_type": "code",
   "execution_count": null,
   "metadata": {},
   "outputs": [],
   "source": [
    "\n",
    "svi_samples['theta'].reshape((100, 2, -1)).mean(axis=-1).mean(axis=0)"
   ]
  },
  {
   "cell_type": "code",
   "execution_count": null,
   "metadata": {
    "execution": {
     "iopub.execute_input": "2020-11-25T04:33:30.554118Z",
     "iopub.status.busy": "2020-11-25T04:33:30.553918Z",
     "iopub.status.idle": "2020-11-25T04:33:36.165741Z",
     "shell.execute_reply": "2020-11-25T04:33:36.165113Z",
     "shell.execute_reply.started": "2020-11-25T04:33:30.554095Z"
    }
   },
   "outputs": [],
   "source": [
    "az.plot_trace(inf_data.posterior['phi'], compact=False)\n",
    "plt.show()"
   ]
  },
  {
   "cell_type": "code",
   "execution_count": null,
   "metadata": {},
   "outputs": [],
   "source": [
    "az.plot_trace(inf_data.posterior['theta'], compact=False)\n",
    "plt.show()"
   ]
  },
  {
   "cell_type": "code",
   "execution_count": null,
   "metadata": {},
   "outputs": [],
   "source": [
    "svi_amples['theta'].mean()"
   ]
  },
  {
   "cell_type": "code",
   "execution_count": null,
   "metadata": {
    "execution": {
     "iopub.execute_input": "2020-11-25T04:33:36.166658Z",
     "iopub.status.busy": "2020-11-25T04:33:36.166517Z",
     "iopub.status.idle": "2020-11-25T04:33:36.904095Z",
     "shell.execute_reply": "2020-11-25T04:33:36.903531Z",
     "shell.execute_reply.started": "2020-11-25T04:33:36.166639Z"
    }
   },
   "outputs": [],
   "source": [
    "az.plot_trace(inf_data.posterior['gamma'], compact=False)\n",
    "plt.show()"
   ]
  },
  {
   "cell_type": "markdown",
   "metadata": {},
   "source": [
    "---"
   ]
  },
  {
   "cell_type": "markdown",
   "metadata": {},
   "source": [
    "Posterior predictive checks"
   ]
  },
  {
   "cell_type": "code",
   "execution_count": null,
   "metadata": {
    "execution": {
     "iopub.execute_input": "2020-11-25T04:33:36.905416Z",
     "iopub.status.busy": "2020-11-25T04:33:36.905247Z",
     "iopub.status.idle": "2020-11-25T04:33:37.711853Z",
     "shell.execute_reply": "2020-11-25T04:33:37.711204Z",
     "shell.execute_reply.started": "2020-11-25T04:33:36.905396Z"
    }
   },
   "outputs": [],
   "source": [
    "plot_pp_pdf(inf_data, y)"
   ]
  },
  {
   "cell_type": "code",
   "execution_count": null,
   "metadata": {
    "execution": {
     "iopub.execute_input": "2020-11-25T04:33:37.712955Z",
     "iopub.status.busy": "2020-11-25T04:33:37.712733Z",
     "iopub.status.idle": "2020-11-25T04:33:38.916564Z",
     "shell.execute_reply": "2020-11-25T04:33:38.915846Z",
     "shell.execute_reply.started": "2020-11-25T04:33:37.712935Z"
    }
   },
   "outputs": [],
   "source": [
    "plot_pp_cdf(inf_data, y)"
   ]
  },
  {
   "cell_type": "markdown",
   "metadata": {},
   "source": [
    "- Max value"
   ]
  },
  {
   "cell_type": "code",
   "execution_count": null,
   "metadata": {
    "execution": {
     "iopub.execute_input": "2020-11-25T04:33:38.917790Z",
     "iopub.status.busy": "2020-11-25T04:33:38.917620Z",
     "iopub.status.idle": "2020-11-25T04:33:39.074373Z",
     "shell.execute_reply": "2020-11-25T04:33:39.073667Z",
     "shell.execute_reply.started": "2020-11-25T04:33:38.917770Z"
    }
   },
   "outputs": [],
   "source": [
    "plot_ppc(svi_samples, y_train, lambda x: np.max(x, axis=0), \"Max\", log_stats = True)"
   ]
  },
  {
   "cell_type": "code",
   "execution_count": null,
   "metadata": {
    "execution": {
     "iopub.execute_input": "2020-11-25T04:33:39.075749Z",
     "iopub.status.busy": "2020-11-25T04:33:39.075558Z",
     "iopub.status.idle": "2020-11-25T04:33:39.238513Z",
     "shell.execute_reply": "2020-11-25T04:33:39.237853Z",
     "shell.execute_reply.started": "2020-11-25T04:33:39.075727Z"
    }
   },
   "outputs": [],
   "source": [
    "plot_ppc(svi_samples, y_train, lambda x: np.mean(x, axis=0), \"Mean\", log_stats = True)"
   ]
  },
  {
   "cell_type": "code",
   "execution_count": null,
   "metadata": {
    "execution": {
     "iopub.execute_input": "2020-11-25T04:33:39.239502Z",
     "iopub.status.busy": "2020-11-25T04:33:39.239350Z",
     "iopub.status.idle": "2020-11-25T04:33:39.389062Z",
     "shell.execute_reply": "2020-11-25T04:33:39.388457Z",
     "shell.execute_reply.started": "2020-11-25T04:33:39.239482Z"
    }
   },
   "outputs": [],
   "source": [
    "plot_ppc(svi_samples, y_train, lambda x: np.var(x, axis=0), \"Variance\", log_stats = True)"
   ]
  },
  {
   "cell_type": "code",
   "execution_count": null,
   "metadata": {
    "execution": {
     "iopub.execute_input": "2020-11-25T04:33:39.390080Z",
     "iopub.status.busy": "2020-11-25T04:33:39.389917Z",
     "iopub.status.idle": "2020-11-25T04:33:39.576028Z",
     "shell.execute_reply": "2020-11-25T04:33:39.575470Z",
     "shell.execute_reply.started": "2020-11-25T04:33:39.390061Z"
    }
   },
   "outputs": [],
   "source": [
    "plot_ppc(svi_samples, y_train, lambda x: np.percentile(x, 90, axis=0), \"90th %-ile (num obs)\", log_stats = False)"
   ]
  },
  {
   "cell_type": "code",
   "execution_count": null,
   "metadata": {
    "execution": {
     "iopub.execute_input": "2020-11-25T04:33:39.577024Z",
     "iopub.status.busy": "2020-11-25T04:33:39.576879Z",
     "iopub.status.idle": "2020-11-25T04:33:39.766827Z",
     "shell.execute_reply": "2020-11-25T04:33:39.766172Z",
     "shell.execute_reply.started": "2020-11-25T04:33:39.577005Z"
    }
   },
   "outputs": [],
   "source": [
    "plot_ppc(svi_samples, y_train, lambda x: np.percentile(x, 99, axis=0), \"99th %-ile (num obs)\", log_stats = False)"
   ]
  },
  {
   "cell_type": "code",
   "execution_count": null,
   "metadata": {
    "execution": {
     "iopub.execute_input": "2020-11-25T04:33:39.768097Z",
     "iopub.status.busy": "2020-11-25T04:33:39.767925Z",
     "iopub.status.idle": "2020-11-25T04:33:39.925675Z",
     "shell.execute_reply": "2020-11-25T04:33:39.925034Z",
     "shell.execute_reply.started": "2020-11-25T04:33:39.768077Z"
    }
   },
   "outputs": [],
   "source": [
    "plot_ppc(svi_samples, y_train, lambda x: (x==0).mean(axis=0), \"% = 0\", log_stats = False)"
   ]
  },
  {
   "cell_type": "code",
   "execution_count": null,
   "metadata": {
    "execution": {
     "iopub.execute_input": "2020-11-25T04:33:39.926713Z",
     "iopub.status.busy": "2020-11-25T04:33:39.926544Z",
     "iopub.status.idle": "2020-11-25T04:33:40.119553Z",
     "shell.execute_reply": "2020-11-25T04:33:40.118985Z",
     "shell.execute_reply.started": "2020-11-25T04:33:39.926693Z"
    }
   },
   "outputs": [],
   "source": [
    "plot_ppc(svi_samples, y_train, lambda x: (x<10).mean(axis=0), \"% < 10\", log_stats = False)"
   ]
  },
  {
   "cell_type": "code",
   "execution_count": null,
   "metadata": {
    "execution": {
     "iopub.execute_input": "2020-11-25T04:33:40.120576Z",
     "iopub.status.busy": "2020-11-25T04:33:40.120429Z",
     "iopub.status.idle": "2020-11-25T04:33:40.296895Z",
     "shell.execute_reply": "2020-11-25T04:33:40.295990Z",
     "shell.execute_reply.started": "2020-11-25T04:33:40.120556Z"
    }
   },
   "outputs": [],
   "source": [
    "plot_ppc(svi_samples, y_train, lambda x: (x>1000).mean(axis=0), \"% > 1000\", log_stats = False)"
   ]
  },
  {
   "cell_type": "markdown",
   "metadata": {},
   "source": [
    "# Why Pareto?\n",
    "Our distribution of total comments follows a power law."
   ]
  },
  {
   "cell_type": "code",
   "execution_count": null,
   "metadata": {
    "execution": {
     "iopub.execute_input": "2020-11-25T04:33:40.301784Z",
     "iopub.status.busy": "2020-11-25T04:33:40.301601Z",
     "iopub.status.idle": "2020-11-25T04:33:40.766351Z",
     "shell.execute_reply": "2020-11-25T04:33:40.765716Z",
     "shell.execute_reply.started": "2020-11-25T04:33:40.301765Z"
    }
   },
   "outputs": [],
   "source": [
    "max_ct = np.max(y)\n",
    "unique, counts = np.unique(y + 1, return_counts=True)\n",
    "plt.scatter(unique, counts)\n",
    "plt.yscale(\"log\")\n",
    "plt.xscale(\"log\")\n",
    "\n",
    "plt.xlabel(\"total comments\")\n",
    "plt.ylabel(\"frequency\")\n",
    "plt.show()"
   ]
  },
  {
   "cell_type": "markdown",
   "metadata": {},
   "source": [
    "Fake news: expect relatively flatter (more with lots, fewer with few!)\n",
    "\n",
    "Reviews: expect steeper (fewer comments very common)"
   ]
  },
  {
   "cell_type": "markdown",
   "metadata": {},
   "source": [
    "Note that our first hour comments are also distributed similarly."
   ]
  },
  {
   "cell_type": "code",
   "execution_count": null,
   "metadata": {
    "execution": {
     "iopub.execute_input": "2020-11-25T04:33:40.767636Z",
     "iopub.status.busy": "2020-11-25T04:33:40.767448Z",
     "iopub.status.idle": "2020-11-25T04:33:41.020837Z",
     "shell.execute_reply": "2020-11-25T04:33:41.020025Z",
     "shell.execute_reply.started": "2020-11-25T04:33:40.767612Z"
    }
   },
   "outputs": [],
   "source": [
    "max_ct = np.max(p_data[:,4])\n",
    "unique, counts = np.unique(p_data[:,4] + 1, return_counts=True)\n",
    "plt.scatter(unique, counts)\n",
    "plt.yscale(\"log\")\n",
    "plt.xscale(\"log\")\n",
    "#plt.xlim(1, 10000)\n",
    "plt.xlabel(\"first hour comments\")\n",
    "plt.ylabel(\"frequency\")\n",
    "plt.show()"
   ]
  },
  {
   "cell_type": "code",
   "execution_count": null,
   "metadata": {
    "execution": {
     "iopub.status.busy": "2020-11-25T04:33:41.021402Z",
     "iopub.status.idle": "2020-11-25T04:33:41.021629Z",
     "shell.execute_reply": "2020-11-25T04:33:41.021506Z"
    }
   },
   "outputs": [],
   "source": [
    "p_data[:,1].shape"
   ]
  },
  {
   "cell_type": "code",
   "execution_count": null,
   "metadata": {},
   "outputs": [],
   "source": []
  }
 ],
 "metadata": {
  "kernelspec": {
   "display_name": "Python 3",
   "language": "python",
   "name": "python3"
  },
  "language_info": {
   "codemirror_mode": {
    "name": "ipython",
    "version": 3
   },
   "file_extension": ".py",
   "mimetype": "text/x-python",
   "name": "python",
   "nbconvert_exporter": "python",
   "pygments_lexer": "ipython3",
   "version": "3.8.5"
  }
 },
 "nbformat": 4,
 "nbformat_minor": 4
}
