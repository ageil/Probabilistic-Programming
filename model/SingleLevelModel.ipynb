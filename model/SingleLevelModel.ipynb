{
 "cells": [
  {
   "cell_type": "code",
   "execution_count": 1,
   "metadata": {
    "execution": {
     "iopub.execute_input": "2020-11-17T22:00:22.586958Z",
     "iopub.status.busy": "2020-11-17T22:00:22.586642Z",
     "iopub.status.idle": "2020-11-17T22:00:23.507773Z",
     "shell.execute_reply": "2020-11-17T22:00:23.507176Z",
     "shell.execute_reply.started": "2020-11-17T22:00:22.586889Z"
    }
   },
   "outputs": [],
   "source": [
    "import json\n",
    "import numpy as np\n",
    "import pandas as pd\n",
    "import matplotlib.pyplot as plt\n",
    "\n",
    "import numpyro\n",
    "import jax.numpy as jnp\n",
    "import numpyro.optim as optim\n",
    "import numpyro.distributions as dist\n",
    "from numpyro.infer import SVI, Trace_ELBO, Predictive\n",
    "from numpyro.distributions import constraints\n",
    "from jax import lax\n",
    "from jax.random import PRNGKey"
   ]
  },
  {
   "cell_type": "markdown",
   "metadata": {},
   "source": [
    "# Single Level Model\n",
    "In our simplest model, we will just model each post."
   ]
  },
  {
   "cell_type": "markdown",
   "metadata": {},
   "source": [
    "# Data"
   ]
  },
  {
   "cell_type": "markdown",
   "metadata": {},
   "source": [
    "First, we load the Reddit datasets"
   ]
  },
  {
   "cell_type": "code",
   "execution_count": 2,
   "metadata": {
    "execution": {
     "iopub.execute_input": "2020-11-17T22:00:25.199541Z",
     "iopub.status.busy": "2020-11-17T22:00:25.199283Z",
     "iopub.status.idle": "2020-11-17T22:00:25.784339Z",
     "shell.execute_reply": "2020-11-17T22:00:25.783631Z",
     "shell.execute_reply.started": "2020-11-17T22:00:25.199514Z"
    }
   },
   "outputs": [],
   "source": [
    "comments = dict()\n",
    "with open('../data/results/Comments.json') as f:\n",
    "    for line in f:\n",
    "        post = json.loads(line)\n",
    "        comments[post['pid']] = post['api_num_comments'], post['comments']"
   ]
  },
  {
   "cell_type": "code",
   "execution_count": 3,
   "metadata": {
    "execution": {
     "iopub.execute_input": "2020-11-17T22:00:25.785990Z",
     "iopub.status.busy": "2020-11-17T22:00:25.785786Z",
     "iopub.status.idle": "2020-11-17T22:00:26.427463Z",
     "shell.execute_reply": "2020-11-17T22:00:26.426789Z",
     "shell.execute_reply.started": "2020-11-17T22:00:25.785966Z"
    }
   },
   "outputs": [],
   "source": [
    "corrections = []\n",
    "with open('../data/results/CorrectionPairs.json') as f:\n",
    "    for line in f:\n",
    "        corrections.append(json.loads(line))"
   ]
  },
  {
   "cell_type": "code",
   "execution_count": 4,
   "metadata": {
    "execution": {
     "iopub.execute_input": "2020-11-17T22:00:26.429183Z",
     "iopub.status.busy": "2020-11-17T22:00:26.428968Z",
     "iopub.status.idle": "2020-11-17T22:00:26.717854Z",
     "shell.execute_reply": "2020-11-17T22:00:26.717141Z",
     "shell.execute_reply.started": "2020-11-17T22:00:26.429155Z"
    }
   },
   "outputs": [],
   "source": [
    "news = []\n",
    "with open('../data/results/NewsPairs.json') as f:\n",
    "    for line in f:\n",
    "        news.append(json.loads(line))"
   ]
  },
  {
   "cell_type": "markdown",
   "metadata": {
    "pycharm": {
     "name": "#%% md\n"
    }
   },
   "source": [
    "Gather relevant variables"
   ]
  },
  {
   "cell_type": "code",
   "execution_count": 5,
   "metadata": {
    "execution": {
     "iopub.execute_input": "2020-11-17T22:00:27.994587Z",
     "iopub.status.busy": "2020-11-17T22:00:27.994329Z",
     "iopub.status.idle": "2020-11-17T22:00:28.008080Z",
     "shell.execute_reply": "2020-11-17T22:00:28.006713Z",
     "shell.execute_reply.started": "2020-11-17T22:00:27.994559Z"
    }
   },
   "outputs": [],
   "source": [
    "def processData(data, items, comments, minutes=60, offset=0):\n",
    "    for idx, n in enumerate(items):\n",
    "        i = idx + offset\n",
    "        \n",
    "        isNews = 'isFakeStory' in n['r']['reviewRating']\n",
    "        news_id = n['p']['id']\n",
    "        \n",
    "        num_cmts, cmts = comments[news_id]\n",
    "        c_body_lens = []\n",
    "        c_ups = []\n",
    "        c_downs = []\n",
    "        unique_authors = set()\n",
    "        for c in cmts:\n",
    "            # skip if comment not created in first _ mins\n",
    "            if c['delta_seconds'] > minutes * 60:\n",
    "                continue\n",
    "\n",
    "            c_minutes = c['delta_seconds'] / 60\n",
    "            if c_minutes <= minutes:   # cmts in first _ mins\n",
    "                data[i, 7] += 1\n",
    "            \n",
    "            c_body_lens.append(c['body_len'])\n",
    "            c_ups.append(c['ups'])\n",
    "            c_downs.append(c['downs'])\n",
    "            \n",
    "            if c['author']:\n",
    "                unique_authors.add(c['author'])\n",
    "\n",
    "        data[i, 0] = num_cmts\n",
    "        if isNews:\n",
    "            data[i, 1] = 1 if n['r']['reviewRating']['isFakeStory'] else 0\n",
    "        else:\n",
    "            data[i, 1] = 3 if n['r']['reviewRating']['isFakeClaim'] else 2\n",
    "        data[i, 2] = np.mean(c_body_lens) if c_body_lens else 0.\n",
    "        data[i, 3] = np.std(c_body_lens) if c_body_lens else 0.\n",
    "        data[i, 4] = np.mean(c_ups) if c_ups else 0.\n",
    "        data[i, 5] = np.std(c_ups) if c_ups else 0.\n",
    "        data[i, 6] = len(unique_authors) if unique_authors else 0.\n",
    "    return data"
   ]
  },
  {
   "cell_type": "code",
   "execution_count": 6,
   "metadata": {
    "execution": {
     "iopub.execute_input": "2020-11-17T22:00:29.102294Z",
     "iopub.status.busy": "2020-11-17T22:00:29.102032Z",
     "iopub.status.idle": "2020-11-17T22:00:29.491329Z",
     "shell.execute_reply": "2020-11-17T22:00:29.490752Z",
     "shell.execute_reply.started": "2020-11-17T22:00:29.102260Z"
    }
   },
   "outputs": [],
   "source": [
    "num_p_indep = 8\n",
    "data = np.zeros((len(news) + len(corrections), num_p_indep))\n",
    "\n",
    "data = processData(data, news, comments)\n",
    "data = processData(data, corrections, comments, offset=len(news))"
   ]
  },
  {
   "cell_type": "markdown",
   "metadata": {},
   "source": [
    "Variables (in order):\n",
    "\n",
    "0. num_comments\n",
    "1. type\n",
    "2. comment_length_avg\n",
    "3. comment_length_std\n",
    "4. comment_upvotes_avg\n",
    "5. comment_upvotes_std\n",
    "6. num_unique_comment_authors\n",
    "7. num_comments in first _ mins"
   ]
  },
  {
   "cell_type": "code",
   "execution_count": 7,
   "metadata": {
    "execution": {
     "iopub.execute_input": "2020-11-17T22:00:31.270899Z",
     "iopub.status.busy": "2020-11-17T22:00:31.270653Z",
     "iopub.status.idle": "2020-11-17T22:00:31.274621Z",
     "shell.execute_reply": "2020-11-17T22:00:31.273985Z",
     "shell.execute_reply.started": "2020-11-17T22:00:31.270872Z"
    }
   },
   "outputs": [],
   "source": [
    "p_data = data[:, (2,4,6,7)]  # avg cmt length, avg upvotes, num authors\n",
    "t_data = data[:,1].reshape(-1,1)\n",
    "biases = np.ones_like(t_data)"
   ]
  },
  {
   "cell_type": "code",
   "execution_count": 8,
   "metadata": {
    "execution": {
     "iopub.execute_input": "2020-11-17T22:00:31.790289Z",
     "iopub.status.busy": "2020-11-17T22:00:31.790048Z",
     "iopub.status.idle": "2020-11-17T22:00:31.797352Z",
     "shell.execute_reply": "2020-11-17T22:00:31.796194Z",
     "shell.execute_reply.started": "2020-11-17T22:00:31.790264Z"
    }
   },
   "outputs": [],
   "source": [
    "# select relevant indep vars\n",
    "p_data = data[:, (2,4,6,7)]  # avg cmt length, avg upvotes, num authors, num initial comments\n",
    "# p_data = data[:,7].reshape(-1,1)  # num comments in 1st hr\n",
    "t_data = data[:,1].reshape(-1,1)\n",
    "\n",
    "# add bias terms\n",
    "biases = np.ones_like(t_data)\n",
    "p_data = np.concatenate((biases, p_data), axis=1)\n",
    "t_data = np.concatenate((biases, t_data), axis=1)\n",
    "\n",
    "# get dep var\n",
    "y = data[:,0].reshape(-1,1)"
   ]
  },
  {
   "cell_type": "markdown",
   "metadata": {},
   "source": [
    "split into train/test"
   ]
  },
  {
   "cell_type": "code",
   "execution_count": 9,
   "metadata": {
    "execution": {
     "iopub.execute_input": "2020-11-17T22:00:32.695608Z",
     "iopub.status.busy": "2020-11-17T22:00:32.695374Z",
     "iopub.status.idle": "2020-11-17T22:00:32.702755Z",
     "shell.execute_reply": "2020-11-17T22:00:32.701898Z",
     "shell.execute_reply.started": "2020-11-17T22:00:32.695583Z"
    }
   },
   "outputs": [],
   "source": [
    "train_frac = 0.7\n",
    "num_obs = p_data.shape[0]\n",
    "idx = np.random.binomial(1, train_frac, size=num_obs).astype(bool)\n",
    "\n",
    "p_data_train = p_data[idx,:]\n",
    "p_data_test = p_data[~idx,:]\n",
    "\n",
    "y_train = y[idx,:]\n",
    "y_test = y[~idx,:]"
   ]
  },
  {
   "cell_type": "markdown",
   "metadata": {},
   "source": [
    "-----"
   ]
  },
  {
   "cell_type": "markdown",
   "metadata": {},
   "source": [
    "# Modeling"
   ]
  },
  {
   "cell_type": "markdown",
   "metadata": {},
   "source": [
    "Cast data to jax numpy arrays (immutable)"
   ]
  },
  {
   "cell_type": "code",
   "execution_count": 10,
   "metadata": {
    "execution": {
     "iopub.execute_input": "2020-11-17T22:00:36.817405Z",
     "iopub.status.busy": "2020-11-17T22:00:36.817186Z",
     "iopub.status.idle": "2020-11-17T22:00:36.837337Z",
     "shell.execute_reply": "2020-11-17T22:00:36.836631Z",
     "shell.execute_reply.started": "2020-11-17T22:00:36.817382Z"
    }
   },
   "outputs": [],
   "source": [
    "p_data_train = jnp.array(p_data_train)\n",
    "p_data_test = jnp.array(p_data_test)\n",
    "y_train = jnp.array(y_train)\n",
    "y_test = jnp.array(y_test)"
   ]
  },
  {
   "cell_type": "markdown",
   "metadata": {
    "pycharm": {
     "name": "#%% md\n"
    }
   },
   "source": [
    "Post-Level Regression\n",
    "\n",
    "y_p = phi_0 * bias + phi_1 * first_hour_comments + epsilon"
   ]
  },
  {
   "cell_type": "code",
   "execution_count": 11,
   "metadata": {
    "execution": {
     "iopub.execute_input": "2020-11-17T22:00:38.202443Z",
     "iopub.status.busy": "2020-11-17T22:00:38.202215Z",
     "iopub.status.idle": "2020-11-17T22:00:38.207443Z",
     "shell.execute_reply": "2020-11-17T22:00:38.206588Z",
     "shell.execute_reply.started": "2020-11-17T22:00:38.202420Z"
    },
    "pycharm": {
     "name": "#%%\n"
    }
   },
   "outputs": [],
   "source": [
    "def model(p_data, y):\n",
    "    num_posts, num_p_indeps = p_data.shape\n",
    "\n",
    "    # define a prior for our regression variables\n",
    "    phi_prior = dist.Normal(jnp.zeros((num_p_indeps, 1)),\n",
    "                            10. * jnp.ones((num_p_indeps, 1)))  # (num_p_indeps, 1)\n",
    "    phi = numpyro.sample(\"phi\", phi_prior)  # (num_p_indeps, 1)\n",
    "    \n",
    "#    sigma_prior = dist.HalfNormal(1.)\n",
    "#    sigma = numpyro.sample(\"sigma\", sigma_prior)\n",
    "    sigma = numpyro.sample(\"sigma\", dist.Uniform(0., 1000.))\n",
    "\n",
    "    # for each post, use the correct set of coefficients to run our post-level regression\n",
    "    with numpyro.plate(\"post\", num_posts, dim=-1) as p:\n",
    "\n",
    "        # indep vars for this post\n",
    "        indeps = p_data[p,:]  # (num_posts, num_p_indeps)\n",
    "        \n",
    "        # calculate the mean\n",
    "        mu = jnp.matmul(indeps, phi)  # (num_posts, num_p_indeps) (num_p_indeps, 1)\n",
    "        \n",
    "        # sample\n",
    "        return numpyro.sample(\"obs\", dist.Normal(mu, sigma), obs=y[p])  # (num_posts, 1)"
   ]
  },
  {
   "cell_type": "code",
   "execution_count": 12,
   "metadata": {
    "execution": {
     "iopub.execute_input": "2020-11-17T22:00:39.668262Z",
     "iopub.status.busy": "2020-11-17T22:00:39.667960Z",
     "iopub.status.idle": "2020-11-17T22:00:39.676896Z",
     "shell.execute_reply": "2020-11-17T22:00:39.675337Z",
     "shell.execute_reply.started": "2020-11-17T22:00:39.668232Z"
    }
   },
   "outputs": [],
   "source": [
    "def guide(p_data, y):\n",
    "    num_posts, num_p_indeps = p_data.shape\n",
    "    \n",
    "    phi_loc = numpyro.param(\"phi_loc\", jnp.zeros((num_p_indeps, 1)))\n",
    "    phi_scale = numpyro.param(\"phi_scale\", jnp.ones((num_p_indeps, 1)), \n",
    "                              constraint=constraints.positive)\n",
    "    \n",
    "    #sigma_scale = numpyro.param(\"sigma_scale\", 1.)\n",
    "    sigma_loc = numpyro.param('sigma_loc', jnp.array(1.),\n",
    "                             constraint=constraints.positive)\n",
    "    \n",
    "    # define a prior for our regression variables\n",
    "    phi_prior = dist.Normal(phi_loc, phi_scale)  # (num_p_indeps, 1)\n",
    "    phi = numpyro.sample(\"phi\", phi_prior)  # (num_p_indeps, 1)\n",
    "    \n",
    "#    sigma_prior = dist.HalfNormal(sigma_scale)\n",
    "    sigma = numpyro.sample(\"sigma\", dist.Normal(sigma_loc, jnp.array(0.05)))\n",
    "#    sigma = numpyro.sample(\"sigma\", sigma_prior)"
   ]
  },
  {
   "cell_type": "markdown",
   "metadata": {},
   "source": [
    "# Inference"
   ]
  },
  {
   "cell_type": "code",
   "execution_count": 13,
   "metadata": {
    "execution": {
     "iopub.execute_input": "2020-11-17T22:00:46.156633Z",
     "iopub.status.busy": "2020-11-17T22:00:46.156408Z",
     "iopub.status.idle": "2020-11-17T22:00:48.428871Z",
     "shell.execute_reply": "2020-11-17T22:00:48.427767Z",
     "shell.execute_reply.started": "2020-11-17T22:00:46.156610Z"
    }
   },
   "outputs": [],
   "source": [
    "svi = SVI(model,\n",
    "          guide,\n",
    "          optim.Adam(step_size=.1),\n",
    "          loss=Trace_ELBO())\n",
    "\n",
    "num_iters = 1000\n",
    "rng_key = PRNGKey(1)\n",
    "init_state = svi.init(rng_key, p_data_train, y_train)\n",
    "#state = lax.fori_loop(0, num_iters, lambda i, state: svi.update(state, p_data_train, y_train)[0], init_state)\n",
    "state, losses = lax.scan(lambda state, i: svi.update(state, p_data_train, y_train), init_state, jnp.arange(num_iters))"
   ]
  },
  {
   "cell_type": "code",
   "execution_count": 14,
   "metadata": {
    "execution": {
     "iopub.execute_input": "2020-11-17T22:01:29.785083Z",
     "iopub.status.busy": "2020-11-17T22:01:29.783619Z",
     "iopub.status.idle": "2020-11-17T22:04:00.503373Z",
     "shell.execute_reply": "2020-11-17T22:04:00.502564Z",
     "shell.execute_reply.started": "2020-11-17T22:01:29.784884Z"
    }
   },
   "outputs": [
    {
     "data": {
      "image/png": "[encoded data removed]",
      "text/plain": [
       "<Figure size 432x288 with 1 Axes>"
      ]
     },
     "metadata": {
      "needs_background": "light"
     },
     "output_type": "display_data"
    }
   ],
   "source": [
    "plt.plot(range(len(losses)), np.array(losses))\n",
    "plt.xlabel('iteration')\n",
    "plt.ylabel('loss')\n",
    "plt.show()"
   ]
  },
  {
   "cell_type": "code",
   "execution_count": 15,
   "metadata": {
    "execution": {
     "iopub.execute_input": "2020-11-17T22:05:33.639265Z",
     "iopub.status.busy": "2020-11-17T22:05:33.638959Z",
     "iopub.status.idle": "2020-11-17T22:05:33.665748Z",
     "shell.execute_reply": "2020-11-17T22:05:33.664913Z",
     "shell.execute_reply.started": "2020-11-17T22:05:33.639237Z"
    }
   },
   "outputs": [
    {
     "data": {
      "text/plain": [
       "{'phi_loc': DeviceArray([[1.8933758 ],\n",
       "              [0.07032824],\n",
       "              [3.5912144 ],\n",
       "              [3.5696852 ],\n",
       "              [3.7546175 ]], dtype=float32),\n",
       " 'phi_scale': DeviceArray([[1.1100756 ],\n",
       "              [0.20386064],\n",
       "              [0.56423366],\n",
       "              [0.45012054],\n",
       "              [0.45010695]], dtype=float32),\n",
       " 'sigma_loc': DeviceArray(18.345049, dtype=float32)}"
      ]
     },
     "execution_count": 15,
     "metadata": {},
     "output_type": "execute_result"
    }
   ],
   "source": [
    "params = svi.get_params(state)\n",
    "params"
   ]
  },
  {
   "cell_type": "code",
   "execution_count": 16,
   "metadata": {
    "execution": {
     "iopub.execute_input": "2020-11-17T22:05:39.484925Z",
     "iopub.status.busy": "2020-11-17T22:05:39.484695Z",
     "iopub.status.idle": "2020-11-17T22:05:40.312399Z",
     "shell.execute_reply": "2020-11-17T22:05:40.311860Z",
     "shell.execute_reply.started": "2020-11-17T22:05:39.484900Z"
    }
   },
   "outputs": [],
   "source": [
    "num_samples = 10\n",
    "predictive = Predictive(model, guide=guide, params=params, num_samples=num_samples)\n",
    "y_pred = predictive(rng_key, p_data=p_data_test, y=y_test)[\"obs\"].copy()"
   ]
  },
  {
   "cell_type": "code",
   "execution_count": 17,
   "metadata": {
    "execution": {
     "iopub.execute_input": "2020-11-17T22:05:42.630859Z",
     "iopub.status.busy": "2020-11-17T22:05:42.630623Z",
     "iopub.status.idle": "2020-11-17T22:05:42.635067Z",
     "shell.execute_reply": "2020-11-17T22:05:42.634313Z",
     "shell.execute_reply.started": "2020-11-17T22:05:42.630835Z"
    }
   },
   "outputs": [],
   "source": [
    "for i in range(num_samples):\n",
    "    if not np.alltrue(np.array(y_pred[0]) == np.array(y_test)):\n",
    "        print(i)"
   ]
  },
  {
   "cell_type": "code",
   "execution_count": 18,
   "metadata": {
    "execution": {
     "iopub.execute_input": "2020-11-17T22:05:48.610598Z",
     "iopub.status.busy": "2020-11-17T22:05:48.610379Z",
     "iopub.status.idle": "2020-11-17T22:05:48.615083Z",
     "shell.execute_reply": "2020-11-17T22:05:48.614422Z",
     "shell.execute_reply.started": "2020-11-17T22:05:48.610575Z"
    }
   },
   "outputs": [
    {
     "data": {
      "text/plain": [
       "array([[132.],\n",
       "       [  0.],\n",
       "       [  0.],\n",
       "       ...,\n",
       "       [ 10.],\n",
       "       [  3.],\n",
       "       [  0.]], dtype=float32)"
      ]
     },
     "execution_count": 18,
     "metadata": {},
     "output_type": "execute_result"
    }
   ],
   "source": [
    "y_pred[0]"
   ]
  },
  {
   "cell_type": "code",
   "execution_count": 19,
   "metadata": {
    "execution": {
     "iopub.execute_input": "2020-11-17T22:05:52.164971Z",
     "iopub.status.busy": "2020-11-17T22:05:52.164771Z",
     "iopub.status.idle": "2020-11-17T22:05:52.168492Z",
     "shell.execute_reply": "2020-11-17T22:05:52.167929Z",
     "shell.execute_reply.started": "2020-11-17T22:05:52.164949Z"
    }
   },
   "outputs": [
    {
     "data": {
      "text/plain": [
       "DeviceArray([[132.],\n",
       "             [  0.],\n",
       "             [  0.],\n",
       "             ...,\n",
       "             [ 10.],\n",
       "             [  3.],\n",
       "             [  0.]], dtype=float32)"
      ]
     },
     "execution_count": 19,
     "metadata": {},
     "output_type": "execute_result"
    }
   ],
   "source": [
    "y_test"
   ]
  },
  {
   "cell_type": "markdown",
   "metadata": {},
   "source": [
    "## some MCMC experiments"
   ]
  },
  {
   "cell_type": "code",
   "execution_count": 20,
   "metadata": {
    "execution": {
     "iopub.execute_input": "2020-11-17T22:09:30.163473Z",
     "iopub.status.busy": "2020-11-17T22:09:30.163226Z",
     "iopub.status.idle": "2020-11-17T22:09:30.166883Z",
     "shell.execute_reply": "2020-11-17T22:09:30.166047Z",
     "shell.execute_reply.started": "2020-11-17T22:09:30.163447Z"
    }
   },
   "outputs": [],
   "source": [
    "from numpyro.infer import MCMC, NUTS, Predictive"
   ]
  },
  {
   "cell_type": "code",
   "execution_count": null,
   "metadata": {
    "execution": {
     "iopub.execute_input": "2020-11-17T22:09:43.389375Z",
     "iopub.status.busy": "2020-11-17T22:09:43.389143Z"
    }
   },
   "outputs": [
    {
     "name": "stderr",
     "output_type": "stream",
     "text": [
      "warmup:   2%|▏         | 34/1500 [05:08<15:30:23, 38.08s/it, 255 steps of size 7.17e-10. acc. prob=0.54]"
     ]
    }
   ],
   "source": [
    "kernel = NUTS(model)\n",
    "\n",
    "num_iters = 1000\n",
    "rng_key = PRNGKey(1)\n",
    "mcmc = MCMC(kernel, num_warmup=500, num_samples=num_iters, num_chains=1, chain_method=\"parallel\")\n",
    "mcmc.run(rng_key, p_data_train, y_train)"
   ]
  },
  {
   "cell_type": "code",
   "execution_count": null,
   "metadata": {},
   "outputs": [],
   "source": [
    "posterior_samples = mcmc.get_samples()"
   ]
  },
  {
   "cell_type": "code",
   "execution_count": 61,
   "metadata": {
    "execution": {
     "iopub.execute_input": "2020-11-17T20:37:17.402212Z",
     "iopub.status.busy": "2020-11-17T20:37:17.401992Z",
     "iopub.status.idle": "2020-11-17T20:37:17.411347Z",
     "shell.execute_reply": "2020-11-17T20:37:17.410331Z",
     "shell.execute_reply.started": "2020-11-17T20:37:17.402189Z"
    }
   },
   "outputs": [
    {
     "ename": "NameError",
     "evalue": "name 'posterior_samples' is not defined",
     "output_type": "error",
     "traceback": [
      "\u001b[0;31m---------------------------------------------------------------------------\u001b[0m",
      "\u001b[0;31mNameError\u001b[0m                                 Traceback (most recent call last)",
      "\u001b[0;32m<ipython-input-61-8215e0a38226>\u001b[0m in \u001b[0;36m<module>\u001b[0;34m\u001b[0m\n\u001b[0;32m----> 1\u001b[0;31m \u001b[0mnumpyro\u001b[0m\u001b[0;34m.\u001b[0m\u001b[0mdiagnostics\u001b[0m\u001b[0;34m.\u001b[0m\u001b[0msummary\u001b[0m\u001b[0;34m(\u001b[0m\u001b[0mposterior_samples\u001b[0m\u001b[0;34m)\u001b[0m\u001b[0;34m\u001b[0m\u001b[0;34m\u001b[0m\u001b[0m\n\u001b[0m",
      "\u001b[0;31mNameError\u001b[0m: name 'posterior_samples' is not defined"
     ]
    }
   ],
   "source": [
    "numpyro.diagnostics.summary(posterior_samples)"
   ]
  },
  {
   "cell_type": "markdown",
   "metadata": {},
   "source": [
    "# Evaluation"
   ]
  },
  {
   "cell_type": "markdown",
   "metadata": {},
   "source": [
    "Check the fit"
   ]
  },
  {
   "cell_type": "code",
   "execution_count": 65,
   "metadata": {
    "execution": {
     "iopub.execute_input": "2020-11-17T21:29:11.503454Z",
     "iopub.status.busy": "2020-11-17T21:29:11.503232Z",
     "iopub.status.idle": "2020-11-17T21:29:11.868491Z",
     "shell.execute_reply": "2020-11-17T21:29:11.867794Z",
     "shell.execute_reply.started": "2020-11-17T21:29:11.503431Z"
    }
   },
   "outputs": [
    {
     "data": {
      "image/png": "[encoded data removed]",
      "text/plain": [
       "<Figure size 864x432 with 1 Axes>"
      ]
     },
     "metadata": {
      "needs_background": "light"
     },
     "output_type": "display_data"
    }
   ],
   "source": [
    "y_pred = params['phi_loc'][0]\n",
    "#y_pred += params['phi_loc'][1] * p_data[:,1]  # avg cmt length\n",
    "#y_pred += params['phi_loc'][2] * p_data[:,2]  # avg upvotes\n",
    "#y_pred += params['phi_loc'][3] * p_data[:,3]  # num authors\n",
    "y_pred += params['phi_loc'][4] * p_data[:,4]   # num init cmts\n",
    "\n",
    "plt.figure(figsize=(12,6))\n",
    "plt.scatter(np.array(p_data[:,4]), np.array(y), alpha=0.2, s=12, c='tab:blue')\n",
    "plt.plot(np.array(p_data[:,4]), np.array(y_pred), c='tab:red', label='fit')\n",
    "plt.xlabel('comments in first hour')\n",
    "plt.ylabel('total comments')\n",
    "plt.legend()\n",
    "plt.show()"
   ]
  },
  {
   "cell_type": "markdown",
   "metadata": {},
   "source": [
    "Interpretation:\n",
    "\n",
    "- For posts with no comments in the first hour, we expect 7.23 comments in total\n",
    "- For every comment in the first hour, we expect an additional 6.43 comments in total"
   ]
  },
  {
   "cell_type": "markdown",
   "metadata": {},
   "source": [
    "Visualize the posterior predictive"
   ]
  },
  {
   "cell_type": "code",
   "execution_count": 20,
   "metadata": {
    "execution": {
     "iopub.execute_input": "2020-11-17T19:03:29.404471Z",
     "iopub.status.busy": "2020-11-17T19:03:29.404252Z",
     "iopub.status.idle": "2020-11-17T19:03:29.408583Z",
     "shell.execute_reply": "2020-11-17T19:03:29.407875Z",
     "shell.execute_reply.started": "2020-11-17T19:03:29.404447Z"
    }
   },
   "outputs": [],
   "source": [
    "def summary(samples):\n",
    "    site_stats = {}\n",
    "    for site_name, values in samples.items():\n",
    "        marginal_site = pd.DataFrame(values)\n",
    "        describe = marginal_site.describe(percentiles=[.05, 0.25, 0.5, 0.75, 0.95]).transpose()\n",
    "        site_stats[site_name] = describe[[\"mean\", \"std\", \"5%\", \"25%\", \"50%\", \"75%\", \"95%\"]]\n",
    "    return site_stats"
   ]
  },
  {
   "cell_type": "code",
   "execution_count": 21,
   "metadata": {
    "execution": {
     "iopub.execute_input": "2020-11-17T19:04:07.888176Z",
     "iopub.status.busy": "2020-11-17T19:04:07.887956Z",
     "iopub.status.idle": "2020-11-17T19:04:07.891462Z",
     "shell.execute_reply": "2020-11-17T19:04:07.890523Z",
     "shell.execute_reply.started": "2020-11-17T19:04:07.888153Z"
    }
   },
   "outputs": [],
   "source": [
    "num_samples = 1\n",
    "predictive = Predictive(model, guide=guide, num_samples=num_samples)"
   ]
  },
  {
   "cell_type": "code",
   "execution_count": 22,
   "metadata": {
    "execution": {
     "iopub.execute_input": "2020-11-17T19:04:37.462552Z",
     "iopub.status.busy": "2020-11-17T19:04:37.462335Z",
     "iopub.status.idle": "2020-11-17T19:04:37.751620Z",
     "shell.execute_reply": "2020-11-17T19:04:37.750792Z",
     "shell.execute_reply.started": "2020-11-17T19:04:37.462529Z"
    }
   },
   "outputs": [],
   "source": [
    "# try this\n",
    "predictive = Predictive(model, guide=guide, params=params, num_samples=num_samples)\n",
    "samples = predictive(rng_key=rng_key, p_data=p_data, y=None)"
   ]
  },
  {
   "cell_type": "code",
   "execution_count": 30,
   "metadata": {
    "execution": {
     "iopub.execute_input": "2020-11-17T19:05:21.520610Z",
     "iopub.status.busy": "2020-11-17T19:05:21.520394Z",
     "iopub.status.idle": "2020-11-17T19:05:21.524941Z",
     "shell.execute_reply": "2020-11-17T19:05:21.524292Z",
     "shell.execute_reply.started": "2020-11-17T19:05:21.520587Z"
    }
   },
   "outputs": [
    {
     "data": {
      "text/plain": [
       "DeviceArray([[[ 1973.7627  ,  1150.6866  ,  -252.0852  , ...,\n",
       "                -985.27985 ,   681.9505  ,  -315.42282 ],\n",
       "              [  520.4189  ,   452.16684 , -1330.2083  , ...,\n",
       "                1491.6713  , -1535.0989  ,  2169.3516  ],\n",
       "              [  951.74866 ,   869.421   ,   598.5523  , ...,\n",
       "                -203.42723 ,  -222.5085  ,   333.6607  ],\n",
       "              ...,\n",
       "              [-1205.326   ,   105.08023 ,   708.8266  , ...,\n",
       "                 377.37637 , -2216.423   ,  1775.2568  ],\n",
       "              [ -456.15738 ,    22.136986,  -433.57785 , ...,\n",
       "                -595.1262  ,   316.51868 , -1021.9584  ],\n",
       "              [ 1156.8049  ,  1656.196   ,   872.6163  , ...,\n",
       "                -342.76154 ,   645.95953 ,   144.15564 ]]], dtype=float32)"
      ]
     },
     "execution_count": 30,
     "metadata": {},
     "output_type": "execute_result"
    }
   ],
   "source": [
    "samples['obs']"
   ]
  },
  {
   "cell_type": "code",
   "execution_count": 33,
   "metadata": {
    "execution": {
     "iopub.execute_input": "2020-11-17T18:13:23.978005Z",
     "iopub.status.busy": "2020-11-17T18:13:23.977781Z",
     "iopub.status.idle": "2020-11-17T18:13:24.291289Z",
     "shell.execute_reply": "2020-11-17T18:13:24.290433Z",
     "shell.execute_reply.started": "2020-11-17T18:13:23.977981Z"
    }
   },
   "outputs": [],
   "source": [
    "svi_samples = {k: v.reshape(num_samples).detach().cpu().numpy()\n",
    "               for k, v in predictive(rng_key, p_data, None).items()\n",
    "               if k != \"obs\"}"
   ]
  },
  {
   "cell_type": "code",
   "execution_count": 33,
   "metadata": {
    "execution": {
     "iopub.execute_input": "2020-11-17T17:48:45.860841Z",
     "iopub.status.busy": "2020-11-17T17:48:45.860654Z",
     "iopub.status.idle": "2020-11-17T17:48:45.863199Z",
     "shell.execute_reply": "2020-11-17T17:48:45.862627Z",
     "shell.execute_reply.started": "2020-11-17T17:48:45.860821Z"
    }
   },
   "outputs": [],
   "source": [
    "predictive = Predictive(svi, guide=guide, num_samples=1000)"
   ]
  },
  {
   "cell_type": "markdown",
   "metadata": {},
   "source": [
    "# NUMPYRO EXPERIMENT END"
   ]
  },
  {
   "cell_type": "markdown",
   "metadata": {},
   "source": [
    "----"
   ]
  },
  {
   "cell_type": "code",
   "execution_count": 31,
   "metadata": {
    "execution": {
     "iopub.execute_input": "2020-11-17T19:06:22.188627Z",
     "iopub.status.busy": "2020-11-17T19:06:22.188408Z",
     "iopub.status.idle": "2020-11-17T19:06:22.787183Z",
     "shell.execute_reply": "2020-11-17T19:06:22.786404Z",
     "shell.execute_reply.started": "2020-11-17T19:06:22.188603Z"
    }
   },
   "outputs": [
    {
     "ename": "AttributeError",
     "evalue": "'SVI' object has no attribute 'get_samples'",
     "output_type": "error",
     "traceback": [
      "\u001b[0;31m---------------------------------------------------------------------------\u001b[0m",
      "\u001b[0;31mAttributeError\u001b[0m                            Traceback (most recent call last)",
      "\u001b[0;32m<ipython-input-31-975774253aca>\u001b[0m in \u001b[0;36m<module>\u001b[0;34m\u001b[0m\n\u001b[1;32m      1\u001b[0m \u001b[0;32mimport\u001b[0m \u001b[0marviz\u001b[0m \u001b[0;32mas\u001b[0m \u001b[0maz\u001b[0m\u001b[0;34m\u001b[0m\u001b[0;34m\u001b[0m\u001b[0m\n\u001b[0;32m----> 2\u001b[0;31m \u001b[0mdata\u001b[0m \u001b[0;34m=\u001b[0m \u001b[0maz\u001b[0m\u001b[0;34m.\u001b[0m\u001b[0mfrom_numpyro\u001b[0m\u001b[0;34m(\u001b[0m\u001b[0msvi\u001b[0m\u001b[0;34m)\u001b[0m\u001b[0;34m\u001b[0m\u001b[0;34m\u001b[0m\u001b[0m\n\u001b[0m\u001b[1;32m      3\u001b[0m \u001b[0maz\u001b[0m\u001b[0;34m.\u001b[0m\u001b[0mplot_trace\u001b[0m\u001b[0;34m(\u001b[0m\u001b[0mdata\u001b[0m\u001b[0;34m,\u001b[0m \u001b[0mcompact\u001b[0m\u001b[0;34m=\u001b[0m\u001b[0;32mFalse\u001b[0m\u001b[0;34m)\u001b[0m\u001b[0;34m;\u001b[0m\u001b[0;34m\u001b[0m\u001b[0;34m\u001b[0m\u001b[0m\n",
      "\u001b[0;32m/usr/local/lib/python3.8/site-packages/arviz/data/io_numpyro.py\u001b[0m in \u001b[0;36mfrom_numpyro\u001b[0;34m(posterior, prior, posterior_predictive, predictions, constant_data, predictions_constant_data, coords, dims, pred_dims, num_chains)\u001b[0m\n\u001b[1;32m    329\u001b[0m         \u001b[0mNumber\u001b[0m \u001b[0mof\u001b[0m \u001b[0mchains\u001b[0m \u001b[0mused\u001b[0m \u001b[0;32mfor\u001b[0m \u001b[0msampling\u001b[0m\u001b[0;34m.\u001b[0m \u001b[0mIgnored\u001b[0m \u001b[0;32mif\u001b[0m \u001b[0mposterior\u001b[0m \u001b[0;32mis\u001b[0m \u001b[0mpresent\u001b[0m\u001b[0;34m.\u001b[0m\u001b[0;34m\u001b[0m\u001b[0;34m\u001b[0m\u001b[0m\n\u001b[1;32m    330\u001b[0m     \"\"\"\n\u001b[0;32m--> 331\u001b[0;31m     return NumPyroConverter(\n\u001b[0m\u001b[1;32m    332\u001b[0m         \u001b[0mposterior\u001b[0m\u001b[0;34m=\u001b[0m\u001b[0mposterior\u001b[0m\u001b[0;34m,\u001b[0m\u001b[0;34m\u001b[0m\u001b[0;34m\u001b[0m\u001b[0m\n\u001b[1;32m    333\u001b[0m         \u001b[0mprior\u001b[0m\u001b[0;34m=\u001b[0m\u001b[0mprior\u001b[0m\u001b[0;34m,\u001b[0m\u001b[0;34m\u001b[0m\u001b[0;34m\u001b[0m\u001b[0m\n",
      "\u001b[0;32m/usr/local/lib/python3.8/site-packages/arviz/data/io_numpyro.py\u001b[0m in \u001b[0;36m__init__\u001b[0;34m(self, posterior, prior, posterior_predictive, predictions, constant_data, predictions_constant_data, coords, dims, pred_dims, num_chains)\u001b[0m\n\u001b[1;32m     78\u001b[0m \u001b[0;34m\u001b[0m\u001b[0m\n\u001b[1;32m     79\u001b[0m         \u001b[0;32mif\u001b[0m \u001b[0mposterior\u001b[0m \u001b[0;32mis\u001b[0m \u001b[0;32mnot\u001b[0m \u001b[0;32mNone\u001b[0m\u001b[0;34m:\u001b[0m\u001b[0;34m\u001b[0m\u001b[0;34m\u001b[0m\u001b[0m\n\u001b[0;32m---> 80\u001b[0;31m             \u001b[0msamples\u001b[0m \u001b[0;34m=\u001b[0m \u001b[0mjax\u001b[0m\u001b[0;34m.\u001b[0m\u001b[0mdevice_get\u001b[0m\u001b[0;34m(\u001b[0m\u001b[0mself\u001b[0m\u001b[0;34m.\u001b[0m\u001b[0mposterior\u001b[0m\u001b[0;34m.\u001b[0m\u001b[0mget_samples\u001b[0m\u001b[0;34m(\u001b[0m\u001b[0mgroup_by_chain\u001b[0m\u001b[0;34m=\u001b[0m\u001b[0;32mTrue\u001b[0m\u001b[0;34m)\u001b[0m\u001b[0;34m)\u001b[0m\u001b[0;34m\u001b[0m\u001b[0;34m\u001b[0m\u001b[0m\n\u001b[0m\u001b[1;32m     81\u001b[0m             \u001b[0;32mif\u001b[0m \u001b[0;32mnot\u001b[0m \u001b[0misinstance\u001b[0m\u001b[0;34m(\u001b[0m\u001b[0msamples\u001b[0m\u001b[0;34m,\u001b[0m \u001b[0mdict\u001b[0m\u001b[0;34m)\u001b[0m\u001b[0;34m:\u001b[0m\u001b[0;34m\u001b[0m\u001b[0;34m\u001b[0m\u001b[0m\n\u001b[1;32m     82\u001b[0m                 \u001b[0;31m# handle the case we run MCMC with a general potential_fn\u001b[0m\u001b[0;34m\u001b[0m\u001b[0;34m\u001b[0m\u001b[0;34m\u001b[0m\u001b[0m\n",
      "\u001b[0;31mAttributeError\u001b[0m: 'SVI' object has no attribute 'get_samples'"
     ]
    }
   ],
   "source": [
    "import arviz as az\n",
    "data = az.from_numpyro(svi)\n",
    "az.plot_trace(data, compact=False);"
   ]
  },
  {
   "cell_type": "code",
   "execution_count": null,
   "metadata": {},
   "outputs": [],
   "source": []
  }
 ],
 "metadata": {
  "kernelspec": {
   "display_name": "Python 3",
   "language": "python",
   "name": "python3"
  },
  "language_info": {
   "codemirror_mode": {
    "name": "ipython",
    "version": 3
   },
   "file_extension": ".py",
   "mimetype": "text/x-python",
   "name": "python",
   "nbconvert_exporter": "python",
   "pygments_lexer": "ipython3",
   "version": "3.8.5"
  }
 },
 "nbformat": 4,
 "nbformat_minor": 4
}
