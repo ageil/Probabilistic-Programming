{
 "cells": [
  {
   "cell_type": "markdown",
   "metadata": {},
   "source": [
    "# Data collection"
   ]
  },
  {
   "cell_type": "markdown",
   "metadata": {},
   "source": [
    "## ClaimReview"
   ]
  },
  {
   "cell_type": "code",
   "execution_count": 20,
   "metadata": {
    "ExecuteTime": {
     "end_time": "2020-10-20T03:31:31.112920Z",
     "start_time": "2020-10-20T03:31:31.110289Z"
    }
   },
   "outputs": [],
   "source": [
    "import requests\n",
    "import json\n",
    "from glob import glob\n",
    "import os\n",
    "from datetime import datetime\n",
    "import numpy as np\n",
    "import matplotlib.pyplot as plt\n",
    "import time"
   ]
  },
  {
   "cell_type": "code",
   "execution_count": 21,
   "metadata": {
    "ExecuteTime": {
     "end_time": "2020-10-20T03:31:40.434284Z",
     "start_time": "2020-10-20T03:31:40.427700Z"
    }
   },
   "outputs": [],
   "source": [
    "def getReviews(offset=0):\n",
    "    params = {\n",
    "        'hl': '', # the language to search\n",
    "        'num_results': 1000,\n",
    "        'query': 'list:recent',\n",
    "        'force': 'false',\n",
    "        'offset': offset\n",
    "    }\n",
    "    headers = {\n",
    "        'dnt': '1',\n",
    "        'accept-encoding': 'gzip, deflate, br',\n",
    "        'accept-language': 'en-GB,en;q=0.9,it-IT;q=0.8,it;q=0.7,en-US;q=0.6',\n",
    "        'user-agent': 'Mozilla/5.0 (X11; Linux x86_64) AppleWebKit/537.36 (KHTML, like Gecko) Chrome/70.0.3538.110 Safari/537.36',\n",
    "        'accept': 'application/json, text/plain, */*',\n",
    "        'referer': 'https://toolbox.google.com/factcheck/explorer/search/list:recent;hl=en;gl=',\n",
    "        'authority': 'toolbox.google.com',\n",
    "        'cookie': os.environ.get('GOOGLE_FACTCHECK_EXPLORER_COOKIE')  # access authorization cookie data\n",
    "    }\n",
    "    response = requests.get('https://toolbox.google.com/factcheck/api/search', params=params, headers=headers)\n",
    "\n",
    "    if response.status_code != 200:\n",
    "        raise ValueError(response.status_code)\n",
    "\n",
    "    content = json.loads(response.text[5:])[0][1:3]\n",
    "    today = datetime.now().strftime(\"%B %d, %Y\")\n",
    "    path = \"/Users/ageil/Github/FactMap/Data/claimreviews/raw/\"+today+\"/\"\n",
    "    filename = \"raw_{0}.json\".format(offset)\n",
    "    \n",
    "    if not os.path.isdir(path):\n",
    "        os.makedirs(path)\n",
    "    with open(path + filename, 'w') as f:\n",
    "        json.dump(content, f, indent=2)\n",
    "    \n",
    "    return content"
   ]
  },
  {
   "cell_type": "code",
   "execution_count": 22,
   "metadata": {
    "ExecuteTime": {
     "end_time": "2020-10-20T03:31:42.883773Z",
     "start_time": "2020-10-20T03:31:42.880274Z"
    }
   },
   "outputs": [],
   "source": [
    "def collect():\n",
    "    offset = 0\n",
    "    claims = []\n",
    "    tags = []\n",
    "    \n",
    "    while True:\n",
    "        print('offset', offset)\n",
    "        content = getReviews(offset=offset)\n",
    "        if not content[0]:\n",
    "            break\n",
    "        offset += len(content[0])\n",
    "        claims.append(content[0])\n",
    "        tags.append(content[1])\n",
    "\n",
    "    return claims, tags"
   ]
  },
  {
   "cell_type": "markdown",
   "metadata": {},
   "source": [
    "Collect raw data:"
   ]
  },
  {
   "cell_type": "code",
   "execution_count": 23,
   "metadata": {
    "ExecuteTime": {
     "end_time": "2020-10-20T03:38:12.072502Z",
     "start_time": "2020-10-20T03:36:49.777740Z"
    },
    "scrolled": true
   },
   "outputs": [
    {
     "name": "stdout",
     "output_type": "stream",
     "text": [
      "offset 0\n",
      "offset 1000\n",
      "offset 2000\n",
      "offset 3000\n",
      "offset 4000\n",
      "offset 5000\n",
      "offset 6000\n",
      "offset 7000\n",
      "offset 8000\n",
      "offset 9000\n",
      "offset 10000\n",
      "offset 11000\n",
      "offset 12000\n",
      "offset 13000\n",
      "offset 14000\n",
      "offset 15000\n",
      "offset 16000\n",
      "offset 17000\n",
      "offset 18000\n",
      "offset 19000\n",
      "offset 20000\n",
      "offset 21000\n",
      "offset 22000\n",
      "offset 23000\n",
      "offset 24000\n",
      "offset 25000\n",
      "offset 26000\n",
      "offset 27000\n",
      "offset 28000\n",
      "offset 29000\n",
      "offset 30000\n",
      "offset 31000\n",
      "offset 32000\n",
      "offset 33000\n",
      "offset 34000\n",
      "offset 35000\n",
      "offset 36000\n",
      "offset 37000\n",
      "offset 38000\n",
      "offset 39000\n",
      "offset 40000\n",
      "offset 41000\n",
      "offset 42000\n",
      "offset 43000\n",
      "offset 44000\n",
      "offset 45000\n",
      "offset 46000\n",
      "offset 47000\n",
      "offset 48000\n",
      "offset 49000\n",
      "offset 50000\n",
      "offset 51000\n",
      "offset 52000\n",
      "offset 53000\n",
      "offset 54000\n",
      "offset 55000\n",
      "offset 56000\n",
      "offset 57000\n",
      "offset 58000\n",
      "offset 59000\n",
      "offset 60000\n",
      "offset 61000\n",
      "offset 62000\n",
      "offset 63000\n",
      "offset 64000\n",
      "offset 65000\n",
      "offset 66000\n",
      "offset 67000\n",
      "offset 68000\n",
      "offset 69000\n",
      "offset 70000\n",
      "offset 71000\n",
      "offset 72000\n",
      "offset 73000\n",
      "offset 74000\n",
      "offset 75000\n",
      "offset 76000\n",
      "offset 77000\n",
      "offset 78000\n",
      "offset 79000\n",
      "offset 80000\n",
      "offset 81000\n",
      "offset 82000\n",
      "offset 83000\n",
      "offset 84000\n",
      "offset 85000\n",
      "offset 86000\n",
      "offset 87000\n",
      "offset 88000\n",
      "offset 89000\n",
      "offset 90000\n",
      "offset 91000\n",
      "offset 91965\n"
     ]
    }
   ],
   "source": [
    "raw = collect()"
   ]
  },
  {
   "cell_type": "markdown",
   "metadata": {},
   "source": [
    "Load collected raw data:"
   ]
  },
  {
   "cell_type": "code",
   "execution_count": 81,
   "metadata": {
    "ExecuteTime": {
     "end_time": "2020-10-20T03:48:20.139583Z",
     "start_time": "2020-10-20T03:48:09.839110Z"
    }
   },
   "outputs": [
    {
     "name": "stdout",
     "output_type": "stream",
     "text": [
      "/Users/ageil/Github/FactMap/Data/claimreviews/raw/October 19, 2020/\n",
      "batches: 93\n"
     ]
    }
   ],
   "source": [
    "# today = datetime.now().strftime(\"%B %d, %Y\")\n",
    "path = \"/Users/ageil/Github/FactMap/Data/claimreviews/raw/October 19, 2020/\"\n",
    "print(path)\n",
    "raw_paths = glob(path+\"*.json\")\n",
    "\n",
    "raw = []\n",
    "for path in raw_paths:\n",
    "    with open(path) as f:  \n",
    "        raw.append(json.load(f))\n",
    "        \n",
    "print('batches:', len(raw))  # num batches"
   ]
  },
  {
   "cell_type": "markdown",
   "metadata": {},
   "source": [
    "clean up empty/faulty batches"
   ]
  },
  {
   "cell_type": "code",
   "execution_count": 102,
   "metadata": {
    "ExecuteTime": {
     "end_time": "2020-10-20T03:53:57.727354Z",
     "start_time": "2020-10-20T03:53:57.724079Z"
    }
   },
   "outputs": [],
   "source": [
    "for i in range(len(raw)):\n",
    "    try:\n",
    "        raw[i][0][2]\n",
    "        raw[i][0][0][0]\n",
    "        raw[i][0][0][1]\n",
    "    except:\n",
    "        print(i)"
   ]
  },
  {
   "cell_type": "code",
   "execution_count": 87,
   "metadata": {
    "ExecuteTime": {
     "end_time": "2020-10-20T03:49:05.093907Z",
     "start_time": "2020-10-20T03:49:05.090795Z"
    }
   },
   "outputs": [
    {
     "data": {
      "text/plain": [
       "[[], []]"
      ]
     },
     "execution_count": 87,
     "metadata": {},
     "output_type": "execute_result"
    }
   ],
   "source": [
    "raw.pop(74)\n",
    "raw.pop(57)"
   ]
  },
  {
   "cell_type": "code",
   "execution_count": 158,
   "metadata": {
    "ExecuteTime": {
     "end_time": "2020-10-20T04:02:27.075425Z",
     "start_time": "2020-10-20T04:02:27.068387Z"
    },
    "scrolled": true
   },
   "outputs": [
    {
     "name": "stdout",
     "output_type": "stream",
     "text": [
      "0 2\n",
      "3 2\n",
      "4 2\n",
      "5 2\n",
      "7 2\n",
      "8 2\n",
      "9 2\n",
      "10 2\n",
      "12 2\n",
      "13 2\n",
      "14 2\n",
      "15 2\n",
      "16 2\n",
      "17 2\n",
      "18 2\n",
      "19 1\n",
      "19 2\n",
      "20 2\n",
      "21 2\n",
      "22 2\n",
      "25 2\n",
      "26 2\n",
      "27 2\n",
      "28 1\n",
      "28 2\n",
      "29 2\n",
      "30 2\n",
      "31 2\n",
      "32 2\n",
      "33 2\n",
      "34 2\n",
      "35 2\n",
      "36 2\n",
      "37 2\n",
      "38 2\n",
      "39 2\n",
      "40 2\n",
      "43 2\n",
      "44 2\n",
      "45 2\n",
      "46 2\n",
      "47 2\n",
      "49 2\n",
      "50 2\n",
      "51 2\n",
      "52 2\n",
      "54 2\n",
      "55 2\n",
      "57 2\n",
      "58 2\n",
      "59 2\n",
      "60 2\n",
      "61 2\n",
      "62 2\n",
      "63 2\n",
      "64 2\n",
      "65 2\n",
      "66 2\n",
      "67 2\n",
      "68 2\n",
      "69 2\n",
      "70 2\n",
      "71 2\n",
      "72 2\n",
      "73 2\n",
      "74 2\n",
      "75 2\n",
      "77 2\n",
      "78 2\n",
      "80 2\n",
      "81 2\n",
      "82 2\n",
      "83 2\n",
      "84 2\n",
      "85 2\n",
      "86 2\n",
      "87 2\n",
      "89 2\n",
      "90 2\n"
     ]
    }
   ],
   "source": [
    "for i, batch in enumerate(raw):\n",
    "    for j, c in enumerate(batch[0][2]):\n",
    "        try:\n",
    "            c[0]\n",
    "            c[1]\n",
    "        except:\n",
    "            # print(batch[0][2])\n",
    "            # print(c)\n",
    "            print(i, j)\n"
   ]
  },
  {
   "cell_type": "code",
   "execution_count": 195,
   "metadata": {
    "ExecuteTime": {
     "end_time": "2020-10-20T04:30:04.248915Z",
     "start_time": "2020-10-20T04:30:04.201382Z"
    }
   },
   "outputs": [
    {
     "name": "stdout",
     "output_type": "stream",
     "text": [
      "Num claims:\t 90965\n",
      "Num tags:\t 39577\n"
     ]
    }
   ],
   "source": [
    "raw_claims = [c for batch in raw for c in batch[0]]\n",
    "raw_tags = {c[0]: c[1] for batch in raw for c in batch[1]}\n",
    "\n",
    "print(\"Num claims:\\t\", len(raw_claims))\n",
    "print(\"Num tags:\\t\", len(raw_tags))"
   ]
  },
  {
   "cell_type": "markdown",
   "metadata": {},
   "source": [
    "/m/ tags are Freebase identifiers  \n",
    "/g/ tags are Google identifiers  \n",
    "/t/ tags are ?"
   ]
  },
  {
   "cell_type": "markdown",
   "metadata": {},
   "source": [
    "Parse data to ClaimReviews:"
   ]
  },
  {
   "cell_type": "code",
   "execution_count": 268,
   "metadata": {
    "ExecuteTime": {
     "end_time": "2020-10-20T04:45:32.018088Z",
     "start_time": "2020-10-20T04:45:32.013841Z"
    }
   },
   "outputs": [
    {
     "data": {
      "text/plain": [
       "[['/g/11j4xt9hdf',\n",
       "  0.7198,\n",
       "  ['/g/11ksrvgn0',\n",
       "   '/g/11h0wc7vxg',\n",
       "   '/g/11b7w3t1ph',\n",
       "   '/g/11b696p7h',\n",
       "   '/g/119q51_74']],\n",
       " ['/g/11f62_x7nf', 0.7033, ['/g/11vk58l0g', '/g/11vk58dgd']],\n",
       " ['/m/0d9cbr',\n",
       "  0.6485,\n",
       "  ['/g/11h6gzpvvw', '/g/11h3mv4vzq', '/g/11fdjvf5_', '/g/119pqzxb6']],\n",
       " ['/m/06cs1',\n",
       "  0.5912,\n",
       "  ['/g/11vk58tmy',\n",
       "   '/g/11vk58hdb',\n",
       "   '/g/11vk58fdx',\n",
       "   '/g/11h6gzpvvw',\n",
       "   '/g/11flz3djrp',\n",
       "   '/g/11fknjvm47',\n",
       "   '/g/11fdjvf5_',\n",
       "   '/g/11cflqxpf',\n",
       "   '/g/11cflqwgy',\n",
       "   '/g/119x7b6v5',\n",
       "   '/g/119pzbrll']],\n",
       " ['/m/01byzl',\n",
       "  0.4986,\n",
       "  ['/g/1yqlg8r7w',\n",
       "   '/g/11vk5bc_b',\n",
       "   '/g/11vk58_jj',\n",
       "   '/g/11ksrvgn0',\n",
       "   '/g/11h6gzpvvw',\n",
       "   '/g/11fknjwsmh']]]"
      ]
     },
     "execution_count": 268,
     "metadata": {},
     "output_type": "execute_result"
    }
   ],
   "source": [
    "r[0][8]"
   ]
  },
  {
   "cell_type": "code",
   "execution_count": 269,
   "metadata": {
    "ExecuteTime": {
     "end_time": "2020-10-20T04:48:08.092873Z",
     "start_time": "2020-10-20T04:48:08.078852Z"
    }
   },
   "outputs": [],
   "source": [
    "def parseReviews(reviews, tagdict):\n",
    "    results = []\n",
    "    for idx, r in enumerate(reviews):\n",
    "        try:\n",
    "            claimReview = {\n",
    "                'reviewUrl': r[0][3][0][1],\n",
    "                'claimReviewed': r[0][0],\n",
    "                'lang': r[0][3][0][6],\n",
    "                'countries': r[0][3][0][7],\n",
    "                'claimReviewed_en': r[0][11] if len(r[0]) > 11 else None,\n",
    "                'claimDate': r[0][2] if len(r[0]) > 2 else None,\n",
    "                'reviewDate': r[0][3][0][2] if len(r[0][3][0]) > 2 else None,\n",
    "                'reviewAuthor': {\n",
    "                    \"name\": r[0][3][0][0][0],  # review author\n",
    "                    \"authorURL\": r[0][3][0][0][1]\n",
    "                },\n",
    "                'reviewRating': {\n",
    "                    'ratingValue': r[0][3][0][9][0] if (len(r[0][3][0]) > 9 and r[0][3][0][9] and len(r[0][3][0][9])) else -1,\n",
    "                    'worstRating': r[0][3][0][9][1] if (len(r[0][3][0]) > 9 and r[0][3][0][9] and len(r[0][3][0][9])) else -1,\n",
    "                    'bestRating': r[0][3][0][9][2] if  (len(r[0][3][0]) > 9 and r[0][3][0][9] and len(r[0][3][0][9])) else -1,\n",
    "                    'alternateName': r[0][3][0][3]\n",
    "                },\n",
    "                'claimAuthor': {\n",
    "                    'name': r[0][1][0],  # claim author\n",
    "                    'claimURL': r[0][4][0][1] if len(r[0][4]) else None\n",
    "                } if len(r[0][1]) else {},\n",
    "                'tagsRaw': [{'keyword': tag[0], 'probability': tag[1]} for tag in r[0][8] if len(tag) == 3],\n",
    "                'tagsNamed': [{'keyword': raw_tags[tag[0]], 'probability': tag[1]} for tag in r[0][8] if (tag[0] in raw_tags) and (len(tag) == 3)],\n",
    "                'reviewTitle': r[0][3][0][8]\n",
    "            }\n",
    "            results.append(claimReview)\n",
    "        except IndexError as e:\n",
    "            print(idx)\n",
    "            print(json.dumps(r))\n",
    "            raise(e)\n",
    "    return results"
   ]
  },
  {
   "cell_type": "code",
   "execution_count": 270,
   "metadata": {
    "ExecuteTime": {
     "end_time": "2020-10-20T04:48:11.139803Z",
     "start_time": "2020-10-20T04:48:10.145563Z"
    }
   },
   "outputs": [
    {
     "data": {
      "text/plain": [
       "90965"
      ]
     },
     "execution_count": 270,
     "metadata": {},
     "output_type": "execute_result"
    }
   ],
   "source": [
    "claims = parseReviews(raw_claims, raw_tags)\n",
    "len(claims)"
   ]
  },
  {
   "cell_type": "markdown",
   "metadata": {},
   "source": [
    "Save parsed ClaimReviews to json:"
   ]
  },
  {
   "cell_type": "code",
   "execution_count": 272,
   "metadata": {
    "ExecuteTime": {
     "end_time": "2020-10-20T04:48:33.890676Z",
     "start_time": "2020-10-20T04:48:33.888215Z"
    }
   },
   "outputs": [],
   "source": [
    "# path = \"/Users/ageil/Github/FactMap/Data/claimreviews/claims2020.json\""
   ]
  },
  {
   "cell_type": "code",
   "execution_count": 273,
   "metadata": {
    "ExecuteTime": {
     "end_time": "2020-10-20T04:48:39.796174Z",
     "start_time": "2020-10-20T04:48:37.828808Z"
    }
   },
   "outputs": [],
   "source": [
    "# with open(path, 'w') as f:\n",
    "#     f.write('\\n'.join(json.dumps(c) for c in claims))"
   ]
  },
  {
   "cell_type": "markdown",
   "metadata": {},
   "source": [
    "Load parsed ClaimReviews:"
   ]
  },
  {
   "cell_type": "code",
   "execution_count": 206,
   "metadata": {
    "ExecuteTime": {
     "end_time": "2020-10-20T04:31:39.267967Z",
     "start_time": "2020-10-20T04:31:39.264101Z"
    }
   },
   "outputs": [
    {
     "name": "stdout",
     "output_type": "stream",
     "text": [
      "Latest file: /Users/ageil/Github/FactMap/Data/claimreviews/claims2020.json\n"
     ]
    }
   ],
   "source": [
    "paths = glob(\"/Users/ageil/Github/FactMap/Data/claimreviews/*.json\")\n",
    "latest = max(paths, key=os.path.getctime)\n",
    "print('Latest file:', latest)"
   ]
  },
  {
   "cell_type": "code",
   "execution_count": 293,
   "metadata": {
    "ExecuteTime": {
     "end_time": "2020-10-20T05:10:28.208903Z",
     "start_time": "2020-10-20T05:10:28.206296Z"
    }
   },
   "outputs": [],
   "source": [
    "latest = \"/Users/ageil/Github/FactMap/Data/claimreviews/claims_May-01-2019.json\""
   ]
  },
  {
   "cell_type": "code",
   "execution_count": 300,
   "metadata": {
    "ExecuteTime": {
     "end_time": "2020-10-20T05:13:35.631376Z",
     "start_time": "2020-10-20T05:13:34.209714Z"
    }
   },
   "outputs": [],
   "source": [
    "claims = []\n",
    "with open(latest) as f:\n",
    "    for line in f:\n",
    "        claims.append(json.loads(line))"
   ]
  },
  {
   "cell_type": "code",
   "execution_count": 301,
   "metadata": {
    "ExecuteTime": {
     "end_time": "2020-10-20T05:13:47.602376Z",
     "start_time": "2020-10-20T05:13:47.600698Z"
    }
   },
   "outputs": [],
   "source": [
    "# with open(latest, 'r') as fp:\n",
    "#     claims = json.load(fp)\n",
    "\n",
    "# print(len(claims))"
   ]
  },
  {
   "cell_type": "markdown",
   "metadata": {},
   "source": [
    "---"
   ]
  },
  {
   "cell_type": "markdown",
   "metadata": {},
   "source": [
    "Collect new claims:"
   ]
  },
  {
   "cell_type": "code",
   "execution_count": 69,
   "metadata": {
    "ExecuteTime": {
     "end_time": "2019-05-02T04:13:15.634721Z",
     "start_time": "2019-05-02T04:12:36.462260Z"
    }
   },
   "outputs": [
    {
     "name": "stdout",
     "output_type": "stream",
     "text": [
      "offset 0\n",
      "offset 1000\n",
      "offset 2000\n",
      "offset 3000\n",
      "offset 4000\n",
      "offset 5000\n",
      "offset 6000\n",
      "offset 7000\n",
      "offset 8000\n",
      "offset 9000\n",
      "offset 10000\n",
      "offset 11000\n",
      "offset 12000\n",
      "offset 13000\n",
      "offset 14000\n",
      "offset 15000\n",
      "offset 16000\n",
      "offset 17000\n",
      "offset 18000\n",
      "offset 19000\n",
      "offset 20000\n",
      "offset 21000\n",
      "offset 22000\n",
      "offset 23000\n",
      "offset 24000\n",
      "offset 25000\n",
      "offset 26000\n",
      "offset 27000\n",
      "offset 28000\n",
      "offset 29000\n",
      "offset 29028\n"
     ]
    },
    {
     "data": {
      "text/plain": [
       "2"
      ]
     },
     "execution_count": 69,
     "metadata": {},
     "output_type": "execute_result"
    }
   ],
   "source": [
    "raw = collect()\n",
    "len(raw)"
   ]
  },
  {
   "cell_type": "code",
   "execution_count": 306,
   "metadata": {
    "ExecuteTime": {
     "end_time": "2020-10-20T05:14:57.678884Z",
     "start_time": "2020-10-20T05:14:57.677101Z"
    },
    "scrolled": true
   },
   "outputs": [],
   "source": [
    "raw_claims = [c for b in raw[0] for c in b]\n",
    "raw_tags = {r[0]: r[1] for b in raw[1] for r in b if len(r) == 2}\n",
    "        \n",
    "print(len(raw_claims))\n",
    "print(len(raw_tags))"
   ]
  },
  {
   "cell_type": "code",
   "execution_count": 289,
   "metadata": {
    "ExecuteTime": {
     "end_time": "2020-10-20T05:06:53.885749Z",
     "start_time": "2020-10-20T05:06:53.873031Z"
    }
   },
   "outputs": [],
   "source": [
    "# claims_new = claims"
   ]
  },
  {
   "cell_type": "code",
   "execution_count": 71,
   "metadata": {
    "ExecuteTime": {
     "end_time": "2019-05-02T04:13:22.260459Z",
     "start_time": "2019-05-02T04:13:21.760016Z"
    },
    "scrolled": true
   },
   "outputs": [
    {
     "data": {
      "text/plain": [
       "29028"
      ]
     },
     "execution_count": 71,
     "metadata": {},
     "output_type": "execute_result"
    }
   ],
   "source": [
    "claims_new = parseReviews(raw_claims, raw_tags)\n",
    "len(claims_new)"
   ]
  },
  {
   "cell_type": "code",
   "execution_count": 307,
   "metadata": {
    "ExecuteTime": {
     "end_time": "2020-10-20T05:15:09.483818Z",
     "start_time": "2020-10-20T05:15:04.902596Z"
    }
   },
   "outputs": [
    {
     "data": {
      "text/plain": [
       "151025"
      ]
     },
     "execution_count": 307,
     "metadata": {},
     "output_type": "execute_result"
    }
   ],
   "source": [
    "hashes = set()\n",
    "allclaims = []\n",
    "\n",
    "for c in (claims + claims_new):\n",
    "    hsh = hash(str(c))\n",
    "    if hsh not in hashes:\n",
    "        allclaims.append(c)\n",
    "        hashes.add(hsh)\n",
    "        \n",
    "len(allclaims)"
   ]
  },
  {
   "cell_type": "code",
   "execution_count": 308,
   "metadata": {
    "ExecuteTime": {
     "end_time": "2020-10-20T05:15:19.759551Z",
     "start_time": "2020-10-20T05:15:19.756709Z"
    }
   },
   "outputs": [],
   "source": [
    "claims = allclaims"
   ]
  },
  {
   "cell_type": "markdown",
   "metadata": {},
   "source": [
    "Save combined claims to file:"
   ]
  },
  {
   "cell_type": "code",
   "execution_count": 310,
   "metadata": {
    "ExecuteTime": {
     "end_time": "2020-10-20T05:15:47.320276Z",
     "start_time": "2020-10-20T05:15:43.225276Z"
    }
   },
   "outputs": [],
   "source": [
    "today = datetime.now().strftime(\"%b-%d-%Y\")\n",
    "path = \"/Users/ageil/Github/FactMap/Data/claimreviews/claims_2020_combined\"\n",
    "\n",
    "with open(path + today + \".json\", 'w') as f:\n",
    "    f.write('\\n'.join(json.dumps(c) for c in claims))"
   ]
  },
  {
   "cell_type": "markdown",
   "metadata": {},
   "source": [
    "Reload combined claims from file:"
   ]
  },
  {
   "cell_type": "code",
   "execution_count": 54,
   "metadata": {
    "ExecuteTime": {
     "end_time": "2019-05-01T21:18:59.379908Z",
     "start_time": "2019-05-01T21:18:56.952363Z"
    }
   },
   "outputs": [
    {
     "data": {
      "text/plain": [
       "59747"
      ]
     },
     "execution_count": 54,
     "metadata": {},
     "output_type": "execute_result"
    }
   ],
   "source": [
    "path = glob(\"/Users/anders1991/Github/FactMap/Data/claimreviews/claims_*\")\n",
    "\n",
    "claims = []\n",
    "with open(path[0], 'r') as f:\n",
    "    for line in f:\n",
    "         claims.append(json.loads(line))\n",
    "            \n",
    "len(claims)"
   ]
  },
  {
   "cell_type": "markdown",
   "metadata": {},
   "source": [
    "---"
   ]
  },
  {
   "cell_type": "markdown",
   "metadata": {},
   "source": [
    "## Summary statistics"
   ]
  },
  {
   "cell_type": "markdown",
   "metadata": {},
   "source": [
    "Amount of ClaimReviews with source URLs:"
   ]
  },
  {
   "cell_type": "code",
   "execution_count": 312,
   "metadata": {
    "ExecuteTime": {
     "end_time": "2020-10-20T05:17:32.049110Z",
     "start_time": "2020-10-20T05:17:31.954202Z"
    }
   },
   "outputs": [
    {
     "name": "stdout",
     "output_type": "stream",
     "text": [
      "Claims in total:\t 151025\n",
      "Claims w/ source URLs:\t 37007\n",
      "% of claims w/ URLs:\t 24.5\n"
     ]
    }
   ],
   "source": [
    "urls = []\n",
    "for i, c in enumerate(claims):\n",
    "    try:\n",
    "        if c['claimAuthor']['claimURL']:\n",
    "            urls.append(c)\n",
    "    except:\n",
    "        None\n",
    "\n",
    "print('Claims in total:\\t', len(claims))\n",
    "print('Claims w/ source URLs:\\t', len(urls))\n",
    "print('% of claims w/ URLs:\\t', round(len(urls)/len(claims)*100, 1))"
   ]
  },
  {
   "cell_type": "markdown",
   "metadata": {},
   "source": [
    "Number of unique topics found in ClaimReviews:"
   ]
  },
  {
   "cell_type": "code",
   "execution_count": 313,
   "metadata": {
    "ExecuteTime": {
     "end_time": "2020-10-20T05:17:38.866583Z",
     "start_time": "2020-10-20T05:17:38.495289Z"
    },
    "scrolled": true
   },
   "outputs": [
    {
     "name": "stdout",
     "output_type": "stream",
     "text": [
      "Num topics found in ClaimReviews:\t 42704\n"
     ]
    }
   ],
   "source": [
    "tpc = dict()\n",
    "\n",
    "for c in claims:\n",
    "    for t in list(c['tagsNamed']):\n",
    "        if t['keyword'] in tpc.keys():\n",
    "            tpc[t['keyword']] += 1\n",
    "        else:\n",
    "            tpc[t['keyword']] = 1\n",
    "\n",
    "print('Num topics found in ClaimReviews:\\t', len(tpc))"
   ]
  },
  {
   "cell_type": "code",
   "execution_count": 314,
   "metadata": {
    "ExecuteTime": {
     "end_time": "2020-10-20T05:17:42.571797Z",
     "start_time": "2020-10-20T05:17:42.554277Z"
    },
    "scrolled": true
   },
   "outputs": [
    {
     "name": "stdout",
     "output_type": "stream",
     "text": [
      "Video 7122\n",
      "Coronavirus 6383\n",
      "United States 5134\n",
      "Donald Trump 5002\n",
      "Government 4656\n",
      "Photograph 4395\n",
      "Coronavirus disease 2019 3916\n",
      "Image 3752\n",
      "India 3617\n",
      "Child 3078\n"
     ]
    }
   ],
   "source": [
    "top = sorted(tpc, key=tpc.get, reverse=True)[:10]\n",
    "\n",
    "for c in top:\n",
    "    print(c, tpc[c])"
   ]
  },
  {
   "cell_type": "markdown",
   "metadata": {},
   "source": [
    "Number of distinct countries:"
   ]
  },
  {
   "cell_type": "code",
   "execution_count": 315,
   "metadata": {
    "ExecuteTime": {
     "end_time": "2020-10-20T05:17:51.623441Z",
     "start_time": "2020-10-20T05:17:51.462893Z"
    }
   },
   "outputs": [
    {
     "name": "stdout",
     "output_type": "stream",
     "text": [
      "241\n"
     ]
    }
   ],
   "source": [
    "countries = dict()\n",
    "\n",
    "for c in claims:\n",
    "    for cntry in c['countries']:\n",
    "        if cntry in countries.keys():\n",
    "            countries[cntry] += 1\n",
    "        else:\n",
    "            countries[cntry] = 1\n",
    "#         countries.add(cntry)\n",
    "        \n",
    "print(len(countries))"
   ]
  },
  {
   "cell_type": "code",
   "execution_count": 316,
   "metadata": {
    "ExecuteTime": {
     "end_time": "2020-10-20T05:17:54.693761Z",
     "start_time": "2020-10-20T05:17:54.690838Z"
    }
   },
   "outputs": [
    {
     "name": "stdout",
     "output_type": "stream",
     "text": [
      "us 50324\n",
      "in 30980\n",
      "br 20426\n",
      "gb 9746\n",
      "fr 6675\n",
      "id 5685\n",
      "es 5606\n",
      "ar 5351\n",
      "it 5223\n",
      "ru 5057\n"
     ]
    }
   ],
   "source": [
    "top = sorted(countries, key=countries.get, reverse=True)[:10]\n",
    "\n",
    "for c in top:\n",
    "    print(c, countries[c])"
   ]
  },
  {
   "cell_type": "markdown",
   "metadata": {},
   "source": [
    "Number of distinct languages:"
   ]
  },
  {
   "cell_type": "code",
   "execution_count": 317,
   "metadata": {
    "ExecuteTime": {
     "end_time": "2020-10-20T05:18:02.247348Z",
     "start_time": "2020-10-20T05:18:02.129547Z"
    }
   },
   "outputs": [
    {
     "name": "stdout",
     "output_type": "stream",
     "text": [
      "53\n"
     ]
    }
   ],
   "source": [
    "langs = dict()\n",
    "\n",
    "for c in claims:\n",
    "    lang = c['lang']\n",
    "    if lang in langs.keys():\n",
    "        langs[lang] += 1\n",
    "    else:\n",
    "        langs[lang] = 1\n",
    "        \n",
    "print(len(langs))"
   ]
  },
  {
   "cell_type": "code",
   "execution_count": 318,
   "metadata": {
    "ExecuteTime": {
     "end_time": "2020-10-20T05:18:04.304074Z",
     "start_time": "2020-10-20T05:18:04.300576Z"
    }
   },
   "outputs": [
    {
     "name": "stdout",
     "output_type": "stream",
     "text": [
      "en 61696\n",
      "pt 18544\n",
      "es 10426\n",
      "hi 8684\n",
      "id 6285\n",
      "pt-pt 4781\n",
      "it 4102\n",
      "tr 4081\n",
      "fr 3562\n",
      "ar 3413\n"
     ]
    }
   ],
   "source": [
    "top = sorted(langs, key=langs.get, reverse=True)[:10]\n",
    "\n",
    "for c in top:\n",
    "    print(c, langs[c])"
   ]
  },
  {
   "cell_type": "markdown",
   "metadata": {},
   "source": [
    "Temporal distribution of claims:"
   ]
  },
  {
   "cell_type": "code",
   "execution_count": 319,
   "metadata": {
    "ExecuteTime": {
     "end_time": "2020-10-20T05:18:06.275189Z",
     "start_time": "2020-10-20T05:18:06.175979Z"
    }
   },
   "outputs": [],
   "source": [
    "x = np.histogram([c['claimDate'] for c in claims if c['claimDate'] is not None], bins=1000)"
   ]
  },
  {
   "cell_type": "code",
   "execution_count": 320,
   "metadata": {
    "ExecuteTime": {
     "end_time": "2020-10-20T05:18:08.312665Z",
     "start_time": "2020-10-20T05:18:06.811867Z"
    }
   },
   "outputs": [
    {
     "data": {
      "image/png": "[encoded data removed]",
      "text/plain": [
       "<Figure size 432x288 with 1 Axes>"
      ]
     },
     "metadata": {
      "needs_background": "light"
     },
     "output_type": "display_data"
    }
   ],
   "source": [
    "plt.bar([int(datetime.fromtimestamp(q).strftime('%Y')) for q in x[1][:-1]], x[0])\n",
    "plt.xlim(2010, 2021)\n",
    "plt.show()"
   ]
  },
  {
   "cell_type": "markdown",
   "metadata": {},
   "source": [
    "Temporal distribution of reviews:"
   ]
  },
  {
   "cell_type": "code",
   "execution_count": 321,
   "metadata": {
    "ExecuteTime": {
     "end_time": "2020-10-20T05:18:11.389555Z",
     "start_time": "2020-10-20T05:18:11.292025Z"
    }
   },
   "outputs": [],
   "source": [
    "x = np.histogram([c['reviewDate'] for c in claims if c['reviewDate'] is not None], bins=1000)"
   ]
  },
  {
   "cell_type": "code",
   "execution_count": 322,
   "metadata": {
    "ExecuteTime": {
     "end_time": "2020-10-20T05:18:15.110402Z",
     "start_time": "2020-10-20T05:18:13.752005Z"
    }
   },
   "outputs": [
    {
     "data": {
      "image/png": "[encoded data removed]",
      "text/plain": [
       "<Figure size 432x288 with 1 Axes>"
      ]
     },
     "metadata": {
      "needs_background": "light"
     },
     "output_type": "display_data"
    }
   ],
   "source": [
    "plt.bar([int(datetime.fromtimestamp(q).strftime('%Y')) for q in x[1][:-1]], x[0])\n",
    "plt.xlim(2010, 2021)\n",
    "plt.show()"
   ]
  },
  {
   "cell_type": "markdown",
   "metadata": {},
   "source": [
    "~95% of data is from 2015 onwards!"
   ]
  },
  {
   "cell_type": "markdown",
   "metadata": {},
   "source": [
    "---"
   ]
  },
  {
   "cell_type": "markdown",
   "metadata": {},
   "source": [
    "# Collecting reddit data"
   ]
  },
  {
   "cell_type": "code",
   "execution_count": 547,
   "metadata": {
    "ExecuteTime": {
     "end_time": "2019-04-16T07:43:10.320936Z",
     "start_time": "2019-04-16T07:43:10.303820Z"
    },
    "collapsed": true,
    "jupyter": {
     "outputs_hidden": true
    }
   },
   "outputs": [],
   "source": [
    "def getSubmissions(after=1420070400):\n",
    "    params = {\n",
    "        'fields': ['id', 'created_utc', 'retrieved_on', 'subreddit_id', 'domain', 'author', 'title', 'subreddit', 'url',\n",
    "                   'score', 'num_comments', 'subreddit_type', 'subreddit_subscribers'],\n",
    "        'sort': 'asc',\n",
    "        'is_self': False,\n",
    "        'after': after,  # Jan 1, 2015: 00:00:00\n",
    "        'size': '500'\n",
    "    }\n",
    "\n",
    "    response = requests.get('https://api.pushshift.io/reddit/search/submission/', params=params)\n",
    "\n",
    "    if response.status_code != 200:\n",
    "        raise ValueError(response.status_code)\n",
    "\n",
    "    data = json.loads(response.text)['data']\n",
    "\n",
    "    return data"
   ]
  },
  {
   "cell_type": "code",
   "execution_count": 546,
   "metadata": {
    "ExecuteTime": {
     "end_time": "2019-04-16T07:42:53.530612Z",
     "start_time": "2019-04-16T07:42:53.445084Z"
    },
    "collapsed": true,
    "jupyter": {
     "outputs_hidden": true
    }
   },
   "outputs": [],
   "source": [
    "def collectSubmissions(after=1420070400):\n",
    "    after = after\n",
    "    num = 0\n",
    "    submissions = []\n",
    "    requests_per_minute = 180\n",
    "    requests = 0\n",
    "    start_time = time.time()\n",
    "    print('Initiating...')\n",
    "\n",
    "    while True:\n",
    "        print('Num:', num)\n",
    "        time_diff = time.time() - start_time\n",
    "\n",
    "        if requests < requests_per_minute and time_diff < 60:\n",
    "            requests += 1\n",
    "            data = getSubmissions(after=after)\n",
    "\n",
    "            if not data[0]:\n",
    "                break\n",
    "\n",
    "            num += len(data)\n",
    "            after = data[-1]['created_utc']\n",
    "            submissions.append(data)\n",
    "\n",
    "            if num > 2000000 or data[0] is None:  # dump to file if >2M submissions\n",
    "                path = \"/Users/anders1991/Github/FactMap/Data/reddit/raw/\"\n",
    "                filename = \"raw_{0}.json\".format(after)\n",
    "\n",
    "                if not os.path.isdir(path):\n",
    "                    os.makedirs(path)\n",
    "                with open(path + filename, 'w') as f:\n",
    "                    json.dump(submissions, f, indent=2)\n",
    "\n",
    "                submissions = []\n",
    "                num = 0\n",
    "        elif time_diff >= 60:\n",
    "            start_time = time.time()\n",
    "            requests = 0\n",
    "        else:\n",
    "            print('Waiting', 60-time_diff, 'seconds...')\n",
    "            time.sleep(60-time_diff)\n",
    "\n",
    "            start_time = time.time()\n",
    "            requests = 0\n",
    "\n",
    "    print('Finished!')\n",
    "\n",
    "    return submissions"
   ]
  },
  {
   "cell_type": "code",
   "execution_count": 583,
   "metadata": {
    "ExecuteTime": {
     "end_time": "2019-04-17T05:19:54.671873Z",
     "start_time": "2019-04-17T05:19:54.656178Z"
    },
    "collapsed": true,
    "jupyter": {
     "outputs_hidden": true
    },
    "scrolled": true
   },
   "outputs": [],
   "source": [
    "# out = collectSubmissions()"
   ]
  },
  {
   "cell_type": "markdown",
   "metadata": {},
   "source": [
    "Takes too long to download via API!"
   ]
  },
  {
   "cell_type": "markdown",
   "metadata": {},
   "source": [
    "Downloaded via Google BigQuery instead."
   ]
  },
  {
   "cell_type": "markdown",
   "metadata": {},
   "source": [
    "---"
   ]
  },
  {
   "cell_type": "code",
   "execution_count": 326,
   "metadata": {
    "ExecuteTime": {
     "end_time": "2020-10-20T05:38:39.163770Z",
     "start_time": "2020-10-20T05:38:39.158200Z"
    }
   },
   "outputs": [
    {
     "name": "stdout",
     "output_type": "stream",
     "text": [
      "{'all_awardings': [], 'archived': False, 'author': '[deleted]', 'author_created_utc': None, 'author_flair_background_color': '', 'author_flair_css_class': None, 'author_flair_template_id': None, 'author_flair_text': None, 'author_flair_text_color': 'dark', 'author_fullname': None, 'can_gild': False, 'can_mod_post': False, 'category': None, 'content_categories': None, 'contest_mode': False, 'created_utc': 1554076800, 'distinguished': None, 'domain': 'self.AskReddit', 'edited': False, 'gilded': 0, 'gildings': {}, 'hidden': False, 'id': 'b7um2l', 'is_crosspostable': False, 'is_meta': False, 'is_original_content': False, 'is_reddit_media_domain': False, 'is_robot_indexable': False, 'is_self': True, 'is_video': False, 'link_flair_background_color': '', 'link_flair_css_class': None, 'link_flair_richtext': [], 'link_flair_text': None, 'link_flair_text_color': 'dark', 'link_flair_type': 'text', 'locked': False, 'media': None, 'media_embed': {}, 'media_only': False, 'no_follow': True, 'num_comments': 9, 'num_crossposts': 0, 'over_18': False, 'parent_whitelist_status': 'all_ads', 'permalink': '/r/AskReddit/comments/b7um2l/what_stupid_thing_did_you_want_to_be_when_you/', 'pinned': False, 'pwls': 6, 'quarantine': False, 'removal_reason': None, 'retrieved_on': 1560415520, 'score': 3, 'secure_media': None, 'secure_media_embed': {}, 'selftext': '[deleted]', 'send_replies': True, 'spoiler': False, 'stickied': False, 'subreddit': 'AskReddit', 'subreddit_id': 't5_2qh1i', 'subreddit_name_prefixed': 'r/AskReddit', 'subreddit_subscribers': 23159358, 'subreddit_type': 'public', 'suggested_sort': None, 'thumbnail': 'default', 'thumbnail_height': None, 'thumbnail_width': None, 'title': 'What stupid thing did you want to be when you were a kid?', 'total_awards_received': 0, 'url': 'https://www.reddit.com/r/AskReddit/comments/b7um2l/what_stupid_thing_did_you_want_to_be_when_you/', 'whitelist_status': 'all_ads', 'wls': 6}\n"
     ]
    }
   ],
   "source": [
    "with open('/Users/ageil/Github/FactMap/Data/reddit/2019/RS_2019-04', 'r') as f:\n",
    "    for line in f:\n",
    "        js = json.loads(line)\n",
    "        print(js)\n",
    "        break"
   ]
  },
  {
   "cell_type": "code",
   "execution_count": 327,
   "metadata": {
    "ExecuteTime": {
     "end_time": "2020-10-20T05:39:15.518335Z",
     "start_time": "2020-10-20T05:39:15.513053Z"
    }
   },
   "outputs": [
    {
     "data": {
      "text/plain": [
       "'{\"all_awardings\": [], \"archived\": false, \"author\": \"[deleted]\", \"author_created_utc\": null, \"author_flair_background_color\": \"\", \"author_flair_css_class\": null, \"author_flair_template_id\": null, \"author_flair_text\": null, \"author_flair_text_color\": \"dark\", \"author_fullname\": null, \"can_gild\": false, \"can_mod_post\": false, \"category\": null, \"content_categories\": null, \"contest_mode\": false, \"created_utc\": 1554076800, \"distinguished\": null, \"domain\": \"self.AskReddit\", \"edited\": false, \"gilded\": 0, \"gildings\": {}, \"hidden\": false, \"id\": \"b7um2l\", \"is_crosspostable\": false, \"is_meta\": false, \"is_original_content\": false, \"is_reddit_media_domain\": false, \"is_robot_indexable\": false, \"is_self\": true, \"is_video\": false, \"link_flair_background_color\": \"\", \"link_flair_css_class\": null, \"link_flair_richtext\": [], \"link_flair_text\": null, \"link_flair_text_color\": \"dark\", \"link_flair_type\": \"text\", \"locked\": false, \"media\": null, \"media_embed\": {}, \"media_only\": false, \"no_follow\": true, \"num_comments\": 9, \"num_crossposts\": 0, \"over_18\": false, \"parent_whitelist_status\": \"all_ads\", \"permalink\": \"/r/AskReddit/comments/b7um2l/what_stupid_thing_did_you_want_to_be_when_you/\", \"pinned\": false, \"pwls\": 6, \"quarantine\": false, \"removal_reason\": null, \"retrieved_on\": 1560415520, \"score\": 3, \"secure_media\": null, \"secure_media_embed\": {}, \"selftext\": \"[deleted]\", \"send_replies\": true, \"spoiler\": false, \"stickied\": false, \"subreddit\": \"AskReddit\", \"subreddit_id\": \"t5_2qh1i\", \"subreddit_name_prefixed\": \"r/AskReddit\", \"subreddit_subscribers\": 23159358, \"subreddit_type\": \"public\", \"suggested_sort\": null, \"thumbnail\": \"default\", \"thumbnail_height\": null, \"thumbnail_width\": null, \"title\": \"What stupid thing did you want to be when you were a kid?\", \"total_awards_received\": 0, \"url\": \"https://www.reddit.com/r/AskReddit/comments/b7um2l/what_stupid_thing_did_you_want_to_be_when_you/\", \"whitelist_status\": \"all_ads\", \"wls\": 6}'"
      ]
     },
     "execution_count": 327,
     "metadata": {},
     "output_type": "execute_result"
    }
   ],
   "source": [
    "json.dumps(js)"
   ]
  },
  {
   "cell_type": "code",
   "execution_count": null,
   "metadata": {},
   "outputs": [],
   "source": []
  }
 ],
 "metadata": {
  "kernelspec": {
   "display_name": "Python 3",
   "language": "python",
   "name": "python3"
  },
  "language_info": {
   "codemirror_mode": {
    "name": "ipython",
    "version": 3
   },
   "file_extension": ".py",
   "mimetype": "text/x-python",
   "name": "python",
   "nbconvert_exporter": "python",
   "pygments_lexer": "ipython3",
   "version": "3.8.5"
  }
 },
 "nbformat": 4,
 "nbformat_minor": 4
}