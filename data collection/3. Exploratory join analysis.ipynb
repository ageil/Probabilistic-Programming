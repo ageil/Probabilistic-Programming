{
 "cells": [
  {
   "cell_type": "code",
   "execution_count": 31,
   "metadata": {
    "ExecuteTime": {
     "end_time": "2020-10-22T13:33:02.229337Z",
     "start_time": "2020-10-22T13:33:02.190907Z"
    }
   },
   "outputs": [],
   "source": [
    "from asterixdb.asterixdb import AsterixConnection\n",
    "import json\n",
    "from glob import glob\n",
    "import os\n",
    "from datetime import datetime\n",
    "import numpy as np\n",
    "import pandas as pd\n",
    "import seaborn as sns\n",
    "import matplotlib.pyplot as plt\n",
    "# % matplotlib inline"
   ]
  },
  {
   "cell_type": "code",
   "execution_count": 32,
   "metadata": {
    "ExecuteTime": {
     "end_time": "2020-10-22T13:33:02.587619Z",
     "start_time": "2020-10-22T13:33:02.579264Z"
    }
   },
   "outputs": [],
   "source": [
    "con = AsterixConnection(server='http://localhost', port=19002)"
   ]
  },
  {
   "cell_type": "markdown",
   "metadata": {},
   "source": [
    "1. What is the temporal distribution of posts/claims and reviewed posts?\n",
    "    - Look more into Jan + Nov 2017 (joint spikes)\n",
    "- Which topics are more prominent in join?\n",
    "- Which subreddits are more prominent in join?\n",
    "- Who posts the most claims?\n",
    "- Which claims have the most posts?\n",
    "- Which posts are the most commented?\n",
    "- Which posts are the highest scoring?"
   ]
  },
  {
   "cell_type": "markdown",
   "metadata": {},
   "source": [
    "# Raw join"
   ]
  },
  {
   "cell_type": "code",
   "execution_count": 3,
   "metadata": {
    "ExecuteTime": {
     "end_time": "2019-06-05T00:49:12.506732Z",
     "start_time": "2019-06-05T00:49:12.503629Z"
    },
    "collapsed": true
   },
   "outputs": [],
   "source": [
    "# response = con.query('''\n",
    "#     USE FactMap;\n",
    "    \n",
    "#     SELECT u.*\n",
    "#     FROM urljoin u\n",
    "# ''')"
   ]
  },
  {
   "cell_type": "code",
   "execution_count": 33,
   "metadata": {
    "ExecuteTime": {
     "end_time": "2020-10-22T13:33:10.787348Z",
     "start_time": "2020-10-22T13:33:08.835876Z"
    }
   },
   "outputs": [],
   "source": [
    "response = con.query('''\n",
    "    USE FactMap;\n",
    "    \n",
    "    SELECT u.*\n",
    "    FROM fuzzyurljoin u\n",
    "''')"
   ]
  },
  {
   "cell_type": "code",
   "execution_count": 34,
   "metadata": {
    "ExecuteTime": {
     "end_time": "2020-10-22T13:33:10.805493Z",
     "start_time": "2020-10-22T13:33:10.789222Z"
    }
   },
   "outputs": [
    {
     "data": {
      "text/plain": [
       "12079"
      ]
     },
     "execution_count": 34,
     "metadata": {},
     "output_type": "execute_result"
    }
   ],
   "source": [
    "matched = response.results\n",
    "len(matched)"
   ]
  },
  {
   "cell_type": "markdown",
   "metadata": {},
   "source": [
    "Load raw join data:"
   ]
  },
  {
   "cell_type": "code",
   "execution_count": 6,
   "metadata": {
    "ExecuteTime": {
     "end_time": "2019-06-05T00:49:14.768980Z",
     "start_time": "2019-06-05T00:49:14.765662Z"
    }
   },
   "outputs": [],
   "source": [
    "# path = \"/Users/anders1991/Github/FactMap/Data/raw_join.json\"\n",
    "# matched = []\n",
    "\n",
    "# with open(path, 'r') as f:\n",
    "#     for line in f:\n",
    "#          matched.append(json.loads(line))\n",
    "\n",
    "# print(len(matched))"
   ]
  },
  {
   "cell_type": "code",
   "execution_count": 35,
   "metadata": {
    "ExecuteTime": {
     "end_time": "2020-10-22T13:33:13.734202Z",
     "start_time": "2020-10-22T13:33:13.681240Z"
    }
   },
   "outputs": [],
   "source": [
    "claims = [x['r'] for x in matched]\n",
    "posts = [x['p'] for x in matched]"
   ]
  },
  {
   "cell_type": "markdown",
   "metadata": {},
   "source": [
    "# 1. What is the temporal distribution of posts/claims and reviewed posts?"
   ]
  },
  {
   "cell_type": "code",
   "execution_count": 36,
   "metadata": {
    "ExecuteTime": {
     "end_time": "2020-10-22T13:33:16.194295Z",
     "start_time": "2020-10-22T13:33:16.130753Z"
    }
   },
   "outputs": [],
   "source": [
    "df_p = pd.DataFrame(posts)\n",
    "df_p['created_utc'] = df_p['created_utc'].astype(\"datetime64\")"
   ]
  },
  {
   "cell_type": "code",
   "execution_count": 37,
   "metadata": {
    "ExecuteTime": {
     "end_time": "2020-10-22T13:33:20.933598Z",
     "start_time": "2020-10-22T13:33:20.240214Z"
    },
    "scrolled": false
   },
   "outputs": [
    {
     "data": {
      "image/png": "[encoded data removed]",
      "text/plain": [
       "<Figure size 900x180 with 5 Axes>"
      ]
     },
     "metadata": {
      "needs_background": "light"
     },
     "output_type": "display_data"
    }
   ],
   "source": [
    "hist0 = pd.DataFrame(df_p['created_utc'].groupby([df_p['created_utc'].dt.year, df_p['created_utc'].dt.month]).count())\n",
    "hist0.columns = ['count']\n",
    "hist0.reset_index(level=1, inplace=True)\n",
    "hist0.columns = ['month', 'count']\n",
    "hist0.reset_index(inplace=True)\n",
    "hist0.columns = ['year', 'month', 'count']\n",
    "\n",
    "sns.catplot(data=hist0,\n",
    "            x='month', \n",
    "            y='count', \n",
    "            col='year', \n",
    "            col_wrap=5,\n",
    "            height=2.5,\n",
    "            kind='bar',\n",
    "            color='tab:green')\n",
    "# plt.savefig('/Users/anders1991/Desktop/join_posts_by_datetime.png')\n",
    "plt.tight_layout()"
   ]
  },
  {
   "cell_type": "markdown",
   "metadata": {},
   "source": [
    "Compute date range for claims:"
   ]
  },
  {
   "cell_type": "code",
   "execution_count": 38,
   "metadata": {
    "ExecuteTime": {
     "end_time": "2020-10-22T13:33:27.878705Z",
     "start_time": "2020-10-22T13:33:26.614819Z"
    },
    "scrolled": true
   },
   "outputs": [],
   "source": [
    "r = con.query('''\n",
    "    USE FactMap;\n",
    "\n",
    "    SELECT get_year(datetime(r.reviewDate)) as year, \n",
    "    get_month(datetime(r.reviewDate)) as month,\n",
    "    count(*) as count\n",
    "    FROM reviews r\n",
    "    GROUP BY get_year(datetime(r.reviewDate)), get_month(datetime(r.reviewDate))\n",
    "    ORDER BY\n",
    "    get_year(datetime(r.reviewDate)), get_month(datetime(r.reviewDate));\n",
    "    ''')"
   ]
  },
  {
   "cell_type": "code",
   "execution_count": 39,
   "metadata": {
    "ExecuteTime": {
     "end_time": "2020-10-22T13:33:28.926584Z",
     "start_time": "2020-10-22T13:33:28.919042Z"
    },
    "scrolled": true
   },
   "outputs": [],
   "source": [
    "hist1 = pd.DataFrame(r.results)\n",
    "hist1.fillna('-1', inplace=True)\n",
    "hist1['year'] = hist1['year'].astype(int)\n",
    "hist1['month'] = hist1['month'].astype(int)\n",
    "hist1['count'] = hist1['count'].astype(int)"
   ]
  },
  {
   "cell_type": "code",
   "execution_count": 40,
   "metadata": {
    "ExecuteTime": {
     "end_time": "2020-10-22T13:33:34.205308Z",
     "start_time": "2020-10-22T13:33:33.259903Z"
    },
    "scrolled": false
   },
   "outputs": [
    {
     "data": {
      "image/png": "[encoded data removed]",
      "text/plain": [
       "<Figure size 900x360 with 6 Axes>"
      ]
     },
     "metadata": {
      "needs_background": "light"
     },
     "output_type": "display_data"
    }
   ],
   "source": [
    "sns.catplot(data=hist1[hist1[\"year\"]>=2015],\n",
    "            x='month', \n",
    "            y='count', \n",
    "            col='year', \n",
    "            col_wrap=5,\n",
    "            height=2.5,\n",
    "            kind='bar',\n",
    "            color='tab:blue')\n",
    "# plt.savefig('/Users/anders1991/Desktop/reviews_by_datetime.png')\n",
    "plt.tight_layout()"
   ]
  },
  {
   "cell_type": "markdown",
   "metadata": {},
   "source": [
    "Compute the date range for posts:"
   ]
  },
  {
   "cell_type": "code",
   "execution_count": 41,
   "metadata": {
    "ExecuteTime": {
     "end_time": "2020-10-22T14:06:51.692109Z",
     "start_time": "2020-10-22T13:33:42.661027Z"
    },
    "scrolled": true
   },
   "outputs": [],
   "source": [
    "r = con.query('''\n",
    "    USE FactMap;\n",
    "\n",
    "    SELECT get_year(p.created_utc) as year, \n",
    "    get_month(p.created_utc) as month,\n",
    "    count(*) as count\n",
    "    FROM posts p\n",
    "    GROUP BY get_year(p.created_utc), get_month(p.created_utc) \n",
    "    ORDER BY\n",
    "    get_year(p.created_utc), get_month(p.created_utc);\n",
    "    ''')"
   ]
  },
  {
   "cell_type": "code",
   "execution_count": 42,
   "metadata": {
    "ExecuteTime": {
     "end_time": "2020-10-22T14:06:53.032529Z",
     "start_time": "2020-10-22T14:06:51.741511Z"
    },
    "scrolled": false
   },
   "outputs": [
    {
     "data": {
      "image/png": "[encoded data removed]",
      "text/plain": [
       "<Figure size 900x180 with 5 Axes>"
      ]
     },
     "metadata": {
      "needs_background": "light"
     },
     "output_type": "display_data"
    }
   ],
   "source": [
    "hist2 = pd.DataFrame(r.results)\n",
    "hist2['year'] = hist2['year'].astype(int)\n",
    "hist2['month'] = hist2['month'].astype(int)\n",
    "hist2['count'] = hist2['count'].astype(int)\n",
    "\n",
    "ax = sns.catplot(data=hist2,\n",
    "            x='month', \n",
    "            y='count', \n",
    "            col='year', \n",
    "            col_wrap=5,\n",
    "            height=2.5,\n",
    "            kind='bar',\n",
    "            color='tab:red')\n",
    "\n",
    "# plt.savefig('/Users/anders1991/Desktop/posts_by_datetime.png')\n",
    "plt.tight_layout()"
   ]
  },
  {
   "cell_type": "markdown",
   "metadata": {},
   "source": [
    "Compute date range for matching reviews:"
   ]
  },
  {
   "cell_type": "code",
   "execution_count": 59,
   "metadata": {
    "ExecuteTime": {
     "end_time": "2020-10-22T18:06:30.907214Z",
     "start_time": "2020-10-22T18:06:25.023284Z"
    }
   },
   "outputs": [],
   "source": [
    "response = con.query('''\n",
    "    USE FactMap;\n",
    "    \n",
    "    SELECT u.*\n",
    "    FROM facturljoin u\n",
    "''')"
   ]
  },
  {
   "cell_type": "code",
   "execution_count": 60,
   "metadata": {
    "ExecuteTime": {
     "end_time": "2020-10-22T18:06:38.453613Z",
     "start_time": "2020-10-22T18:06:38.342786Z"
    }
   },
   "outputs": [],
   "source": [
    "matched = response.results\n",
    "claims = [x['r'] for x in matched]\n",
    "posts = [x['p'] for x in matched]"
   ]
  },
  {
   "cell_type": "code",
   "execution_count": 61,
   "metadata": {
    "ExecuteTime": {
     "end_time": "2020-10-22T18:07:02.927941Z",
     "start_time": "2020-10-22T18:07:02.823767Z"
    }
   },
   "outputs": [],
   "source": [
    "df_r = pd.DataFrame(posts)\n",
    "df_r['created_utc'] = df_r['created_utc'].astype(\"datetime64\")"
   ]
  },
  {
   "cell_type": "code",
   "execution_count": 64,
   "metadata": {
    "ExecuteTime": {
     "end_time": "2020-10-22T18:07:44.407100Z",
     "start_time": "2020-10-22T18:07:43.727872Z"
    },
    "scrolled": true
   },
   "outputs": [
    {
     "data": {
      "image/png": "[encoded data removed]",
      "text/plain": [
       "<Figure size 900x180 with 5 Axes>"
      ]
     },
     "metadata": {
      "needs_background": "light"
     },
     "output_type": "display_data"
    }
   ],
   "source": [
    "hist3 = pd.DataFrame(df_r['created_utc'].groupby([df_r['created_utc'].dt.year, df_r['created_utc'].dt.month]).count())\n",
    "hist3.columns = ['count']\n",
    "hist3.reset_index(level=1, inplace=True)\n",
    "hist3.columns = ['month', 'count']\n",
    "hist3.reset_index(inplace=True)\n",
    "hist3.columns = ['year', 'month', 'count']\n",
    "\n",
    "sns.catplot(data=hist3,\n",
    "            x='month', \n",
    "            y='count', \n",
    "            col='year', \n",
    "            col_wrap=5,\n",
    "            height=2.5,\n",
    "            kind='bar',\n",
    "            color='tab:green')\n",
    "# plt.savefig('/Users/anders1991/Desktop/join_posts_by_datetime.png')\n",
    "plt.tight_layout()"
   ]
  },
  {
   "cell_type": "markdown",
   "metadata": {},
   "source": [
    "Combined plot"
   ]
  },
  {
   "cell_type": "code",
   "execution_count": 72,
   "metadata": {
    "ExecuteTime": {
     "end_time": "2020-10-22T18:12:12.719355Z",
     "start_time": "2020-10-22T18:12:12.712005Z"
    }
   },
   "outputs": [
    {
     "data": {
      "text/html": [
       "<div>\n",
       "<style scoped>\n",
       "    .dataframe tbody tr th:only-of-type {\n",
       "        vertical-align: middle;\n",
       "    }\n",
       "\n",
       "    .dataframe tbody tr th {\n",
       "        vertical-align: top;\n",
       "    }\n",
       "\n",
       "    .dataframe thead th {\n",
       "        text-align: right;\n",
       "    }\n",
       "</style>\n",
       "<table border=\"1\" class=\"dataframe\">\n",
       "  <thead>\n",
       "    <tr style=\"text-align: right;\">\n",
       "      <th></th>\n",
       "      <th>year</th>\n",
       "      <th>month</th>\n",
       "      <th>count</th>\n",
       "    </tr>\n",
       "  </thead>\n",
       "  <tbody>\n",
       "    <tr>\n",
       "      <th>48</th>\n",
       "      <td>2020</td>\n",
       "      <td>1</td>\n",
       "      <td>268</td>\n",
       "    </tr>\n",
       "    <tr>\n",
       "      <th>49</th>\n",
       "      <td>2020</td>\n",
       "      <td>2</td>\n",
       "      <td>512</td>\n",
       "    </tr>\n",
       "    <tr>\n",
       "      <th>50</th>\n",
       "      <td>2020</td>\n",
       "      <td>3</td>\n",
       "      <td>781</td>\n",
       "    </tr>\n",
       "    <tr>\n",
       "      <th>51</th>\n",
       "      <td>2020</td>\n",
       "      <td>4</td>\n",
       "      <td>592</td>\n",
       "    </tr>\n",
       "  </tbody>\n",
       "</table>\n",
       "</div>"
      ],
      "text/plain": [
       "    year  month  count\n",
       "48  2020      1    268\n",
       "49  2020      2    512\n",
       "50  2020      3    781\n",
       "51  2020      4    592"
      ]
     },
     "execution_count": 72,
     "metadata": {},
     "output_type": "execute_result"
    }
   ],
   "source": [
    "hist3[hist3['year']==2020].head()"
   ]
  },
  {
   "cell_type": "code",
   "execution_count": 93,
   "metadata": {
    "ExecuteTime": {
     "end_time": "2020-10-23T00:56:05.667567Z",
     "start_time": "2020-10-23T00:56:02.542894Z"
    }
   },
   "outputs": [
    {
     "data": {
      "image/png": "[encoded data removed]",
      "text/plain": [
       "<Figure size 1152x720 with 21 Axes>"
      ]
     },
     "metadata": {
      "needs_background": "light"
     },
     "output_type": "display_data"
    }
   ],
   "source": [
    "plt.figure(figsize=(16,10))\n",
    "\n",
    "plt.subplot(4,6,1)\n",
    "plt.bar(hist1[hist1['year']==2015]['month'], hist1[hist1['year']==2015]['count'], color='tab:blue')\n",
    "plt.xlim(0,13)\n",
    "plt.ylim(0, 6000)\n",
    "plt.xticks(range(1,13))\n",
    "plt.title('2015')\n",
    "plt.xlabel(\"Month\")\n",
    "plt.ylabel(\"Number of reviews (ClaimReview)\")\n",
    "\n",
    "plt.subplot(4,6,2)\n",
    "plt.bar(hist1[hist1['year']==2016]['month'], hist1[hist1['year']==2016]['count'], color='tab:blue')\n",
    "plt.xlim(0,13)\n",
    "plt.ylim(0, 6000)\n",
    "plt.xticks(range(1,13))\n",
    "plt.title('2016')\n",
    "\n",
    "plt.subplot(4,6,3)\n",
    "plt.bar(hist1[hist1['year']==2017]['month'], hist1[hist1['year']==2017]['count'], color='tab:blue')\n",
    "plt.xlim(0,13)\n",
    "plt.ylim(0, 6000)\n",
    "plt.xticks(range(1,13))\n",
    "plt.title('2017')\n",
    "\n",
    "plt.subplot(4,6,4)\n",
    "plt.bar(hist1[hist1['year']==2018]['month'], hist1[hist1['year']==2018]['count'], color='tab:blue')\n",
    "plt.xlim(0,13)\n",
    "plt.ylim(0, 6000)\n",
    "plt.xticks(range(1,13))\n",
    "plt.title('2018')\n",
    "\n",
    "plt.subplot(4,6,5)\n",
    "plt.bar(hist1[hist1['year']==2019]['month'], hist1[hist1['year']==2019]['count'], color='tab:blue')\n",
    "plt.xlim(0,13)\n",
    "plt.ylim(0, 6000)\n",
    "plt.xticks(range(1,13))\n",
    "plt.title('2019')\n",
    "\n",
    "plt.subplot(4,6,6)\n",
    "plt.bar(hist1[hist1['year']==2020]['month'], hist1[hist1['year']==2020]['count'], color='tab:blue')\n",
    "plt.xlim(0,13)\n",
    "plt.ylim(0, 6000)\n",
    "plt.xticks(range(1,13))\n",
    "plt.title('2020')\n",
    "\n",
    "\n",
    "plt.subplot(4,6,8)\n",
    "plt.bar(hist0[hist0['year']==2016]['month'], hist0[hist0['year']==2016]['count'], color='tab:green')\n",
    "plt.xlim(0,13)\n",
    "plt.ylim(0, 1000)\n",
    "plt.xticks(range(1,13))\n",
    "plt.ylabel(\"Number of matching news\")\n",
    "\n",
    "plt.subplot(4,6,9)\n",
    "plt.bar(hist0[hist0['year']==2017]['month'], hist0[hist0['year']==2017]['count'], color='tab:green')\n",
    "plt.xlim(0,13)\n",
    "plt.ylim(0, 1000)\n",
    "plt.xticks(range(1,13))\n",
    "\n",
    "plt.subplot(4,6,10)\n",
    "plt.bar(hist0[hist0['year']==2018]['month'], hist0[hist0['year']==2018]['count'], color='tab:green')\n",
    "plt.xlim(0,13)\n",
    "plt.ylim(0, 1000)\n",
    "plt.xticks(range(1,13))\n",
    "\n",
    "plt.subplot(4,6,11)\n",
    "plt.bar(hist0[hist0['year']==2019]['month'], hist0[hist0['year']==2019]['count'], color='tab:green')\n",
    "plt.xlim(0,13)\n",
    "plt.ylim(0, 1000)\n",
    "plt.xticks(range(1,13))\n",
    "\n",
    "plt.subplot(4,6,12)\n",
    "plt.bar(hist0[hist0['year']==2020]['month'], hist0[hist0['year']==2020]['count'], color='tab:green')\n",
    "plt.xlim(0,13)\n",
    "plt.ylim(0, 1000)\n",
    "plt.xticks(range(1,13))\n",
    "\n",
    "\n",
    "plt.subplot(4,6,14)\n",
    "plt.bar(hist3[hist3['year']==2016]['month'], hist3[hist3['year']==2016]['count'], color='tab:green')\n",
    "plt.xlim(0,13)\n",
    "plt.ylim(0, 1200)\n",
    "plt.xticks(range(1,13))\n",
    "plt.xlabel(\"Month\")\n",
    "plt.ylabel(\"Number of matching corrections\")\n",
    "\n",
    "plt.subplot(4,6,15)\n",
    "plt.bar(hist3[hist3['year']==2017]['month'], hist3[hist3['year']==2017]['count'], color='tab:green')\n",
    "plt.xlim(0,13)\n",
    "plt.ylim(0, 1200)\n",
    "plt.xticks(range(1,13))\n",
    "plt.xlabel(\"Month\")\n",
    "\n",
    "plt.subplot(4,6,16)\n",
    "plt.bar(hist3[hist3['year']==2018]['month'], hist3[hist3['year']==2018]['count'], color='tab:green')\n",
    "plt.xlim(0,13)\n",
    "plt.ylim(0, 1200)\n",
    "plt.xticks(range(1,13))\n",
    "plt.xlabel(\"Month\")\n",
    "\n",
    "plt.subplot(4,6,17)\n",
    "plt.bar(hist3[hist3['year']==2019]['month'], hist3[hist3['year']==2019]['count'], color='tab:green')\n",
    "plt.xlim(0,13)\n",
    "plt.ylim(0, 1200)\n",
    "plt.xticks(range(1,13))\n",
    "plt.xlabel(\"Month\")\n",
    "\n",
    "plt.subplot(4,6,18)\n",
    "plt.bar(hist3[hist3['year']==2020]['month'], hist3[hist3['year']==2020]['count'], color='tab:green')\n",
    "plt.xlim(0,13)\n",
    "plt.ylim(0, 1200)\n",
    "plt.xticks(range(1,13))\n",
    "plt.xlabel(\"Month\")\n",
    "\n",
    "\n",
    "plt.subplot(4,6,20)\n",
    "plt.bar(hist2[hist2['year']==2016]['month'], hist2[hist2['year']==2016]['count'], color='tab:red')\n",
    "plt.xlim(0,13)\n",
    "plt.ylim(0, 3e7)\n",
    "plt.xticks(range(1,13))\n",
    "plt.xlabel(\"Month\")\n",
    "plt.ylabel(\"Number of posts (Reddit)\")\n",
    "plt.ticklabel_format(style='sci', axis='y', scilimits=(0,0))\n",
    "\n",
    "plt.subplot(4,6,21)\n",
    "plt.bar(hist2[hist2['year']==2017]['month'], hist2[hist2['year']==2017]['count'], color='tab:red')\n",
    "plt.xlim(0,13)\n",
    "plt.ylim(0, 3e7)\n",
    "plt.xticks(range(1,13))\n",
    "plt.xlabel(\"Month\")\n",
    "plt.ticklabel_format(style='sci', axis='y', scilimits=(0,0))\n",
    "\n",
    "plt.subplot(4,6,22)\n",
    "plt.bar(hist2[hist2['year']==2018]['month'], hist2[hist2['year']==2018]['count'], color='tab:red')\n",
    "plt.xlim(0,13)\n",
    "plt.ylim(0, 3e7)\n",
    "plt.xticks(range(1,13))\n",
    "plt.xlabel(\"Month\")\n",
    "plt.ticklabel_format(style='sci', axis='y', scilimits=(0,0))\n",
    "\n",
    "plt.subplot(4,6,23)\n",
    "plt.bar(hist2[hist2['year']==2019]['month'], hist2[hist2['year']==2019]['count'], color='tab:red')\n",
    "plt.xlim(0,13)\n",
    "plt.ylim(0, 3e7)\n",
    "plt.xticks(range(1,13))\n",
    "plt.xlabel(\"Month\")\n",
    "plt.ticklabel_format(style='sci', axis='y', scilimits=(0,0))\n",
    "\n",
    "plt.subplot(4,6,24)\n",
    "plt.bar(hist2[hist2['year']==2020]['month'], hist2[hist2['year']==2020]['count'], color='tab:red')\n",
    "plt.xlim(0,13)\n",
    "plt.ylim(0, 3e7)\n",
    "plt.xticks(range(1,13))\n",
    "plt.xlabel(\"Month\")\n",
    "plt.ticklabel_format(style='sci', axis='y', scilimits=(0,0))\n",
    "\n",
    "plt.tight_layout()\n",
    "# plt.savefig('/Users/ageil/Desktop/join_distribution.png')"
   ]
  },
  {
   "cell_type": "markdown",
   "metadata": {},
   "source": [
    "## 1a. Look more into Jan 2017 (spike)"
   ]
  },
  {
   "cell_type": "code",
   "execution_count": 87,
   "metadata": {
    "ExecuteTime": {
     "end_time": "2020-10-22T18:25:47.582137Z",
     "start_time": "2020-10-22T18:25:47.579306Z"
    }
   },
   "outputs": [],
   "source": [
    "def str2Date(stringdate):\n",
    "    date = datetime.strptime(stringdate, '%Y-%m-%dT%H:%M:%S.%fZ')\n",
    "    return date"
   ]
  },
  {
   "cell_type": "code",
   "execution_count": 88,
   "metadata": {
    "ExecuteTime": {
     "end_time": "2020-10-22T18:25:48.099161Z",
     "start_time": "2020-10-22T18:25:47.877274Z"
    }
   },
   "outputs": [
    {
     "name": "stdout",
     "output_type": "stream",
     "text": [
      "1/2017: 360\n"
     ]
    }
   ],
   "source": [
    "c2017_1 = []\n",
    "\n",
    "for c in claims:\n",
    "    if c['claimDate']:\n",
    "        dt = str2Date(c['claimDate'])\n",
    "        if dt.year == 2017 and dt.month == 1:\n",
    "            c2017_1.append(c)\n",
    "            \n",
    "print('1/2017:', len(c2017_1))"
   ]
  },
  {
   "cell_type": "code",
   "execution_count": 89,
   "metadata": {
    "ExecuteTime": {
     "end_time": "2020-10-22T18:25:49.965763Z",
     "start_time": "2020-10-22T18:25:49.811712Z"
    },
    "scrolled": false
   },
   "outputs": [
    {
     "name": "stdout",
     "output_type": "stream",
     "text": [
      "# topics in 1/2017: 1649\n",
      "\n",
      "Interview                                     53\n",
      "News conference                               41\n",
      "Donald Trump                                  41\n",
      "United States of America                      39\n",
      "Email                                         28\n",
      "Tax                                           27\n",
      "The White House                               27\n",
      "California                                    27\n",
      "Patient Protection and Affordable Care Act    26\n",
      "Percentage                                    26\n",
      "dtype: int64\n",
      "\n"
     ]
    },
    {
     "data": {
      "image/png": "[encoded data removed]",
      "text/plain": [
       "<Figure size 432x288 with 1 Axes>"
      ]
     },
     "metadata": {
      "needs_background": "light"
     },
     "output_type": "display_data"
    },
    {
     "name": "stdout",
     "output_type": "stream",
     "text": [
      "Claims:\n"
     ]
    },
    {
     "data": {
      "text/plain": [
       "{'\"A poll just came out on my inauguration speech. … People loved it. Loved and liked.\"',\n",
       " '\"African American unemployment is the lowest ever recorded in our country. The Hispanic unemployment rate dropped a full point in the last year and is close to the lowest in recorded history. Dems did nothing for you but get your vote!\"',\n",
       " '\"An estimated 8 million children worldwide live in orphanages or residential institutions. Shockingly, 80 percent of these children are not orphans.\"',\n",
       " '\"Economic growth has surged past 3 percent, something that wasn’t supposed to happen for a long time. We’re way ahead of schedule.\"',\n",
       " '\"Eleven individuals who make over $30 million each got $22 million credit\" from Wisconsin\\'s manufacturing and agriculture tax credit.',\n",
       " '\"House GOP rules package bars CBO from counting spikes in deficit spending spurred by an ACA repeal.\"',\n",
       " '\"I didn\\'t say there are millions (of illegal votes).\"',\n",
       " '\"I have never lobbied against sanctions personally... to my knowledge, Exxon never directly lobbied against sanctions.',\n",
       " '\"I have never once raised the county tax levy -- not for seven straight years.\"',\n",
       " '\"ISIS is already using the rhetoric from the Trump administration, the text of this executive order, to incite attacks against us and to recruit more terrorists to their side.\"',\n",
       " '\"If you were a Muslim, you could come in, if you were a Christian, it was impossible.\"',\n",
       " '\"In Florida, 70 percent of the people here illegally came on an airplane. They overstayed a visa.\"',\n",
       " '\"In terms of a total audience including television and everything else that you have we had supposedly the biggest crowd in history.\"',\n",
       " '\"Mostly Democrat states refused to hand over data\" that could show election fraud.',\n",
       " '\"My policy is similar to what President Obama did in 2011 when he banned visas for refugees from Iraq for six months.\"',\n",
       " '\"Obamacare has failed.\"',\n",
       " '\"Pads and tampons (are) still taxed when Viagra and Rogaine are not.\"',\n",
       " '\"Paying for a hotel room is not a gift or a present and it has nothing to do with an office. It\\'s not an emolument.\"',\n",
       " '\"That was the largest audience to witness an inauguration, period.\"',\n",
       " '\"The various people who have, in fact, committed terrorist acts in this country, from 9/11 on, none of them came from any of the seven countries that are the subject of the president\\'s executive order.\"',\n",
       " '\"The vast majority of people that got insurance under President Obama\\'s Obamacare, the Affordable Care Act, got it through Medicaid.\"',\n",
       " '\"There\\'s one (study) that came out of Pew in 2008 that showed 14 percent of people who voted were noncitizens.\"',\n",
       " '\"We give (foreign aid) to developing countries, and 70 percent of it\\'s stolen off the top.\"',\n",
       " 'Activities by foreign governments had \"absolutely no effect on the outcome of this election.\"',\n",
       " 'Americans don\\'t \"care at all\" about Donald Trump\\'s tax returns.',\n",
       " 'California has \"the highest poverty rate in the nation\" when considering the U.S. Census Bureau’s Supplemental Poverty Measure.',\n",
       " 'California is 41st in the nation in per pupil K-12 spending, but \"No. 1 in per prisoner\" spending.',\n",
       " 'Claims Christians have “been horribly treated” by the refugee program and that it has been “almost impossible” for Syrian Christians to resettle in the U.S.',\n",
       " 'In the United States, \"we tax our exports and don\\'t tax our imports.\"',\n",
       " 'Obamacare \"is in what the actuaries call a death spiral.\"',\n",
       " 'Obamacare is \"hurting people right now\" with premium increases of up to 116 percent.',\n",
       " 'Says \"Obama orders life-sized bronze statue of himself to be permanently installed in White House.\"',\n",
       " 'Says Donald Trump campaigned on not cutting Medicare and Social Security, but his nominee for the Secretary of Health and Human Services, Tom Price, \"made his career on cutting Medicare and Medicaid.\"',\n",
       " 'Says Donald Trump\\'s abortion rule \"puts at risk 15 times more funding and millions more women and families ... than previous similar policies by Republican presidents.\"',\n",
       " 'Says Hillary Clinton campaign chairman John Podesta’s email password was \"password.\"',\n",
       " 'Says John Podesta’s email password was \"password.\"',\n",
       " 'Says President Donald Trump’s \"executive order leads to capture of ISIS leader, Rasheed Muhammad.\"',\n",
       " 'Says former President Barack Obama \"took similar action against Cuban refugees\" as President Donald Trump did in his executive order.',\n",
       " 'The Russians \"tried to hack the Republican National Committee, and they were unable to break through.\"',\n",
       " 'The inauguration of Donald Trump \"will be the first one that I miss since I\\'ve been in Congress.\"',\n",
       " 'The language that\\'s part of the president\\'s National Security Council memo \"is identical to the language\" used by President George W. Bush in 2001 and President Barack Obama in 2009.',\n",
       " 'The new tax law is \"kicking the American economy into high gear with $5.5 trillion in tax cuts.\"',\n",
       " 'The seven nations identified in Donald Trump\\'s travel ban were \"identified by the Obama administration as the seven most dangerous countries in the world in regard to harboring terrorists.\"',\n",
       " 'The uninsured rate in California reached \"a historic low of 7.4 percent in 2016.\"',\n",
       " 'There has been a \"dramatic expansion of the federal workforce in recent years.\"',\n",
       " 'Tweeted that Bill Clinton called the Affordable Care Act \"CRAZY\" and Minnesota Gov. Mark Dayton said the law “is no longer affordable.”',\n",
       " 'What was that House GOP ethics vote about?',\n",
       " 'Wisconsin property taxes, as a percentage of personal income, \"are the lowest that they\\'ve been since the end of World War II.\"',\n",
       " 'İDDİA / Video: ABD’li general Wesley Clark “DAEŞ’i biz kurduk” dedi.'}"
      ]
     },
     "execution_count": 89,
     "metadata": {},
     "output_type": "execute_result"
    }
   ],
   "source": [
    "topics17_1 = []\n",
    "for c in c2017_1:\n",
    "    for t in c['tagsNamed']:\n",
    "        topics17_1.append(t['keyword'])\n",
    "\n",
    "print('# topics in 1/2017:', len(topics17_1))\n",
    "print()\n",
    "\n",
    "jan17_top10 = pd.Series(topics17_1).value_counts().nlargest(10)\n",
    "print(jan17_top10)\n",
    "print()\n",
    "\n",
    "plt.barh(jan17_top10.index, jan17_top10, color='tab:blue')\n",
    "plt.gca().invert_yaxis()\n",
    "plt.xlabel('Number of claims')\n",
    "# plt.savefig('/Users/anders1991/Desktop/topics_jan17.png', bbox_inches='tight')\n",
    "plt.show()\n",
    "\n",
    "# Inauguration of Trump (20/1/2017)\n",
    "# Trump tax returns\n",
    "# Republican National Committee hacking\n",
    "# Border tax on companies leaving the US\n",
    "\n",
    "jan17_stories = set()\n",
    "for c in c2017_1:\n",
    "    for t in c['tagsNamed']:\n",
    "        if t['keyword'] in list(jan17_top10.index):\n",
    "            jan17_stories.add(c['claimReviewed'])\n",
    "print('Claims:')\n",
    "jan17_stories"
   ]
  },
  {
   "cell_type": "markdown",
   "metadata": {},
   "source": [
    "# 2. Which topics are more prominent in join?"
   ]
  },
  {
   "cell_type": "code",
   "execution_count": 22,
   "metadata": {
    "ExecuteTime": {
     "end_time": "2019-06-05T00:42:08.214123Z",
     "start_time": "2019-06-05T00:42:08.164394Z"
    }
   },
   "outputs": [
    {
     "name": "stdout",
     "output_type": "stream",
     "text": [
      "Num topics found in ClaimReviews:\t 1917\n",
      "Donald Trump 1096\n",
      "United States of America 867\n",
      "Democratic Party 502\n",
      "Fact 454\n",
      "The White House 413\n",
      "Fact checking 402\n",
      "Republican Party 361\n",
      "Hillary Clinton 321\n",
      "Barack Obama 320\n",
      "Tax 305\n"
     ]
    }
   ],
   "source": [
    "tpc = dict()\n",
    "\n",
    "for m in matched:\n",
    "    for t in m['r']['tagsNamed']:\n",
    "        if t['keyword'] in tpc.keys():\n",
    "            tpc[t['keyword']] += 1\n",
    "        else:\n",
    "            tpc[t['keyword']] = 1\n",
    "\n",
    "print('Num topics found in ClaimReviews:\\t', len(tpc))\n",
    "\n",
    "top_tpc = sorted(tpc, key=tpc.get, reverse=True)[:10]\n",
    "\n",
    "for c in top_tpc:\n",
    "    print(c, tpc[c])"
   ]
  },
  {
   "cell_type": "code",
   "execution_count": 23,
   "metadata": {
    "ExecuteTime": {
     "end_time": "2019-06-05T00:42:11.559723Z",
     "start_time": "2019-06-05T00:42:11.324692Z"
    }
   },
   "outputs": [
    {
     "data": {
      "image/png": "[encoded data removed]",
      "text/plain": [
       "<Figure size 432x288 with 1 Axes>"
      ]
     },
     "metadata": {},
     "output_type": "display_data"
    }
   ],
   "source": [
    "plt.barh(top_tpc, [tpc[c] for c in top_tpc], color='tab:blue')\n",
    "plt.gca().invert_yaxis()\n",
    "plt.xlabel('Number of claims')\n",
    "# plt.savefig('/Users/anders1991/Desktop/top_topics.png', bbox_inches='tight')\n",
    "plt.show()"
   ]
  },
  {
   "cell_type": "markdown",
   "metadata": {},
   "source": [
    "# 3. Which subreddits are more prominent in join?"
   ]
  },
  {
   "cell_type": "code",
   "execution_count": 24,
   "metadata": {
    "ExecuteTime": {
     "end_time": "2019-06-05T00:42:15.121799Z",
     "start_time": "2019-06-05T00:42:14.922600Z"
    }
   },
   "outputs": [
    {
     "data": {
      "image/png": "[encoded data removed]",
      "text/plain": [
       "<Figure size 432x288 with 1 Axes>"
      ]
     },
     "metadata": {},
     "output_type": "display_data"
    }
   ],
   "source": [
    "top_subs = df_p.groupby('subreddit').count()['id'].nlargest(10)\n",
    "top_subs = pd.DataFrame(top_subs).reset_index()\n",
    "top_subs.columns = ['subreddit', 'count']\n",
    "\n",
    "plt.barh(top_subs['subreddit'], top_subs['count'])\n",
    "plt.gca().invert_yaxis()\n",
    "plt.ylabel('')\n",
    "plt.xlabel('Number of (reviewed) posts')\n",
    "# plt.savefig('/Users/anders1991/Desktop/top_subreddits.png', bbox_inches='tight')\n",
    "plt.show()"
   ]
  },
  {
   "cell_type": "markdown",
   "metadata": {},
   "source": [
    "# 4. Which source URL domains are more prominent in join?"
   ]
  },
  {
   "cell_type": "code",
   "execution_count": 25,
   "metadata": {
    "ExecuteTime": {
     "end_time": "2019-06-05T00:42:16.466996Z",
     "start_time": "2019-06-05T00:42:16.266714Z"
    }
   },
   "outputs": [
    {
     "name": "stdout",
     "output_type": "stream",
     "text": [
      "domain\n",
      "donaldjtrump.com    1958\n",
      "whitehouse.gov      1657\n",
      "twitter.com         1384\n",
      "youtube.com          332\n",
      "foxnews.com          209\n",
      "cnn.com              208\n",
      "usatoday.com         157\n",
      "nytimes.com          130\n",
      "yournewswire.com     102\n",
      "bbc.com               99\n",
      "Name: id, dtype: int64\n"
     ]
    },
    {
     "data": {
      "image/png": "[encoded data removed]",
      "text/plain": [
       "<Figure size 432x288 with 1 Axes>"
      ]
     },
     "metadata": {},
     "output_type": "display_data"
    }
   ],
   "source": [
    "freq = df_p.groupby(['domain']).count()\n",
    "top_domains = freq.sort_values(by='id', ascending=False)['id'].nlargest(10)\n",
    "print(top_domains)\n",
    "\n",
    "plt.barh(top_domains.index, top_domains)\n",
    "plt.gca().invert_yaxis()\n",
    "plt.ylabel('')\n",
    "plt.xlabel('Number of (reviewed) posts')\n",
    "# plt.savefig('/Users/anders1991/Desktop/top_domains.png', bbox_inches='tight')\n",
    "plt.show()"
   ]
  },
  {
   "cell_type": "markdown",
   "metadata": {},
   "source": [
    "# 5. Who posts the most of the reviewed claims?"
   ]
  },
  {
   "cell_type": "code",
   "execution_count": 26,
   "metadata": {
    "ExecuteTime": {
     "end_time": "2019-06-05T00:42:18.357965Z",
     "start_time": "2019-06-05T00:42:18.138867Z"
    }
   },
   "outputs": [
    {
     "name": "stdout",
     "output_type": "stream",
     "text": [
      "author\n",
      "[deleted]            1395\n",
      "BirdieBroBot          259\n",
      "News_Release_Bot      157\n",
      "rTrumpTweetsBot       133\n",
      "thefeedbot             93\n",
      "Usa_redrix             89\n",
      "stargazingtrek         89\n",
      "DDays                  89\n",
      "Dances_with_Slavs      89\n",
      "JanVincent             89\n",
      "awgreen3               89\n",
      "soalone34              89\n",
      "KilKidd                89\n",
      "StrongDad1978          89\n",
      "BedriddenSam           89\n",
      "Name: id, dtype: int64\n"
     ]
    },
    {
     "data": {
      "image/png": "[encoded data removed]",
      "text/plain": [
       "<Figure size 432x288 with 1 Axes>"
      ]
     },
     "metadata": {},
     "output_type": "display_data"
    }
   ],
   "source": [
    "freq = df_p.groupby(['author']).count()\n",
    "top_domains = freq.sort_values(by='id', ascending=False)['id'].nlargest(15)\n",
    "print(top_domains)\n",
    "\n",
    "plt.barh(top_domains.index, top_domains)\n",
    "plt.gca().invert_yaxis()\n",
    "plt.ylabel('')\n",
    "plt.xlabel('Number of (reviewed) posts')\n",
    "# plt.savefig('/Users/anders1991/Desktop/top_users_no_bots.png', bbox_inches='tight')\n",
    "plt.show()"
   ]
  },
  {
   "cell_type": "markdown",
   "metadata": {},
   "source": [
    "# 6. Which posts are the most commented?"
   ]
  },
  {
   "cell_type": "code",
   "execution_count": 27,
   "metadata": {
    "ExecuteTime": {
     "end_time": "2019-06-05T00:42:20.970423Z",
     "start_time": "2019-06-05T00:42:20.922578Z"
    }
   },
   "outputs": [
    {
     "data": {
      "text/html": [
       "<div>\n",
       "<style scoped>\n",
       "    .dataframe tbody tr th:only-of-type {\n",
       "        vertical-align: middle;\n",
       "    }\n",
       "\n",
       "    .dataframe tbody tr th {\n",
       "        vertical-align: top;\n",
       "    }\n",
       "\n",
       "    .dataframe thead th {\n",
       "        text-align: right;\n",
       "    }\n",
       "</style>\n",
       "<table border=\"1\" class=\"dataframe\">\n",
       "  <thead>\n",
       "    <tr style=\"text-align: right;\">\n",
       "      <th></th>\n",
       "      <th>author</th>\n",
       "      <th>subreddit</th>\n",
       "      <th>domain</th>\n",
       "      <th>title</th>\n",
       "      <th>num_comments</th>\n",
       "    </tr>\n",
       "  </thead>\n",
       "  <tbody>\n",
       "    <tr>\n",
       "      <th>2736</th>\n",
       "      <td>T-Rex_Is_best</td>\n",
       "      <td>television</td>\n",
       "      <td>youtube.com</td>\n",
       "      <td>Jimmy Kimmel on Mass Shooting in Las Vegas</td>\n",
       "      <td>8007</td>\n",
       "    </tr>\n",
       "    <tr>\n",
       "      <th>3278</th>\n",
       "      <td>Obandigo</td>\n",
       "      <td>news</td>\n",
       "      <td>apnews.com</td>\n",
       "      <td>Senate panel receives FBI report on Kavanaugh</td>\n",
       "      <td>5041</td>\n",
       "    </tr>\n",
       "    <tr>\n",
       "      <th>1055</th>\n",
       "      <td>ipgof</td>\n",
       "      <td>movies</td>\n",
       "      <td>nytimes.com</td>\n",
       "      <td>Asia Argento, Who Accused Weinstein, Made Deal...</td>\n",
       "      <td>3300</td>\n",
       "    </tr>\n",
       "    <tr>\n",
       "      <th>3539</th>\n",
       "      <td>speckz</td>\n",
       "      <td>politics</td>\n",
       "      <td>washingtonexaminer.com</td>\n",
       "      <td>Trump's tariffs now cost Americans more than O...</td>\n",
       "      <td>2842</td>\n",
       "    </tr>\n",
       "    <tr>\n",
       "      <th>3310</th>\n",
       "      <td>Faefyre</td>\n",
       "      <td>politics</td>\n",
       "      <td>huffingtonpost.com</td>\n",
       "      <td>NRA Convention Bans Guns To Protect Mike Pence...</td>\n",
       "      <td>2818</td>\n",
       "    </tr>\n",
       "    <tr>\n",
       "      <th>7015</th>\n",
       "      <td>PutinsPawn</td>\n",
       "      <td>politics</td>\n",
       "      <td>thinkprogress.org</td>\n",
       "      <td>Brett Kavanaugh said he would kill Roe v. Wade...</td>\n",
       "      <td>1878</td>\n",
       "    </tr>\n",
       "    <tr>\n",
       "      <th>128</th>\n",
       "      <td>i_am_team_stark</td>\n",
       "      <td>dataisbeautiful</td>\n",
       "      <td>tylervigen.com</td>\n",
       "      <td>The useless correlation between US spending on...</td>\n",
       "      <td>1440</td>\n",
       "    </tr>\n",
       "    <tr>\n",
       "      <th>955</th>\n",
       "      <td>firststate007</td>\n",
       "      <td>The_Donald</td>\n",
       "      <td>twitter.com</td>\n",
       "      <td>Just out — in Arizona, SIGNATURES DON’T MATCH....</td>\n",
       "      <td>1264</td>\n",
       "    </tr>\n",
       "    <tr>\n",
       "      <th>1640</th>\n",
       "      <td>slakmehl</td>\n",
       "      <td>politics</td>\n",
       "      <td>docs.house.gov</td>\n",
       "      <td>RE: Correcting the Record - The Russia Investi...</td>\n",
       "      <td>1242</td>\n",
       "    </tr>\n",
       "    <tr>\n",
       "      <th>3300</th>\n",
       "      <td>bipolar_sky_fairy</td>\n",
       "      <td>atheism</td>\n",
       "      <td>lgbtqnation.com</td>\n",
       "      <td>Republicans vote to make it legal nationwide t...</td>\n",
       "      <td>1228</td>\n",
       "    </tr>\n",
       "  </tbody>\n",
       "</table>\n",
       "</div>"
      ],
      "text/plain": [
       "                 author        subreddit                  domain  \\\n",
       "2736      T-Rex_Is_best       television             youtube.com   \n",
       "3278           Obandigo             news              apnews.com   \n",
       "1055              ipgof           movies             nytimes.com   \n",
       "3539             speckz         politics  washingtonexaminer.com   \n",
       "3310            Faefyre         politics      huffingtonpost.com   \n",
       "7015         PutinsPawn         politics       thinkprogress.org   \n",
       "128     i_am_team_stark  dataisbeautiful          tylervigen.com   \n",
       "955       firststate007       The_Donald             twitter.com   \n",
       "1640           slakmehl         politics          docs.house.gov   \n",
       "3300  bipolar_sky_fairy          atheism         lgbtqnation.com   \n",
       "\n",
       "                                                  title  num_comments  \n",
       "2736         Jimmy Kimmel on Mass Shooting in Las Vegas          8007  \n",
       "3278      Senate panel receives FBI report on Kavanaugh          5041  \n",
       "1055  Asia Argento, Who Accused Weinstein, Made Deal...          3300  \n",
       "3539  Trump's tariffs now cost Americans more than O...          2842  \n",
       "3310  NRA Convention Bans Guns To Protect Mike Pence...          2818  \n",
       "7015  Brett Kavanaugh said he would kill Roe v. Wade...          1878  \n",
       "128   The useless correlation between US spending on...          1440  \n",
       "955   Just out — in Arizona, SIGNATURES DON’T MATCH....          1264  \n",
       "1640  RE: Correcting the Record - The Russia Investi...          1242  \n",
       "3300  Republicans vote to make it legal nationwide t...          1228  "
      ]
     },
     "execution_count": 27,
     "metadata": {},
     "output_type": "execute_result"
    }
   ],
   "source": [
    "top_comments = df_p.drop_duplicates().nlargest(10, 'num_comments')\n",
    "top_comments = top_comments[['author', 'subreddit', 'domain', 'title', 'num_comments']]\n",
    "top_comments"
   ]
  },
  {
   "cell_type": "markdown",
   "metadata": {},
   "source": [
    "# 7. Which posts are the highest scoring?"
   ]
  },
  {
   "cell_type": "code",
   "execution_count": 28,
   "metadata": {
    "ExecuteTime": {
     "end_time": "2019-06-05T00:42:22.265936Z",
     "start_time": "2019-06-05T00:42:22.232560Z"
    }
   },
   "outputs": [
    {
     "data": {
      "text/html": [
       "<div>\n",
       "<style scoped>\n",
       "    .dataframe tbody tr th:only-of-type {\n",
       "        vertical-align: middle;\n",
       "    }\n",
       "\n",
       "    .dataframe tbody tr th {\n",
       "        vertical-align: top;\n",
       "    }\n",
       "\n",
       "    .dataframe thead th {\n",
       "        text-align: right;\n",
       "    }\n",
       "</style>\n",
       "<table border=\"1\" class=\"dataframe\">\n",
       "  <thead>\n",
       "    <tr style=\"text-align: right;\">\n",
       "      <th></th>\n",
       "      <th>author</th>\n",
       "      <th>subreddit</th>\n",
       "      <th>domain</th>\n",
       "      <th>title</th>\n",
       "      <th>score</th>\n",
       "    </tr>\n",
       "  </thead>\n",
       "  <tbody>\n",
       "    <tr>\n",
       "      <th>3539</th>\n",
       "      <td>speckz</td>\n",
       "      <td>politics</td>\n",
       "      <td>washingtonexaminer.com</td>\n",
       "      <td>Trump's tariffs now cost Americans more than O...</td>\n",
       "      <td>43697</td>\n",
       "    </tr>\n",
       "    <tr>\n",
       "      <th>7015</th>\n",
       "      <td>PutinsPawn</td>\n",
       "      <td>politics</td>\n",
       "      <td>thinkprogress.org</td>\n",
       "      <td>Brett Kavanaugh said he would kill Roe v. Wade...</td>\n",
       "      <td>32095</td>\n",
       "    </tr>\n",
       "    <tr>\n",
       "      <th>128</th>\n",
       "      <td>i_am_team_stark</td>\n",
       "      <td>dataisbeautiful</td>\n",
       "      <td>tylervigen.com</td>\n",
       "      <td>The useless correlation between US spending on...</td>\n",
       "      <td>26719</td>\n",
       "    </tr>\n",
       "    <tr>\n",
       "      <th>3310</th>\n",
       "      <td>Faefyre</td>\n",
       "      <td>politics</td>\n",
       "      <td>huffingtonpost.com</td>\n",
       "      <td>NRA Convention Bans Guns To Protect Mike Pence...</td>\n",
       "      <td>23699</td>\n",
       "    </tr>\n",
       "    <tr>\n",
       "      <th>2736</th>\n",
       "      <td>T-Rex_Is_best</td>\n",
       "      <td>television</td>\n",
       "      <td>youtube.com</td>\n",
       "      <td>Jimmy Kimmel on Mass Shooting in Las Vegas</td>\n",
       "      <td>19782</td>\n",
       "    </tr>\n",
       "    <tr>\n",
       "      <th>5186</th>\n",
       "      <td>XoT3K</td>\n",
       "      <td>funny</td>\n",
       "      <td>alternative-science.com</td>\n",
       "      <td>Elon Musk Offers To Buy And Then Delete Facebook</td>\n",
       "      <td>19113</td>\n",
       "    </tr>\n",
       "    <tr>\n",
       "      <th>1055</th>\n",
       "      <td>ipgof</td>\n",
       "      <td>movies</td>\n",
       "      <td>nytimes.com</td>\n",
       "      <td>Asia Argento, Who Accused Weinstein, Made Deal...</td>\n",
       "      <td>15214</td>\n",
       "    </tr>\n",
       "    <tr>\n",
       "      <th>5509</th>\n",
       "      <td>muggerfugger</td>\n",
       "      <td>The_Donald</td>\n",
       "      <td>twitter.com</td>\n",
       "      <td>\"Pocahontas (the bad version), sometimes refer...</td>\n",
       "      <td>13657</td>\n",
       "    </tr>\n",
       "    <tr>\n",
       "      <th>1888</th>\n",
       "      <td>BiblicalGodlike</td>\n",
       "      <td>politics</td>\n",
       "      <td>abcnews.go.com</td>\n",
       "      <td>Maria Butina, accused Russian agent, reaches p...</td>\n",
       "      <td>13015</td>\n",
       "    </tr>\n",
       "    <tr>\n",
       "      <th>955</th>\n",
       "      <td>firststate007</td>\n",
       "      <td>The_Donald</td>\n",
       "      <td>twitter.com</td>\n",
       "      <td>Just out — in Arizona, SIGNATURES DON’T MATCH....</td>\n",
       "      <td>12891</td>\n",
       "    </tr>\n",
       "  </tbody>\n",
       "</table>\n",
       "</div>"
      ],
      "text/plain": [
       "               author        subreddit                   domain  \\\n",
       "3539           speckz         politics   washingtonexaminer.com   \n",
       "7015       PutinsPawn         politics        thinkprogress.org   \n",
       "128   i_am_team_stark  dataisbeautiful           tylervigen.com   \n",
       "3310          Faefyre         politics       huffingtonpost.com   \n",
       "2736    T-Rex_Is_best       television              youtube.com   \n",
       "5186            XoT3K            funny  alternative-science.com   \n",
       "1055            ipgof           movies              nytimes.com   \n",
       "5509     muggerfugger       The_Donald              twitter.com   \n",
       "1888  BiblicalGodlike         politics           abcnews.go.com   \n",
       "955     firststate007       The_Donald              twitter.com   \n",
       "\n",
       "                                                  title  score  \n",
       "3539  Trump's tariffs now cost Americans more than O...  43697  \n",
       "7015  Brett Kavanaugh said he would kill Roe v. Wade...  32095  \n",
       "128   The useless correlation between US spending on...  26719  \n",
       "3310  NRA Convention Bans Guns To Protect Mike Pence...  23699  \n",
       "2736         Jimmy Kimmel on Mass Shooting in Las Vegas  19782  \n",
       "5186   Elon Musk Offers To Buy And Then Delete Facebook  19113  \n",
       "1055  Asia Argento, Who Accused Weinstein, Made Deal...  15214  \n",
       "5509  \"Pocahontas (the bad version), sometimes refer...  13657  \n",
       "1888  Maria Butina, accused Russian agent, reaches p...  13015  \n",
       "955   Just out — in Arizona, SIGNATURES DON’T MATCH....  12891  "
      ]
     },
     "execution_count": 28,
     "metadata": {},
     "output_type": "execute_result"
    }
   ],
   "source": [
    "top_comments = df_p.drop_duplicates().nlargest(10, 'score')\n",
    "top_comments = top_comments[['author', 'subreddit', 'domain', 'title', 'score']]\n",
    "top_comments"
   ]
  },
  {
   "cell_type": "markdown",
   "metadata": {},
   "source": [
    "# 8. Which claims have the most posts?"
   ]
  },
  {
   "cell_type": "code",
   "execution_count": 31,
   "metadata": {
    "ExecuteTime": {
     "end_time": "2019-06-05T00:43:40.764671Z",
     "start_time": "2019-06-05T00:43:40.279035Z"
    },
    "scrolled": false
   },
   "outputs": [
    {
     "data": {
      "text/plain": [
       "{'_uid': '8907eae5-7ef2-4c1a-7507-16da7d6fa025',\n",
       " '_url': 'https://www.nytimes.com/2018/08/19/us/asia-argento-assault-jimmy-bennett.html',\n",
       " 'cnt': 89,\n",
       " 'posts': [{'subreddit': 'MensRights',\n",
       "   'title': 'Asia Argento, Who Accused Weinstein, Made Deal With Her Own Accuser'},\n",
       "  {'subreddit': 'The_Donald',\n",
       "   'title': 'Trump Curse Strikes Again! Asia Argento Paid Off Her Own Accuser'},\n",
       "  {'subreddit': 'WeinsteinEffect',\n",
       "   'title': 'Asia Argento, Who Accused Weinstein, Made Deal With Her Own Accuser'},\n",
       "  {'subreddit': 'Nicegirls',\n",
       "   'title': 'Asia Argento is a pedophile, Who Accused Weinstein, Made Deal With Her Own Accuser'},\n",
       "  {'subreddit': 'TwoXChromosomes',\n",
       "   'title': '#MeToo leader sexually assaults underage Jimmy Bennett and attempt to cover it up'},\n",
       "  {'subreddit': 'TheDickShow', 'title': 'NSFW: Not being a hypocrite.'},\n",
       "  {'subreddit': 'Feminism',\n",
       "   'title': 'Asia Argento, Who Accused Weinstein, Made Deal With Her Own Accuser'},\n",
       "  {'subreddit': 'OneY', 'title': 'Reminder of how shit hollywood is.'},\n",
       "  {'subreddit': 'startrek',\n",
       "   'title': 'X-Post from /r/movies - Asia Argento, a #MeToo Leader, Made a Deal With Her Own Accuser (see comments)'},\n",
       "  {'subreddit': 'news',\n",
       "   'title': 'Asia Argento, a #MeToo Leader, Made a Deal With Her Own Accuser'},\n",
       "  {'subreddit': 'news',\n",
       "   'title': 'Asia Argento, a #MeToo Leader, Made a Deal With Her Own Accuser - The New York Times'},\n",
       "  {'subreddit': 'u_NumerousRow',\n",
       "   'title': 'Asia Argento, a #MeToo Leader, Made a Deal With Her Own Accuser'},\n",
       "  {'subreddit': 'imdbvg',\n",
       "   'title': 'Asia Argento, a #MeToo leader, made a deal with her own accuser'},\n",
       "  {'subreddit': 'nottheonion',\n",
       "   'title': 'Asia Argento, a #MeToo Leader, Made a Deal With Her Own Accuser'},\n",
       "  {'subreddit': 'DeFranco',\n",
       "   'title': 'Asia Argento, a #MeToo Leader, Made a Deal With Her Own Accuser - The New York Times'},\n",
       "  {'subreddit': 'MensRights',\n",
       "   'title': 'Asia Argento, Who Accused Weinstein, Made Deal With Her Own Accuser'},\n",
       "  {'subreddit': 'Kappa', 'title': '#MeToo'},\n",
       "  {'subreddit': 'WhereAreAllTheGoodMen',\n",
       "   'title': 'Asia Argento, a #MeToo Leader who accused Harvey Weinstein of sexual assault, quietly made a deal with a her own accuser, a then 17-year-old.'},\n",
       "  {'subreddit': 'WhereAreAllTheGoodMen',\n",
       "   'title': 'Asia Argento, a #MeToo Leader who accused Harvey Weinstein of sexual assault, quietly made a deal with a her own accuser, a then 17-year-old boy.'},\n",
       "  {'subreddit': 'worldnews',\n",
       "   'title': 'Leading #MeToo-figure Asia Argento, who was among the first women to publicly accuse Harvey Weinstein of sexual assault, has quietly arranged to pay 380k$ to a man she allegedly sexually assaulted in a Californian hotel room when he was only 17.'},\n",
       "  {'subreddit': 'news',\n",
       "   'title': 'Leading #MeToo-figure Asia Argento, who was among the first women to publicly accuse Harvey Weinstein of sexual assault, has quietly arranged to pay 380k$ to a man she allegedly sexually assaulted in a Californian hotel room when he was only 17.'},\n",
       "  {'subreddit': 'TwoXChromosomes',\n",
       "   'title': 'Asia Argento, who accused Weinstein, made deal with her own accuser'},\n",
       "  {'subreddit': 'entertainment',\n",
       "   'title': 'Asia Argento, Who Accused Weinstein, Made Deal With Her Own Accuser'},\n",
       "  {'subreddit': 'movies',\n",
       "   'title': 'Asia Argento, Who Accused Weinstein, Made Deal With Her Own Accuser'},\n",
       "  {'subreddit': 'movies',\n",
       "   'title': 'Asia Argento, Who Accused Weinstein, Made Deal With Her Own Accuser'},\n",
       "  {'subreddit': 'Feminism',\n",
       "   'title': 'Asia Argento Accused of sexual assault.'},\n",
       "  {'subreddit': 'Laserlike_Hodgepodge',\n",
       "   'title': 'Asia Argento, Who Accused Weinstein, Made Deal With Her Own Accuser'},\n",
       "  {'subreddit': 'conspiracy',\n",
       "   'title': 'Asia Argento, Who Accused Weinstein, Made Deal with Her Own Accuser'},\n",
       "  {'subreddit': 'nottheonion',\n",
       "   'title': 'Asia Argento, Who Accused Weinstein, Made Deal With Her Own Accuser'},\n",
       "  {'subreddit': 'TumblrInAction',\n",
       "   'title': 'Asia Argento, a #MeToo Leader, Made a Deal With Her Own Accuser'},\n",
       "  {'subreddit': 'deepfatfried',\n",
       "   'title': 'Asia Argento, Leader of #MeToo Who Accused Weinstein, Made Deal With Her Own Accuser'},\n",
       "  {'subreddit': 'pussypassdenied',\n",
       "   'title': 'Asia Argento, Who Accused Weinstein, Made Deal With Her Own Accuser'},\n",
       "  {'subreddit': 'GamerGhazi',\n",
       "   'title': 'Asia Argento, a #MeToo Leader, Made a Deal With Her Own Accuser'},\n",
       "  {'subreddit': 'news',\n",
       "   'title': 'Asia Argento, a #MeToo Leader, Made a Deal With Her Own Accuser'},\n",
       "  {'subreddit': 'movies',\n",
       "   'title': 'Asia Argento, one of the first women in the movie business to publicly accuse Harvey Weinstein of sexual assault quietly arranged to pay $380,000 to her own accuser'},\n",
       "  {'subreddit': 'worldnews',\n",
       "   'title': 'Asia Argento, Who Accused Weinstein, Made Deal With Her Own Accuser'},\n",
       "  {'subreddit': 'The_Donald',\n",
       "   'title': 'That look when you are not only a leader in the #MeToo movement, but you also paid off an underage boy. #KarmaIsABitch'},\n",
       "  {'subreddit': 'news',\n",
       "   'title': 'Asia Argento, Who Accused Weinstein, Made Deal With Her Own Accuser'},\n",
       "  {'subreddit': 'Libertarian',\n",
       "   'title': 'Nothing to do with Libertarianism. Just a fun read.'},\n",
       "  {'subreddit': 'news',\n",
       "   'title': 'Asia Argento, Who Accused Weinstein, Made Deal With Her Own Accuser'},\n",
       "  {'subreddit': 'KitchenConfidential', 'title': 'This bitch'},\n",
       "  {'subreddit': 'pussypassdenied', 'title': 'Giving #MeToo a new meaning'},\n",
       "  {'subreddit': 'MGTOW',\n",
       "   'title': 'Asia Argento, Who Accused Weinstein, Made Deal With Her Own Accuser (who was only 17 at the time)'},\n",
       "  {'subreddit': 'AnthonyBourdain', 'title': 'Yikes'},\n",
       "  {'subreddit': 'television',\n",
       "   'title': 'Asia Argento, Who Accused Weinstein, Made Deal With Her Own Accuser'},\n",
       "  {'subreddit': 'worldnews',\n",
       "   'title': 'Asia Argento, a #MeToo Leader, Made a Deal With Her Own Accuser'},\n",
       "  {'subreddit': 'MGTOW_Awakening',\n",
       "   'title': 'Asia Argento, Who Accused Weinstein, Made Deal With Her Own Accuser (who was only 17 at the time)'},\n",
       "  {'subreddit': 'SargonofAkkad',\n",
       "   'title': 'Asia Argento, a #MeToo Leader, Made a Deal With Her Own Accuser'},\n",
       "  {'subreddit': 'Weibsvolk',\n",
       "   'title': 'Asia Argento, a #MeToo Leader, Made a Deal With Her Own Accuser'},\n",
       "  {'subreddit': 'movies',\n",
       "   'title': 'Asia Argento, a #MeToo Leader, Made a Deal With Her Own Accuser'},\n",
       "  {'subreddit': 'The_Donald',\n",
       "   'title': 'Wew Lads! Hollywood Demoness, pedophile, and a leader of the #METOO movement Asia Argento had documents surface about her paying off (380k) an underage boy she molested in a hotel room!'},\n",
       "  {'subreddit': 'sjwhate',\n",
       "   'title': \"Here's gender equality and MeToo for you folks!\"},\n",
       "  {'subreddit': 'news',\n",
       "   'title': 'Breaking News: Asia Argento, a leading voice of #MeToo, arranged to pay an actor after he claimed she sexually assaulted him when he was 17, documents show'},\n",
       "  {'subreddit': 'Drama',\n",
       "   'title': \"These Hollywood plot twists are getting more and more predictable: the Original #MeToo'er #MeToo'd an underage actor and paid him to stay quiet\"},\n",
       "  {'subreddit': 'redscarepod', 'title': 'lol'},\n",
       "  {'subreddit': 'MGTOW',\n",
       "   'title': 'Asia Argento, Who Accused Weinstein, Made Deal With Her Own Accuser'},\n",
       "  {'subreddit': 'stupidpol',\n",
       "   'title': 'the logical conclusion of the #metoo movement has arrived'},\n",
       "  {'subreddit': 'AskWomenOver30',\n",
       "   'title': 'Thoughts? : \"Asia Argento, Who Accused Weinstein, Made Deal With Her Own Accuser\"'},\n",
       "  {'subreddit': 'Braincels',\n",
       "   'title': 'Breaking News: Asia Argento, a leading voice of #MeToo, arranged to pay an actor after he claimed she sexually assaulted him when he was 17, documents'},\n",
       "  {'subreddit': 'meToo',\n",
       "   'title': 'Asia Argento, Who Accused Weinstein, Made a Deal With Her Own Accuser'},\n",
       "  {'subreddit': 'SocialJusticeInAction',\n",
       "   'title': 'Breaking: Asia Argento, first woman to accuse Harvey Weinstein and leading figure in the #MeToo movement, also paid $380,000 to silence a male actor she had sexually assaulted when he was a minor (he was 17 and she was 37)'},\n",
       "  {'subreddit': 'Destiny',\n",
       "   'title': 'Asia Argento, Who Accused Weinstein, Made a Deal With Her Own Accuser'},\n",
       "  {'subreddit': 'Destiny',\n",
       "   'title': 'Asia Argento, Who Accused Weinstein, Made Deal With Her Own Accuser'},\n",
       "  {'subreddit': 'politics',\n",
       "   'title': 'Asia Argento, a #MeToo Leader, Made a Deal With Her Own Accuser'},\n",
       "  {'subreddit': 'pussypassdenied',\n",
       "   'title': 'Asia Argento, Who Accused Weinstein, Made Deal With Her Own Accuser'},\n",
       "  {'subreddit': 'italy', 'title': '#himtoo?'},\n",
       "  {'subreddit': 'u_brnbrnbrn2017',\n",
       "   'title': 'Asia Argento paid off Jimmy Bennett'},\n",
       "  {'subreddit': 'news',\n",
       "   'title': 'Asia Argento, a #MeToo Leader, Made a Deal With Her Own Accuser'},\n",
       "  {'subreddit': 'WeinsteinEffect',\n",
       "   'title': 'Asia Argento, Who Accused Weinstein, Made Deal With Her Own Accuser'},\n",
       "  {'subreddit': 'bprogramming',\n",
       "   'title': 'Asia Argento, accused of rape of an underage boy, pays $380k deal to avoid trial'},\n",
       "  {'subreddit': 'MGTOW', 'title': 'Bourdain’s girlfriend...'},\n",
       "  {'subreddit': 'news',\n",
       "   'title': 'Asia Argento, a #MeToo Leader, Made a Deal With Her Own Accuser'},\n",
       "  {'subreddit': 'WhereAreAllTheGoodMen',\n",
       "   'title': 'Asia Argento, a #MeToo leader who accused Harvey Weinstein of sexual assault, quietly made a deal with her own accuser, a then 17-year-old.'},\n",
       "  {'subreddit': 'WhereAreAllTheGoodMen',\n",
       "   'title': 'Asia Argento, a #MeToo Leader who accused Harvey Weinstein of sexual assault, quietly made a deal with her own accuser, a then 17-year-old boy.'},\n",
       "  {'subreddit': 'malaysia',\n",
       "   'title': 'After #MeToo, we now have #HeToo.... monyet jantan Malaysia (if any) can also come out to fight back!'},\n",
       "  {'subreddit': 'news',\n",
       "   'title': 'Asia Argento, a #MeToo Leader, Made a Deal With Her Own Accuser'},\n",
       "  {'subreddit': 'conspiracy',\n",
       "   'title': 'Asia Argento, Leader of #MeToo and Original Weinstein Accuser, made $380,000 Deal With Her Own Accuser after Sexually Assaulting underage boy she played mother of in movie'},\n",
       "  {'subreddit': 'MENS_RIGHTS_FORUM',\n",
       "   'title': 'Asia Argento, Who Accused Weinstein, Made Deal With Her Own Accuser (who was only 17 at the time)'},\n",
       "  {'subreddit': 'worldnews',\n",
       "   'title': 'Asia Argento, a #MeToo Leader, Made a Deal With Her Own Accuser'},\n",
       "  {'subreddit': 'CringeAnarchy',\n",
       "   'title': 'Asia Argento, a #MeToo Leader, Made a Deal With Her Own Accuser - The New York Times'},\n",
       "  {'subreddit': 'Conservative',\n",
       "   'title': 'Asia Argento, a #MeToo Leader, Made a Deal With Her Own Accuser'},\n",
       "  {'subreddit': 'JordanPeterson',\n",
       "   'title': 'Asia Argento, a #MeToo Leader, Made a Deal With Her Own Accuser'},\n",
       "  {'subreddit': 'Libertarian',\n",
       "   'title': 'Asia Argento, a #MeToo Leader, Made a Deal With Her Own Accuser'},\n",
       "  {'subreddit': 'ChapoTrapHouse',\n",
       "   'title': 'Asia Argento, a victim of Harvey Weinstein, herself raped a teenage boy, and her boyfriend Anthony Bourdain may have killed himself after finding out'},\n",
       "  {'subreddit': 'news',\n",
       "   'title': 'Asia Argento, a #MeToo Leader, Made a Deal With Her Own Accuser'},\n",
       "  {'subreddit': 'nottheonion',\n",
       "   'title': 'Asia Argento, a #MeToo Leader, Made a Deal With Her Own Accuser'},\n",
       "  {'subreddit': 'WhereAreAllTheGoodMen',\n",
       "   'title': 'Asia Argento, a #MeToo leader who accused Harvey Weinstein of sexual assault, quietly made a deal her own accuser, a then 17-year-old.'},\n",
       "  {'subreddit': 'WhereAreAllTheGoodMen',\n",
       "   'title': 'Asia Argento, a #MeToo leader who accused Harvey Weinstein of sexual assault, quietly made a deal with her own accuser, a then 17-year-old boy.'},\n",
       "  {'subreddit': 'movies',\n",
       "   'title': 'Asia Argento, a #MeToo Leader, Made a Deal With Her Own Accuser'}]}"
      ]
     },
     "execution_count": 31,
     "metadata": {},
     "output_type": "execute_result"
    }
   ],
   "source": [
    "response = con.query('''\n",
    "    USE FactMap;\n",
    "\n",
    "    SELECT uid as _uid, url as _url, (SELECT u.p.subreddit, u.p.title FROM x) as posts, array_count(x) as cnt\n",
    "    FROM fuzzyurljoin u\n",
    "    GROUP BY u.r.uid AS uid, r.claimAuthor.claimURL as url\n",
    "    GROUP AS x\n",
    "    ORDER BY cnt DESC\n",
    "    LIMIT 10;\n",
    "''')\n",
    "\n",
    "top_claims = response.results\n",
    "top_claims[0]"
   ]
  }
 ],
 "metadata": {
  "kernelspec": {
   "display_name": "Python 3",
   "language": "python",
   "name": "python3"
  },
  "language_info": {
   "codemirror_mode": {
    "name": "ipython",
    "version": 3
   },
   "file_extension": ".py",
   "mimetype": "text/x-python",
   "name": "python",
   "nbconvert_exporter": "python",
   "pygments_lexer": "ipython3",
   "version": "3.8.2"
  }
 },
 "nbformat": 4,
 "nbformat_minor": 2
}
